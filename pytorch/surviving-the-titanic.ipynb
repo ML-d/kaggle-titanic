{
 "cells": [
  {
   "cell_type": "code",
   "execution_count": 1,
   "metadata": {
    "_cell_guid": "b1076dfc-b9ad-4769-8c92-a6c4dae69d19",
    "_uuid": "8f2839f25d086af736a60e9eeb907d3b93b6e0e5"
   },
   "outputs": [],
   "source": [
    "import itertools\n",
    "\n",
    "import numpy as np\n",
    "import pandas as pd\n",
    "\n",
    "import matplotlib.pyplot as plt\n",
    "import seaborn as sns\n",
    "\n",
    "from sklearn.cluster import KMeans\n",
    "from sklearn.tree import DecisionTreeClassifier\n",
    "from sklearn.linear_model import LogisticRegression\n",
    "from sklearn.neighbors import KNeighborsClassifier\n",
    "from sklearn.model_selection import cross_val_score\n",
    "\n",
    "import torch\n",
    "\n",
    "sns.set_palette('deep')\n",
    "random_state = 1"
   ]
  },
  {
   "cell_type": "markdown",
   "metadata": {
    "_uuid": "0d519ea8dbbbdbbca502c07371a953198b8f4d5d"
   },
   "source": [
    "# Loading the Data\n",
    "\n",
    "To focus on the PyTorch side of things and to keep this Kernel short and to the point, we are going to load the features from my previous kernel: [Surviving the Titanic step-by-step with groups](https://www.kaggle.com/dr1t10/surviving-the-titanic-step-by-step-with-groups)."
   ]
  },
  {
   "cell_type": "code",
   "execution_count": 2,
   "metadata": {},
   "outputs": [],
   "source": [
    "train = pd.read_csv(\"train.csv\")\n",
    "test = pd.read_csv(\"test.csv\")"
   ]
  },
  {
   "cell_type": "markdown",
   "metadata": {},
   "source": [
    "These are the features we are going to use for the training set:"
   ]
  },
  {
   "cell_type": "code",
   "execution_count": 3,
   "metadata": {
    "_uuid": "b618a50cd4d27441865d8c6982b2e3ec8ad476e4",
    "scrolled": true
   },
   "outputs": [
    {
     "data": {
      "text/html": [
       "<div>\n",
       "<style scoped>\n",
       "    .dataframe tbody tr th:only-of-type {\n",
       "        vertical-align: middle;\n",
       "    }\n",
       "\n",
       "    .dataframe tbody tr th {\n",
       "        vertical-align: top;\n",
       "    }\n",
       "\n",
       "    .dataframe thead th {\n",
       "        text-align: right;\n",
       "    }\n",
       "</style>\n",
       "<table border=\"1\" class=\"dataframe\">\n",
       "  <thead>\n",
       "    <tr style=\"text-align: right;\">\n",
       "      <th></th>\n",
       "      <th>Survived</th>\n",
       "      <th>Pclass</th>\n",
       "      <th>AgeBand</th>\n",
       "      <th>IsMale</th>\n",
       "      <th>InGroup</th>\n",
       "      <th>InWcg</th>\n",
       "      <th>WcgAllSurvived</th>\n",
       "      <th>WcgAllDied</th>\n",
       "    </tr>\n",
       "  </thead>\n",
       "  <tbody>\n",
       "    <tr>\n",
       "      <th>0</th>\n",
       "      <td>0</td>\n",
       "      <td>3</td>\n",
       "      <td>1</td>\n",
       "      <td>1</td>\n",
       "      <td>0</td>\n",
       "      <td>0</td>\n",
       "      <td>0</td>\n",
       "      <td>0</td>\n",
       "    </tr>\n",
       "    <tr>\n",
       "      <th>1</th>\n",
       "      <td>1</td>\n",
       "      <td>1</td>\n",
       "      <td>2</td>\n",
       "      <td>0</td>\n",
       "      <td>1</td>\n",
       "      <td>0</td>\n",
       "      <td>0</td>\n",
       "      <td>0</td>\n",
       "    </tr>\n",
       "    <tr>\n",
       "      <th>2</th>\n",
       "      <td>1</td>\n",
       "      <td>3</td>\n",
       "      <td>1</td>\n",
       "      <td>0</td>\n",
       "      <td>0</td>\n",
       "      <td>0</td>\n",
       "      <td>0</td>\n",
       "      <td>0</td>\n",
       "    </tr>\n",
       "    <tr>\n",
       "      <th>3</th>\n",
       "      <td>1</td>\n",
       "      <td>1</td>\n",
       "      <td>2</td>\n",
       "      <td>0</td>\n",
       "      <td>1</td>\n",
       "      <td>0</td>\n",
       "      <td>0</td>\n",
       "      <td>0</td>\n",
       "    </tr>\n",
       "    <tr>\n",
       "      <th>4</th>\n",
       "      <td>0</td>\n",
       "      <td>3</td>\n",
       "      <td>2</td>\n",
       "      <td>1</td>\n",
       "      <td>0</td>\n",
       "      <td>0</td>\n",
       "      <td>0</td>\n",
       "      <td>0</td>\n",
       "    </tr>\n",
       "  </tbody>\n",
       "</table>\n",
       "</div>"
      ],
      "text/plain": [
       "   Survived  Pclass  AgeBand  IsMale  InGroup  InWcg  WcgAllSurvived  \\\n",
       "0         0       3        1       1        0      0               0   \n",
       "1         1       1        2       0        1      0               0   \n",
       "2         1       3        1       0        0      0               0   \n",
       "3         1       1        2       0        1      0               0   \n",
       "4         0       3        2       1        0      0               0   \n",
       "\n",
       "   WcgAllDied  \n",
       "0           0  \n",
       "1           0  \n",
       "2           0  \n",
       "3           0  \n",
       "4           0  "
      ]
     },
     "execution_count": 3,
     "metadata": {},
     "output_type": "execute_result"
    }
   ],
   "source": [
    "train.head()"
   ]
  },
  {
   "cell_type": "markdown",
   "metadata": {
    "_uuid": "6f11db4595bb727f51d28bcbdc6fb549365ac221"
   },
   "source": [
    "and the test set:"
   ]
  },
  {
   "cell_type": "code",
   "execution_count": 4,
   "metadata": {
    "_uuid": "f7fc2f69bda08615f5b6cabc83c26e09d887ee16",
    "scrolled": true
   },
   "outputs": [
    {
     "data": {
      "text/html": [
       "<div>\n",
       "<style scoped>\n",
       "    .dataframe tbody tr th:only-of-type {\n",
       "        vertical-align: middle;\n",
       "    }\n",
       "\n",
       "    .dataframe tbody tr th {\n",
       "        vertical-align: top;\n",
       "    }\n",
       "\n",
       "    .dataframe thead th {\n",
       "        text-align: right;\n",
       "    }\n",
       "</style>\n",
       "<table border=\"1\" class=\"dataframe\">\n",
       "  <thead>\n",
       "    <tr style=\"text-align: right;\">\n",
       "      <th></th>\n",
       "      <th>Pclass</th>\n",
       "      <th>AgeBand</th>\n",
       "      <th>IsMale</th>\n",
       "      <th>InGroup</th>\n",
       "      <th>InWcg</th>\n",
       "      <th>WcgAllSurvived</th>\n",
       "      <th>WcgAllDied</th>\n",
       "    </tr>\n",
       "  </thead>\n",
       "  <tbody>\n",
       "    <tr>\n",
       "      <th>0</th>\n",
       "      <td>3</td>\n",
       "      <td>2</td>\n",
       "      <td>1</td>\n",
       "      <td>0</td>\n",
       "      <td>0</td>\n",
       "      <td>0</td>\n",
       "      <td>0</td>\n",
       "    </tr>\n",
       "    <tr>\n",
       "      <th>1</th>\n",
       "      <td>3</td>\n",
       "      <td>3</td>\n",
       "      <td>0</td>\n",
       "      <td>0</td>\n",
       "      <td>0</td>\n",
       "      <td>0</td>\n",
       "      <td>0</td>\n",
       "    </tr>\n",
       "    <tr>\n",
       "      <th>2</th>\n",
       "      <td>2</td>\n",
       "      <td>3</td>\n",
       "      <td>1</td>\n",
       "      <td>0</td>\n",
       "      <td>0</td>\n",
       "      <td>0</td>\n",
       "      <td>0</td>\n",
       "    </tr>\n",
       "    <tr>\n",
       "      <th>3</th>\n",
       "      <td>3</td>\n",
       "      <td>1</td>\n",
       "      <td>1</td>\n",
       "      <td>0</td>\n",
       "      <td>0</td>\n",
       "      <td>0</td>\n",
       "      <td>0</td>\n",
       "    </tr>\n",
       "    <tr>\n",
       "      <th>4</th>\n",
       "      <td>3</td>\n",
       "      <td>1</td>\n",
       "      <td>0</td>\n",
       "      <td>1</td>\n",
       "      <td>1</td>\n",
       "      <td>1</td>\n",
       "      <td>0</td>\n",
       "    </tr>\n",
       "  </tbody>\n",
       "</table>\n",
       "</div>"
      ],
      "text/plain": [
       "   Pclass  AgeBand  IsMale  InGroup  InWcg  WcgAllSurvived  WcgAllDied\n",
       "0       3        2       1        0      0               0           0\n",
       "1       3        3       0        0      0               0           0\n",
       "2       2        3       1        0      0               0           0\n",
       "3       3        1       1        0      0               0           0\n",
       "4       3        1       0        1      1               1           0"
      ]
     },
     "execution_count": 4,
     "metadata": {},
     "output_type": "execute_result"
    }
   ],
   "source": [
    "test.head()"
   ]
  },
  {
   "cell_type": "markdown",
   "metadata": {},
   "source": [
    "A short description of the features:\n",
    "* **Pclass**: The ticket class;\n",
    "* **AgeBand**: `Age` split into 4 bands using K-Means. Ranges from 0 to 3 with ascending `Age`;\n",
    "* **IsMale**: `Sex` in binary form;\n",
    "* **InGroup**: Is `1` if the passenger is in a group; otherwise `0`;\n",
    "* **InWcg**: Is `1` if the passenger is in a woman-child-group; otherwise `0`;\n",
    "* **WcgAllSurvived**: Equal to `1` if all members of its woman-child-group survived; otherwise `0`;\n",
    "* **WcgAllDied**: The opposite of `WcgAllSurvived`."
   ]
  },
  {
   "cell_type": "markdown",
   "metadata": {
    "_uuid": "98fc76f497d037e5a8748d05f5cd11055016f097"
   },
   "source": [
    "# Neural Network with PyTorch"
   ]
  },
  {
   "cell_type": "markdown",
   "metadata": {},
   "source": [
    "Split the dataset into training samples, training targets, and testing samples."
   ]
  },
  {
   "cell_type": "code",
   "execution_count": 5,
   "metadata": {
    "_uuid": "b8a271c2683552d5ab3fb4d46a5cc1c2a3ce62f7"
   },
   "outputs": [
    {
     "name": "stdout",
     "output_type": "stream",
     "text": [
      "Training samples shape: (891, 7)\n",
      "Training targets shape: (891,)\n",
      "Test samples shape: (418, 7)\n"
     ]
    }
   ],
   "source": [
    "# Split the training set into samples and targets\n",
    "X_train = np.array(train.drop(columns='Survived'))\n",
    "Y_train = np.array(train['Survived'].astype(int))\n",
    "\n",
    "# Test set samples to predict\n",
    "X_test = np.array(test)\n",
    "\n",
    "# Always important to check if the shapes agree with each other\n",
    "print(\"Training samples shape: {}\".format(X_train.shape))\n",
    "print(\"Training targets shape: {}\".format(Y_train.shape))\n",
    "print(\"Test samples shape: {}\".format(X_test.shape))"
   ]
  },
  {
   "cell_type": "markdown",
   "metadata": {},
   "source": [
    "`numpy.array` to `torch.Tensor` conversion and model definition."
   ]
  },
  {
   "cell_type": "code",
   "execution_count": 6,
   "metadata": {},
   "outputs": [],
   "source": [
    "from sklearn.model_selection import KFold\n",
    "\n",
    "def titanic_net(d_in, d_hidden, n_hidden, d_out):\n",
    "    # Declare the input, hidden, and output layers\n",
    "    input_layer = torch.nn.ModuleList([torch.nn.Linear(d_in, d_hidden), torch.nn.ReLU()])       \n",
    "    hidden_layer = torch.nn.ModuleList([torch.nn.Linear(d_hidden, d_hidden), torch.nn.ReLU()])    \n",
    "    output_layer = torch.nn.ModuleList([torch.nn.Linear(d_hidden, d_out)])    \n",
    "    \n",
    "    # Build the model\n",
    "    layers = torch.nn.ModuleList()\n",
    "    layers.extend(input_layer)\n",
    "    for i in range(n_hidden):        \n",
    "        layers.extend(hidden_layer)\n",
    "    layers.extend(output_layer)\n",
    "    \n",
    "    return torch.nn.Sequential(*layers)"
   ]
  },
  {
   "cell_type": "code",
   "execution_count": 7,
   "metadata": {},
   "outputs": [],
   "source": [
    "def fit(model, X, y, epochs=250, optim='adam', lr=0.001, use_cuda=True, verbose=0):\n",
    "    valid_optims = ['sgd', 'rmsprop', 'adam']\n",
    "    optim = optim.lower()\n",
    "    if optim.lower() not in valid_optims:\n",
    "        raise ValueError(\"invalid optimizer got '{0}' and expect one of {1}\".format(optim, valid_optims))\n",
    "    \n",
    "    # Move model to CUDA if use_cuda is True\n",
    "    if (use_cuda):\n",
    "        X = X.cuda()\n",
    "        y = y.cuda()\n",
    "        model = model.cuda()\n",
    "    \n",
    "    # Define the loss function - we are dealing with a classification task with two classes\n",
    "    # binary cross-entropy (BCE) is therefore the most appropriate loss function.\n",
    "    # Within BCE we can use BCELoss or BCEWithLogitsLoss. The latter is more stable, so we'll\n",
    "    # that one. It expects logits not predictions which is why our output layer doesn't have\n",
    "    # an activation function\n",
    "    loss_fn = torch.nn.BCEWithLogitsLoss()\n",
    "\n",
    "    # Define the optiomization algorithm\n",
    "    optim = optim.lower()\n",
    "    if optim == 'sgd':\n",
    "        optimizer = torch.optim.SGD(model.parameters(), lr=lr)\n",
    "    elif optim == 'rmsprop':\n",
    "        optimizer = torch.optim.RMSprop(model.parameters(), lr=lr)\n",
    "    elif optim == 'adam':\n",
    "        optimizer = torch.optim.Adam(model.parameters(), lr=lr)\n",
    "\n",
    "    # Training loop\n",
    "    for t in range(epochs):\n",
    "        # Forward pass: The model will return the logits, not predictions\n",
    "        logits = model(X)\n",
    "\n",
    "        # Compute loss from logits\n",
    "        loss = loss_fn(logits, y)\n",
    "\n",
    "        # Zero gradients, perform a backward pass, and update the weights.\n",
    "        optimizer.zero_grad()\n",
    "        loss.backward()\n",
    "        optimizer.step()    \n",
    "\n",
    "        # We can get the tensor of predictions by applying the sigmoid non-linearity\n",
    "        pred = torch.sigmoid(logits)\n",
    "\n",
    "        # Compute training accuracy\n",
    "        acc = torch.eq(y, pred.round_()).cpu().float().mean().item()\n",
    "        \n",
    "        if verbose > 1:\n",
    "            print(\"Epoch {0:>{2}}/{1}: Loss={3:.4f}, Accuracy={4:.4f}\"\n",
    "                  .format(t + 1, epochs, len(str(epochs)), loss.item(), acc))\n",
    "        \n",
    "    if verbose > 0:\n",
    "        print(\"Training complete! Loss={0:.4f}, Accuracy={1:.4f}\".format(loss.item(), acc))\n",
    "\n",
    "    return {'loss': loss.item(), 'acc': acc}"
   ]
  },
  {
   "cell_type": "code",
   "execution_count": 8,
   "metadata": {
    "scrolled": true
   },
   "outputs": [],
   "source": [
    "def cross_val_score(model, X, y, cv=3, optim='adam', lr=0.001, verbose=0):\n",
    "    train_kfold = KFold(cv, False).split(X)\n",
    "    score = {'loss': [], 'acc': []}\n",
    "    for fold, (train_idx, val_idx) in enumerate(train_kfold):    \n",
    "        X_train = X[train_idx]\n",
    "        y_train = y[train_idx]\n",
    "        X_val = X[val_idx]\n",
    "        y_val = y[val_idx]\n",
    "\n",
    "        # Convert the training data to Tensors\n",
    "        X_train = torch.Tensor(X_train)\n",
    "        y_train = torch.Tensor(y_train).unsqueeze_(-1)\n",
    "        X_val = torch.Tensor(X_val)\n",
    "        y_val = torch.Tensor(y_val).unsqueeze_(-1)\n",
    "\n",
    "        # Train the network\n",
    "        metrics = fit(model, X_train, y_train, optim=optim, lr=lr, verbose=0)\n",
    "        score['loss'].append(metrics['loss'])\n",
    "        score['acc'].append(metrics['acc'])\n",
    "        if verbose > 1:\n",
    "            print(\"Fold {0:>{2}}/{1}: Loss={3:.4f}, Accuracy={4:.4f}\"\n",
    "                  .format(fold + 1, cv, len(str(cv)), metrics['loss'], metrics['acc']))\n",
    "\n",
    "    if verbose > 0:\n",
    "        print(\"Mean k-fold accuracy:\", np.mean(score['acc']))\n",
    "        \n",
    "    return score"
   ]
  },
  {
   "cell_type": "code",
   "execution_count": 9,
   "metadata": {
    "scrolled": true
   },
   "outputs": [],
   "source": [
    "def titanic_net_grid_search(X, y, param_grid, cv=3, verbose=0):\n",
    "    # Cartesian product of a dictionary of lists\n",
    "    # Source: https://stackoverflow.com/questions/5228158/cartesian-product-of-a-dictionary-of-lists\n",
    "    grid_param = list((dict(zip(grid, param)) for param in itertools.product(*grid.values())))\n",
    "    \n",
    "    if verbose > 0:\n",
    "        print(\"Fitting {0} folds for each of {1} candidates, totalling {2} fits\"\n",
    "             .format(n_folds, len(grid_param), n_folds * len(grid_param)))\n",
    "        print()\n",
    "\n",
    "    best_params = None\n",
    "    best_model = None\n",
    "    best_score = 0\n",
    "    for candidate, params in enumerate(grid_param):\n",
    "        if verbose > 1:\n",
    "            print(\"Candidate\", candidate + 1)\n",
    "            print(\"Parameters: {}\".format(params))\n",
    "\n",
    "        # Model parameters and creation\n",
    "        d_in = X_train.shape[-1]\n",
    "        d_hidden = params['d_hidden']\n",
    "        n_hidden = params['n_hidden']\n",
    "        d_out = 1    \n",
    "        model = titanic_net(d_in, d_hidden, n_hidden, d_out)\n",
    "\n",
    "        # Cross-validation\n",
    "        cv_score = cross_val_score(model, X_train, Y_train, cv = n_folds, verbose=0)\n",
    "        cv_acc = np.mean(cv_score['acc'])\n",
    "        if verbose > 1:\n",
    "            print(\"Mean CV accuracy: {0:.4f}\".format(cv_acc))    \n",
    "            print()\n",
    "\n",
    "        # Check if this  is the best model; if so, store it\n",
    "        if cv_acc > best_score:\n",
    "            best_params = params\n",
    "            best_model = model\n",
    "            best_score = cv_acc\n",
    "\n",
    "    if verbose > 0:\n",
    "        print(\"Best model\")\n",
    "        print(\"Parameters: {}\".format(best_params))\n",
    "        print(\"Mean CV accuracy: {0:.4f}\".format(best_score))\n",
    "    \n",
    "    return {'best_model': best_model, 'best_params': best_params, 'best_score': best_score}"
   ]
  },
  {
   "cell_type": "code",
   "execution_count": 10,
   "metadata": {},
   "outputs": [
    {
     "name": "stdout",
     "output_type": "stream",
     "text": [
      "Fitting 10 folds for each of 240 candidates, totalling 2400 fits\n",
      "\n",
      "Best model\n",
      "Parameters: {'lr': 0.0001, 'd_hidden': 30, 'n_hidden': 10, 'optim': 'RMSprop'}\n",
      "Mean CV accuracy: 0.8682\n"
     ]
    }
   ],
   "source": [
    "# Number of folds\n",
    "n_folds = 10\n",
    "\n",
    "# Grid search\n",
    "grid = {\n",
    "    'lr': [0.0001, 0.001, 0.01, 0.1],\n",
    "    'd_hidden': [4, 7, 10, 15, 30],\n",
    "    'n_hidden': [0, 1, 3, 6, 10, 20],\n",
    "    'optim': ['RMSprop', 'Adam']\n",
    "}\n",
    "best_candidate = titanic_net_grid_search(X_train, Y_train, grid, cv=n_folds, verbose=1)\n",
    "best_model = best_candidate['best_model']"
   ]
  },
  {
   "cell_type": "markdown",
   "metadata": {},
   "source": [
    "# 6. Predictions and submission <a class=\"anchor\" id=\"submission\"></a>"
   ]
  },
  {
   "cell_type": "code",
   "execution_count": 11,
   "metadata": {},
   "outputs": [],
   "source": [
    "# Convert test set from numpy to Tensor and generate predictions\n",
    "X_test_t = torch.Tensor(X_test).cuda()\n",
    "\n",
    "# Remember that the model outputs logits, we have to apply the sigmoid function and round the result\n",
    "prediction = torch.sigmoid(best_model(X_test_t).detach()).cpu().round_().numpy().flatten()\n",
    "\n",
    "# Submission\n",
    "_test = pd.read_csv(\"../input/test.csv\")\n",
    "submission_df = pd.DataFrame({'PassengerId': _test['PassengerId'], 'Survived': prediction})\n",
    "submission_df.to_csv(\"submission.csv\", index=False)\n",
    "\n",
    "# Storing the datasets\n",
    "train.to_csv(\"submission_train.csv\", index=False)\n",
    "test.to_csv(\"submission_test.csv\", index=False)"
   ]
  },
  {
   "cell_type": "code",
   "execution_count": null,
   "metadata": {},
   "outputs": [],
   "source": []
  }
 ],
 "metadata": {
  "kernelspec": {
   "display_name": "Titanic-p3",
   "language": "python",
   "name": "titanic-env"
  },
  "language_info": {
   "codemirror_mode": {
    "name": "ipython",
    "version": 3
   },
   "file_extension": ".py",
   "mimetype": "text/x-python",
   "name": "python",
   "nbconvert_exporter": "python",
   "pygments_lexer": "ipython3",
   "version": "3.5.2"
  }
 },
 "nbformat": 4,
 "nbformat_minor": 1
}
