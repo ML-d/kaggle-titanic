{
 "cells": [
  {
   "cell_type": "code",
   "execution_count": 1,
   "metadata": {
    "_cell_guid": "b1076dfc-b9ad-4769-8c92-a6c4dae69d19",
    "_uuid": "8f2839f25d086af736a60e9eeb907d3b93b6e0e5"
   },
   "outputs": [],
   "source": [
    "import numpy as np\n",
    "import pandas as pd\n",
    "\n",
    "import matplotlib.pyplot as plt\n",
    "import seaborn as sns\n",
    "\n",
    "from sklearn.cluster import KMeans\n",
    "from sklearn.tree import DecisionTreeClassifier\n",
    "from sklearn.linear_model import LogisticRegression\n",
    "from sklearn.neighbors import KNeighborsClassifier\n",
    "from sklearn.model_selection import cross_val_score\n",
    "\n",
    "import torch\n",
    "\n",
    "sns.set_palette('deep')\n",
    "random_state = 1"
   ]
  },
  {
   "cell_type": "markdown",
   "metadata": {
    "_uuid": "0d519ea8dbbbdbbca502c07371a953198b8f4d5d"
   },
   "source": [
    "# 2. Loading the Data <a class=\"anchor\" id=\"loading-data\"></a>"
   ]
  },
  {
   "cell_type": "code",
   "execution_count": 2,
   "metadata": {
    "_cell_guid": "79c7e3d0-c299-4dcb-8224-4455121ee9b0",
    "_uuid": "d629ff2d2480ee46fbb7e2d37f6b5fab8052498a"
   },
   "outputs": [],
   "source": [
    "_train = pd.read_csv(\"../input/train.csv\")\n",
    "_test = pd.read_csv(\"../input/test.csv\")\n",
    "\n",
    "# Make a copy to be modified\n",
    "train = _train.copy()\n",
    "test = _test.copy()"
   ]
  },
  {
   "cell_type": "code",
   "execution_count": 3,
   "metadata": {
    "_uuid": "b370456d488b17888ee938ae8d4a843d2ba4fd96"
   },
   "outputs": [
    {
     "name": "stdout",
     "output_type": "stream",
     "text": [
      "Training dataset size = 891\n"
     ]
    },
    {
     "data": {
      "text/html": [
       "<div>\n",
       "<style scoped>\n",
       "    .dataframe tbody tr th:only-of-type {\n",
       "        vertical-align: middle;\n",
       "    }\n",
       "\n",
       "    .dataframe tbody tr th {\n",
       "        vertical-align: top;\n",
       "    }\n",
       "\n",
       "    .dataframe thead th {\n",
       "        text-align: right;\n",
       "    }\n",
       "</style>\n",
       "<table border=\"1\" class=\"dataframe\">\n",
       "  <thead>\n",
       "    <tr style=\"text-align: right;\">\n",
       "      <th></th>\n",
       "      <th>PassengerId</th>\n",
       "      <th>Survived</th>\n",
       "      <th>Pclass</th>\n",
       "      <th>Name</th>\n",
       "      <th>Sex</th>\n",
       "      <th>Age</th>\n",
       "      <th>SibSp</th>\n",
       "      <th>Parch</th>\n",
       "      <th>Ticket</th>\n",
       "      <th>Fare</th>\n",
       "      <th>Cabin</th>\n",
       "      <th>Embarked</th>\n",
       "    </tr>\n",
       "  </thead>\n",
       "  <tbody>\n",
       "    <tr>\n",
       "      <th>0</th>\n",
       "      <td>1</td>\n",
       "      <td>0</td>\n",
       "      <td>3</td>\n",
       "      <td>Braund, Mr. Owen Harris</td>\n",
       "      <td>male</td>\n",
       "      <td>22.0</td>\n",
       "      <td>1</td>\n",
       "      <td>0</td>\n",
       "      <td>A/5 21171</td>\n",
       "      <td>7.2500</td>\n",
       "      <td>NaN</td>\n",
       "      <td>S</td>\n",
       "    </tr>\n",
       "    <tr>\n",
       "      <th>1</th>\n",
       "      <td>2</td>\n",
       "      <td>1</td>\n",
       "      <td>1</td>\n",
       "      <td>Cumings, Mrs. John Bradley (Florence Briggs Th...</td>\n",
       "      <td>female</td>\n",
       "      <td>38.0</td>\n",
       "      <td>1</td>\n",
       "      <td>0</td>\n",
       "      <td>PC 17599</td>\n",
       "      <td>71.2833</td>\n",
       "      <td>C85</td>\n",
       "      <td>C</td>\n",
       "    </tr>\n",
       "    <tr>\n",
       "      <th>2</th>\n",
       "      <td>3</td>\n",
       "      <td>1</td>\n",
       "      <td>3</td>\n",
       "      <td>Heikkinen, Miss. Laina</td>\n",
       "      <td>female</td>\n",
       "      <td>26.0</td>\n",
       "      <td>0</td>\n",
       "      <td>0</td>\n",
       "      <td>STON/O2. 3101282</td>\n",
       "      <td>7.9250</td>\n",
       "      <td>NaN</td>\n",
       "      <td>S</td>\n",
       "    </tr>\n",
       "    <tr>\n",
       "      <th>3</th>\n",
       "      <td>4</td>\n",
       "      <td>1</td>\n",
       "      <td>1</td>\n",
       "      <td>Futrelle, Mrs. Jacques Heath (Lily May Peel)</td>\n",
       "      <td>female</td>\n",
       "      <td>35.0</td>\n",
       "      <td>1</td>\n",
       "      <td>0</td>\n",
       "      <td>113803</td>\n",
       "      <td>53.1000</td>\n",
       "      <td>C123</td>\n",
       "      <td>S</td>\n",
       "    </tr>\n",
       "    <tr>\n",
       "      <th>4</th>\n",
       "      <td>5</td>\n",
       "      <td>0</td>\n",
       "      <td>3</td>\n",
       "      <td>Allen, Mr. William Henry</td>\n",
       "      <td>male</td>\n",
       "      <td>35.0</td>\n",
       "      <td>0</td>\n",
       "      <td>0</td>\n",
       "      <td>373450</td>\n",
       "      <td>8.0500</td>\n",
       "      <td>NaN</td>\n",
       "      <td>S</td>\n",
       "    </tr>\n",
       "  </tbody>\n",
       "</table>\n",
       "</div>"
      ],
      "text/plain": [
       "   PassengerId  Survived  Pclass  \\\n",
       "0            1         0       3   \n",
       "1            2         1       1   \n",
       "2            3         1       3   \n",
       "3            4         1       1   \n",
       "4            5         0       3   \n",
       "\n",
       "                                                Name     Sex   Age  SibSp  \\\n",
       "0                            Braund, Mr. Owen Harris    male  22.0      1   \n",
       "1  Cumings, Mrs. John Bradley (Florence Briggs Th...  female  38.0      1   \n",
       "2                             Heikkinen, Miss. Laina  female  26.0      0   \n",
       "3       Futrelle, Mrs. Jacques Heath (Lily May Peel)  female  35.0      1   \n",
       "4                           Allen, Mr. William Henry    male  35.0      0   \n",
       "\n",
       "   Parch            Ticket     Fare Cabin Embarked  \n",
       "0      0         A/5 21171   7.2500   NaN        S  \n",
       "1      0          PC 17599  71.2833   C85        C  \n",
       "2      0  STON/O2. 3101282   7.9250   NaN        S  \n",
       "3      0            113803  53.1000  C123        S  \n",
       "4      0            373450   8.0500   NaN        S  "
      ]
     },
     "execution_count": 3,
     "metadata": {},
     "output_type": "execute_result"
    }
   ],
   "source": [
    "train_len = len(train)\n",
    "print(\"Training dataset size = {}\".format(train_len))\n",
    "train.head()"
   ]
  },
  {
   "cell_type": "code",
   "execution_count": 4,
   "metadata": {
    "_uuid": "cfb60dc59f2c65336ffbfb144db56f2e146835cd",
    "scrolled": true
   },
   "outputs": [
    {
     "name": "stdout",
     "output_type": "stream",
     "text": [
      "Test dataset size = 418\n"
     ]
    },
    {
     "data": {
      "text/html": [
       "<div>\n",
       "<style scoped>\n",
       "    .dataframe tbody tr th:only-of-type {\n",
       "        vertical-align: middle;\n",
       "    }\n",
       "\n",
       "    .dataframe tbody tr th {\n",
       "        vertical-align: top;\n",
       "    }\n",
       "\n",
       "    .dataframe thead th {\n",
       "        text-align: right;\n",
       "    }\n",
       "</style>\n",
       "<table border=\"1\" class=\"dataframe\">\n",
       "  <thead>\n",
       "    <tr style=\"text-align: right;\">\n",
       "      <th></th>\n",
       "      <th>PassengerId</th>\n",
       "      <th>Pclass</th>\n",
       "      <th>Name</th>\n",
       "      <th>Sex</th>\n",
       "      <th>Age</th>\n",
       "      <th>SibSp</th>\n",
       "      <th>Parch</th>\n",
       "      <th>Ticket</th>\n",
       "      <th>Fare</th>\n",
       "      <th>Cabin</th>\n",
       "      <th>Embarked</th>\n",
       "    </tr>\n",
       "  </thead>\n",
       "  <tbody>\n",
       "    <tr>\n",
       "      <th>0</th>\n",
       "      <td>892</td>\n",
       "      <td>3</td>\n",
       "      <td>Kelly, Mr. James</td>\n",
       "      <td>male</td>\n",
       "      <td>34.5</td>\n",
       "      <td>0</td>\n",
       "      <td>0</td>\n",
       "      <td>330911</td>\n",
       "      <td>7.8292</td>\n",
       "      <td>NaN</td>\n",
       "      <td>Q</td>\n",
       "    </tr>\n",
       "    <tr>\n",
       "      <th>1</th>\n",
       "      <td>893</td>\n",
       "      <td>3</td>\n",
       "      <td>Wilkes, Mrs. James (Ellen Needs)</td>\n",
       "      <td>female</td>\n",
       "      <td>47.0</td>\n",
       "      <td>1</td>\n",
       "      <td>0</td>\n",
       "      <td>363272</td>\n",
       "      <td>7.0000</td>\n",
       "      <td>NaN</td>\n",
       "      <td>S</td>\n",
       "    </tr>\n",
       "    <tr>\n",
       "      <th>2</th>\n",
       "      <td>894</td>\n",
       "      <td>2</td>\n",
       "      <td>Myles, Mr. Thomas Francis</td>\n",
       "      <td>male</td>\n",
       "      <td>62.0</td>\n",
       "      <td>0</td>\n",
       "      <td>0</td>\n",
       "      <td>240276</td>\n",
       "      <td>9.6875</td>\n",
       "      <td>NaN</td>\n",
       "      <td>Q</td>\n",
       "    </tr>\n",
       "    <tr>\n",
       "      <th>3</th>\n",
       "      <td>895</td>\n",
       "      <td>3</td>\n",
       "      <td>Wirz, Mr. Albert</td>\n",
       "      <td>male</td>\n",
       "      <td>27.0</td>\n",
       "      <td>0</td>\n",
       "      <td>0</td>\n",
       "      <td>315154</td>\n",
       "      <td>8.6625</td>\n",
       "      <td>NaN</td>\n",
       "      <td>S</td>\n",
       "    </tr>\n",
       "    <tr>\n",
       "      <th>4</th>\n",
       "      <td>896</td>\n",
       "      <td>3</td>\n",
       "      <td>Hirvonen, Mrs. Alexander (Helga E Lindqvist)</td>\n",
       "      <td>female</td>\n",
       "      <td>22.0</td>\n",
       "      <td>1</td>\n",
       "      <td>1</td>\n",
       "      <td>3101298</td>\n",
       "      <td>12.2875</td>\n",
       "      <td>NaN</td>\n",
       "      <td>S</td>\n",
       "    </tr>\n",
       "  </tbody>\n",
       "</table>\n",
       "</div>"
      ],
      "text/plain": [
       "   PassengerId  Pclass                                          Name     Sex  \\\n",
       "0          892       3                              Kelly, Mr. James    male   \n",
       "1          893       3              Wilkes, Mrs. James (Ellen Needs)  female   \n",
       "2          894       2                     Myles, Mr. Thomas Francis    male   \n",
       "3          895       3                              Wirz, Mr. Albert    male   \n",
       "4          896       3  Hirvonen, Mrs. Alexander (Helga E Lindqvist)  female   \n",
       "\n",
       "    Age  SibSp  Parch   Ticket     Fare Cabin Embarked  \n",
       "0  34.5      0      0   330911   7.8292   NaN        Q  \n",
       "1  47.0      1      0   363272   7.0000   NaN        S  \n",
       "2  62.0      0      0   240276   9.6875   NaN        Q  \n",
       "3  27.0      0      0   315154   8.6625   NaN        S  \n",
       "4  22.0      1      1  3101298  12.2875   NaN        S  "
      ]
     },
     "execution_count": 4,
     "metadata": {},
     "output_type": "execute_result"
    }
   ],
   "source": [
    "test_len = len(test)\n",
    "print(\"Test dataset size = {}\".format(test_len))\n",
    "test.head()"
   ]
  },
  {
   "cell_type": "markdown",
   "metadata": {
    "_uuid": "ae86bf8b74c2d2d4461c354768f2f6e78603a230"
   },
   "source": [
    "# 3. Data Analysis <a class=\"anchor\" id=\"data-analysis\"></a>\n",
    "\n",
    "Like most kernels, we will start by analyzing the features from the dataset, one-by-one, focusing on:\n",
    "- Finding correlations, not only between each feature and survival but also between the features themselves to understand if the information the feature provides is not redundant.\n",
    "- Creating visualizations that help us understand the data.\n",
    "- Cleaning the dataset by removing redundant features.\n",
    "- Filling missing data when needed.\n",
    "- Converting data types when advantageous (e.g. converting categorical data to numerical)."
   ]
  },
  {
   "cell_type": "code",
   "execution_count": 5,
   "metadata": {
    "_uuid": "2c207537e93a0887649f9699c4e0a6ba65f0f39e"
   },
   "outputs": [],
   "source": [
    "# Remove PassengerId since it's not a feature\n",
    "train.drop(columns='PassengerId', inplace=True)\n",
    "test.drop(columns='PassengerId', inplace=True)"
   ]
  },
  {
   "cell_type": "markdown",
   "metadata": {
    "_uuid": "3e486cc8b2b7d2390e10e517018bc3d68fe48548"
   },
   "source": [
    "## 3.1 Missing data <a class=\"anchor\" id=\"missing-data\"></a>"
   ]
  },
  {
   "cell_type": "code",
   "execution_count": 6,
   "metadata": {
    "_uuid": "1e8f032736a0d9c77e67910ce480bd4d4b050ac9",
    "scrolled": true
   },
   "outputs": [
    {
     "data": {
      "text/html": [
       "<div>\n",
       "<style scoped>\n",
       "    .dataframe tbody tr th:only-of-type {\n",
       "        vertical-align: middle;\n",
       "    }\n",
       "\n",
       "    .dataframe tbody tr th {\n",
       "        vertical-align: top;\n",
       "    }\n",
       "\n",
       "    .dataframe thead th {\n",
       "        text-align: right;\n",
       "    }\n",
       "</style>\n",
       "<table border=\"1\" class=\"dataframe\">\n",
       "  <thead>\n",
       "    <tr style=\"text-align: right;\">\n",
       "      <th></th>\n",
       "      <th>%</th>\n",
       "      <th>No. NaN</th>\n",
       "    </tr>\n",
       "  </thead>\n",
       "  <tbody>\n",
       "    <tr>\n",
       "      <th>Pclass</th>\n",
       "      <td>0.000000</td>\n",
       "      <td>0</td>\n",
       "    </tr>\n",
       "    <tr>\n",
       "      <th>Name</th>\n",
       "      <td>0.000000</td>\n",
       "      <td>0</td>\n",
       "    </tr>\n",
       "    <tr>\n",
       "      <th>Sex</th>\n",
       "      <td>0.000000</td>\n",
       "      <td>0</td>\n",
       "    </tr>\n",
       "    <tr>\n",
       "      <th>Age</th>\n",
       "      <td>0.200917</td>\n",
       "      <td>263</td>\n",
       "    </tr>\n",
       "    <tr>\n",
       "      <th>SibSp</th>\n",
       "      <td>0.000000</td>\n",
       "      <td>0</td>\n",
       "    </tr>\n",
       "    <tr>\n",
       "      <th>Parch</th>\n",
       "      <td>0.000000</td>\n",
       "      <td>0</td>\n",
       "    </tr>\n",
       "    <tr>\n",
       "      <th>Ticket</th>\n",
       "      <td>0.000000</td>\n",
       "      <td>0</td>\n",
       "    </tr>\n",
       "    <tr>\n",
       "      <th>Fare</th>\n",
       "      <td>0.000764</td>\n",
       "      <td>1</td>\n",
       "    </tr>\n",
       "    <tr>\n",
       "      <th>Cabin</th>\n",
       "      <td>0.774637</td>\n",
       "      <td>1014</td>\n",
       "    </tr>\n",
       "    <tr>\n",
       "      <th>Embarked</th>\n",
       "      <td>0.001528</td>\n",
       "      <td>2</td>\n",
       "    </tr>\n",
       "  </tbody>\n",
       "</table>\n",
       "</div>"
      ],
      "text/plain": [
       "                 %  No. NaN\n",
       "Pclass    0.000000        0\n",
       "Name      0.000000        0\n",
       "Sex       0.000000        0\n",
       "Age       0.200917      263\n",
       "SibSp     0.000000        0\n",
       "Parch     0.000000        0\n",
       "Ticket    0.000000        0\n",
       "Fare      0.000764        1\n",
       "Cabin     0.774637     1014\n",
       "Embarked  0.001528        2"
      ]
     },
     "execution_count": 6,
     "metadata": {},
     "output_type": "execute_result"
    }
   ],
   "source": [
    "# Concatenate the train and test datasets. Survived is not a feature so we drop it\n",
    "dataset = pd.concat([train, test], sort=False).drop(columns='Survived')\n",
    "pd.DataFrame({'No. NaN': dataset.isna().sum(), '%': dataset.isna().sum() / len(dataset)})"
   ]
  },
  {
   "cell_type": "markdown",
   "metadata": {
    "_uuid": "8c6ea5f1feec209254ed2301857560b3cbaeb7a3"
   },
   "source": [
    "Features with missing data:\n",
    "- **Cabin (~77%)**: Drop it. Too much data is missing to fill without introducing a significant amount of noise.\n",
    "- **Age (~20%)**: A significant amount of data is missing, but if it's useful we can try to fill it.\n",
    "- **Fare (1 data point)**: Since only one value is missing we can fill it with something simple like a median.\n",
    "- **Embarked (2 data points)**: Since only two values are missing we can fill them with something simple like a median."
   ]
  },
  {
   "cell_type": "code",
   "execution_count": 7,
   "metadata": {
    "_uuid": "427b44403ce9c192722578d6bdd266ea6d075632",
    "scrolled": false
   },
   "outputs": [],
   "source": [
    "train.drop(columns='Cabin', inplace=True)\n",
    "test.drop(columns='Cabin', inplace=True)"
   ]
  },
  {
   "cell_type": "markdown",
   "metadata": {
    "_uuid": "c449f90e35e14ca9de6d8be04af3624167abb6e1"
   },
   "source": [
    "## 3.2 Age <a class=\"anchor\" id=\"age\"></a>"
   ]
  },
  {
   "cell_type": "code",
   "execution_count": 8,
   "metadata": {
    "_uuid": "5eb18d4cd22d8ea25e28c8099c62e36d112b734e",
    "scrolled": false
   },
   "outputs": [
    {
     "data": {
      "image/png": "[encoded data removed]",
      "text/plain": [
       "<Figure size 951.875x360 with 1 Axes>"
      ]
     },
     "metadata": {},
     "output_type": "display_data"
    }
   ],
   "source": [
    "with sns.axes_style(\"darkgrid\"):\n",
    "    g = sns.FacetGrid(train, hue='Survived', height=5, aspect=2.5)\n",
    "    g.map(sns.kdeplot, 'Age', shade=True)\n",
    "    g.add_legend()\n",
    "    g.set(xticks=np.arange(0, train['Age'].max() + 1, 5), xlim=(0, train['Age'].max()))"
   ]
  },
  {
   "cell_type": "markdown",
   "metadata": {
    "_uuid": "647670256f914a8ddf8f152d5fdec6cd4c36e765"
   },
   "source": [
    "Some observations:\n",
    "\n",
    "- Children (age < 5) have much higher chances of survival than any other age group\n",
    "- Passengers between the ages of 13 to 30 are more likely to die than to survive\n",
    "- From 30 to 60 the survival rate is close to 50%\n",
    "- Passengers older than 60 are more likely to die than to survive\n",
    "\n",
    "`Age` can give us some important information, particularly for children and younger adults where there is clearly a trend.\n",
    "\n",
    "Keeping the previous observations in mind we'll split `Age` in 4 bins/clusters. I have found that `KMeans` works better than the more frequentely used `pandas.cut` or `pandas.qcut`. It doesn't play a big role in the final score but is particularly important when filling the missing age values."
   ]
  },
  {
   "cell_type": "code",
   "execution_count": 9,
   "metadata": {
    "_uuid": "2aa72041728dc9e760f9917bcaba01c7fefcfc03",
    "scrolled": false
   },
   "outputs": [
    {
     "data": {
      "image/png": "[encoded data removed]",
      "text/plain": [
       "<Figure size 720x360 with 1 Axes>"
      ]
     },
     "metadata": {},
     "output_type": "display_data"
    }
   ],
   "source": [
    "# Use KMeans to cluster `Age`\n",
    "num_clusters = 4\n",
    "X = train[[ 'Age', 'Survived']].dropna()\n",
    "kmeans = KMeans(n_clusters=num_clusters, random_state=random_state)\n",
    "kmeans.fit(X)\n",
    "X['AgeCluster'] = kmeans.labels_\n",
    "\n",
    "# Plot the decision boundary\n",
    "# See http://scikit-learn.org/stable/auto_examples/cluster/plot_kmeans_digits.html\n",
    "plt.figure(figsize=(10,5))\n",
    "h = 0.01\n",
    "x_min, x_max = X['Age'].min() - h, X['Age'].max() + h\n",
    "y_min, y_max = X['Survived'].min() - h, X['Survived'].max() + h\n",
    "xx, yy = np.meshgrid(np.arange(x_min, x_max, h), np.arange(y_min, y_max, h))\n",
    "\n",
    "# Predict the age cluster for each point in a mesh\n",
    "Z = kmeans.predict(np.c_[xx.ravel(), yy.ravel()])\n",
    "\n",
    "# Put the result into a color plot\n",
    "cmap = sns.cubehelix_palette(start=2.8, rot=.1, as_cmap=True)\n",
    "Z = Z.reshape(xx.shape)\n",
    "plt.imshow(Z, interpolation='nearest',\n",
    "           extent=(xx.min(), xx.max(), yy.min(), yy.max()),\n",
    "           cmap=cmap, aspect='auto')\n",
    "\n",
    "# Plot the ages\n",
    "sns.scatterplot(x='Age', y='Survived', hue='AgeCluster', data=X, palette=cmap)\n",
    "\n",
    "# Plot the centroids as a white X\n",
    "centroids = kmeans.cluster_centers_\n",
    "plt.scatter(centroids[:, 0], centroids[:, 1],\n",
    "            marker='x', s=169, linewidths=3,\n",
    "            color='w')\n",
    "plt.yticks([0, 1])\n",
    "plt.title(\"Age clusters and decision boundaries\")\n",
    "plt.show()"
   ]
  },
  {
   "cell_type": "markdown",
   "metadata": {
    "_uuid": "95103a3ed3adaf8b63d118b2723f8f38740bebc3"
   },
   "source": [
    "Now that we have the clusters we have to convert them into age ranges and feed those ranges to `pandas.cut` to cut both the training and test datasets."
   ]
  },
  {
   "cell_type": "code",
   "execution_count": 10,
   "metadata": {
    "_uuid": "49dbd4a50d0445e97001ac294389cf429ad1c454"
   },
   "outputs": [
    {
     "name": "stdout",
     "output_type": "stream",
     "text": [
      "Age bands: [ 0.   13.47 28.52 44.4    inf]\n"
     ]
    }
   ],
   "source": [
    "# Convert K-means clusters to age bands\n",
    "age_bands = []\n",
    "for k in range(num_clusters):\n",
    "    age_bands.append(xx[Z==k].min())\n",
    "\n",
    "# Since the clusters are not sorted we sort the intervals\n",
    "age_bands.sort()\n",
    "\n",
    "# Set the lower bound of the first interval to 0\n",
    "age_bands[0] = 0\n",
    "\n",
    "# Set the higher bound of the last interval to infinite just in case there are older older passengers in the test set\n",
    "age_bands.append(np.inf)\n",
    "\n",
    "# Convert list to numpy array\n",
    "print(\"Age bands: {}\".format(np.array(age_bands)))"
   ]
  },
  {
   "cell_type": "code",
   "execution_count": 11,
   "metadata": {
    "_uuid": "9e021c565698416c803c59f0c77ac0aeac819c1b"
   },
   "outputs": [
    {
     "data": {
      "text/plain": [
       "AgeBand\n",
       "(0.0, 13.47]      0.591549\n",
       "(13.47, 28.52]    0.361775\n",
       "(28.52, 44.4]     0.421277\n",
       "(44.4, inf]       0.373913\n",
       "Name: Survived, dtype: float64"
      ]
     },
     "execution_count": 11,
     "metadata": {},
     "output_type": "execute_result"
    }
   ],
   "source": [
    "# Use both the training and test dataset to fill the missing Age values\n",
    "dataset = pd.concat([train, test], sort=True)\n",
    "dataset['AgeBand'] = pd.cut(dataset['Age'], age_bands)\n",
    "\n",
    "dataset.groupby('AgeBand')['Survived'].mean()"
   ]
  },
  {
   "cell_type": "markdown",
   "metadata": {
    "_uuid": "b0e199b3bd6e0dcf9f86115cffd8e9202fe8aa5e"
   },
   "source": [
    "### 3.2.1 Filing missing Age values <a class=\"anchor\" id=\"fill-age\"></a>\n",
    "\n",
    "To fill the missing 20% age values, we are going to estimate the age band using the most accurate of the following classifiers:\n",
    "- Logistic regression\n",
    "- K-nearest neighbors\n",
    "- Decision tree\n",
    "\n",
    "with the following features:\n",
    "- Age\n",
    "- Pclass\n",
    "- SibSp\n",
    "- Parch\n",
    "- Sex\n",
    "- Title (engineered from Name)\n",
    "\n",
    "There are many ways to fill the missing ages, I chose this one because it was an excuse to do more some stuff with machine learning models and it worked well enough."
   ]
  },
  {
   "cell_type": "markdown",
   "metadata": {
    "_uuid": "42df77f9146123b1daa2f58b1196f1886b37d6a0"
   },
   "source": [
    "#### Feature selection\n",
    "Start by getting the title of each passenger using `Name`."
   ]
  },
  {
   "cell_type": "code",
   "execution_count": 12,
   "metadata": {
    "_uuid": "bbb483352388a2d1a93a3aeb59eea8f7697f718a",
    "scrolled": false
   },
   "outputs": [
    {
     "data": {
      "text/html": [
       "<div>\n",
       "<style scoped>\n",
       "    .dataframe tbody tr th:only-of-type {\n",
       "        vertical-align: middle;\n",
       "    }\n",
       "\n",
       "    .dataframe tbody tr th {\n",
       "        vertical-align: top;\n",
       "    }\n",
       "\n",
       "    .dataframe thead th {\n",
       "        text-align: right;\n",
       "    }\n",
       "</style>\n",
       "<table border=\"1\" class=\"dataframe\">\n",
       "  <thead>\n",
       "    <tr style=\"text-align: right;\">\n",
       "      <th>Title</th>\n",
       "      <th>Capt</th>\n",
       "      <th>Col</th>\n",
       "      <th>Don</th>\n",
       "      <th>Dona</th>\n",
       "      <th>Dr</th>\n",
       "      <th>Jonkheer</th>\n",
       "      <th>Lady</th>\n",
       "      <th>Major</th>\n",
       "      <th>Master</th>\n",
       "      <th>Miss</th>\n",
       "      <th>Mlle</th>\n",
       "      <th>Mme</th>\n",
       "      <th>Mr</th>\n",
       "      <th>Mrs</th>\n",
       "      <th>Ms</th>\n",
       "      <th>Rev</th>\n",
       "      <th>Sir</th>\n",
       "      <th>the Countess</th>\n",
       "    </tr>\n",
       "    <tr>\n",
       "      <th>Sex</th>\n",
       "      <th></th>\n",
       "      <th></th>\n",
       "      <th></th>\n",
       "      <th></th>\n",
       "      <th></th>\n",
       "      <th></th>\n",
       "      <th></th>\n",
       "      <th></th>\n",
       "      <th></th>\n",
       "      <th></th>\n",
       "      <th></th>\n",
       "      <th></th>\n",
       "      <th></th>\n",
       "      <th></th>\n",
       "      <th></th>\n",
       "      <th></th>\n",
       "      <th></th>\n",
       "      <th></th>\n",
       "    </tr>\n",
       "  </thead>\n",
       "  <tbody>\n",
       "    <tr>\n",
       "      <th>female</th>\n",
       "      <td>0</td>\n",
       "      <td>0</td>\n",
       "      <td>0</td>\n",
       "      <td>1</td>\n",
       "      <td>1</td>\n",
       "      <td>0</td>\n",
       "      <td>1</td>\n",
       "      <td>0</td>\n",
       "      <td>0</td>\n",
       "      <td>260</td>\n",
       "      <td>2</td>\n",
       "      <td>1</td>\n",
       "      <td>0</td>\n",
       "      <td>197</td>\n",
       "      <td>2</td>\n",
       "      <td>0</td>\n",
       "      <td>0</td>\n",
       "      <td>1</td>\n",
       "    </tr>\n",
       "    <tr>\n",
       "      <th>male</th>\n",
       "      <td>1</td>\n",
       "      <td>4</td>\n",
       "      <td>1</td>\n",
       "      <td>0</td>\n",
       "      <td>7</td>\n",
       "      <td>1</td>\n",
       "      <td>0</td>\n",
       "      <td>2</td>\n",
       "      <td>61</td>\n",
       "      <td>0</td>\n",
       "      <td>0</td>\n",
       "      <td>0</td>\n",
       "      <td>757</td>\n",
       "      <td>0</td>\n",
       "      <td>0</td>\n",
       "      <td>8</td>\n",
       "      <td>1</td>\n",
       "      <td>0</td>\n",
       "    </tr>\n",
       "  </tbody>\n",
       "</table>\n",
       "</div>"
      ],
      "text/plain": [
       "Title   Capt  Col  Don  Dona  Dr  Jonkheer  Lady  Major  Master  Miss  Mlle  \\\n",
       "Sex                                                                           \n",
       "female     0    0    0     1   1         0     1      0       0   260     2   \n",
       "male       1    4    1     0   7         1     0      2      61     0     0   \n",
       "\n",
       "Title   Mme   Mr  Mrs  Ms  Rev  Sir  the Countess  \n",
       "Sex                                                \n",
       "female    1    0  197   2    0    0             1  \n",
       "male      0  757    0   0    8    1             0  "
      ]
     },
     "execution_count": 12,
     "metadata": {},
     "output_type": "execute_result"
    }
   ],
   "source": [
    "# Use both the training and test dataset to fill the missing Age values\n",
    "fill_age_df = dataset[['Name', 'AgeBand', 'Pclass', 'SibSp', 'Parch', 'Sex']].copy()\n",
    "\n",
    "# Get the titles of the passengers\n",
    "fill_age_df['Title'] = fill_age_df['Name'].apply(lambda x: x[x.find(', ') + 2:x.find('.')])\n",
    "\n",
    "pd.crosstab(fill_age_df['Title'], fill_age_df['Sex']).transpose()"
   ]
  },
  {
   "cell_type": "markdown",
   "metadata": {
    "_uuid": "2b385b3d6d8e89f35e7143195839f2a0b69cdd51"
   },
   "source": [
    "Most passengers have one of four titles:\n",
    "- Master\n",
    "- Miss\n",
    "- Mr\n",
    "- Mrs\n",
    "\n",
    "We can join `Mlle` with `Miss` since they both typically refer to an unmarried female; `Mme` with `Mrs` since they both typically refer to a married female; and, `Ms` and `Miss`, `Ms` is a more generic title that can either refer to `Miss` or `Mrs` but given that `Miss` is more frequent we'll go with that.\n",
    "\n",
    "For the remaining titles, we are going to gather them all in a title named `Rare` to convey that these passengers have a unique social status.\n",
    "\n",
    "Finally, `Title` is converted to dummies."
   ]
  },
  {
   "cell_type": "code",
   "execution_count": 13,
   "metadata": {
    "_uuid": "69e8f1d337da5f7f1f3660711d12c7621799ab0a"
   },
   "outputs": [
    {
     "data": {
      "text/html": [
       "<div>\n",
       "<style scoped>\n",
       "    .dataframe tbody tr th:only-of-type {\n",
       "        vertical-align: middle;\n",
       "    }\n",
       "\n",
       "    .dataframe tbody tr th {\n",
       "        vertical-align: top;\n",
       "    }\n",
       "\n",
       "    .dataframe thead th {\n",
       "        text-align: right;\n",
       "    }\n",
       "</style>\n",
       "<table border=\"1\" class=\"dataframe\">\n",
       "  <thead>\n",
       "    <tr style=\"text-align: right;\">\n",
       "      <th></th>\n",
       "      <th>Name</th>\n",
       "      <th>AgeBand</th>\n",
       "      <th>Pclass</th>\n",
       "      <th>SibSp</th>\n",
       "      <th>Parch</th>\n",
       "      <th>Sex</th>\n",
       "      <th>Title</th>\n",
       "      <th>Miss</th>\n",
       "      <th>Mr</th>\n",
       "      <th>Mrs</th>\n",
       "      <th>Rare</th>\n",
       "    </tr>\n",
       "  </thead>\n",
       "  <tbody>\n",
       "    <tr>\n",
       "      <th>0</th>\n",
       "      <td>Braund, Mr. Owen Harris</td>\n",
       "      <td>(13.47, 28.52]</td>\n",
       "      <td>3</td>\n",
       "      <td>1</td>\n",
       "      <td>0</td>\n",
       "      <td>male</td>\n",
       "      <td>Mr</td>\n",
       "      <td>0</td>\n",
       "      <td>1</td>\n",
       "      <td>0</td>\n",
       "      <td>0</td>\n",
       "    </tr>\n",
       "    <tr>\n",
       "      <th>1</th>\n",
       "      <td>Cumings, Mrs. John Bradley (Florence Briggs Th...</td>\n",
       "      <td>(28.52, 44.4]</td>\n",
       "      <td>1</td>\n",
       "      <td>1</td>\n",
       "      <td>0</td>\n",
       "      <td>female</td>\n",
       "      <td>Mrs</td>\n",
       "      <td>0</td>\n",
       "      <td>0</td>\n",
       "      <td>1</td>\n",
       "      <td>0</td>\n",
       "    </tr>\n",
       "  </tbody>\n",
       "</table>\n",
       "</div>"
      ],
      "text/plain": [
       "                                                Name         AgeBand  Pclass  \\\n",
       "0                            Braund, Mr. Owen Harris  (13.47, 28.52]       3   \n",
       "1  Cumings, Mrs. John Bradley (Florence Briggs Th...   (28.52, 44.4]       1   \n",
       "\n",
       "   SibSp  Parch     Sex Title  Miss  Mr  Mrs  Rare  \n",
       "0      1      0    male    Mr     0   1    0     0  \n",
       "1      1      0  female   Mrs     0   0    1     0  "
      ]
     },
     "execution_count": 13,
     "metadata": {},
     "output_type": "execute_result"
    }
   ],
   "source": [
    "# Join Mlle (Mademoiselle) and Ms with Miss - Mlle and Miss both indicate a unmarried status while Ms is more generic\n",
    "# it can mean both Miss and Mrs, I chose Miss because it's more frequent\n",
    "fill_age_df['Title'].replace(to_replace=['Mlle', 'Ms'], value='Miss', inplace=True)\n",
    "\n",
    "# Join Mme (Madame) with Mrs - Mme and Mrs both indicate a married status\n",
    "fill_age_df['Title'].replace(to_replace='Mme', value='Mrs', inplace=True)\n",
    "\n",
    "# Join the remaining titles with low frequencies\n",
    "fill_age_df['Title'].replace(to_replace=['Don', 'Rev', 'Dr', 'Major', 'Lady', 'Sir',\n",
    "                                         'Col', 'Capt', 'the Countess', 'Jonkheer', 'Dona'],\n",
    "                             value='Rare', inplace=True)\n",
    "\n",
    "title_dummies = pd.get_dummies(fill_age_df['Title'], drop_first=True)\n",
    "fill_age_df = pd.concat([fill_age_df, title_dummies], axis=1)\n",
    "fill_age_df.head(2)"
   ]
  },
  {
   "cell_type": "markdown",
   "metadata": {
    "_uuid": "1cb7601be8c592ec54a04d2d7dd8c1d648b16d79"
   },
   "source": [
    "Also, convert `Sex` to a dummy (`IsMale`) and encode `AgeBand` in integers."
   ]
  },
  {
   "cell_type": "code",
   "execution_count": 14,
   "metadata": {
    "_uuid": "5a577e42de6c4c8cac4df4150cd876482712f573"
   },
   "outputs": [
    {
     "data": {
      "text/html": [
       "<div>\n",
       "<style scoped>\n",
       "    .dataframe tbody tr th:only-of-type {\n",
       "        vertical-align: middle;\n",
       "    }\n",
       "\n",
       "    .dataframe tbody tr th {\n",
       "        vertical-align: top;\n",
       "    }\n",
       "\n",
       "    .dataframe thead th {\n",
       "        text-align: right;\n",
       "    }\n",
       "</style>\n",
       "<table border=\"1\" class=\"dataframe\">\n",
       "  <thead>\n",
       "    <tr style=\"text-align: right;\">\n",
       "      <th></th>\n",
       "      <th>AgeBand</th>\n",
       "      <th>Pclass</th>\n",
       "      <th>SibSp</th>\n",
       "      <th>Parch</th>\n",
       "      <th>Miss</th>\n",
       "      <th>Mr</th>\n",
       "      <th>Mrs</th>\n",
       "      <th>Rare</th>\n",
       "      <th>IsMale</th>\n",
       "    </tr>\n",
       "  </thead>\n",
       "  <tbody>\n",
       "    <tr>\n",
       "      <th>0</th>\n",
       "      <td>1</td>\n",
       "      <td>3</td>\n",
       "      <td>1</td>\n",
       "      <td>0</td>\n",
       "      <td>0</td>\n",
       "      <td>1</td>\n",
       "      <td>0</td>\n",
       "      <td>0</td>\n",
       "      <td>1</td>\n",
       "    </tr>\n",
       "    <tr>\n",
       "      <th>1</th>\n",
       "      <td>2</td>\n",
       "      <td>1</td>\n",
       "      <td>1</td>\n",
       "      <td>0</td>\n",
       "      <td>0</td>\n",
       "      <td>0</td>\n",
       "      <td>1</td>\n",
       "      <td>0</td>\n",
       "      <td>0</td>\n",
       "    </tr>\n",
       "  </tbody>\n",
       "</table>\n",
       "</div>"
      ],
      "text/plain": [
       "   AgeBand  Pclass  SibSp  Parch  Miss  Mr  Mrs  Rare  IsMale\n",
       "0        1       3      1      0     0   1    0     0       1\n",
       "1        2       1      1      0     0   0    1     0       0"
      ]
     },
     "execution_count": 14,
     "metadata": {},
     "output_type": "execute_result"
    }
   ],
   "source": [
    "# Encode ages and sex\n",
    "fill_age_df['IsMale'] = fill_age_df['Sex'].astype('category').cat.codes\n",
    "fill_age_df['AgeBand'] = fill_age_df['AgeBand'].astype('category').cat.codes\n",
    "\n",
    "# Drop columns we no longer need\n",
    "fill_age_df.drop(columns=['Name', 'Sex', 'Title'], inplace=True)\n",
    "\n",
    "fill_age_df.head(2)"
   ]
  },
  {
   "cell_type": "markdown",
   "metadata": {
    "_uuid": "61641dda16ab3adec3e4c26158800652874fd7fb"
   },
   "source": [
    "The dataset for age prediction is almost done, the last step is to split it into training samples, training labels, and testing samples."
   ]
  },
  {
   "cell_type": "code",
   "execution_count": 15,
   "metadata": {
    "_uuid": "482fa3b68bf01868cd25449cf81281d3e8e01be5"
   },
   "outputs": [
    {
     "name": "stdout",
     "output_type": "stream",
     "text": [
      "Training samples shape: (1046, 8)\n",
      "Training labels shape: (1046,)\n",
      "Samples to predict shape: (263, 8)\n"
     ]
    }
   ],
   "source": [
    "# Drop all rows with unknown age bands (-1) from the training set\n",
    "X_train = fill_age_df.loc[fill_age_df['AgeBand'] != -1].drop(columns='AgeBand')\n",
    "Y_train = fill_age_df['AgeBand'].loc[fill_age_df['AgeBand'] != -1]\n",
    "\n",
    "# Get all rows with unknown age bands (-1) for the test set\n",
    "X = fill_age_df.loc[fill_age_df['AgeBand'] == -1].drop(columns='AgeBand')\n",
    "\n",
    "# Some shapes to double-check\n",
    "print(\"Training samples shape: {}\".format(X_train.shape))\n",
    "print(\"Training labels shape: {}\".format(Y_train.shape))\n",
    "print(\"Samples to predict shape: {}\".format(X.shape))"
   ]
  },
  {
   "cell_type": "markdown",
   "metadata": {
    "_uuid": "a75b5cb965f35dd74d09625112cf7904fee6b460"
   },
   "source": [
    "#### Age band modeling\n",
    "\n",
    "Time to fill the missing age values!\n",
    "\n",
    "As stated previously, we are going to create three simple classifier models and use cross-validation to analyze which one is better."
   ]
  },
  {
   "cell_type": "code",
   "execution_count": 16,
   "metadata": {
    "_uuid": "0fdce4d88f2d5900a2b24c5210f1336b59b643ac"
   },
   "outputs": [
    {
     "name": "stdout",
     "output_type": "stream",
     "text": [
      "Logistic Regression cross-validation scores: 0.536\n",
      "KNeighbors cross-validation scores: 0.517\n",
      "Tree Classifier cross-validation scores: 0.561\n"
     ]
    }
   ],
   "source": [
    "logreg = LogisticRegression(random_state=random_state)\n",
    "logreg_scores = cross_val_score(logreg, X_train, Y_train, cv=10)\n",
    "print(\"Logistic Regression cross-validation scores: {:.3f}\".format(logreg_scores.mean()))\n",
    "\n",
    "knn = KNeighborsClassifier()\n",
    "knn_scores = cross_val_score(knn, X_train, Y_train, cv=10)\n",
    "print(\"KNeighbors cross-validation scores: {:.3f}\".format(knn_scores.mean()))\n",
    "\n",
    "tree = DecisionTreeClassifier(random_state=random_state)\n",
    "tree_scores = cross_val_score(tree, X_train, Y_train, cv=10)\n",
    "print(\"Tree Classifier cross-validation scores: {:.3f}\".format(tree_scores.mean()))"
   ]
  },
  {
   "cell_type": "markdown",
   "metadata": {
    "_uuid": "ca9dfa343551b5a064bd59a99b7c02999334b0d2"
   },
   "source": [
    "Overall, none of the models achieves high-accuracy; however, if we check the per-class/per-age band accuracy, we see that our best model (`DecisionTreeClassifier`) is really good at predicting children (95.7% accuracy for passengers between the ages of 0 and 13.47) and young adults (84.5% accuracy for passengers between the ages of 13.47 and 28.52). As discussed previously, these are the most relevant age bands; therefore, a low overall accuracy shouldn't be a big issue as long as we have high accuracy in these age bands."
   ]
  },
  {
   "cell_type": "code",
   "execution_count": 17,
   "metadata": {
    "_uuid": "4c4d44db865875311267e35ec6299d64c7af9fdd",
    "scrolled": true
   },
   "outputs": [
    {
     "data": {
      "text/html": [
       "<div>\n",
       "<style scoped>\n",
       "    .dataframe tbody tr th:only-of-type {\n",
       "        vertical-align: middle;\n",
       "    }\n",
       "\n",
       "    .dataframe tbody tr th {\n",
       "        vertical-align: top;\n",
       "    }\n",
       "\n",
       "    .dataframe thead th {\n",
       "        text-align: right;\n",
       "    }\n",
       "</style>\n",
       "<table border=\"1\" class=\"dataframe\">\n",
       "  <thead>\n",
       "    <tr style=\"text-align: right;\">\n",
       "      <th></th>\n",
       "      <th>AgeBand</th>\n",
       "      <th>AgeInterval</th>\n",
       "      <th>PerClassAcc.</th>\n",
       "    </tr>\n",
       "  </thead>\n",
       "  <tbody>\n",
       "    <tr>\n",
       "      <th>0</th>\n",
       "      <td>0</td>\n",
       "      <td>(0.0, 13.47]</td>\n",
       "      <td>0.959596</td>\n",
       "    </tr>\n",
       "    <tr>\n",
       "      <th>1</th>\n",
       "      <td>1</td>\n",
       "      <td>(13.47, 28.52]</td>\n",
       "      <td>0.845455</td>\n",
       "    </tr>\n",
       "    <tr>\n",
       "      <th>2</th>\n",
       "      <td>2</td>\n",
       "      <td>(28.52, 44.4]</td>\n",
       "      <td>0.320242</td>\n",
       "    </tr>\n",
       "    <tr>\n",
       "      <th>3</th>\n",
       "      <td>3</td>\n",
       "      <td>(44.4, inf]</td>\n",
       "      <td>0.488636</td>\n",
       "    </tr>\n",
       "  </tbody>\n",
       "</table>\n",
       "</div>"
      ],
      "text/plain": [
       "   AgeBand     AgeInterval  PerClassAcc.\n",
       "0        0    (0.0, 13.47]      0.959596\n",
       "1        1  (13.47, 28.52]      0.845455\n",
       "2        2   (28.52, 44.4]      0.320242\n",
       "3        3     (44.4, inf]      0.488636"
      ]
     },
     "execution_count": 17,
     "metadata": {},
     "output_type": "execute_result"
    }
   ],
   "source": [
    "# Make predictions using our best model (Decision Tree)\n",
    "tree.fit(X_train, Y_train)\n",
    "Y_pred = tree.predict(X_train)\n",
    "\n",
    "# Compute the per-class/per-age band accuracy\n",
    "total = np.bincount(Y_train.values, minlength=4)\n",
    "correct = np.bincount(Y_pred[Y_pred == Y_train.values], minlength=4)\n",
    "class_acc = correct / total\n",
    "pd.DataFrame({'AgeBand': np.arange(4),\n",
    "              'AgeInterval': dataset['AgeBand'].cat.categories,\n",
    "              'PerClassAcc.': class_acc})"
   ]
  },
  {
   "cell_type": "code",
   "execution_count": 18,
   "metadata": {
    "_uuid": "89b3c7d4864267a1ebd04eeeaafddd6cc0d87dc6"
   },
   "outputs": [
    {
     "data": {
      "image/png": "[encoded data removed]",
      "text/plain": [
       "<Figure size 432x288 with 1 Axes>"
      ]
     },
     "metadata": {},
     "output_type": "display_data"
    }
   ],
   "source": [
    "# Feature importance\n",
    "g = sns.barplot(x=tree.feature_importances_, y=X.columns, orient='h')\n",
    "_ = g.set_xlabel('Relative importance')\n",
    "_ = g.set_ylabel('Features')\n",
    "_ = g.set_title('Feature Importance')"
   ]
  },
  {
   "cell_type": "markdown",
   "metadata": {
    "_uuid": "305493e0af095dd045f92965999044407367386d"
   },
   "source": [
    "We can now predict the age band for passengers with missing data:"
   ]
  },
  {
   "cell_type": "code",
   "execution_count": 19,
   "metadata": {
    "_uuid": "35bfe3e78ade4e2f1cfe7f1dad1a47f281f8575c"
   },
   "outputs": [],
   "source": [
    "Y = tree.predict(X)\n",
    "fill_age_df.loc[fill_age_df['AgeBand'] == -1, 'AgeBand'] = Y"
   ]
  },
  {
   "cell_type": "markdown",
   "metadata": {
    "_uuid": "bac180be54d461d10698f6e17b6f0ff00978a00c"
   },
   "source": [
    "Apply the integer encoded age bands to the train and test datasets."
   ]
  },
  {
   "cell_type": "code",
   "execution_count": 20,
   "metadata": {
    "_uuid": "c3304ecd1907af950adaf1e87674ffe1f09656cd"
   },
   "outputs": [
    {
     "data": {
      "text/html": [
       "<div>\n",
       "<style scoped>\n",
       "    .dataframe tbody tr th:only-of-type {\n",
       "        vertical-align: middle;\n",
       "    }\n",
       "\n",
       "    .dataframe tbody tr th {\n",
       "        vertical-align: top;\n",
       "    }\n",
       "\n",
       "    .dataframe thead th {\n",
       "        text-align: right;\n",
       "    }\n",
       "</style>\n",
       "<table border=\"1\" class=\"dataframe\">\n",
       "  <thead>\n",
       "    <tr style=\"text-align: right;\">\n",
       "      <th></th>\n",
       "      <th>Survived</th>\n",
       "      <th>Pclass</th>\n",
       "      <th>Name</th>\n",
       "      <th>Sex</th>\n",
       "      <th>SibSp</th>\n",
       "      <th>Parch</th>\n",
       "      <th>Ticket</th>\n",
       "      <th>Fare</th>\n",
       "      <th>Embarked</th>\n",
       "      <th>AgeBand</th>\n",
       "    </tr>\n",
       "  </thead>\n",
       "  <tbody>\n",
       "    <tr>\n",
       "      <th>0</th>\n",
       "      <td>0</td>\n",
       "      <td>3</td>\n",
       "      <td>Braund, Mr. Owen Harris</td>\n",
       "      <td>male</td>\n",
       "      <td>1</td>\n",
       "      <td>0</td>\n",
       "      <td>A/5 21171</td>\n",
       "      <td>7.2500</td>\n",
       "      <td>S</td>\n",
       "      <td>1</td>\n",
       "    </tr>\n",
       "    <tr>\n",
       "      <th>1</th>\n",
       "      <td>1</td>\n",
       "      <td>1</td>\n",
       "      <td>Cumings, Mrs. John Bradley (Florence Briggs Th...</td>\n",
       "      <td>female</td>\n",
       "      <td>1</td>\n",
       "      <td>0</td>\n",
       "      <td>PC 17599</td>\n",
       "      <td>71.2833</td>\n",
       "      <td>C</td>\n",
       "      <td>2</td>\n",
       "    </tr>\n",
       "  </tbody>\n",
       "</table>\n",
       "</div>"
      ],
      "text/plain": [
       "   Survived  Pclass                                               Name  \\\n",
       "0         0       3                            Braund, Mr. Owen Harris   \n",
       "1         1       1  Cumings, Mrs. John Bradley (Florence Briggs Th...   \n",
       "\n",
       "      Sex  SibSp  Parch     Ticket     Fare Embarked  AgeBand  \n",
       "0    male      1      0  A/5 21171   7.2500        S        1  \n",
       "1  female      1      0   PC 17599  71.2833        C        2  "
      ]
     },
     "execution_count": 20,
     "metadata": {},
     "output_type": "execute_result"
    }
   ],
   "source": [
    "train['AgeBand'] = fill_age_df.iloc[:train_len, 0]\n",
    "test['AgeBand'] = fill_age_df.iloc[train_len:, 0]\n",
    "\n",
    "# Remove Age column\n",
    "train.drop(columns='Age', inplace=True)\n",
    "test.drop(columns='Age', inplace=True)\n",
    "\n",
    "train.head(2)"
   ]
  },
  {
   "cell_type": "markdown",
   "metadata": {
    "_uuid": "7831f38c2c7513566349f0cbba4a8fa6446042a1"
   },
   "source": [
    "## 3.3 Sex <a class=\"anchor\" id=\"sex\"></a>"
   ]
  },
  {
   "cell_type": "code",
   "execution_count": 21,
   "metadata": {
    "_uuid": "d5c03aa7cc892ab8c594c25694c5119ed2a0682d"
   },
   "outputs": [
    {
     "data": {
      "text/plain": [
       "Sex\n",
       "female    0.742038\n",
       "male      0.188908\n",
       "Name: Survived, dtype: float64"
      ]
     },
     "execution_count": 21,
     "metadata": {},
     "output_type": "execute_result"
    },
    {
     "data": {
      "image/png": "[encoded data removed]",
      "text/plain": [
       "<Figure size 432x288 with 1 Axes>"
      ]
     },
     "metadata": {},
     "output_type": "display_data"
    }
   ],
   "source": [
    "_ = sns.countplot(x='Sex', hue='Survived', data=train)\n",
    "train.groupby('Sex')['Survived'].mean()"
   ]
  },
  {
   "cell_type": "markdown",
   "metadata": {
    "_uuid": "6e8cbee0cc2a73023bdc14712d00596e5c3f2d0b"
   },
   "source": [
    "Females have much higher survival rates as expected, all we have to do is one-hot encode `Sex` so all machine learning algorithms can handle it."
   ]
  },
  {
   "cell_type": "code",
   "execution_count": 22,
   "metadata": {
    "_uuid": "859f3b9f325448ca52b383f09320324c1ff31828"
   },
   "outputs": [],
   "source": [
    "# One-encode using dummies\n",
    "train['IsMale'] = pd.get_dummies(train['Sex'], drop_first=True)\n",
    "test['IsMale'] = pd.get_dummies(test['Sex'], drop_first=True)\n",
    "\n",
    "# Drop the Sex column\n",
    "train.drop(columns='Sex', inplace=True)\n",
    "test.drop(columns='Sex', inplace=True)"
   ]
  },
  {
   "cell_type": "markdown",
   "metadata": {
    "_uuid": "578331907e52e904794e39a7c7f6822a006e536f"
   },
   "source": [
    "## 3.4 Ticket class (Pclass) <a class=\"anchor\" id=\"pclass\"></a>"
   ]
  },
  {
   "cell_type": "code",
   "execution_count": 23,
   "metadata": {
    "_uuid": "c5f4607a1c554e490b0b1092c06f7e5a6d0f9eb5"
   },
   "outputs": [
    {
     "data": {
      "text/plain": [
       "Pclass\n",
       "1    0.629630\n",
       "2    0.472826\n",
       "3    0.242363\n",
       "Name: Survived, dtype: float64"
      ]
     },
     "execution_count": 23,
     "metadata": {},
     "output_type": "execute_result"
    },
    {
     "data": {
      "image/png": "[encoded data removed]",
      "text/plain": [
       "<Figure size 432x288 with 1 Axes>"
      ]
     },
     "metadata": {},
     "output_type": "display_data"
    }
   ],
   "source": [
    "_ = sns.countplot(x='Pclass', hue='Survived', data=train)\n",
    "train.groupby('Pclass')['Survived'].mean()"
   ]
  },
  {
   "cell_type": "markdown",
   "metadata": {
    "_uuid": "dbf9546834a1e017e4f65bd8afe614c8ed623122"
   },
   "source": [
    "Passengers with higher ticket class (lower `Pclass`) have higher chances of survival:\n",
    "- 1st class: 63%\n",
    "- 2nd class: 48%\n",
    "- 3rd class: 24%\n",
    "\n",
    "Keep the feature as-is, `Pclass` is already encoded in integers (one-hot encoding would leave out the natural order of ticket class which is an important element of the feature)."
   ]
  },
  {
   "cell_type": "markdown",
   "metadata": {
    "_uuid": "e1d7d9ee7f910ccb2751f4a1797a5ea3b996672f"
   },
   "source": [
    "## 3.5 Port of Embarkation (Embarked) <a class=\"anchor\" id=\"embarked\"></a>"
   ]
  },
  {
   "cell_type": "code",
   "execution_count": 24,
   "metadata": {
    "_uuid": "3997169db85d3a5f03e46bbf20349fc4c49ccf8e",
    "scrolled": true
   },
   "outputs": [
    {
     "data": {
      "image/png": "[encoded data removed]",
      "text/plain": [
       "<Figure size 432x288 with 1 Axes>"
      ]
     },
     "metadata": {},
     "output_type": "display_data"
    }
   ],
   "source": [
    "_ = sns.countplot(x='Embarked', hue='Survived', data=train)"
   ]
  },
  {
   "cell_type": "markdown",
   "metadata": {
    "_uuid": "38576463d8084d6bd21475cc493ed94d93be890c"
   },
   "source": [
    "After looking at this chart my first thought was that it was a useful feature, we can see that passengers from different ports have varying chances of survival. But it intuitively, it doesn't really make sense, why would the port make any difference on whether someone survives or not? I think that what this chart shows is just the combination of `IsMale` and `Pclass`, see the next chart and table."
   ]
  },
  {
   "cell_type": "code",
   "execution_count": 25,
   "metadata": {
    "_uuid": "afc1ad6a99122e6a212c481a42ada5a425548241"
   },
   "outputs": [
    {
     "name": "stderr",
     "output_type": "stream",
     "text": [
      "/home/davidtvs/datascience/kaggle/Titanic/titanic-env/lib/python3.5/site-packages/seaborn/categorical.py:3666: UserWarning: The `factorplot` function has been renamed to `catplot`. The original name will be removed in a future release. Please update your code. Note that the default `kind` in `factorplot` (`'point'`) has changed `'strip'` in `catplot`.\n",
      "  warnings.warn(msg)\n"
     ]
    },
    {
     "data": {
      "image/png": "[encoded data removed]",
      "text/plain": [
       "<Figure size 1080x720 with 6 Axes>"
      ]
     },
     "metadata": {},
     "output_type": "display_data"
    }
   ],
   "source": [
    "# Plot relationship between Embarked, Pclass, and IsMale\n",
    "_ = sns.factorplot(x='Embarked', col='Pclass', row='IsMale', data=train, kind='count')"
   ]
  },
  {
   "cell_type": "code",
   "execution_count": 26,
   "metadata": {
    "_uuid": "57df5dbe5f0f36e5c1c0cef2b61ff8a0080bda48"
   },
   "outputs": [
    {
     "data": {
      "text/html": [
       "<div>\n",
       "<style scoped>\n",
       "    .dataframe tbody tr th:only-of-type {\n",
       "        vertical-align: middle;\n",
       "    }\n",
       "\n",
       "    .dataframe tbody tr th {\n",
       "        vertical-align: top;\n",
       "    }\n",
       "\n",
       "    .dataframe thead th {\n",
       "        text-align: right;\n",
       "    }\n",
       "</style>\n",
       "<table border=\"1\" class=\"dataframe\">\n",
       "  <thead>\n",
       "    <tr style=\"text-align: right;\">\n",
       "      <th></th>\n",
       "      <th></th>\n",
       "      <th></th>\n",
       "      <th>Total</th>\n",
       "      <th>Survived</th>\n",
       "      <th>Rate</th>\n",
       "    </tr>\n",
       "    <tr>\n",
       "      <th>Embarked</th>\n",
       "      <th>Pclass</th>\n",
       "      <th>IsMale</th>\n",
       "      <th></th>\n",
       "      <th></th>\n",
       "      <th></th>\n",
       "    </tr>\n",
       "  </thead>\n",
       "  <tbody>\n",
       "    <tr>\n",
       "      <th rowspan=\"6\" valign=\"top\">C</th>\n",
       "      <th rowspan=\"2\" valign=\"top\">1</th>\n",
       "      <th>0</th>\n",
       "      <td>43</td>\n",
       "      <td>42</td>\n",
       "      <td>0.976744</td>\n",
       "    </tr>\n",
       "    <tr>\n",
       "      <th>1</th>\n",
       "      <td>42</td>\n",
       "      <td>17</td>\n",
       "      <td>0.404762</td>\n",
       "    </tr>\n",
       "    <tr>\n",
       "      <th rowspan=\"2\" valign=\"top\">2</th>\n",
       "      <th>0</th>\n",
       "      <td>7</td>\n",
       "      <td>7</td>\n",
       "      <td>1.000000</td>\n",
       "    </tr>\n",
       "    <tr>\n",
       "      <th>1</th>\n",
       "      <td>10</td>\n",
       "      <td>2</td>\n",
       "      <td>0.200000</td>\n",
       "    </tr>\n",
       "    <tr>\n",
       "      <th rowspan=\"2\" valign=\"top\">3</th>\n",
       "      <th>0</th>\n",
       "      <td>23</td>\n",
       "      <td>15</td>\n",
       "      <td>0.652174</td>\n",
       "    </tr>\n",
       "    <tr>\n",
       "      <th>1</th>\n",
       "      <td>43</td>\n",
       "      <td>10</td>\n",
       "      <td>0.232558</td>\n",
       "    </tr>\n",
       "    <tr>\n",
       "      <th rowspan=\"6\" valign=\"top\">Q</th>\n",
       "      <th rowspan=\"2\" valign=\"top\">1</th>\n",
       "      <th>0</th>\n",
       "      <td>1</td>\n",
       "      <td>1</td>\n",
       "      <td>1.000000</td>\n",
       "    </tr>\n",
       "    <tr>\n",
       "      <th>1</th>\n",
       "      <td>1</td>\n",
       "      <td>0</td>\n",
       "      <td>0.000000</td>\n",
       "    </tr>\n",
       "    <tr>\n",
       "      <th rowspan=\"2\" valign=\"top\">2</th>\n",
       "      <th>0</th>\n",
       "      <td>2</td>\n",
       "      <td>2</td>\n",
       "      <td>1.000000</td>\n",
       "    </tr>\n",
       "    <tr>\n",
       "      <th>1</th>\n",
       "      <td>1</td>\n",
       "      <td>0</td>\n",
       "      <td>0.000000</td>\n",
       "    </tr>\n",
       "    <tr>\n",
       "      <th rowspan=\"2\" valign=\"top\">3</th>\n",
       "      <th>0</th>\n",
       "      <td>33</td>\n",
       "      <td>24</td>\n",
       "      <td>0.727273</td>\n",
       "    </tr>\n",
       "    <tr>\n",
       "      <th>1</th>\n",
       "      <td>39</td>\n",
       "      <td>3</td>\n",
       "      <td>0.076923</td>\n",
       "    </tr>\n",
       "    <tr>\n",
       "      <th rowspan=\"6\" valign=\"top\">S</th>\n",
       "      <th rowspan=\"2\" valign=\"top\">1</th>\n",
       "      <th>0</th>\n",
       "      <td>48</td>\n",
       "      <td>46</td>\n",
       "      <td>0.958333</td>\n",
       "    </tr>\n",
       "    <tr>\n",
       "      <th>1</th>\n",
       "      <td>79</td>\n",
       "      <td>28</td>\n",
       "      <td>0.354430</td>\n",
       "    </tr>\n",
       "    <tr>\n",
       "      <th rowspan=\"2\" valign=\"top\">2</th>\n",
       "      <th>0</th>\n",
       "      <td>67</td>\n",
       "      <td>61</td>\n",
       "      <td>0.910448</td>\n",
       "    </tr>\n",
       "    <tr>\n",
       "      <th>1</th>\n",
       "      <td>97</td>\n",
       "      <td>15</td>\n",
       "      <td>0.154639</td>\n",
       "    </tr>\n",
       "    <tr>\n",
       "      <th rowspan=\"2\" valign=\"top\">3</th>\n",
       "      <th>0</th>\n",
       "      <td>88</td>\n",
       "      <td>33</td>\n",
       "      <td>0.375000</td>\n",
       "    </tr>\n",
       "    <tr>\n",
       "      <th>1</th>\n",
       "      <td>265</td>\n",
       "      <td>34</td>\n",
       "      <td>0.128302</td>\n",
       "    </tr>\n",
       "  </tbody>\n",
       "</table>\n",
       "</div>"
      ],
      "text/plain": [
       "                        Total  Survived      Rate\n",
       "Embarked Pclass IsMale                           \n",
       "C        1      0          43        42  0.976744\n",
       "                1          42        17  0.404762\n",
       "         2      0           7         7  1.000000\n",
       "                1          10         2  0.200000\n",
       "         3      0          23        15  0.652174\n",
       "                1          43        10  0.232558\n",
       "Q        1      0           1         1  1.000000\n",
       "                1           1         0  0.000000\n",
       "         2      0           2         2  1.000000\n",
       "                1           1         0  0.000000\n",
       "         3      0          33        24  0.727273\n",
       "                1          39         3  0.076923\n",
       "S        1      0          48        46  0.958333\n",
       "                1          79        28  0.354430\n",
       "         2      0          67        61  0.910448\n",
       "                1          97        15  0.154639\n",
       "         3      0          88        33  0.375000\n",
       "                1         265        34  0.128302"
      ]
     },
     "execution_count": 26,
     "metadata": {},
     "output_type": "execute_result"
    }
   ],
   "source": [
    "# Passengers grouped by Embarked, Pclass, and IsMale\n",
    "embarked_corr = (train[['Survived', 'Embarked', 'Pclass', 'IsMale']].groupby(['Embarked', 'Pclass', 'IsMale'])                                            \n",
    "                                                                    .agg(['count', 'sum', 'mean']))\n",
    "embarked_corr.columns = embarked_corr.columns.droplevel(0)\n",
    "embarked_corr.columns = ['Total', 'Survived', 'Rate']\n",
    "embarked_corr"
   ]
  },
  {
   "cell_type": "markdown",
   "metadata": {
    "_uuid": "1886120e86ed4f14cb764bf0df047d3dd4da315d"
   },
   "source": [
    "We see that in `Southampton (S)` a high number of 3rd class males embarked on the Titanic, so a low survival rate is to be expected. A high number of 1st class passengers embarked in `Cherbourg (C)`, so we see a high survival rate. In `Queenstown (Q)`, however, the chart shows something that I was not expecting given the following observations:\n",
    "- the vast majority of passengers are 3rd class passengers;\n",
    "- the number of males and females is comparable.\n",
    "\n",
    "Given these conditions, the survival rate should be correlated only to `IsMale`, and that is true for females; males however end-up with half the survival rate. Though this is a sample of 42 males in a population of 577, it's not enough to convince me that `Embarked` is independently correlated with survival."
   ]
  },
  {
   "cell_type": "code",
   "execution_count": 27,
   "metadata": {
    "_uuid": "fdd83674ddf38ffabd2d0b78ac543d7ea7690cdc"
   },
   "outputs": [],
   "source": [
    "train.drop(columns='Embarked', inplace=True)\n",
    "test.drop(columns='Embarked', inplace=True)"
   ]
  },
  {
   "cell_type": "markdown",
   "metadata": {
    "_uuid": "65a1d3f125f961e974d75636c0590dcb3406add3"
   },
   "source": [
    "## 3.6 Fare <a class=\"anchor\" id=\"fare\"></a>\n",
    "Despite the fact that the [Titanic: Machine Learning from Disaster data page](https://www.kaggle.com/c/titanic/data) states that `Fare` is the passenger fare, I'm fairly sure that it's actually the ticket fare. Therefore, we will divide `Fare` by the ticket frequency (`TicketFreq`) to compute the actual passenger fare (`PassengerFare`)."
   ]
  },
  {
   "cell_type": "code",
   "execution_count": 28,
   "metadata": {
    "_uuid": "39918e40873abc7b1f954ebce2b7ab53ea436b38"
   },
   "outputs": [
    {
     "data": {
      "text/html": [
       "<div>\n",
       "<style scoped>\n",
       "    .dataframe tbody tr th:only-of-type {\n",
       "        vertical-align: middle;\n",
       "    }\n",
       "\n",
       "    .dataframe tbody tr th {\n",
       "        vertical-align: top;\n",
       "    }\n",
       "\n",
       "    .dataframe thead th {\n",
       "        text-align: right;\n",
       "    }\n",
       "</style>\n",
       "<table border=\"1\" class=\"dataframe\">\n",
       "  <thead>\n",
       "    <tr style=\"text-align: right;\">\n",
       "      <th></th>\n",
       "      <th>Survived</th>\n",
       "      <th>Pclass</th>\n",
       "      <th>Name</th>\n",
       "      <th>SibSp</th>\n",
       "      <th>Parch</th>\n",
       "      <th>Ticket</th>\n",
       "      <th>Fare</th>\n",
       "      <th>AgeBand</th>\n",
       "      <th>IsMale</th>\n",
       "    </tr>\n",
       "  </thead>\n",
       "  <tbody>\n",
       "    <tr>\n",
       "      <th>0</th>\n",
       "      <td>0</td>\n",
       "      <td>3</td>\n",
       "      <td>Braund, Mr. Owen Harris</td>\n",
       "      <td>1</td>\n",
       "      <td>0</td>\n",
       "      <td>A/5 21171</td>\n",
       "      <td>7.2500</td>\n",
       "      <td>1</td>\n",
       "      <td>1</td>\n",
       "    </tr>\n",
       "    <tr>\n",
       "      <th>1</th>\n",
       "      <td>1</td>\n",
       "      <td>1</td>\n",
       "      <td>Cumings, Mrs. John Bradley (Florence Briggs Th...</td>\n",
       "      <td>1</td>\n",
       "      <td>0</td>\n",
       "      <td>PC 17599</td>\n",
       "      <td>71.2833</td>\n",
       "      <td>2</td>\n",
       "      <td>0</td>\n",
       "    </tr>\n",
       "  </tbody>\n",
       "</table>\n",
       "</div>"
      ],
      "text/plain": [
       "   Survived  Pclass                                               Name  SibSp  \\\n",
       "0         0       3                            Braund, Mr. Owen Harris      1   \n",
       "1         1       1  Cumings, Mrs. John Bradley (Florence Briggs Th...      1   \n",
       "\n",
       "   Parch     Ticket     Fare  AgeBand  IsMale  \n",
       "0      0  A/5 21171   7.2500        1       1  \n",
       "1      0   PC 17599  71.2833        2       0  "
      ]
     },
     "execution_count": 28,
     "metadata": {},
     "output_type": "execute_result"
    }
   ],
   "source": [
    "dataset = pd.concat([train, test], sort=True)\n",
    "dataset['TicketFreq'] = dataset.groupby('Ticket')['Ticket'].transform('count')\n",
    "dataset['PassengerFare'] = dataset['Fare'] / dataset['TicketFreq']\n",
    "\n",
    "train.head(2)"
   ]
  },
  {
   "cell_type": "code",
   "execution_count": 29,
   "metadata": {
    "_uuid": "28064e0ff4c1cc6d41eb280b243e352f150bb73d"
   },
   "outputs": [
    {
     "data": {
      "image/png": "[encoded data removed]",
      "text/plain": [
       "<Figure size 432x288 with 1 Axes>"
      ]
     },
     "metadata": {},
     "output_type": "display_data"
    }
   ],
   "source": [
    "num_fare_bins = 3\n",
    "dataset['FareBand'], fare_bins = pd.qcut(dataset['PassengerFare'], num_fare_bins, retbins=True)\n",
    "_ = sns.countplot(x='FareBand', hue='Survived', data=dataset)\n",
    "_ = plt.xticks(rotation=30, ha='right')"
   ]
  },
  {
   "cell_type": "markdown",
   "metadata": {
    "_uuid": "30c5486c33570bbffcd1399bb56096977b7138d1"
   },
   "source": [
    "We see that as `Fare` increases, the survival rate also increases, awesome...well, it's also likely that this feature is highly related to `Pclass`, lower `Pclass` should translate to higher `PassengerFare`. "
   ]
  },
  {
   "cell_type": "code",
   "execution_count": 30,
   "metadata": {
    "_uuid": "ca59eb1e6ffa49a5095dc7739ec24f65a5804722",
    "scrolled": false
   },
   "outputs": [
    {
     "name": "stderr",
     "output_type": "stream",
     "text": [
      "/home/davidtvs/datascience/kaggle/Titanic/titanic-env/lib/python3.5/site-packages/seaborn/categorical.py:3666: UserWarning: The `factorplot` function has been renamed to `catplot`. The original name will be removed in a future release. Please update your code. Note that the default `kind` in `factorplot` (`'point'`) has changed `'strip'` in `catplot`.\n",
      "  warnings.warn(msg)\n"
     ]
    },
    {
     "data": {
      "image/png": "[encoded data removed]",
      "text/plain": [
       "<Figure size 1080x360 with 3 Axes>"
      ]
     },
     "metadata": {},
     "output_type": "display_data"
    }
   ],
   "source": [
    "# Plot relationship between FareBand and Pclass\n",
    "g = sns.factorplot(x='FareBand', col='Pclass', data=dataset, kind='count')\n",
    "_ = g.set_xticklabels(rotation=30, ha='right')"
   ]
  },
  {
   "cell_type": "markdown",
   "metadata": {
    "_uuid": "021949c67cf24eab8af8f692ad7719892d77d659"
   },
   "source": [
    "`FareBand` describes `Pclass` 1 and 2 almost perfectly. But why are there so many passengers with `Pclass = 3` tickets with fares expected for `Pclass = 2`? Let's compare the mean passenger fare and survival for passengers in 2nd and 3rd class in the same fare range (`(7.775, 13.0]`)."
   ]
  },
  {
   "cell_type": "code",
   "execution_count": 31,
   "metadata": {
    "_uuid": "94dc1bca700acd47f4ff7597328294971a0b842f",
    "scrolled": false
   },
   "outputs": [
    {
     "data": {
      "text/html": [
       "<div>\n",
       "<style scoped>\n",
       "    .dataframe tbody tr th:only-of-type {\n",
       "        vertical-align: middle;\n",
       "    }\n",
       "\n",
       "    .dataframe tbody tr th {\n",
       "        vertical-align: top;\n",
       "    }\n",
       "\n",
       "    .dataframe thead tr th {\n",
       "        text-align: left;\n",
       "    }\n",
       "\n",
       "    .dataframe thead tr:last-of-type th {\n",
       "        text-align: right;\n",
       "    }\n",
       "</style>\n",
       "<table border=\"1\" class=\"dataframe\">\n",
       "  <thead>\n",
       "    <tr>\n",
       "      <th></th>\n",
       "      <th></th>\n",
       "      <th>PassengerFare</th>\n",
       "    </tr>\n",
       "    <tr>\n",
       "      <th></th>\n",
       "      <th></th>\n",
       "      <th>mean</th>\n",
       "    </tr>\n",
       "    <tr>\n",
       "      <th>FareBand</th>\n",
       "      <th>Pclass</th>\n",
       "      <th></th>\n",
       "    </tr>\n",
       "  </thead>\n",
       "  <tbody>\n",
       "    <tr>\n",
       "      <th rowspan=\"2\" valign=\"top\">(7.775, 13.0]</th>\n",
       "      <th>2</th>\n",
       "      <td>11.648066</td>\n",
       "    </tr>\n",
       "    <tr>\n",
       "      <th>3</th>\n",
       "      <td>8.225494</td>\n",
       "    </tr>\n",
       "  </tbody>\n",
       "</table>\n",
       "</div>"
      ],
      "text/plain": [
       "                     PassengerFare\n",
       "                              mean\n",
       "FareBand      Pclass              \n",
       "(7.775, 13.0] 2          11.648066\n",
       "              3           8.225494"
      ]
     },
     "execution_count": 31,
     "metadata": {},
     "output_type": "execute_result"
    }
   ],
   "source": [
    "band = pd.Interval(left=7.775, right=13.0)\n",
    "mask = (dataset['FareBand'] == band) & (dataset['Pclass'] != 1)\n",
    "\n",
    "dataset.loc[mask, ['FareBand', 'Pclass', 'PassengerFare']].groupby(['FareBand', 'Pclass']).agg(['mean'])"
   ]
  },
  {
   "cell_type": "markdown",
   "metadata": {
    "_uuid": "7fd513036d4db6a0859309e8545709a9af2d4064"
   },
   "source": [
    "Despite belonging to the same fare band, 3rd class passengers paid on average less than 2nd class passengers. There is a clear boundary between the two, just not enough to segment them into different bands.  We can also check if there is any correlation between 3rd class passengers that paid higher fares and survival."
   ]
  },
  {
   "cell_type": "code",
   "execution_count": 32,
   "metadata": {
    "_uuid": "3c468edeefe8af17e95088482e66e1930acb368f",
    "scrolled": false
   },
   "outputs": [
    {
     "data": {
      "text/html": [
       "<div>\n",
       "<style scoped>\n",
       "    .dataframe tbody tr th:only-of-type {\n",
       "        vertical-align: middle;\n",
       "    }\n",
       "\n",
       "    .dataframe tbody tr th {\n",
       "        vertical-align: top;\n",
       "    }\n",
       "\n",
       "    .dataframe thead tr th {\n",
       "        text-align: left;\n",
       "    }\n",
       "\n",
       "    .dataframe thead tr:last-of-type th {\n",
       "        text-align: right;\n",
       "    }\n",
       "</style>\n",
       "<table border=\"1\" class=\"dataframe\">\n",
       "  <thead>\n",
       "    <tr>\n",
       "      <th></th>\n",
       "      <th></th>\n",
       "      <th>Survived</th>\n",
       "    </tr>\n",
       "    <tr>\n",
       "      <th></th>\n",
       "      <th></th>\n",
       "      <th>mean</th>\n",
       "    </tr>\n",
       "    <tr>\n",
       "      <th>FareBand</th>\n",
       "      <th>Pclass</th>\n",
       "      <th></th>\n",
       "    </tr>\n",
       "  </thead>\n",
       "  <tbody>\n",
       "    <tr>\n",
       "      <th>(-0.001, 7.775]</th>\n",
       "      <th>3</th>\n",
       "      <td>0.280142</td>\n",
       "    </tr>\n",
       "    <tr>\n",
       "      <th>(7.775, 13.0]</th>\n",
       "      <th>3</th>\n",
       "      <td>0.193237</td>\n",
       "    </tr>\n",
       "  </tbody>\n",
       "</table>\n",
       "</div>"
      ],
      "text/plain": [
       "                        Survived\n",
       "                            mean\n",
       "FareBand        Pclass          \n",
       "(-0.001, 7.775] 3       0.280142\n",
       "(7.775, 13.0]   3       0.193237"
      ]
     },
     "execution_count": 32,
     "metadata": {},
     "output_type": "execute_result"
    }
   ],
   "source": [
    "band1 = pd.Interval(left=0, right=7.775)\n",
    "band2 = pd.Interval(left=7.775, right=13.0)\n",
    "mask = ((dataset['FareBand'] == band1) | (dataset['FareBand'] == band2)) & (dataset['Pclass'] == 3)\n",
    "\n",
    "dataset.loc[mask, ['FareBand', 'Pclass', 'Survived']].groupby(['FareBand', 'Pclass']).agg(['mean'])"
   ]
  },
  {
   "cell_type": "markdown",
   "metadata": {
    "_uuid": "56757808b799a3c4317ead910e59dfc0ddb766dc"
   },
   "source": [
    "These results were quite surprising to me. Passengers that overpaid for their tickets shouldn't have substantially different chances of survival; and to make it even more surprising, those that overpaid have lower chances of survival. If we look at the other features and their relationship with these two groups we find something interesting about the distribution of children."
   ]
  },
  {
   "cell_type": "code",
   "execution_count": 33,
   "metadata": {
    "_uuid": "f97f837c0d1d4271c09650cbb59902b05a0baea5",
    "scrolled": false
   },
   "outputs": [
    {
     "data": {
      "text/html": [
       "<div>\n",
       "<style scoped>\n",
       "    .dataframe tbody tr th:only-of-type {\n",
       "        vertical-align: middle;\n",
       "    }\n",
       "\n",
       "    .dataframe tbody tr th {\n",
       "        vertical-align: top;\n",
       "    }\n",
       "\n",
       "    .dataframe thead tr th {\n",
       "        text-align: left;\n",
       "    }\n",
       "\n",
       "    .dataframe thead tr:last-of-type th {\n",
       "        text-align: right;\n",
       "    }\n",
       "</style>\n",
       "<table border=\"1\" class=\"dataframe\">\n",
       "  <thead>\n",
       "    <tr>\n",
       "      <th></th>\n",
       "      <th></th>\n",
       "      <th></th>\n",
       "      <th>AgeBand</th>\n",
       "    </tr>\n",
       "    <tr>\n",
       "      <th></th>\n",
       "      <th></th>\n",
       "      <th></th>\n",
       "      <th>value_counts</th>\n",
       "    </tr>\n",
       "    <tr>\n",
       "      <th>FareBand</th>\n",
       "      <th>Pclass</th>\n",
       "      <th>AgeBand</th>\n",
       "      <th></th>\n",
       "    </tr>\n",
       "  </thead>\n",
       "  <tbody>\n",
       "    <tr>\n",
       "      <th rowspan=\"4\" valign=\"top\">(-0.001, 7.775]</th>\n",
       "      <th rowspan=\"4\" valign=\"top\">3</th>\n",
       "      <th>0</th>\n",
       "      <td>83</td>\n",
       "    </tr>\n",
       "    <tr>\n",
       "      <th>1</th>\n",
       "      <td>239</td>\n",
       "    </tr>\n",
       "    <tr>\n",
       "      <th>2</th>\n",
       "      <td>79</td>\n",
       "    </tr>\n",
       "    <tr>\n",
       "      <th>3</th>\n",
       "      <td>20</td>\n",
       "    </tr>\n",
       "    <tr>\n",
       "      <th rowspan=\"4\" valign=\"top\">(7.775, 13.0]</th>\n",
       "      <th rowspan=\"4\" valign=\"top\">3</th>\n",
       "      <th>0</th>\n",
       "      <td>2</td>\n",
       "    </tr>\n",
       "    <tr>\n",
       "      <th>1</th>\n",
       "      <td>205</td>\n",
       "    </tr>\n",
       "    <tr>\n",
       "      <th>2</th>\n",
       "      <td>71</td>\n",
       "    </tr>\n",
       "    <tr>\n",
       "      <th>3</th>\n",
       "      <td>7</td>\n",
       "    </tr>\n",
       "  </tbody>\n",
       "</table>\n",
       "</div>"
      ],
      "text/plain": [
       "                                    AgeBand\n",
       "                               value_counts\n",
       "FareBand        Pclass AgeBand             \n",
       "(-0.001, 7.775] 3      0                 83\n",
       "                       1                239\n",
       "                       2                 79\n",
       "                       3                 20\n",
       "(7.775, 13.0]   3      0                  2\n",
       "                       1                205\n",
       "                       2                 71\n",
       "                       3                  7"
      ]
     },
     "execution_count": 33,
     "metadata": {},
     "output_type": "execute_result"
    }
   ],
   "source": [
    "dataset.loc[mask, ['FareBand', 'Pclass', 'AgeBand']].groupby(['FareBand', 'Pclass']).agg(['value_counts']).sort_index()"
   ]
  },
  {
   "cell_type": "markdown",
   "metadata": {
    "_uuid": "b40355f8e7e548e2ef49234568b33917ad16f064"
   },
   "source": [
    "There are 83 children (`AgeBand = 0`) with 3rd class ticket  in `FareBand = (-0.001, 7.775]` and only 2 in `FareBand = (7.775, 13.0]`. Given that children have ~60% survival rate, the lack of them in `FareBand = (7.775, 13.0]` compared to `FareBand = (-0.001, 7.775]`  explains the lower survival rate.\n",
    "\n",
    "We can also explain why some 3rd class passengers seem to have overpaid for their tickets...they didn't, the passengers in `FareBand = (-0.001, 7.775]` paid less because children had a discounted price lowering the passenger fare. and isolating them in `FareBand = (-0.001, 7.775]`.\n",
    "\n",
    "In conclusion, `Fare` is correlated with the other features, therefore, we'll drop it from our training and test datasets."
   ]
  },
  {
   "cell_type": "code",
   "execution_count": 34,
   "metadata": {
    "_uuid": "3be8acedc764c953a9b6d915e2077dde2ce9a4c5"
   },
   "outputs": [
    {
     "data": {
      "text/html": [
       "<div>\n",
       "<style scoped>\n",
       "    .dataframe tbody tr th:only-of-type {\n",
       "        vertical-align: middle;\n",
       "    }\n",
       "\n",
       "    .dataframe tbody tr th {\n",
       "        vertical-align: top;\n",
       "    }\n",
       "\n",
       "    .dataframe thead th {\n",
       "        text-align: right;\n",
       "    }\n",
       "</style>\n",
       "<table border=\"1\" class=\"dataframe\">\n",
       "  <thead>\n",
       "    <tr style=\"text-align: right;\">\n",
       "      <th></th>\n",
       "      <th>Survived</th>\n",
       "      <th>Pclass</th>\n",
       "      <th>Name</th>\n",
       "      <th>SibSp</th>\n",
       "      <th>Parch</th>\n",
       "      <th>Ticket</th>\n",
       "      <th>AgeBand</th>\n",
       "      <th>IsMale</th>\n",
       "    </tr>\n",
       "  </thead>\n",
       "  <tbody>\n",
       "    <tr>\n",
       "      <th>0</th>\n",
       "      <td>0</td>\n",
       "      <td>3</td>\n",
       "      <td>Braund, Mr. Owen Harris</td>\n",
       "      <td>1</td>\n",
       "      <td>0</td>\n",
       "      <td>A/5 21171</td>\n",
       "      <td>1</td>\n",
       "      <td>1</td>\n",
       "    </tr>\n",
       "    <tr>\n",
       "      <th>1</th>\n",
       "      <td>1</td>\n",
       "      <td>1</td>\n",
       "      <td>Cumings, Mrs. John Bradley (Florence Briggs Th...</td>\n",
       "      <td>1</td>\n",
       "      <td>0</td>\n",
       "      <td>PC 17599</td>\n",
       "      <td>2</td>\n",
       "      <td>0</td>\n",
       "    </tr>\n",
       "  </tbody>\n",
       "</table>\n",
       "</div>"
      ],
      "text/plain": [
       "   Survived  Pclass                                               Name  SibSp  \\\n",
       "0         0       3                            Braund, Mr. Owen Harris      1   \n",
       "1         1       1  Cumings, Mrs. John Bradley (Florence Briggs Th...      1   \n",
       "\n",
       "   Parch     Ticket  AgeBand  IsMale  \n",
       "0      0  A/5 21171        1       1  \n",
       "1      0   PC 17599        2       0  "
      ]
     },
     "execution_count": 34,
     "metadata": {},
     "output_type": "execute_result"
    }
   ],
   "source": [
    "train.drop(columns='Fare', inplace=True)\n",
    "test.drop(columns='Fare', inplace=True)\n",
    "\n",
    "train.head(2)"
   ]
  },
  {
   "cell_type": "markdown",
   "metadata": {
    "_uuid": "f849e17ea98fe4a8b2d78e960db6d7dfe5961689"
   },
   "source": [
    "# 4. Engineering Groups of Passengers <a class=\"anchor\" id=\"engineer\"></a>\n",
    "\n",
    "Many kernels have explored `SibSp` and `Parch` to engineer family related features. However, in recent months the top kernels have found that `SibSp` and `Parch` contain inconsistencies (see the excellent work by [Erik Bruin](https://www.kaggle.com/erikbruin/titanic-2nd-degree-families-and-majority-voting)) and that looking at groups of passengers travelling together instead of just families yields better results (see [Blood is thicker than water & friendship forever](https://www.kaggle.com/shunjiangxu/blood-is-thicker-than-water-friendship-forever), [Titanic \\[0.82\\] - \\[0.83\\]](https://www.kaggle.com/konstantinmasich/titanic-0-82-0-83), [Titanic using Name only \\[0.81818\\]](https://www.kaggle.com/cdeotte/titanic-using-name-only-0-81818/notebook), and [Titantic Mega Model - \\[0.84210\\]\n",
    "](https://www.kaggle.com/cdeotte/titantic-mega-model-0-84210) for some great work using groups of passengers).\n",
    "\n",
    "With this knowledge we are going to engineer four new features derived from groups of passengers:\n",
    "- `InGroup`: the passenger is traveling with other passengers or not;\n",
    "- `InWcg`: the passenger is a member of a woman-child group or not;\n",
    "- `WcgAllSurvived`: whether the members of the woman-child group all survived;\n",
    "- `WcgAllDied`: whether the members of the woman-child group all died.\n",
    "\n",
    "## 4.1 Identifying groups of passengers <a class=\"anchor\" id=\"identify-groups\"></a>\n",
    "\n",
    "To engineer these features we first have to define what's a group and identify which passengers belong to which group. Based on [Blood is thicker than water & friendship forever](https://www.kaggle.com/shunjiangxu/blood-is-thicker-than-water-friendship-forever) and [Titantic Mega Model - \\[0.84210\\]\n",
    "](https://www.kaggle.com/cdeotte/titantic-mega-model-0-84210) we are going to define a group as a set of passengers that all share at least one of the following conditions:\n",
    "1. Combination of: surname, PClass, ticket number (excluding the last digit), and embarked;\n",
    "2. Ticket number.\n",
    "\n",
    "The first condition will identify mostly families while the second will identify groups of friends that share the same ticket, including passengers travelling with families that are not part of the family."
   ]
  },
  {
   "cell_type": "code",
   "execution_count": 35,
   "metadata": {
    "_uuid": "8201ec979fe2cdbf04805b4bbc5f3a5609dc3274"
   },
   "outputs": [],
   "source": [
    "# Create the new feature for the whole dataset \n",
    "# (I am using _train and _test because train and test no longer contain 'Embarked')\n",
    "dataset = pd.concat([_train, _test], sort=True, ignore_index=True)"
   ]
  },
  {
   "cell_type": "markdown",
   "metadata": {
    "_uuid": "3c298d8d32270cef88d9c0c6c5590406c6a70916"
   },
   "source": [
    "### 4.1.1 Identifying groups by surname, Pclass, ticket number (excluding last digit), and embarked (SPTE) <a class=\"anchor\" id=\"spte\"></a>"
   ]
  },
  {
   "cell_type": "code",
   "execution_count": 36,
   "metadata": {
    "_uuid": "d771af75aa2c56873ec7874473d68c32979479e3",
    "scrolled": true
   },
   "outputs": [
    {
     "data": {
      "text/html": [
       "<div>\n",
       "<style scoped>\n",
       "    .dataframe tbody tr th:only-of-type {\n",
       "        vertical-align: middle;\n",
       "    }\n",
       "\n",
       "    .dataframe tbody tr th {\n",
       "        vertical-align: top;\n",
       "    }\n",
       "\n",
       "    .dataframe thead th {\n",
       "        text-align: right;\n",
       "    }\n",
       "</style>\n",
       "<table border=\"1\" class=\"dataframe\">\n",
       "  <thead>\n",
       "    <tr style=\"text-align: right;\">\n",
       "      <th></th>\n",
       "      <th>Age</th>\n",
       "      <th>Cabin</th>\n",
       "      <th>Embarked</th>\n",
       "      <th>Fare</th>\n",
       "      <th>Name</th>\n",
       "      <th>Parch</th>\n",
       "      <th>PassengerId</th>\n",
       "      <th>Pclass</th>\n",
       "      <th>Sex</th>\n",
       "      <th>SibSp</th>\n",
       "      <th>Survived</th>\n",
       "      <th>Ticket</th>\n",
       "      <th>GroupId</th>\n",
       "    </tr>\n",
       "  </thead>\n",
       "  <tbody>\n",
       "    <tr>\n",
       "      <th>1304</th>\n",
       "      <td>NaN</td>\n",
       "      <td>NaN</td>\n",
       "      <td>S</td>\n",
       "      <td>8.0500</td>\n",
       "      <td>Spector, Mr. Woolf</td>\n",
       "      <td>0</td>\n",
       "      <td>1305</td>\n",
       "      <td>3</td>\n",
       "      <td>male</td>\n",
       "      <td>0</td>\n",
       "      <td>NaN</td>\n",
       "      <td>A.5. 3236</td>\n",
       "      <td>0</td>\n",
       "    </tr>\n",
       "    <tr>\n",
       "      <th>1305</th>\n",
       "      <td>39.0</td>\n",
       "      <td>C105</td>\n",
       "      <td>C</td>\n",
       "      <td>108.9000</td>\n",
       "      <td>Oliva y Ocana, Dona. Fermina</td>\n",
       "      <td>0</td>\n",
       "      <td>1306</td>\n",
       "      <td>1</td>\n",
       "      <td>female</td>\n",
       "      <td>0</td>\n",
       "      <td>NaN</td>\n",
       "      <td>PC 17758</td>\n",
       "      <td>0</td>\n",
       "    </tr>\n",
       "    <tr>\n",
       "      <th>1306</th>\n",
       "      <td>38.5</td>\n",
       "      <td>NaN</td>\n",
       "      <td>S</td>\n",
       "      <td>7.2500</td>\n",
       "      <td>Saether, Mr. Simon Sivertsen</td>\n",
       "      <td>0</td>\n",
       "      <td>1307</td>\n",
       "      <td>3</td>\n",
       "      <td>male</td>\n",
       "      <td>0</td>\n",
       "      <td>NaN</td>\n",
       "      <td>SOTON/O.Q. 3101262</td>\n",
       "      <td>0</td>\n",
       "    </tr>\n",
       "    <tr>\n",
       "      <th>1307</th>\n",
       "      <td>NaN</td>\n",
       "      <td>NaN</td>\n",
       "      <td>S</td>\n",
       "      <td>8.0500</td>\n",
       "      <td>Ware, Mr. Frederick</td>\n",
       "      <td>0</td>\n",
       "      <td>1308</td>\n",
       "      <td>3</td>\n",
       "      <td>male</td>\n",
       "      <td>0</td>\n",
       "      <td>NaN</td>\n",
       "      <td>359309</td>\n",
       "      <td>0</td>\n",
       "    </tr>\n",
       "    <tr>\n",
       "      <th>1308</th>\n",
       "      <td>NaN</td>\n",
       "      <td>NaN</td>\n",
       "      <td>C</td>\n",
       "      <td>22.3583</td>\n",
       "      <td>Peter, Master. Michael J</td>\n",
       "      <td>1</td>\n",
       "      <td>1309</td>\n",
       "      <td>3</td>\n",
       "      <td>male</td>\n",
       "      <td>1</td>\n",
       "      <td>NaN</td>\n",
       "      <td>2668</td>\n",
       "      <td>129</td>\n",
       "    </tr>\n",
       "  </tbody>\n",
       "</table>\n",
       "</div>"
      ],
      "text/plain": [
       "       Age Cabin Embarked      Fare                          Name  Parch  \\\n",
       "1304   NaN   NaN        S    8.0500            Spector, Mr. Woolf      0   \n",
       "1305  39.0  C105        C  108.9000  Oliva y Ocana, Dona. Fermina      0   \n",
       "1306  38.5   NaN        S    7.2500  Saether, Mr. Simon Sivertsen      0   \n",
       "1307   NaN   NaN        S    8.0500           Ware, Mr. Frederick      0   \n",
       "1308   NaN   NaN        C   22.3583      Peter, Master. Michael J      1   \n",
       "\n",
       "      PassengerId  Pclass     Sex  SibSp  Survived              Ticket  \\\n",
       "1304         1305       3    male      0       NaN           A.5. 3236   \n",
       "1305         1306       1  female      0       NaN            PC 17758   \n",
       "1306         1307       3    male      0       NaN  SOTON/O.Q. 3101262   \n",
       "1307         1308       3    male      0       NaN              359309   \n",
       "1308         1309       3    male      1       NaN                2668   \n",
       "\n",
       "      GroupId  \n",
       "1304        0  \n",
       "1305        0  \n",
       "1306        0  \n",
       "1307        0  \n",
       "1308      129  "
      ]
     },
     "execution_count": 36,
     "metadata": {},
     "output_type": "execute_result"
    }
   ],
   "source": [
    "surname = dataset['Name'].apply(lambda x: x[:x.find(',')])\n",
    "ticket = dataset['Ticket'].apply(lambda x: x[:-1])\n",
    "\n",
    "dataset['SPTE'] = (surname.astype(str) + '-' + dataset['Pclass'].astype(str) + '-'\n",
    "           + ticket.astype(str) + '-' + dataset['Embarked'].astype(str))\n",
    "\n",
    "spte_count = dataset['SPTE'].value_counts(sort=False)\n",
    "\n",
    "def spte_group_lebeler(group):\n",
    "    group_elements = dataset.loc[dataset['SPTE'] == group, 'PassengerId']\n",
    "    if len(group_elements) == 1:\n",
    "        return 0\n",
    "    else:\n",
    "        return group_elements.min()\n",
    "\n",
    "dataset['GroupId'] = dataset['SPTE'].apply(spte_group_lebeler)\n",
    "dataset.drop(columns='SPTE', inplace=True)\n",
    "dataset.tail()"
   ]
  },
  {
   "cell_type": "markdown",
   "metadata": {
    "_uuid": "ba07384c87bc4f9c34259ce8b269932f9ac56ffe"
   },
   "source": [
    "\n",
    "### 4.1.2 Identifying groups by ticket number <a class=\"anchor\" id=\"ticket\"></a>"
   ]
  },
  {
   "cell_type": "code",
   "execution_count": 37,
   "metadata": {
    "_uuid": "9deba808c6be0b7957de0272c0861e7c3af08a71",
    "scrolled": true
   },
   "outputs": [
    {
     "data": {
      "text/html": [
       "<div>\n",
       "<style scoped>\n",
       "    .dataframe tbody tr th:only-of-type {\n",
       "        vertical-align: middle;\n",
       "    }\n",
       "\n",
       "    .dataframe tbody tr th {\n",
       "        vertical-align: top;\n",
       "    }\n",
       "\n",
       "    .dataframe thead th {\n",
       "        text-align: right;\n",
       "    }\n",
       "</style>\n",
       "<table border=\"1\" class=\"dataframe\">\n",
       "  <thead>\n",
       "    <tr style=\"text-align: right;\">\n",
       "      <th></th>\n",
       "      <th>Age</th>\n",
       "      <th>Cabin</th>\n",
       "      <th>Embarked</th>\n",
       "      <th>Fare</th>\n",
       "      <th>Name</th>\n",
       "      <th>Parch</th>\n",
       "      <th>PassengerId</th>\n",
       "      <th>Pclass</th>\n",
       "      <th>Sex</th>\n",
       "      <th>SibSp</th>\n",
       "      <th>Survived</th>\n",
       "      <th>Ticket</th>\n",
       "      <th>GroupId</th>\n",
       "    </tr>\n",
       "  </thead>\n",
       "  <tbody>\n",
       "    <tr>\n",
       "      <th>1304</th>\n",
       "      <td>NaN</td>\n",
       "      <td>NaN</td>\n",
       "      <td>S</td>\n",
       "      <td>8.0500</td>\n",
       "      <td>Spector, Mr. Woolf</td>\n",
       "      <td>0</td>\n",
       "      <td>1305</td>\n",
       "      <td>3</td>\n",
       "      <td>male</td>\n",
       "      <td>0</td>\n",
       "      <td>NaN</td>\n",
       "      <td>A.5. 3236</td>\n",
       "      <td>0</td>\n",
       "    </tr>\n",
       "    <tr>\n",
       "      <th>1305</th>\n",
       "      <td>39.0</td>\n",
       "      <td>C105</td>\n",
       "      <td>C</td>\n",
       "      <td>108.9000</td>\n",
       "      <td>Oliva y Ocana, Dona. Fermina</td>\n",
       "      <td>0</td>\n",
       "      <td>1306</td>\n",
       "      <td>1</td>\n",
       "      <td>female</td>\n",
       "      <td>0</td>\n",
       "      <td>NaN</td>\n",
       "      <td>PC 17758</td>\n",
       "      <td>308</td>\n",
       "    </tr>\n",
       "    <tr>\n",
       "      <th>1306</th>\n",
       "      <td>38.5</td>\n",
       "      <td>NaN</td>\n",
       "      <td>S</td>\n",
       "      <td>7.2500</td>\n",
       "      <td>Saether, Mr. Simon Sivertsen</td>\n",
       "      <td>0</td>\n",
       "      <td>1307</td>\n",
       "      <td>3</td>\n",
       "      <td>male</td>\n",
       "      <td>0</td>\n",
       "      <td>NaN</td>\n",
       "      <td>SOTON/O.Q. 3101262</td>\n",
       "      <td>0</td>\n",
       "    </tr>\n",
       "    <tr>\n",
       "      <th>1307</th>\n",
       "      <td>NaN</td>\n",
       "      <td>NaN</td>\n",
       "      <td>S</td>\n",
       "      <td>8.0500</td>\n",
       "      <td>Ware, Mr. Frederick</td>\n",
       "      <td>0</td>\n",
       "      <td>1308</td>\n",
       "      <td>3</td>\n",
       "      <td>male</td>\n",
       "      <td>0</td>\n",
       "      <td>NaN</td>\n",
       "      <td>359309</td>\n",
       "      <td>0</td>\n",
       "    </tr>\n",
       "    <tr>\n",
       "      <th>1308</th>\n",
       "      <td>NaN</td>\n",
       "      <td>NaN</td>\n",
       "      <td>C</td>\n",
       "      <td>22.3583</td>\n",
       "      <td>Peter, Master. Michael J</td>\n",
       "      <td>1</td>\n",
       "      <td>1309</td>\n",
       "      <td>3</td>\n",
       "      <td>male</td>\n",
       "      <td>1</td>\n",
       "      <td>NaN</td>\n",
       "      <td>2668</td>\n",
       "      <td>129</td>\n",
       "    </tr>\n",
       "  </tbody>\n",
       "</table>\n",
       "</div>"
      ],
      "text/plain": [
       "       Age Cabin Embarked      Fare                          Name  Parch  \\\n",
       "1304   NaN   NaN        S    8.0500            Spector, Mr. Woolf      0   \n",
       "1305  39.0  C105        C  108.9000  Oliva y Ocana, Dona. Fermina      0   \n",
       "1306  38.5   NaN        S    7.2500  Saether, Mr. Simon Sivertsen      0   \n",
       "1307   NaN   NaN        S    8.0500           Ware, Mr. Frederick      0   \n",
       "1308   NaN   NaN        C   22.3583      Peter, Master. Michael J      1   \n",
       "\n",
       "      PassengerId  Pclass     Sex  SibSp  Survived              Ticket  \\\n",
       "1304         1305       3    male      0       NaN           A.5. 3236   \n",
       "1305         1306       1  female      0       NaN            PC 17758   \n",
       "1306         1307       3    male      0       NaN  SOTON/O.Q. 3101262   \n",
       "1307         1308       3    male      0       NaN              359309   \n",
       "1308         1309       3    male      1       NaN                2668   \n",
       "\n",
       "      GroupId  \n",
       "1304        0  \n",
       "1305      308  \n",
       "1306        0  \n",
       "1307        0  \n",
       "1308      129  "
      ]
     },
     "execution_count": 37,
     "metadata": {},
     "output_type": "execute_result"
    }
   ],
   "source": [
    "# Groups that share the same ticket number\n",
    "def ticket_group_labeler(group):\n",
    "    unique_groups = group.unique()\n",
    "    if len(unique_groups) == 1:\n",
    "        return unique_groups[0]\n",
    "    elif len(unique_groups) == 2 and min(unique_groups) == 0:\n",
    "        return dataset.loc[group.index, 'PassengerId'].min()\n",
    "    else:\n",
    "        raise ValueError(\"Found conflict between SPTE and ticket grouping:\\n\\n{}\".format(dataset.loc[group.index]))\n",
    "\n",
    "dataset['GroupId'] = dataset.groupby('Ticket')['GroupId'].transform(ticket_group_labeler)\n",
    "dataset.tail()"
   ]
  },
  {
   "cell_type": "markdown",
   "metadata": {
    "_uuid": "4ba2ee66b18d1cefe677ca5a3002ef400636f41a"
   },
   "source": [
    "## 4.2 Engineer InGroup <a class=\"anchor\" id=\"ingroup\"></a>\n",
    "\n",
    "`InGroup` is `1` if the passenger is in a group (`GroupId` is not unique); otherwise is `0`."
   ]
  },
  {
   "cell_type": "code",
   "execution_count": 38,
   "metadata": {
    "_uuid": "1dd2d27121cd265b8778b4bfca84747c94d52ae3",
    "scrolled": false
   },
   "outputs": [
    {
     "data": {
      "text/plain": [
       "InGroup\n",
       "0    0.315175\n",
       "1    0.477454\n",
       "Name: Survived, dtype: float64"
      ]
     },
     "execution_count": 38,
     "metadata": {},
     "output_type": "execute_result"
    },
    {
     "data": {
      "image/png": "[encoded data removed]",
      "text/plain": [
       "<Figure size 432x288 with 1 Axes>"
      ]
     },
     "metadata": {},
     "output_type": "display_data"
    }
   ],
   "source": [
    "# Calculate the size of each group\n",
    "dataset['GroupSize'] = dataset.groupby('GroupId')['GroupId'].transform('count')\n",
    "dataset.loc[dataset['GroupId'] == 0, 'GroupSize'] = 1\n",
    "\n",
    "# InGroup is 1 for groups with more than one member\n",
    "dataset['InGroup'] = (dataset['GroupSize'] > 1).astype(int)\n",
    "\n",
    "# Add to the train and test datasets\n",
    "train['InGroup'] = dataset.iloc[:train_len, -1]\n",
    "test['InGroup'] = dataset.iloc[train_len:, -1].reset_index(drop=True)\n",
    "\n",
    "_ = sns.countplot(x='InGroup', hue='Survived', data=train)\n",
    "train.groupby('InGroup')['Survived'].mean()"
   ]
  },
  {
   "cell_type": "markdown",
   "metadata": {
    "_uuid": "192547df30d6b046f00b0f1d04776c2205578b98"
   },
   "source": [
    "## 4.3 Engineer InWcg <a class=\"anchor\" id=\"inwcg\"></a>\n",
    "\n",
    "Woman-child-groups are groups of passengers traveling together whose members are either females or boys (males with a `Master` title). Chris Deotte found that members of woman-child-groups are more likely to share the same fate than other groups. He presented the idea in [Titanic using Name only \\[0.81818\\]](https://www.kaggle.com/cdeotte/titanic-using-name-only-0-81818/notebook) and perfected the definition of these groups in [Titantic Mega Model - \\[0.84210\\]\n",
    "](https://www.kaggle.com/cdeotte/titantic-mega-model-0-84210).\n",
    "\n",
    "`InWcg` is `1` if the passenger is in a woman-child-group; otherwise is `0`."
   ]
  },
  {
   "cell_type": "code",
   "execution_count": 39,
   "metadata": {
    "_uuid": "ac6a886817baaae96bf487ae81a747025f4f35a9"
   },
   "outputs": [
    {
     "name": "stdout",
     "output_type": "stream",
     "text": [
      "Number of woman-child-groups found: 94\n",
      "Number of passengers in woman-child-groups: 257\n"
     ]
    }
   ],
   "source": [
    "# Get the titles of the passengers\n",
    "dataset['Title'] = dataset['Name'].apply(lambda x: x[x.find(', ') + 2:x.find('.')])\n",
    "\n",
    "# Create a mask to account only for females or boys in groups\n",
    "mask = (dataset['GroupId'] != 0) & ((dataset['Title'] == 'Master') | (dataset['Sex'] == 'female'))\n",
    "\n",
    "# Get the number of females and boys in each group, discard groups with only one member\n",
    "wcg_groups = dataset.loc[mask, 'GroupId'].value_counts()\n",
    "wcg_groups = wcg_groups[wcg_groups > 1]\n",
    "\n",
    "# Update the mask to discard groups with only one female or boy\n",
    "mask = mask & (dataset['GroupId'].isin(wcg_groups.index))\n",
    "\n",
    "# Create the new feature using the updated mask\n",
    "dataset['InWcg'] = 0\n",
    "dataset.loc[mask, 'InWcg'] = 1\n",
    "\n",
    "print(\"Number of woman-child-groups found:\", len(wcg_groups))\n",
    "print(\"Number of passengers in woman-child-groups:\", len(dataset.loc[dataset['InWcg'] == 1]))\n",
    "\n",
    "# Add to the train and test datasets\n",
    "train['InWcg'] = dataset.iloc[:train_len, -1]\n",
    "test['InWcg'] = dataset.iloc[train_len:, -1].reset_index(drop=True)"
   ]
  },
  {
   "cell_type": "markdown",
   "metadata": {
    "_uuid": "c2ecf393a1c3b8691e297e15608be08f15586d05"
   },
   "source": [
    "## 4.4 Engineer WcgAllSurvived <a class=\"anchor\" id=\"wcgallsurvived\"></a>\n",
    "\n",
    "For a given passenger in a woman-child-group, `WcgAllSurvived` is equal to `1` if all members of that group survived; otherwise is `0`. \n",
    "\n",
    "Note that passengers from the test set are ignored. `WcgAllSurvived` is based on the training set data only."
   ]
  },
  {
   "cell_type": "code",
   "execution_count": 40,
   "metadata": {
    "_uuid": "5d7093016152fb97e9d99ccb7d9dc1a8977c3e4b",
    "scrolled": true
   },
   "outputs": [
    {
     "name": "stderr",
     "output_type": "stream",
     "text": [
      "/home/davidtvs/datascience/kaggle/Titanic/titanic-env/lib/python3.5/site-packages/pandas/core/groupby/groupby.py:3652: RuntimeWarning: Mean of empty slice\n",
      "  wrapper = lambda x: func(x, *args, **kwargs)\n"
     ]
    }
   ],
   "source": [
    "dataset['WcgAllSurvived'] = dataset.loc[dataset['InWcg'] == 1].groupby('GroupId')['Survived'].transform(np.nanmean)\n",
    "\n",
    "# `np.nanmean` returns NaN for groups without survival information (test set only groups)\n",
    "# Replace the NaN with 0\n",
    "dataset.loc[dataset['WcgAllSurvived'].isna(), 'WcgAllSurvived'] = 0\n",
    "dataset['WcgAllSurvived'] = dataset['WcgAllSurvived'].astype(int)\n",
    "\n",
    "# Add to the train and test datasets\n",
    "train['WcgAllSurvived'] = dataset.iloc[:train_len, -1]\n",
    "test['WcgAllSurvived'] = dataset.iloc[train_len:, -1].reset_index(drop=True)"
   ]
  },
  {
   "cell_type": "markdown",
   "metadata": {
    "_uuid": "887f3df8958b82df5ef36e855cc271b40a9ae845"
   },
   "source": [
    "## 4.5 Engineer WcgAllDied <a class=\"anchor\" id=\"wcgalldied\"></a>\n",
    "\n",
    "`WcgAllDied` is just the opposite of `WcgAllSurvived`. For a given passenger in a woman-child-group, `WcgAllDied` is equal to `1` if all members of that group died; otherwise is `0`. "
   ]
  },
  {
   "cell_type": "code",
   "execution_count": 41,
   "metadata": {
    "_uuid": "5e3a10c6ba9e808cc4573e9a92bdb138976393d4"
   },
   "outputs": [
    {
     "name": "stderr",
     "output_type": "stream",
     "text": [
      "/home/davidtvs/datascience/kaggle/Titanic/titanic-env/lib/python3.5/site-packages/pandas/core/groupby/groupby.py:3652: RuntimeWarning: Mean of empty slice\n",
      "  wrapper = lambda x: func(x, *args, **kwargs)\n"
     ]
    }
   ],
   "source": [
    "dataset['WcgAllDied'] = (1 - dataset.loc[dataset['InWcg'] == 1].groupby('GroupId')['Survived'].transform(np.nanmean))\n",
    "\n",
    "# `np.nanmean` returns NaN for groups without survival information (test set only groups)\n",
    "# Replace the NaN with 0\n",
    "dataset.loc[dataset['WcgAllDied'].isna(), 'WcgAllDied'] = 0\n",
    "dataset['WcgAllDied'] = dataset['WcgAllDied'].astype(int)\n",
    "\n",
    "# Add to the train and test datasets\n",
    "train['WcgAllDied'] = dataset.iloc[:train_len, -1]\n",
    "test['WcgAllDied'] = dataset.iloc[train_len:, -1].reset_index(drop=True)"
   ]
  },
  {
   "cell_type": "markdown",
   "metadata": {
    "_uuid": "20cb641e0ac84133b90465b20a7135fc1b68c7b6"
   },
   "source": [
    "We can now drop `Name`, `SibSp`, `Parch`, and `Ticket` since we will no longer need them."
   ]
  },
  {
   "cell_type": "code",
   "execution_count": 42,
   "metadata": {
    "_uuid": "6bd116c8a17a2e987a68c00e542761dcd379ece3",
    "scrolled": true
   },
   "outputs": [],
   "source": [
    "train.drop(columns=['Name', 'SibSp', 'Parch', 'Ticket'], inplace=True)\n",
    "test.drop(columns=['Name', 'SibSp', 'Parch', 'Ticket'], inplace=True)"
   ]
  },
  {
   "cell_type": "markdown",
   "metadata": {
    "_uuid": "98fc76f497d037e5a8748d05f5cd11055016f097"
   },
   "source": [
    "# 5. Modeling <a class=\"anchor\" id=\"models\"></a>\n",
    "\n",
    "Let's check out our final datasets. The training set:"
   ]
  },
  {
   "cell_type": "code",
   "execution_count": 43,
   "metadata": {
    "_uuid": "b618a50cd4d27441865d8c6982b2e3ec8ad476e4"
   },
   "outputs": [
    {
     "data": {
      "text/html": [
       "<div>\n",
       "<style scoped>\n",
       "    .dataframe tbody tr th:only-of-type {\n",
       "        vertical-align: middle;\n",
       "    }\n",
       "\n",
       "    .dataframe tbody tr th {\n",
       "        vertical-align: top;\n",
       "    }\n",
       "\n",
       "    .dataframe thead th {\n",
       "        text-align: right;\n",
       "    }\n",
       "</style>\n",
       "<table border=\"1\" class=\"dataframe\">\n",
       "  <thead>\n",
       "    <tr style=\"text-align: right;\">\n",
       "      <th></th>\n",
       "      <th>Survived</th>\n",
       "      <th>Pclass</th>\n",
       "      <th>AgeBand</th>\n",
       "      <th>IsMale</th>\n",
       "      <th>InGroup</th>\n",
       "      <th>InWcg</th>\n",
       "      <th>WcgAllSurvived</th>\n",
       "      <th>WcgAllDied</th>\n",
       "    </tr>\n",
       "  </thead>\n",
       "  <tbody>\n",
       "    <tr>\n",
       "      <th>0</th>\n",
       "      <td>0</td>\n",
       "      <td>3</td>\n",
       "      <td>1</td>\n",
       "      <td>1</td>\n",
       "      <td>0</td>\n",
       "      <td>0</td>\n",
       "      <td>0</td>\n",
       "      <td>0</td>\n",
       "    </tr>\n",
       "    <tr>\n",
       "      <th>1</th>\n",
       "      <td>1</td>\n",
       "      <td>1</td>\n",
       "      <td>2</td>\n",
       "      <td>0</td>\n",
       "      <td>1</td>\n",
       "      <td>0</td>\n",
       "      <td>0</td>\n",
       "      <td>0</td>\n",
       "    </tr>\n",
       "    <tr>\n",
       "      <th>2</th>\n",
       "      <td>1</td>\n",
       "      <td>3</td>\n",
       "      <td>1</td>\n",
       "      <td>0</td>\n",
       "      <td>0</td>\n",
       "      <td>0</td>\n",
       "      <td>0</td>\n",
       "      <td>0</td>\n",
       "    </tr>\n",
       "    <tr>\n",
       "      <th>3</th>\n",
       "      <td>1</td>\n",
       "      <td>1</td>\n",
       "      <td>2</td>\n",
       "      <td>0</td>\n",
       "      <td>1</td>\n",
       "      <td>0</td>\n",
       "      <td>0</td>\n",
       "      <td>0</td>\n",
       "    </tr>\n",
       "    <tr>\n",
       "      <th>4</th>\n",
       "      <td>0</td>\n",
       "      <td>3</td>\n",
       "      <td>2</td>\n",
       "      <td>1</td>\n",
       "      <td>0</td>\n",
       "      <td>0</td>\n",
       "      <td>0</td>\n",
       "      <td>0</td>\n",
       "    </tr>\n",
       "  </tbody>\n",
       "</table>\n",
       "</div>"
      ],
      "text/plain": [
       "   Survived  Pclass  AgeBand  IsMale  InGroup  InWcg  WcgAllSurvived  \\\n",
       "0         0       3        1       1        0      0               0   \n",
       "1         1       1        2       0        1      0               0   \n",
       "2         1       3        1       0        0      0               0   \n",
       "3         1       1        2       0        1      0               0   \n",
       "4         0       3        2       1        0      0               0   \n",
       "\n",
       "   WcgAllDied  \n",
       "0           0  \n",
       "1           0  \n",
       "2           0  \n",
       "3           0  \n",
       "4           0  "
      ]
     },
     "execution_count": 43,
     "metadata": {},
     "output_type": "execute_result"
    }
   ],
   "source": [
    "train.head()"
   ]
  },
  {
   "cell_type": "markdown",
   "metadata": {
    "_uuid": "6f11db4595bb727f51d28bcbdc6fb549365ac221"
   },
   "source": [
    "The test set:"
   ]
  },
  {
   "cell_type": "code",
   "execution_count": 44,
   "metadata": {
    "_uuid": "f7fc2f69bda08615f5b6cabc83c26e09d887ee16"
   },
   "outputs": [
    {
     "data": {
      "text/html": [
       "<div>\n",
       "<style scoped>\n",
       "    .dataframe tbody tr th:only-of-type {\n",
       "        vertical-align: middle;\n",
       "    }\n",
       "\n",
       "    .dataframe tbody tr th {\n",
       "        vertical-align: top;\n",
       "    }\n",
       "\n",
       "    .dataframe thead th {\n",
       "        text-align: right;\n",
       "    }\n",
       "</style>\n",
       "<table border=\"1\" class=\"dataframe\">\n",
       "  <thead>\n",
       "    <tr style=\"text-align: right;\">\n",
       "      <th></th>\n",
       "      <th>Pclass</th>\n",
       "      <th>AgeBand</th>\n",
       "      <th>IsMale</th>\n",
       "      <th>InGroup</th>\n",
       "      <th>InWcg</th>\n",
       "      <th>WcgAllSurvived</th>\n",
       "      <th>WcgAllDied</th>\n",
       "    </tr>\n",
       "  </thead>\n",
       "  <tbody>\n",
       "    <tr>\n",
       "      <th>0</th>\n",
       "      <td>3</td>\n",
       "      <td>2</td>\n",
       "      <td>1</td>\n",
       "      <td>0</td>\n",
       "      <td>0</td>\n",
       "      <td>0</td>\n",
       "      <td>0</td>\n",
       "    </tr>\n",
       "    <tr>\n",
       "      <th>1</th>\n",
       "      <td>3</td>\n",
       "      <td>3</td>\n",
       "      <td>0</td>\n",
       "      <td>0</td>\n",
       "      <td>0</td>\n",
       "      <td>0</td>\n",
       "      <td>0</td>\n",
       "    </tr>\n",
       "    <tr>\n",
       "      <th>2</th>\n",
       "      <td>2</td>\n",
       "      <td>3</td>\n",
       "      <td>1</td>\n",
       "      <td>0</td>\n",
       "      <td>0</td>\n",
       "      <td>0</td>\n",
       "      <td>0</td>\n",
       "    </tr>\n",
       "    <tr>\n",
       "      <th>3</th>\n",
       "      <td>3</td>\n",
       "      <td>1</td>\n",
       "      <td>1</td>\n",
       "      <td>0</td>\n",
       "      <td>0</td>\n",
       "      <td>0</td>\n",
       "      <td>0</td>\n",
       "    </tr>\n",
       "    <tr>\n",
       "      <th>4</th>\n",
       "      <td>3</td>\n",
       "      <td>1</td>\n",
       "      <td>0</td>\n",
       "      <td>1</td>\n",
       "      <td>1</td>\n",
       "      <td>1</td>\n",
       "      <td>0</td>\n",
       "    </tr>\n",
       "  </tbody>\n",
       "</table>\n",
       "</div>"
      ],
      "text/plain": [
       "   Pclass  AgeBand  IsMale  InGroup  InWcg  WcgAllSurvived  WcgAllDied\n",
       "0       3        2       1        0      0               0           0\n",
       "1       3        3       0        0      0               0           0\n",
       "2       2        3       1        0      0               0           0\n",
       "3       3        1       1        0      0               0           0\n",
       "4       3        1       0        1      1               1           0"
      ]
     },
     "execution_count": 44,
     "metadata": {},
     "output_type": "execute_result"
    }
   ],
   "source": [
    "test.head()"
   ]
  },
  {
   "cell_type": "markdown",
   "metadata": {},
   "source": [
    "Split the dataset into training samples, training targets, and testing samples."
   ]
  },
  {
   "cell_type": "code",
   "execution_count": 45,
   "metadata": {
    "_uuid": "b8a271c2683552d5ab3fb4d46a5cc1c2a3ce62f7"
   },
   "outputs": [
    {
     "name": "stdout",
     "output_type": "stream",
     "text": [
      "Training samples shape: (891, 7)\n",
      "Training targets shape: (891,)\n",
      "Test samples shape: (418, 7)\n"
     ]
    }
   ],
   "source": [
    "# Split the training set into samples and targets\n",
    "X_train = np.array(train.drop(columns='Survived'))\n",
    "Y_train = np.array(train['Survived'].astype(int))\n",
    "\n",
    "# Test set samples to predict\n",
    "X_test = np.array(test)\n",
    "\n",
    "# Always important to check if the shapes agree with each other\n",
    "print(\"Training samples shape: {}\".format(X_train.shape))\n",
    "print(\"Training targets shape: {}\".format(Y_train.shape))\n",
    "print(\"Test samples shape: {}\".format(X_test.shape))"
   ]
  },
  {
   "cell_type": "markdown",
   "metadata": {},
   "source": [
    "`numpy.array` to `torch.Tensor` conversion and model definition."
   ]
  },
  {
   "cell_type": "code",
   "execution_count": 52,
   "metadata": {},
   "outputs": [],
   "source": [
    "# Convert the training data to Tensors\n",
    "X_train_t = torch.Tensor(X_train).cuda()\n",
    "Y_train_t = torch.Tensor(Y_train).unsqueeze_(-1).cuda()\n",
    "\n",
    "# Convert test samples to Tensor\n",
    "X_test_t = torch.Tensor(X_test).cuda()\n",
    "\n",
    "# Some useful variables for constructing the model\n",
    "in_dim = X_train_t.size(-1)\n",
    "hidden_dim = 12\n",
    "out_dim = 1\n",
    "\n",
    "def titanic_model():\n",
    "    model = torch.nn.Sequential(\n",
    "        torch.nn.Linear(in_dim, hidden_dim),\n",
    "        torch.nn.ReLU(),\n",
    "        torch.nn.Linear(hidden_dim, hidden_dim),\n",
    "        torch.nn.ReLU(),\n",
    "        torch.nn.Linear(hidden_dim, hidden_dim),\n",
    "        torch.nn.ReLU(),\n",
    "        torch.nn.Linear(hidden_dim, hidden_dim),\n",
    "        torch.nn.ReLU(),\n",
    "        torch.nn.Linear(hidden_dim, out_dim),\n",
    "        torch.nn.Sigmoid()\n",
    "    )\n",
    "    return model"
   ]
  },
  {
   "cell_type": "markdown",
   "metadata": {},
   "source": [
    "Construct our training loop"
   ]
  },
  {
   "cell_type": "code",
   "execution_count": 53,
   "metadata": {
    "scrolled": true
   },
   "outputs": [
    {
     "name": "stdout",
     "output_type": "stream",
     "text": [
      "Epoch   1/200: Loss=0.6772, Accuracy=0.6162\n",
      "Epoch   2/200: Loss=0.6769, Accuracy=0.6162\n",
      "Epoch   3/200: Loss=0.6766, Accuracy=0.6162\n",
      "Epoch   4/200: Loss=0.6763, Accuracy=0.6162\n",
      "Epoch   5/200: Loss=0.6760, Accuracy=0.6162\n",
      "Epoch   6/200: Loss=0.6757, Accuracy=0.6162\n",
      "Epoch   7/200: Loss=0.6754, Accuracy=0.6162\n",
      "Epoch   8/200: Loss=0.6751, Accuracy=0.6162\n",
      "Epoch   9/200: Loss=0.6748, Accuracy=0.6162\n",
      "Epoch  10/200: Loss=0.6745, Accuracy=0.6162\n",
      "Epoch  11/200: Loss=0.6742, Accuracy=0.6162\n",
      "Epoch  12/200: Loss=0.6740, Accuracy=0.6162\n",
      "Epoch  13/200: Loss=0.6737, Accuracy=0.6162\n",
      "Epoch  14/200: Loss=0.6734, Accuracy=0.6162\n",
      "Epoch  15/200: Loss=0.6731, Accuracy=0.6162\n",
      "Epoch  16/200: Loss=0.6728, Accuracy=0.6162\n",
      "Epoch  17/200: Loss=0.6725, Accuracy=0.6162\n",
      "Epoch  18/200: Loss=0.6723, Accuracy=0.6162\n",
      "Epoch  19/200: Loss=0.6720, Accuracy=0.6162\n",
      "Epoch  20/200: Loss=0.6717, Accuracy=0.6162\n",
      "Epoch  21/200: Loss=0.6714, Accuracy=0.6162\n",
      "Epoch  22/200: Loss=0.6712, Accuracy=0.6162\n",
      "Epoch  23/200: Loss=0.6709, Accuracy=0.6162\n",
      "Epoch  24/200: Loss=0.6706, Accuracy=0.6162\n",
      "Epoch  25/200: Loss=0.6704, Accuracy=0.6162\n",
      "Epoch  26/200: Loss=0.6701, Accuracy=0.6162\n",
      "Epoch  27/200: Loss=0.6699, Accuracy=0.6162\n",
      "Epoch  28/200: Loss=0.6698, Accuracy=0.6162\n",
      "Epoch  29/200: Loss=0.6695, Accuracy=0.6162\n",
      "Epoch  30/200: Loss=0.6693, Accuracy=0.6162\n",
      "Epoch  31/200: Loss=0.6691, Accuracy=0.6162\n",
      "Epoch  32/200: Loss=0.6689, Accuracy=0.6162\n",
      "Epoch  33/200: Loss=0.6687, Accuracy=0.6162\n",
      "Epoch  34/200: Loss=0.6684, Accuracy=0.6162\n",
      "Epoch  35/200: Loss=0.6682, Accuracy=0.6162\n",
      "Epoch  36/200: Loss=0.6680, Accuracy=0.6162\n",
      "Epoch  37/200: Loss=0.6677, Accuracy=0.6162\n",
      "Epoch  38/200: Loss=0.6675, Accuracy=0.6162\n",
      "Epoch  39/200: Loss=0.6672, Accuracy=0.6162\n",
      "Epoch  40/200: Loss=0.6670, Accuracy=0.6162\n",
      "Epoch  41/200: Loss=0.6667, Accuracy=0.6162\n",
      "Epoch  42/200: Loss=0.6665, Accuracy=0.6162\n",
      "Epoch  43/200: Loss=0.6663, Accuracy=0.6162\n",
      "Epoch  44/200: Loss=0.6661, Accuracy=0.6162\n",
      "Epoch  45/200: Loss=0.6658, Accuracy=0.6162\n",
      "Epoch  46/200: Loss=0.6656, Accuracy=0.6162\n",
      "Epoch  47/200: Loss=0.6653, Accuracy=0.6162\n",
      "Epoch  48/200: Loss=0.6651, Accuracy=0.6162\n",
      "Epoch  49/200: Loss=0.6648, Accuracy=0.6162\n",
      "Epoch  50/200: Loss=0.6646, Accuracy=0.6162\n",
      "Epoch  51/200: Loss=0.6643, Accuracy=0.6162\n",
      "Epoch  52/200: Loss=0.6641, Accuracy=0.6162\n",
      "Epoch  53/200: Loss=0.6638, Accuracy=0.6162\n",
      "Epoch  54/200: Loss=0.6635, Accuracy=0.6162\n",
      "Epoch  55/200: Loss=0.6632, Accuracy=0.6162\n",
      "Epoch  56/200: Loss=0.6628, Accuracy=0.6162\n",
      "Epoch  57/200: Loss=0.6624, Accuracy=0.6162\n",
      "Epoch  58/200: Loss=0.6619, Accuracy=0.6162\n",
      "Epoch  59/200: Loss=0.6615, Accuracy=0.6162\n",
      "Epoch  60/200: Loss=0.6609, Accuracy=0.6162\n",
      "Epoch  61/200: Loss=0.6604, Accuracy=0.6162\n",
      "Epoch  62/200: Loss=0.6599, Accuracy=0.6162\n",
      "Epoch  63/200: Loss=0.6594, Accuracy=0.6162\n",
      "Epoch  64/200: Loss=0.6589, Accuracy=0.6162\n",
      "Epoch  65/200: Loss=0.6585, Accuracy=0.6162\n",
      "Epoch  66/200: Loss=0.6581, Accuracy=0.6162\n",
      "Epoch  67/200: Loss=0.6576, Accuracy=0.6162\n",
      "Epoch  68/200: Loss=0.6572, Accuracy=0.6162\n",
      "Epoch  69/200: Loss=0.6567, Accuracy=0.6162\n",
      "Epoch  70/200: Loss=0.6563, Accuracy=0.6162\n",
      "Epoch  71/200: Loss=0.6558, Accuracy=0.6162\n",
      "Epoch  72/200: Loss=0.6554, Accuracy=0.6162\n",
      "Epoch  73/200: Loss=0.6549, Accuracy=0.6162\n",
      "Epoch  74/200: Loss=0.6544, Accuracy=0.6162\n",
      "Epoch  75/200: Loss=0.6539, Accuracy=0.6162\n",
      "Epoch  76/200: Loss=0.6534, Accuracy=0.6162\n",
      "Epoch  77/200: Loss=0.6528, Accuracy=0.6162\n",
      "Epoch  78/200: Loss=0.6523, Accuracy=0.6162\n",
      "Epoch  79/200: Loss=0.6517, Accuracy=0.6162\n",
      "Epoch  80/200: Loss=0.6511, Accuracy=0.6162\n",
      "Epoch  81/200: Loss=0.6505, Accuracy=0.6162\n",
      "Epoch  82/200: Loss=0.6499, Accuracy=0.6162\n",
      "Epoch  83/200: Loss=0.6492, Accuracy=0.6162\n",
      "Epoch  84/200: Loss=0.6486, Accuracy=0.6162\n",
      "Epoch  85/200: Loss=0.6479, Accuracy=0.6162\n",
      "Epoch  86/200: Loss=0.6472, Accuracy=0.6162\n",
      "Epoch  87/200: Loss=0.6464, Accuracy=0.6162\n",
      "Epoch  88/200: Loss=0.6457, Accuracy=0.6162\n",
      "Epoch  89/200: Loss=0.6449, Accuracy=0.6162\n",
      "Epoch  90/200: Loss=0.6441, Accuracy=0.6162\n",
      "Epoch  91/200: Loss=0.6433, Accuracy=0.6162\n",
      "Epoch  92/200: Loss=0.6424, Accuracy=0.6162\n",
      "Epoch  93/200: Loss=0.6414, Accuracy=0.6162\n",
      "Epoch  94/200: Loss=0.6404, Accuracy=0.6162\n",
      "Epoch  95/200: Loss=0.6394, Accuracy=0.6162\n",
      "Epoch  96/200: Loss=0.6383, Accuracy=0.6162\n",
      "Epoch  97/200: Loss=0.6372, Accuracy=0.6162\n",
      "Epoch  98/200: Loss=0.6360, Accuracy=0.6162\n",
      "Epoch  99/200: Loss=0.6347, Accuracy=0.6162\n",
      "Epoch 100/200: Loss=0.6335, Accuracy=0.6162\n",
      "Epoch 101/200: Loss=0.6322, Accuracy=0.6162\n",
      "Epoch 102/200: Loss=0.6310, Accuracy=0.6162\n",
      "Epoch 103/200: Loss=0.6296, Accuracy=0.6162\n",
      "Epoch 104/200: Loss=0.6283, Accuracy=0.6162\n",
      "Epoch 105/200: Loss=0.6269, Accuracy=0.6162\n",
      "Epoch 106/200: Loss=0.6255, Accuracy=0.6162\n",
      "Epoch 107/200: Loss=0.6240, Accuracy=0.6162\n",
      "Epoch 108/200: Loss=0.6225, Accuracy=0.6162\n",
      "Epoch 109/200: Loss=0.6210, Accuracy=0.6162\n",
      "Epoch 110/200: Loss=0.6195, Accuracy=0.6162\n",
      "Epoch 111/200: Loss=0.6179, Accuracy=0.6162\n",
      "Epoch 112/200: Loss=0.6163, Accuracy=0.6162\n",
      "Epoch 113/200: Loss=0.6146, Accuracy=0.6162\n",
      "Epoch 114/200: Loss=0.6128, Accuracy=0.6162\n",
      "Epoch 115/200: Loss=0.6110, Accuracy=0.6162\n",
      "Epoch 116/200: Loss=0.6092, Accuracy=0.6162\n",
      "Epoch 117/200: Loss=0.6073, Accuracy=0.6162\n",
      "Epoch 118/200: Loss=0.6055, Accuracy=0.6162\n",
      "Epoch 119/200: Loss=0.6035, Accuracy=0.6162\n",
      "Epoch 120/200: Loss=0.6016, Accuracy=0.6162\n",
      "Epoch 121/200: Loss=0.5996, Accuracy=0.6162\n",
      "Epoch 122/200: Loss=0.5976, Accuracy=0.6162\n",
      "Epoch 123/200: Loss=0.5955, Accuracy=0.6162\n",
      "Epoch 124/200: Loss=0.5935, Accuracy=0.6162\n",
      "Epoch 125/200: Loss=0.5913, Accuracy=0.6162\n",
      "Epoch 126/200: Loss=0.5892, Accuracy=0.6162\n",
      "Epoch 127/200: Loss=0.5870, Accuracy=0.6162\n",
      "Epoch 128/200: Loss=0.5847, Accuracy=0.6162\n",
      "Epoch 129/200: Loss=0.5825, Accuracy=0.6162\n",
      "Epoch 130/200: Loss=0.5803, Accuracy=0.6162\n",
      "Epoch 131/200: Loss=0.5781, Accuracy=0.6162\n",
      "Epoch 132/200: Loss=0.5759, Accuracy=0.6162\n",
      "Epoch 133/200: Loss=0.5737, Accuracy=0.6162\n",
      "Epoch 134/200: Loss=0.5715, Accuracy=0.6162\n",
      "Epoch 135/200: Loss=0.5692, Accuracy=0.6162\n",
      "Epoch 136/200: Loss=0.5670, Accuracy=0.6162\n",
      "Epoch 137/200: Loss=0.5648, Accuracy=0.6162\n",
      "Epoch 138/200: Loss=0.5626, Accuracy=0.6162\n",
      "Epoch 139/200: Loss=0.5604, Accuracy=0.6162\n",
      "Epoch 140/200: Loss=0.5581, Accuracy=0.6162\n",
      "Epoch 141/200: Loss=0.5559, Accuracy=0.6162\n",
      "Epoch 142/200: Loss=0.5536, Accuracy=0.6162\n",
      "Epoch 143/200: Loss=0.5514, Accuracy=0.6308\n",
      "Epoch 144/200: Loss=0.5492, Accuracy=0.6599\n",
      "Epoch 145/200: Loss=0.5470, Accuracy=0.6700\n",
      "Epoch 146/200: Loss=0.5448, Accuracy=0.6846\n",
      "Epoch 147/200: Loss=0.5426, Accuracy=0.6835\n",
      "Epoch 148/200: Loss=0.5403, Accuracy=0.6891\n",
      "Epoch 149/200: Loss=0.5381, Accuracy=0.6891\n",
      "Epoch 150/200: Loss=0.5357, Accuracy=0.6992\n",
      "Epoch 151/200: Loss=0.5334, Accuracy=0.7138\n",
      "Epoch 152/200: Loss=0.5310, Accuracy=0.7138\n",
      "Epoch 153/200: Loss=0.5285, Accuracy=0.7138\n",
      "Epoch 154/200: Loss=0.5261, Accuracy=0.7138\n",
      "Epoch 155/200: Loss=0.5236, Accuracy=0.7329\n",
      "Epoch 156/200: Loss=0.5211, Accuracy=0.7329\n",
      "Epoch 157/200: Loss=0.5186, Accuracy=0.7497\n",
      "Epoch 158/200: Loss=0.5159, Accuracy=0.7587\n",
      "Epoch 159/200: Loss=0.5133, Accuracy=0.7710\n",
      "Epoch 160/200: Loss=0.5106, Accuracy=0.7845\n",
      "Epoch 161/200: Loss=0.5078, Accuracy=0.7845\n",
      "Epoch 162/200: Loss=0.5051, Accuracy=0.7845\n",
      "Epoch 163/200: Loss=0.5024, Accuracy=0.7957\n",
      "Epoch 164/200: Loss=0.4996, Accuracy=0.8103\n",
      "Epoch 165/200: Loss=0.4969, Accuracy=0.8148\n",
      "Epoch 166/200: Loss=0.4941, Accuracy=0.8159\n",
      "Epoch 167/200: Loss=0.4914, Accuracy=0.8159\n",
      "Epoch 168/200: Loss=0.4885, Accuracy=0.8159\n",
      "Epoch 169/200: Loss=0.4856, Accuracy=0.8328\n",
      "Epoch 170/200: Loss=0.4828, Accuracy=0.8328\n",
      "Epoch 171/200: Loss=0.4800, Accuracy=0.8328\n",
      "Epoch 172/200: Loss=0.4772, Accuracy=0.8328\n",
      "Epoch 173/200: Loss=0.4744, Accuracy=0.8328\n",
      "Epoch 174/200: Loss=0.4717, Accuracy=0.8373\n",
      "Epoch 175/200: Loss=0.4690, Accuracy=0.8373\n",
      "Epoch 176/200: Loss=0.4664, Accuracy=0.8373\n",
      "Epoch 177/200: Loss=0.4640, Accuracy=0.8575\n",
      "Epoch 178/200: Loss=0.4615, Accuracy=0.8575\n",
      "Epoch 179/200: Loss=0.4591, Accuracy=0.8575\n",
      "Epoch 180/200: Loss=0.4567, Accuracy=0.8575\n",
      "Epoch 181/200: Loss=0.4544, Accuracy=0.8575\n",
      "Epoch 182/200: Loss=0.4521, Accuracy=0.8575\n",
      "Epoch 183/200: Loss=0.4499, Accuracy=0.8563\n",
      "Epoch 184/200: Loss=0.4477, Accuracy=0.8563\n",
      "Epoch 185/200: Loss=0.4456, Accuracy=0.8563\n",
      "Epoch 186/200: Loss=0.4434, Accuracy=0.8563\n",
      "Epoch 187/200: Loss=0.4412, Accuracy=0.8586\n",
      "Epoch 188/200: Loss=0.4391, Accuracy=0.8608\n",
      "Epoch 189/200: Loss=0.4369, Accuracy=0.8608\n",
      "Epoch 190/200: Loss=0.4347, Accuracy=0.8608\n",
      "Epoch 191/200: Loss=0.4326, Accuracy=0.8620\n",
      "Epoch 192/200: Loss=0.4304, Accuracy=0.8620\n",
      "Epoch 193/200: Loss=0.4282, Accuracy=0.8620\n",
      "Epoch 194/200: Loss=0.4260, Accuracy=0.8620\n",
      "Epoch 195/200: Loss=0.4238, Accuracy=0.8608\n",
      "Epoch 196/200: Loss=0.4217, Accuracy=0.8608\n",
      "Epoch 197/200: Loss=0.4195, Accuracy=0.8608\n",
      "Epoch 198/200: Loss=0.4173, Accuracy=0.8620\n",
      "Epoch 199/200: Loss=0.4152, Accuracy=0.8620\n",
      "Epoch 200/200: Loss=0.4131, Accuracy=0.8620\n"
     ]
    }
   ],
   "source": [
    "# Get the model\n",
    "model = titanic_model().cuda()\n",
    "\n",
    "# Define the loss function - we are dealing with a classification task with two classes\n",
    "# binary cross-entropy (BCE) is therefore the most appropriate loss function\n",
    "loss_fn = torch.nn.BCELoss()\n",
    "\n",
    "# Define the optiomization algorithm - Adam is what I default to but we can and should try others\n",
    "optimizer = torch.optim.Adam(model.parameters())\n",
    "\n",
    "# Training loop\n",
    "epochs = 200\n",
    "for t in range(epochs):\n",
    "    # Forward pass: Compute predicted y by passing x to the model\n",
    "    Y_pred_t = model(X_train_t)\n",
    "    \n",
    "    # Compute and print loss\n",
    "    loss = loss_fn(Y_pred_t, Y_train_t)\n",
    "\n",
    "    # Zero gradients, perform a backward pass, and update the weights.\n",
    "    optimizer.zero_grad()\n",
    "    loss.backward()\n",
    "    optimizer.step()\n",
    "    \n",
    "    acc = torch.eq(Y_train_t, Y_pred_t.round_()).cpu().float().mean().numpy()\n",
    "    \n",
    "    print(\"Epoch {0:>{2}}/{1}: Loss={3:.4f}, Accuracy={4:.4f}\"\n",
    "          .format(t + 1, epochs, len(str(epochs)), loss.item(), acc))"
   ]
  },
  {
   "cell_type": "markdown",
   "metadata": {},
   "source": [
    "# 6. Predictions and submission <a class=\"anchor\" id=\"submission\"></a>"
   ]
  },
  {
   "cell_type": "code",
   "execution_count": 62,
   "metadata": {},
   "outputs": [],
   "source": [
    "# Prediction\n",
    "prediction = model(X_test_t).cpu().detach().round_().numpy().flatten()\n",
    "\n",
    "# Submission\n",
    "submission_df = pd.DataFrame({'PassengerId': _test['PassengerId'], 'Survived': prediction})\n",
    "submission_df.to_csv(\"submission.csv\", index=False)\n",
    "\n",
    "# Storing the datasets\n",
    "train.to_csv(\"submission_train.csv\", index=False)\n",
    "test.to_csv(\"submission_test.csv\", index=False)"
   ]
  },
  {
   "cell_type": "code",
   "execution_count": null,
   "metadata": {},
   "outputs": [],
   "source": []
  }
 ],
 "metadata": {
  "kernelspec": {
   "display_name": "Titanic-p3",
   "language": "python",
   "name": "titanic-env"
  },
  "language_info": {
   "codemirror_mode": {
    "name": "ipython",
    "version": 3
   },
   "file_extension": ".py",
   "mimetype": "text/x-python",
   "name": "python",
   "nbconvert_exporter": "python",
   "pygments_lexer": "ipython3",
   "version": "3.5.2"
  }
 },
 "nbformat": 4,
 "nbformat_minor": 1
}
