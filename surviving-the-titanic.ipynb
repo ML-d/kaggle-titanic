{
 "cells": [
  {
   "cell_type": "markdown",
   "metadata": {},
   "source": [
    "# Table of Contents\n",
    "\n",
    "* [1. Introduction](#introduction)\n",
    "* [2. Loading the Data](#loading-data)\n",
    "* [3. Data Analysis](#data-analysis)\n",
    "    * [3.1 Missing Data](#missing-data)\n",
    "    * [3.2 Age](#age)\n",
    "        * [3.2.1 Filling missing Age values](#fill-age)\n",
    "    * [3.3 Sex](#sex)\n",
    "    * [3.4 Ticket class (Pclass)](#pclass)\n",
    "    * [3.5 Port of Embarkation (Embarked)](#embarked)\n",
    "    * [3.6 Fare](#fare)\n",
    "* [4. Engineering Groups of Passengers](#engineer)\n",
    "    * [4.1 Identifying groups of passengers](#identify-groups)\n",
    "        * [4.1.1 Identifying groups by surname, PClass, ticket number (excluding last digit), and embarked (SPTE)](#spte)\n",
    "        * [4.1.2 Identifying groups by ticket number](#ticket)\n",
    "    * [4.2 Engineer InGroup](#ingroup)\n",
    "    * [4.3 Engineer InWcg](#inwcg)\n",
    "    * [4.4 Engineer WcgAllSurvived](#wcgallsurvived)\n",
    "    * [4.5 Engineer WcgAllDied](#wcgalldied)\n",
    "* [5. Modeling](#models)\n",
    "    * [5.1 Cross-validation](#cv)\n",
    "    * [5.2 Tunning hyper-parameters](#tuning)\n",
    "        * [5.2.1 Logistic Regression](#logreg)\n",
    "        * [5.2.2 SVC](#svc)\n",
    "        * [5.2.3 K-nearest neighbors](#knn)\n",
    "        * [5.2.4 Ada Boost](#ada)\n",
    "        * [5.2.5 Extra Trees](#extra-trees)\n",
    "    * [5.3 Ensemble modeling](#ensemble)\n",
    "* [6. Predictions and submission](#submission)"
   ]
  },
  {
   "cell_type": "markdown",
   "metadata": {},
   "source": [
    "#  1. Introduction <a class=\"anchor\" id=\"introduction\"></a>\n",
    "\n",
    "As a newbie to datascience and a newcomer to Kaggle this is my first competition and kernel. *Titanic: Machine Learning from Disaster* seemed like the perfect competition to start with given the large amount of kernels that cover many of the skills I want to learn. Besides knowledge, those kernels were a source of inspiration and motivation as I was writing my own."
   ]
  },
  {
   "cell_type": "code",
   "execution_count": 1,
   "metadata": {
    "_cell_guid": "b1076dfc-b9ad-4769-8c92-a6c4dae69d19",
    "_uuid": "8f2839f25d086af736a60e9eeb907d3b93b6e0e5"
   },
   "outputs": [],
   "source": [
    "import numpy as np\n",
    "import pandas as pd\n",
    "\n",
    "import matplotlib.pyplot as plt\n",
    "import seaborn as sns\n",
    "\n",
    "from sklearn.cluster import KMeans\n",
    "from sklearn.preprocessing import StandardScaler\n",
    "from sklearn.tree import DecisionTreeClassifier\n",
    "from sklearn.ensemble import RandomForestClassifier\n",
    "from sklearn.ensemble import ExtraTreesClassifier\n",
    "from sklearn.ensemble import AdaBoostClassifier\n",
    "from sklearn.linear_model import LogisticRegression\n",
    "from sklearn.neighbors import KNeighborsClassifier\n",
    "from sklearn.svm import SVC\n",
    "from sklearn.ensemble import GradientBoostingClassifier\n",
    "from sklearn.ensemble import VotingClassifier\n",
    "from sklearn.model_selection import cross_val_score\n",
    "from sklearn.model_selection import GridSearchCV\n",
    "from sklearn.model_selection import RandomizedSearchCV\n",
    "from sklearn.metrics import jaccard_similarity_score\n",
    "\n",
    "from scipy.stats import randint, uniform\n",
    "\n",
    "from xgboost import XGBClassifier\n",
    "\n",
    "import warnings\n",
    "\n",
    "\n",
    "# Silence pesky deprecation warnings from sklearn\n",
    "warnings.filterwarnings(module='sklearn*', action='ignore', category=DeprecationWarning)\n",
    "sns.set_palette('deep')\n",
    "random_state = 1"
   ]
  },
  {
   "cell_type": "markdown",
   "metadata": {
    "_uuid": "0d519ea8dbbbdbbca502c07371a953198b8f4d5d"
   },
   "source": [
    "# 2. Loading the Data <a class=\"anchor\" id=\"loading-data\"></a>"
   ]
  },
  {
   "cell_type": "code",
   "execution_count": 2,
   "metadata": {
    "_cell_guid": "79c7e3d0-c299-4dcb-8224-4455121ee9b0",
    "_uuid": "d629ff2d2480ee46fbb7e2d37f6b5fab8052498a"
   },
   "outputs": [],
   "source": [
    "_train = pd.read_csv(\"train.csv\")\n",
    "_test = pd.read_csv(\"test.csv\")\n",
    "\n",
    "# Make a copy to be modified\n",
    "train = _train.copy()\n",
    "test = _test.copy()"
   ]
  },
  {
   "cell_type": "code",
   "execution_count": 3,
   "metadata": {
    "_uuid": "b370456d488b17888ee938ae8d4a843d2ba4fd96"
   },
   "outputs": [
    {
     "name": "stdout",
     "output_type": "stream",
     "text": [
      "Training dataset size = 891\n"
     ]
    },
    {
     "data": {
      "text/html": [
       "<div>\n",
       "<style scoped>\n",
       "    .dataframe tbody tr th:only-of-type {\n",
       "        vertical-align: middle;\n",
       "    }\n",
       "\n",
       "    .dataframe tbody tr th {\n",
       "        vertical-align: top;\n",
       "    }\n",
       "\n",
       "    .dataframe thead th {\n",
       "        text-align: right;\n",
       "    }\n",
       "</style>\n",
       "<table border=\"1\" class=\"dataframe\">\n",
       "  <thead>\n",
       "    <tr style=\"text-align: right;\">\n",
       "      <th></th>\n",
       "      <th>PassengerId</th>\n",
       "      <th>Survived</th>\n",
       "      <th>Pclass</th>\n",
       "      <th>Name</th>\n",
       "      <th>Sex</th>\n",
       "      <th>Age</th>\n",
       "      <th>SibSp</th>\n",
       "      <th>Parch</th>\n",
       "      <th>Ticket</th>\n",
       "      <th>Fare</th>\n",
       "      <th>Cabin</th>\n",
       "      <th>Embarked</th>\n",
       "    </tr>\n",
       "  </thead>\n",
       "  <tbody>\n",
       "    <tr>\n",
       "      <th>0</th>\n",
       "      <td>1</td>\n",
       "      <td>0</td>\n",
       "      <td>3</td>\n",
       "      <td>Braund, Mr. Owen Harris</td>\n",
       "      <td>male</td>\n",
       "      <td>22.0</td>\n",
       "      <td>1</td>\n",
       "      <td>0</td>\n",
       "      <td>A/5 21171</td>\n",
       "      <td>7.2500</td>\n",
       "      <td>NaN</td>\n",
       "      <td>S</td>\n",
       "    </tr>\n",
       "    <tr>\n",
       "      <th>1</th>\n",
       "      <td>2</td>\n",
       "      <td>1</td>\n",
       "      <td>1</td>\n",
       "      <td>Cumings, Mrs. John Bradley (Florence Briggs Th...</td>\n",
       "      <td>female</td>\n",
       "      <td>38.0</td>\n",
       "      <td>1</td>\n",
       "      <td>0</td>\n",
       "      <td>PC 17599</td>\n",
       "      <td>71.2833</td>\n",
       "      <td>C85</td>\n",
       "      <td>C</td>\n",
       "    </tr>\n",
       "    <tr>\n",
       "      <th>2</th>\n",
       "      <td>3</td>\n",
       "      <td>1</td>\n",
       "      <td>3</td>\n",
       "      <td>Heikkinen, Miss. Laina</td>\n",
       "      <td>female</td>\n",
       "      <td>26.0</td>\n",
       "      <td>0</td>\n",
       "      <td>0</td>\n",
       "      <td>STON/O2. 3101282</td>\n",
       "      <td>7.9250</td>\n",
       "      <td>NaN</td>\n",
       "      <td>S</td>\n",
       "    </tr>\n",
       "    <tr>\n",
       "      <th>3</th>\n",
       "      <td>4</td>\n",
       "      <td>1</td>\n",
       "      <td>1</td>\n",
       "      <td>Futrelle, Mrs. Jacques Heath (Lily May Peel)</td>\n",
       "      <td>female</td>\n",
       "      <td>35.0</td>\n",
       "      <td>1</td>\n",
       "      <td>0</td>\n",
       "      <td>113803</td>\n",
       "      <td>53.1000</td>\n",
       "      <td>C123</td>\n",
       "      <td>S</td>\n",
       "    </tr>\n",
       "    <tr>\n",
       "      <th>4</th>\n",
       "      <td>5</td>\n",
       "      <td>0</td>\n",
       "      <td>3</td>\n",
       "      <td>Allen, Mr. William Henry</td>\n",
       "      <td>male</td>\n",
       "      <td>35.0</td>\n",
       "      <td>0</td>\n",
       "      <td>0</td>\n",
       "      <td>373450</td>\n",
       "      <td>8.0500</td>\n",
       "      <td>NaN</td>\n",
       "      <td>S</td>\n",
       "    </tr>\n",
       "  </tbody>\n",
       "</table>\n",
       "</div>"
      ],
      "text/plain": [
       "   PassengerId  Survived  Pclass  \\\n",
       "0            1         0       3   \n",
       "1            2         1       1   \n",
       "2            3         1       3   \n",
       "3            4         1       1   \n",
       "4            5         0       3   \n",
       "\n",
       "                                                Name     Sex   Age  SibSp  \\\n",
       "0                            Braund, Mr. Owen Harris    male  22.0      1   \n",
       "1  Cumings, Mrs. John Bradley (Florence Briggs Th...  female  38.0      1   \n",
       "2                             Heikkinen, Miss. Laina  female  26.0      0   \n",
       "3       Futrelle, Mrs. Jacques Heath (Lily May Peel)  female  35.0      1   \n",
       "4                           Allen, Mr. William Henry    male  35.0      0   \n",
       "\n",
       "   Parch            Ticket     Fare Cabin Embarked  \n",
       "0      0         A/5 21171   7.2500   NaN        S  \n",
       "1      0          PC 17599  71.2833   C85        C  \n",
       "2      0  STON/O2. 3101282   7.9250   NaN        S  \n",
       "3      0            113803  53.1000  C123        S  \n",
       "4      0            373450   8.0500   NaN        S  "
      ]
     },
     "execution_count": 3,
     "metadata": {},
     "output_type": "execute_result"
    }
   ],
   "source": [
    "train_len = len(train)\n",
    "print(\"Training dataset size = {}\".format(train_len))\n",
    "train.head()"
   ]
  },
  {
   "cell_type": "code",
   "execution_count": 4,
   "metadata": {
    "_uuid": "cfb60dc59f2c65336ffbfb144db56f2e146835cd",
    "scrolled": true
   },
   "outputs": [
    {
     "name": "stdout",
     "output_type": "stream",
     "text": [
      "Test dataset size = 418\n"
     ]
    },
    {
     "data": {
      "text/html": [
       "<div>\n",
       "<style scoped>\n",
       "    .dataframe tbody tr th:only-of-type {\n",
       "        vertical-align: middle;\n",
       "    }\n",
       "\n",
       "    .dataframe tbody tr th {\n",
       "        vertical-align: top;\n",
       "    }\n",
       "\n",
       "    .dataframe thead th {\n",
       "        text-align: right;\n",
       "    }\n",
       "</style>\n",
       "<table border=\"1\" class=\"dataframe\">\n",
       "  <thead>\n",
       "    <tr style=\"text-align: right;\">\n",
       "      <th></th>\n",
       "      <th>PassengerId</th>\n",
       "      <th>Pclass</th>\n",
       "      <th>Name</th>\n",
       "      <th>Sex</th>\n",
       "      <th>Age</th>\n",
       "      <th>SibSp</th>\n",
       "      <th>Parch</th>\n",
       "      <th>Ticket</th>\n",
       "      <th>Fare</th>\n",
       "      <th>Cabin</th>\n",
       "      <th>Embarked</th>\n",
       "    </tr>\n",
       "  </thead>\n",
       "  <tbody>\n",
       "    <tr>\n",
       "      <th>0</th>\n",
       "      <td>892</td>\n",
       "      <td>3</td>\n",
       "      <td>Kelly, Mr. James</td>\n",
       "      <td>male</td>\n",
       "      <td>34.5</td>\n",
       "      <td>0</td>\n",
       "      <td>0</td>\n",
       "      <td>330911</td>\n",
       "      <td>7.8292</td>\n",
       "      <td>NaN</td>\n",
       "      <td>Q</td>\n",
       "    </tr>\n",
       "    <tr>\n",
       "      <th>1</th>\n",
       "      <td>893</td>\n",
       "      <td>3</td>\n",
       "      <td>Wilkes, Mrs. James (Ellen Needs)</td>\n",
       "      <td>female</td>\n",
       "      <td>47.0</td>\n",
       "      <td>1</td>\n",
       "      <td>0</td>\n",
       "      <td>363272</td>\n",
       "      <td>7.0000</td>\n",
       "      <td>NaN</td>\n",
       "      <td>S</td>\n",
       "    </tr>\n",
       "    <tr>\n",
       "      <th>2</th>\n",
       "      <td>894</td>\n",
       "      <td>2</td>\n",
       "      <td>Myles, Mr. Thomas Francis</td>\n",
       "      <td>male</td>\n",
       "      <td>62.0</td>\n",
       "      <td>0</td>\n",
       "      <td>0</td>\n",
       "      <td>240276</td>\n",
       "      <td>9.6875</td>\n",
       "      <td>NaN</td>\n",
       "      <td>Q</td>\n",
       "    </tr>\n",
       "    <tr>\n",
       "      <th>3</th>\n",
       "      <td>895</td>\n",
       "      <td>3</td>\n",
       "      <td>Wirz, Mr. Albert</td>\n",
       "      <td>male</td>\n",
       "      <td>27.0</td>\n",
       "      <td>0</td>\n",
       "      <td>0</td>\n",
       "      <td>315154</td>\n",
       "      <td>8.6625</td>\n",
       "      <td>NaN</td>\n",
       "      <td>S</td>\n",
       "    </tr>\n",
       "    <tr>\n",
       "      <th>4</th>\n",
       "      <td>896</td>\n",
       "      <td>3</td>\n",
       "      <td>Hirvonen, Mrs. Alexander (Helga E Lindqvist)</td>\n",
       "      <td>female</td>\n",
       "      <td>22.0</td>\n",
       "      <td>1</td>\n",
       "      <td>1</td>\n",
       "      <td>3101298</td>\n",
       "      <td>12.2875</td>\n",
       "      <td>NaN</td>\n",
       "      <td>S</td>\n",
       "    </tr>\n",
       "  </tbody>\n",
       "</table>\n",
       "</div>"
      ],
      "text/plain": [
       "   PassengerId  Pclass                                          Name     Sex  \\\n",
       "0          892       3                              Kelly, Mr. James    male   \n",
       "1          893       3              Wilkes, Mrs. James (Ellen Needs)  female   \n",
       "2          894       2                     Myles, Mr. Thomas Francis    male   \n",
       "3          895       3                              Wirz, Mr. Albert    male   \n",
       "4          896       3  Hirvonen, Mrs. Alexander (Helga E Lindqvist)  female   \n",
       "\n",
       "    Age  SibSp  Parch   Ticket     Fare Cabin Embarked  \n",
       "0  34.5      0      0   330911   7.8292   NaN        Q  \n",
       "1  47.0      1      0   363272   7.0000   NaN        S  \n",
       "2  62.0      0      0   240276   9.6875   NaN        Q  \n",
       "3  27.0      0      0   315154   8.6625   NaN        S  \n",
       "4  22.0      1      1  3101298  12.2875   NaN        S  "
      ]
     },
     "execution_count": 4,
     "metadata": {},
     "output_type": "execute_result"
    }
   ],
   "source": [
    "test_len = len(test)\n",
    "print(\"Test dataset size = {}\".format(test_len))\n",
    "test.head()"
   ]
  },
  {
   "cell_type": "markdown",
   "metadata": {
    "_uuid": "ae86bf8b74c2d2d4461c354768f2f6e78603a230"
   },
   "source": [
    "# 3. Data Analysis <a class=\"anchor\" id=\"data-analysis\"></a>\n",
    "\n",
    "Like most kernels, we will start by analyzing the features from the dataset, one-by-one, focusing on:\n",
    "- Finding correlations, not only between each feature and survival but also between the features themselves to understand if the information the feature provides is not redundant.\n",
    "- Creating visualizations that help us understand the data.\n",
    "- Cleaning the dataset by removing redundant features.\n",
    "- Filling missing data when needed.\n",
    "- Converting data types when advantageous (e.g. converting categorical data to numerical)."
   ]
  },
  {
   "cell_type": "code",
   "execution_count": 5,
   "metadata": {
    "_uuid": "2c207537e93a0887649f9699c4e0a6ba65f0f39e"
   },
   "outputs": [],
   "source": [
    "# Remove PassengerId since it's not a feature\n",
    "train.drop(columns='PassengerId', inplace=True)\n",
    "test.drop(columns='PassengerId', inplace=True)"
   ]
  },
  {
   "cell_type": "markdown",
   "metadata": {
    "_uuid": "3e486cc8b2b7d2390e10e517018bc3d68fe48548"
   },
   "source": [
    "## 3.1 Missing data <a class=\"anchor\" id=\"missing-data\"></a>"
   ]
  },
  {
   "cell_type": "code",
   "execution_count": 6,
   "metadata": {
    "_uuid": "1e8f032736a0d9c77e67910ce480bd4d4b050ac9",
    "scrolled": true
   },
   "outputs": [
    {
     "data": {
      "text/html": [
       "<div>\n",
       "<style scoped>\n",
       "    .dataframe tbody tr th:only-of-type {\n",
       "        vertical-align: middle;\n",
       "    }\n",
       "\n",
       "    .dataframe tbody tr th {\n",
       "        vertical-align: top;\n",
       "    }\n",
       "\n",
       "    .dataframe thead th {\n",
       "        text-align: right;\n",
       "    }\n",
       "</style>\n",
       "<table border=\"1\" class=\"dataframe\">\n",
       "  <thead>\n",
       "    <tr style=\"text-align: right;\">\n",
       "      <th></th>\n",
       "      <th>%</th>\n",
       "      <th>No. NaN</th>\n",
       "    </tr>\n",
       "  </thead>\n",
       "  <tbody>\n",
       "    <tr>\n",
       "      <th>Pclass</th>\n",
       "      <td>0.000000</td>\n",
       "      <td>0</td>\n",
       "    </tr>\n",
       "    <tr>\n",
       "      <th>Name</th>\n",
       "      <td>0.000000</td>\n",
       "      <td>0</td>\n",
       "    </tr>\n",
       "    <tr>\n",
       "      <th>Sex</th>\n",
       "      <td>0.000000</td>\n",
       "      <td>0</td>\n",
       "    </tr>\n",
       "    <tr>\n",
       "      <th>Age</th>\n",
       "      <td>0.200917</td>\n",
       "      <td>263</td>\n",
       "    </tr>\n",
       "    <tr>\n",
       "      <th>SibSp</th>\n",
       "      <td>0.000000</td>\n",
       "      <td>0</td>\n",
       "    </tr>\n",
       "    <tr>\n",
       "      <th>Parch</th>\n",
       "      <td>0.000000</td>\n",
       "      <td>0</td>\n",
       "    </tr>\n",
       "    <tr>\n",
       "      <th>Ticket</th>\n",
       "      <td>0.000000</td>\n",
       "      <td>0</td>\n",
       "    </tr>\n",
       "    <tr>\n",
       "      <th>Fare</th>\n",
       "      <td>0.000764</td>\n",
       "      <td>1</td>\n",
       "    </tr>\n",
       "    <tr>\n",
       "      <th>Cabin</th>\n",
       "      <td>0.774637</td>\n",
       "      <td>1014</td>\n",
       "    </tr>\n",
       "    <tr>\n",
       "      <th>Embarked</th>\n",
       "      <td>0.001528</td>\n",
       "      <td>2</td>\n",
       "    </tr>\n",
       "  </tbody>\n",
       "</table>\n",
       "</div>"
      ],
      "text/plain": [
       "                 %  No. NaN\n",
       "Pclass    0.000000        0\n",
       "Name      0.000000        0\n",
       "Sex       0.000000        0\n",
       "Age       0.200917      263\n",
       "SibSp     0.000000        0\n",
       "Parch     0.000000        0\n",
       "Ticket    0.000000        0\n",
       "Fare      0.000764        1\n",
       "Cabin     0.774637     1014\n",
       "Embarked  0.001528        2"
      ]
     },
     "execution_count": 6,
     "metadata": {},
     "output_type": "execute_result"
    }
   ],
   "source": [
    "# Concatenate the train and test datasets. Survived is not a feature so we drop it\n",
    "dataset = pd.concat([train, test], sort=False).drop(columns='Survived')\n",
    "pd.DataFrame({'No. NaN': dataset.isna().sum(), '%': dataset.isna().sum() / len(dataset)})"
   ]
  },
  {
   "cell_type": "markdown",
   "metadata": {
    "_uuid": "8c6ea5f1feec209254ed2301857560b3cbaeb7a3"
   },
   "source": [
    "Features with missing data:\n",
    "- **Cabin (~77%)**: Drop. Too much data is missing to fill without introducing a significant amount of noise.\n",
    "- **Age (~20%)**: Significant amount of data missing, but if it's useful we can try to fill it.\n",
    "- **Fare (1 data point)**: Keep. Since only one value is missing we can fill it with something simple like a median.\n",
    "- **Embarked (2 data points)**: Keep. Since only two values are missing we can fill them with something simple like a median."
   ]
  },
  {
   "cell_type": "code",
   "execution_count": 7,
   "metadata": {
    "_uuid": "427b44403ce9c192722578d6bdd266ea6d075632",
    "scrolled": false
   },
   "outputs": [],
   "source": [
    "train.drop(columns='Cabin', inplace=True)\n",
    "test.drop(columns='Cabin', inplace=True)"
   ]
  },
  {
   "cell_type": "markdown",
   "metadata": {
    "_uuid": "c449f90e35e14ca9de6d8be04af3624167abb6e1"
   },
   "source": [
    "## 3.2 Age <a class=\"anchor\" id=\"age\"></a>"
   ]
  },
  {
   "cell_type": "code",
   "execution_count": 8,
   "metadata": {
    "_uuid": "5eb18d4cd22d8ea25e28c8099c62e36d112b734e",
    "scrolled": false
   },
   "outputs": [
    {
     "data": {
      "image/png": "[encoded data removed]",
      "text/plain": [
       "<Figure size 951.875x360 with 1 Axes>"
      ]
     },
     "metadata": {},
     "output_type": "display_data"
    }
   ],
   "source": [
    "with sns.axes_style(\"darkgrid\"):\n",
    "    g = sns.FacetGrid(train, hue='Survived', height=5, aspect=2.5)\n",
    "    g.map(sns.kdeplot, 'Age', shade=True)\n",
    "    g.add_legend()\n",
    "    g.set(xlim=(0, train['Age'].max()))"
   ]
  },
  {
   "cell_type": "code",
   "execution_count": 9,
   "metadata": {
    "_uuid": "2aa72041728dc9e760f9917bcaba01c7fefcfc03",
    "scrolled": false
   },
   "outputs": [
    {
     "data": {
      "image/png": "[encoded data removed]",
      "text/plain": [
       "<Figure size 720x360 with 1 Axes>"
      ]
     },
     "metadata": {},
     "output_type": "display_data"
    }
   ],
   "source": [
    "num_clusters = 4\n",
    "X = train[[ 'Age', 'Survived']].dropna()\n",
    "kmeans = KMeans(n_clusters=num_clusters, random_state=random_state)\n",
    "kmeans.fit(X)\n",
    "X['AgeCluster'] = kmeans.labels_\n",
    "\n",
    "# Plot the decision boundary. See http://scikit-learn.org/stable/auto_examples/cluster/plot_kmeans_digits.html\n",
    "plt.figure(figsize=(10,5))\n",
    "h = 0.01\n",
    "x_min, x_max = X['Age'].min() - h, X['Age'].max() + h\n",
    "y_min, y_max = X['Survived'].min() - h, X['Survived'].max() + h\n",
    "xx, yy = np.meshgrid(np.arange(x_min, x_max, h), np.arange(y_min, y_max, h))\n",
    "\n",
    "# Obtain labels for each point in mesh. Use last trained model.\n",
    "Z = kmeans.predict(np.c_[xx.ravel(), yy.ravel()])\n",
    "\n",
    "# Put the result into a color plot\n",
    "cmap = sns.cubehelix_palette(start=2.8, rot=.1, as_cmap=True)\n",
    "Z = Z.reshape(xx.shape)\n",
    "plt.imshow(Z, interpolation='nearest',\n",
    "           extent=(xx.min(), xx.max(), yy.min(), yy.max()),\n",
    "           cmap=cmap, aspect='auto')\n",
    "\n",
    "sns.scatterplot(x='Age', y='Survived', hue='AgeCluster', data=X, palette=cmap)\n",
    "# Plot the centroids as a white X\n",
    "centroids = kmeans.cluster_centers_\n",
    "plt.scatter(centroids[:, 0], centroids[:, 1],\n",
    "            marker='x', s=169, linewidths=3,\n",
    "            color='w')\n",
    "plt.yticks([0, 1])\n",
    "plt.show()"
   ]
  },
  {
   "cell_type": "code",
   "execution_count": 10,
   "metadata": {},
   "outputs": [
    {
     "name": "stdout",
     "output_type": "stream",
     "text": [
      "Age bands: [ 0.   13.47 28.52 44.4    inf]\n"
     ]
    }
   ],
   "source": [
    "# Convert K-means clusters to age bands\n",
    "age_bands = []\n",
    "for k in range(num_clusters):\n",
    "    age_bands.append(xx[Z==k].min())\n",
    "\n",
    "# Since the clusters are not sorted we sort the intervals\n",
    "age_bands.sort()\n",
    "\n",
    "# Set the lower bound of the first interval to 0\n",
    "age_bands[0] = 0\n",
    "\n",
    "# Set the higher bound of the last interval to infinite just in case there are older older passengers in the test set\n",
    "age_bands.append(np.inf)\n",
    "\n",
    "# Convert list to numpy array\n",
    "print(\"Age bands: {}\".format(np.array(age_bands)))"
   ]
  },
  {
   "cell_type": "code",
   "execution_count": 11,
   "metadata": {},
   "outputs": [
    {
     "data": {
      "text/plain": [
       "AgeBand\n",
       "(0.0, 13.47]      0.591549\n",
       "(13.47, 28.52]    0.361775\n",
       "(28.52, 44.4]     0.421277\n",
       "(44.4, inf]       0.373913\n",
       "Name: Survived, dtype: float64"
      ]
     },
     "execution_count": 11,
     "metadata": {},
     "output_type": "execute_result"
    }
   ],
   "source": [
    "# Use both the training and test dataset to fill the missing Age values\n",
    "dataset = pd.concat([train, test], sort=True)\n",
    "dataset['AgeBand'] = pd.cut(dataset['Age'], age_bands)\n",
    "\n",
    "dataset.groupby('AgeBand')['Survived'].mean()"
   ]
  },
  {
   "cell_type": "markdown",
   "metadata": {
    "_uuid": "828f5d193fbb70232d6cd0ac86316edc25998c70"
   },
   "source": [
    "Observations:\n",
    "- Children (age < 13.47) have much higher chances of survival (59.2%).\n",
    "- Passengers between the ages of 28.52 and 44.4 also show better survival rates than the remaining two groups"
   ]
  },
  {
   "cell_type": "markdown",
   "metadata": {
    "_uuid": "b0e199b3bd6e0dcf9f86115cffd8e9202fe8aa5e"
   },
   "source": [
    "### 3.2.1 Filing missing Age values <a class=\"anchor\" id=\"fill-age\"></a>\n",
    "\n",
    "To fill the missing 20% age values, we are going to estimate the age band using the most accurate of the following classifiers:\n",
    "- Logistic regression\n",
    "- K-nearest neighbors\n",
    "- Decision tree\n",
    "\n",
    "with the following features:\n",
    "- Age\n",
    "- Pclass\n",
    "- SibSp\n",
    "- Parch\n",
    "- Sex\n",
    "- Title (engineered from Name)\n",
    "\n",
    "There are many ways to fill the missing ages, I chose this one simply because it was an excuse to do more some stuff with models and it worked well enough."
   ]
  },
  {
   "cell_type": "markdown",
   "metadata": {},
   "source": [
    "#### Feature selection"
   ]
  },
  {
   "cell_type": "code",
   "execution_count": 12,
   "metadata": {
    "_uuid": "bbb483352388a2d1a93a3aeb59eea8f7697f718a",
    "scrolled": false
   },
   "outputs": [
    {
     "data": {
      "text/html": [
       "<div>\n",
       "<style scoped>\n",
       "    .dataframe tbody tr th:only-of-type {\n",
       "        vertical-align: middle;\n",
       "    }\n",
       "\n",
       "    .dataframe tbody tr th {\n",
       "        vertical-align: top;\n",
       "    }\n",
       "\n",
       "    .dataframe thead th {\n",
       "        text-align: right;\n",
       "    }\n",
       "</style>\n",
       "<table border=\"1\" class=\"dataframe\">\n",
       "  <thead>\n",
       "    <tr style=\"text-align: right;\">\n",
       "      <th>Title</th>\n",
       "      <th>Capt</th>\n",
       "      <th>Col</th>\n",
       "      <th>Don</th>\n",
       "      <th>Dona</th>\n",
       "      <th>Dr</th>\n",
       "      <th>Jonkheer</th>\n",
       "      <th>Lady</th>\n",
       "      <th>Major</th>\n",
       "      <th>Master</th>\n",
       "      <th>Miss</th>\n",
       "      <th>Mlle</th>\n",
       "      <th>Mme</th>\n",
       "      <th>Mr</th>\n",
       "      <th>Mrs</th>\n",
       "      <th>Ms</th>\n",
       "      <th>Rev</th>\n",
       "      <th>Sir</th>\n",
       "      <th>the Countess</th>\n",
       "    </tr>\n",
       "    <tr>\n",
       "      <th>Sex</th>\n",
       "      <th></th>\n",
       "      <th></th>\n",
       "      <th></th>\n",
       "      <th></th>\n",
       "      <th></th>\n",
       "      <th></th>\n",
       "      <th></th>\n",
       "      <th></th>\n",
       "      <th></th>\n",
       "      <th></th>\n",
       "      <th></th>\n",
       "      <th></th>\n",
       "      <th></th>\n",
       "      <th></th>\n",
       "      <th></th>\n",
       "      <th></th>\n",
       "      <th></th>\n",
       "      <th></th>\n",
       "    </tr>\n",
       "  </thead>\n",
       "  <tbody>\n",
       "    <tr>\n",
       "      <th>female</th>\n",
       "      <td>0</td>\n",
       "      <td>0</td>\n",
       "      <td>0</td>\n",
       "      <td>1</td>\n",
       "      <td>1</td>\n",
       "      <td>0</td>\n",
       "      <td>1</td>\n",
       "      <td>0</td>\n",
       "      <td>0</td>\n",
       "      <td>260</td>\n",
       "      <td>2</td>\n",
       "      <td>1</td>\n",
       "      <td>0</td>\n",
       "      <td>197</td>\n",
       "      <td>2</td>\n",
       "      <td>0</td>\n",
       "      <td>0</td>\n",
       "      <td>1</td>\n",
       "    </tr>\n",
       "    <tr>\n",
       "      <th>male</th>\n",
       "      <td>1</td>\n",
       "      <td>4</td>\n",
       "      <td>1</td>\n",
       "      <td>0</td>\n",
       "      <td>7</td>\n",
       "      <td>1</td>\n",
       "      <td>0</td>\n",
       "      <td>2</td>\n",
       "      <td>61</td>\n",
       "      <td>0</td>\n",
       "      <td>0</td>\n",
       "      <td>0</td>\n",
       "      <td>757</td>\n",
       "      <td>0</td>\n",
       "      <td>0</td>\n",
       "      <td>8</td>\n",
       "      <td>1</td>\n",
       "      <td>0</td>\n",
       "    </tr>\n",
       "  </tbody>\n",
       "</table>\n",
       "</div>"
      ],
      "text/plain": [
       "Title   Capt  Col  Don  Dona  Dr  Jonkheer  Lady  Major  Master  Miss  Mlle  \\\n",
       "Sex                                                                           \n",
       "female     0    0    0     1   1         0     1      0       0   260     2   \n",
       "male       1    4    1     0   7         1     0      2      61     0     0   \n",
       "\n",
       "Title   Mme   Mr  Mrs  Ms  Rev  Sir  the Countess  \n",
       "Sex                                                \n",
       "female    1    0  197   2    0    0             1  \n",
       "male      0  757    0   0    8    1             0  "
      ]
     },
     "execution_count": 12,
     "metadata": {},
     "output_type": "execute_result"
    }
   ],
   "source": [
    "# Use both the training and test dataset to fill the missing Age values\n",
    "fill_age_df = dataset[['Name', 'AgeBand', 'Pclass', 'SibSp', 'Parch', 'Sex']].copy()\n",
    "\n",
    "# Get the titles of the passengers\n",
    "fill_age_df['Title'] = fill_age_df['Name'].apply(lambda x: x[x.find(', ') + 2:x.find('.')])\n",
    "\n",
    "pd.crosstab(fill_age_df['Title'], fill_age_df['Sex']).transpose()"
   ]
  },
  {
   "cell_type": "code",
   "execution_count": 13,
   "metadata": {},
   "outputs": [
    {
     "data": {
      "text/html": [
       "<div>\n",
       "<style scoped>\n",
       "    .dataframe tbody tr th:only-of-type {\n",
       "        vertical-align: middle;\n",
       "    }\n",
       "\n",
       "    .dataframe tbody tr th {\n",
       "        vertical-align: top;\n",
       "    }\n",
       "\n",
       "    .dataframe thead th {\n",
       "        text-align: right;\n",
       "    }\n",
       "</style>\n",
       "<table border=\"1\" class=\"dataframe\">\n",
       "  <thead>\n",
       "    <tr style=\"text-align: right;\">\n",
       "      <th></th>\n",
       "      <th>Name</th>\n",
       "      <th>AgeBand</th>\n",
       "      <th>Pclass</th>\n",
       "      <th>SibSp</th>\n",
       "      <th>Parch</th>\n",
       "      <th>Sex</th>\n",
       "      <th>Title</th>\n",
       "      <th>Miss</th>\n",
       "      <th>Mr</th>\n",
       "      <th>Mrs</th>\n",
       "      <th>Rare</th>\n",
       "    </tr>\n",
       "  </thead>\n",
       "  <tbody>\n",
       "    <tr>\n",
       "      <th>0</th>\n",
       "      <td>Braund, Mr. Owen Harris</td>\n",
       "      <td>(13.47, 28.52]</td>\n",
       "      <td>3</td>\n",
       "      <td>1</td>\n",
       "      <td>0</td>\n",
       "      <td>male</td>\n",
       "      <td>Mr</td>\n",
       "      <td>0</td>\n",
       "      <td>1</td>\n",
       "      <td>0</td>\n",
       "      <td>0</td>\n",
       "    </tr>\n",
       "    <tr>\n",
       "      <th>1</th>\n",
       "      <td>Cumings, Mrs. John Bradley (Florence Briggs Th...</td>\n",
       "      <td>(28.52, 44.4]</td>\n",
       "      <td>1</td>\n",
       "      <td>1</td>\n",
       "      <td>0</td>\n",
       "      <td>female</td>\n",
       "      <td>Mrs</td>\n",
       "      <td>0</td>\n",
       "      <td>0</td>\n",
       "      <td>1</td>\n",
       "      <td>0</td>\n",
       "    </tr>\n",
       "  </tbody>\n",
       "</table>\n",
       "</div>"
      ],
      "text/plain": [
       "                                                Name         AgeBand  Pclass  \\\n",
       "0                            Braund, Mr. Owen Harris  (13.47, 28.52]       3   \n",
       "1  Cumings, Mrs. John Bradley (Florence Briggs Th...   (28.52, 44.4]       1   \n",
       "\n",
       "   SibSp  Parch     Sex Title  Miss  Mr  Mrs  Rare  \n",
       "0      1      0    male    Mr     0   1    0     0  \n",
       "1      1      0  female   Mrs     0   0    1     0  "
      ]
     },
     "execution_count": 13,
     "metadata": {},
     "output_type": "execute_result"
    }
   ],
   "source": [
    "# Join Mlle (Mademoiselle) and Ms with Miss - Mlle and Miss both indicate a unmarried status while Ms is more generic\n",
    "# it can mean both Miss and Mrs, I chose Miss because it's more frequent\n",
    "fill_age_df['Title'].replace(to_replace=['Mlle', 'Ms'], value='Miss', inplace=True)\n",
    "\n",
    "# Join Mme (Madame) with Mrs - Mme and Mrs both indicate a married status\n",
    "fill_age_df['Title'].replace(to_replace='Mme', value='Mrs', inplace=True)\n",
    "\n",
    "# Join the remaining titles with low frequencies\n",
    "fill_age_df['Title'].replace(to_replace=['Don', 'Rev', 'Dr', 'Major', 'Lady', 'Sir',\n",
    "                                         'Col', 'Capt', 'the Countess', 'Jonkheer', 'Dona'],\n",
    "                             value='Rare', inplace=True)\n",
    "\n",
    "title_dummies = pd.get_dummies(fill_age_df['Title'], drop_first=True)\n",
    "fill_age_df = pd.concat([fill_age_df, title_dummies], axis=1)\n",
    "fill_age_df.head(2)"
   ]
  },
  {
   "cell_type": "code",
   "execution_count": 14,
   "metadata": {},
   "outputs": [
    {
     "data": {
      "text/html": [
       "<div>\n",
       "<style scoped>\n",
       "    .dataframe tbody tr th:only-of-type {\n",
       "        vertical-align: middle;\n",
       "    }\n",
       "\n",
       "    .dataframe tbody tr th {\n",
       "        vertical-align: top;\n",
       "    }\n",
       "\n",
       "    .dataframe thead th {\n",
       "        text-align: right;\n",
       "    }\n",
       "</style>\n",
       "<table border=\"1\" class=\"dataframe\">\n",
       "  <thead>\n",
       "    <tr style=\"text-align: right;\">\n",
       "      <th></th>\n",
       "      <th>AgeBand</th>\n",
       "      <th>Pclass</th>\n",
       "      <th>SibSp</th>\n",
       "      <th>Parch</th>\n",
       "      <th>Miss</th>\n",
       "      <th>Mr</th>\n",
       "      <th>Mrs</th>\n",
       "      <th>Rare</th>\n",
       "      <th>IsMale</th>\n",
       "    </tr>\n",
       "  </thead>\n",
       "  <tbody>\n",
       "    <tr>\n",
       "      <th>0</th>\n",
       "      <td>1</td>\n",
       "      <td>3</td>\n",
       "      <td>1</td>\n",
       "      <td>0</td>\n",
       "      <td>0</td>\n",
       "      <td>1</td>\n",
       "      <td>0</td>\n",
       "      <td>0</td>\n",
       "      <td>1</td>\n",
       "    </tr>\n",
       "    <tr>\n",
       "      <th>1</th>\n",
       "      <td>2</td>\n",
       "      <td>1</td>\n",
       "      <td>1</td>\n",
       "      <td>0</td>\n",
       "      <td>0</td>\n",
       "      <td>0</td>\n",
       "      <td>1</td>\n",
       "      <td>0</td>\n",
       "      <td>0</td>\n",
       "    </tr>\n",
       "  </tbody>\n",
       "</table>\n",
       "</div>"
      ],
      "text/plain": [
       "   AgeBand  Pclass  SibSp  Parch  Miss  Mr  Mrs  Rare  IsMale\n",
       "0        1       3      1      0     0   1    0     0       1\n",
       "1        2       1      1      0     0   0    1     0       0"
      ]
     },
     "execution_count": 14,
     "metadata": {},
     "output_type": "execute_result"
    }
   ],
   "source": [
    "# Encode ages and sex\n",
    "fill_age_df['IsMale'] = fill_age_df['Sex'].astype('category').cat.codes\n",
    "fill_age_df['AgeBand'] = fill_age_df['AgeBand'].astype('category').cat.codes\n",
    "\n",
    "# Drop columns we no longer need\n",
    "fill_age_df.drop(columns=['Name', 'Sex', 'Title'], inplace=True)\n",
    "\n",
    "fill_age_df.head(2)"
   ]
  },
  {
   "cell_type": "markdown",
   "metadata": {},
   "source": [
    "Convert the dataset in training samples, training labels, and testing samples."
   ]
  },
  {
   "cell_type": "code",
   "execution_count": 15,
   "metadata": {
    "_uuid": "482fa3b68bf01868cd25449cf81281d3e8e01be5"
   },
   "outputs": [
    {
     "name": "stdout",
     "output_type": "stream",
     "text": [
      "Training samples shape: (1046, 8)\n",
      "Training labels shape: (1046,)\n",
      "Samples to predict shape: (263, 8)\n"
     ]
    }
   ],
   "source": [
    "# Drop all rows with unknown age bands (-1) from the training set\n",
    "X_train = fill_age_df.loc[fill_age_df['AgeBand'] != -1].drop(columns='AgeBand')\n",
    "Y_train = fill_age_df['AgeBand'].loc[fill_age_df['AgeBand'] != -1]\n",
    "\n",
    "# Get all rows with unknown age bands (-1) for the test set\n",
    "X = fill_age_df.loc[fill_age_df['AgeBand'] == -1].drop(columns='AgeBand')\n",
    "\n",
    "# Some shapes to double-check\n",
    "print(\"Training samples shape: {}\".format(X_train.shape))\n",
    "print(\"Training labels shape: {}\".format(Y_train.shape))\n",
    "print(\"Samples to predict shape: {}\".format(X.shape))"
   ]
  },
  {
   "cell_type": "markdown",
   "metadata": {},
   "source": [
    "#### Age band modeling\n",
    "Create three simple classifier models and use cross-validation to analyze which is better."
   ]
  },
  {
   "cell_type": "code",
   "execution_count": 16,
   "metadata": {
    "_uuid": "0fdce4d88f2d5900a2b24c5210f1336b59b643ac"
   },
   "outputs": [
    {
     "name": "stdout",
     "output_type": "stream",
     "text": [
      "Logistic Regression cross-validation scores: 0.536\n",
      "KNeighbors cross-validation scores: 0.517\n",
      "Tree Classifier cross-validation scores: 0.561\n"
     ]
    }
   ],
   "source": [
    "logreg = LogisticRegression(random_state=random_state)\n",
    "logreg_scores = cross_val_score(logreg, X_train, Y_train, cv=10)\n",
    "print(\"Logistic Regression cross-validation scores: {:.3f}\".format(logreg_scores.mean()))\n",
    "\n",
    "knn = KNeighborsClassifier()\n",
    "knn_scores = cross_val_score(knn, X_train, Y_train, cv=10)\n",
    "print(\"KNeighbors cross-validation scores: {:.3f}\".format(knn_scores.mean()))\n",
    "\n",
    "tree = DecisionTreeClassifier(random_state=random_state)\n",
    "tree_scores = cross_val_score(tree, X_train, Y_train, cv=10)\n",
    "print(\"Tree Classifier cross-validation scores: {:.3f}\".format(tree_scores.mean()))"
   ]
  },
  {
   "cell_type": "markdown",
   "metadata": {},
   "source": [
    "The most accurate age band classifier is the Decision Tree; use it to predict the age bands."
   ]
  },
  {
   "cell_type": "code",
   "execution_count": 17,
   "metadata": {
    "_uuid": "4c4d44db865875311267e35ec6299d64c7af9fdd",
    "scrolled": true
   },
   "outputs": [
    {
     "data": {
      "text/html": [
       "<div>\n",
       "<style scoped>\n",
       "    .dataframe tbody tr th:only-of-type {\n",
       "        vertical-align: middle;\n",
       "    }\n",
       "\n",
       "    .dataframe tbody tr th {\n",
       "        vertical-align: top;\n",
       "    }\n",
       "\n",
       "    .dataframe thead th {\n",
       "        text-align: right;\n",
       "    }\n",
       "</style>\n",
       "<table border=\"1\" class=\"dataframe\">\n",
       "  <thead>\n",
       "    <tr style=\"text-align: right;\">\n",
       "      <th></th>\n",
       "      <th>AgeBand</th>\n",
       "      <th>AgeInterval</th>\n",
       "      <th>PerClassAcc.</th>\n",
       "    </tr>\n",
       "  </thead>\n",
       "  <tbody>\n",
       "    <tr>\n",
       "      <th>0</th>\n",
       "      <td>0</td>\n",
       "      <td>(0.0, 13.47]</td>\n",
       "      <td>0.959596</td>\n",
       "    </tr>\n",
       "    <tr>\n",
       "      <th>1</th>\n",
       "      <td>1</td>\n",
       "      <td>(13.47, 28.52]</td>\n",
       "      <td>0.845455</td>\n",
       "    </tr>\n",
       "    <tr>\n",
       "      <th>2</th>\n",
       "      <td>2</td>\n",
       "      <td>(28.52, 44.4]</td>\n",
       "      <td>0.320242</td>\n",
       "    </tr>\n",
       "    <tr>\n",
       "      <th>3</th>\n",
       "      <td>3</td>\n",
       "      <td>(44.4, inf]</td>\n",
       "      <td>0.488636</td>\n",
       "    </tr>\n",
       "  </tbody>\n",
       "</table>\n",
       "</div>"
      ],
      "text/plain": [
       "   AgeBand     AgeInterval  PerClassAcc.\n",
       "0        0    (0.0, 13.47]      0.959596\n",
       "1        1  (13.47, 28.52]      0.845455\n",
       "2        2   (28.52, 44.4]      0.320242\n",
       "3        3     (44.4, inf]      0.488636"
      ]
     },
     "execution_count": 17,
     "metadata": {},
     "output_type": "execute_result"
    }
   ],
   "source": [
    "# Make predictions using our best model (Decision Tree)\n",
    "tree.fit(X_train, Y_train)\n",
    "Y_pred = tree.predict(X_train)\n",
    "\n",
    "# Compute the per-class/per-age band accuracy\n",
    "total = np.bincount(Y_train.values, minlength=4)\n",
    "correct = np.bincount(Y_pred[Y_pred == Y_train.values], minlength=4)\n",
    "class_acc = correct / total\n",
    "pd.DataFrame({'AgeBand': np.arange(4),\n",
    "              'AgeInterval': dataset['AgeBand'].cat.categories,\n",
    "              'PerClassAcc.': class_acc})"
   ]
  },
  {
   "cell_type": "code",
   "execution_count": 18,
   "metadata": {},
   "outputs": [
    {
     "data": {
      "image/png": "[encoded data removed]",
      "text/plain": [
       "<Figure size 432x288 with 1 Axes>"
      ]
     },
     "metadata": {},
     "output_type": "display_data"
    }
   ],
   "source": [
    "# Feature importance\n",
    "g = sns.barplot(x=tree.feature_importances_, y=X.columns, orient='h')\n",
    "_ = g.set_xlabel('Relative importance')\n",
    "_ = g.set_ylabel('Features')\n",
    "_ = g.set_title('Feature Importance')"
   ]
  },
  {
   "cell_type": "markdown",
   "metadata": {
    "_uuid": "5355be46f3b5450ec93675e615303cbebc3a6092"
   },
   "source": [
    "Overall, none of the models achieves high-accuracy; however, if we check the per-class/per-age band accuracy, we see that our best model (Decision Tree) is really good at predicting children - 95.7% accuracy for passengers between the ages of 0 and 8. As discussed previously, this is the most relevant age band; therefore, a low overall accuracy shouldn't be a big issue as long as we have high accuracy in this age band.\n",
    "\n",
    "It also shows that the model can make good predictions for passengers between the ages of 16 and 24. A possible explanation is that passengers within this age band are more likely to be traveling with friends or alone, therefore SibSp and Parch are 0 making them easier to classify."
   ]
  },
  {
   "cell_type": "markdown",
   "metadata": {
    "_uuid": "305493e0af095dd045f92965999044407367386d"
   },
   "source": [
    "We can now predict the age band for passengers with missing data:"
   ]
  },
  {
   "cell_type": "code",
   "execution_count": 19,
   "metadata": {
    "_uuid": "35bfe3e78ade4e2f1cfe7f1dad1a47f281f8575c"
   },
   "outputs": [],
   "source": [
    "Y = tree.predict(X)\n",
    "fill_age_df.loc[fill_age_df['AgeBand'] == -1, 'AgeBand'] = Y"
   ]
  },
  {
   "cell_type": "markdown",
   "metadata": {
    "_uuid": "bac180be54d461d10698f6e17b6f0ff00978a00c"
   },
   "source": [
    "Apply the integer encoded age bands to the train and test datasets."
   ]
  },
  {
   "cell_type": "code",
   "execution_count": 20,
   "metadata": {
    "_uuid": "c3304ecd1907af950adaf1e87674ffe1f09656cd"
   },
   "outputs": [
    {
     "data": {
      "text/html": [
       "<div>\n",
       "<style scoped>\n",
       "    .dataframe tbody tr th:only-of-type {\n",
       "        vertical-align: middle;\n",
       "    }\n",
       "\n",
       "    .dataframe tbody tr th {\n",
       "        vertical-align: top;\n",
       "    }\n",
       "\n",
       "    .dataframe thead th {\n",
       "        text-align: right;\n",
       "    }\n",
       "</style>\n",
       "<table border=\"1\" class=\"dataframe\">\n",
       "  <thead>\n",
       "    <tr style=\"text-align: right;\">\n",
       "      <th></th>\n",
       "      <th>Survived</th>\n",
       "      <th>Pclass</th>\n",
       "      <th>Name</th>\n",
       "      <th>Sex</th>\n",
       "      <th>SibSp</th>\n",
       "      <th>Parch</th>\n",
       "      <th>Ticket</th>\n",
       "      <th>Fare</th>\n",
       "      <th>Embarked</th>\n",
       "      <th>AgeBand</th>\n",
       "    </tr>\n",
       "  </thead>\n",
       "  <tbody>\n",
       "    <tr>\n",
       "      <th>0</th>\n",
       "      <td>0</td>\n",
       "      <td>3</td>\n",
       "      <td>Braund, Mr. Owen Harris</td>\n",
       "      <td>male</td>\n",
       "      <td>1</td>\n",
       "      <td>0</td>\n",
       "      <td>A/5 21171</td>\n",
       "      <td>7.2500</td>\n",
       "      <td>S</td>\n",
       "      <td>1</td>\n",
       "    </tr>\n",
       "    <tr>\n",
       "      <th>1</th>\n",
       "      <td>1</td>\n",
       "      <td>1</td>\n",
       "      <td>Cumings, Mrs. John Bradley (Florence Briggs Th...</td>\n",
       "      <td>female</td>\n",
       "      <td>1</td>\n",
       "      <td>0</td>\n",
       "      <td>PC 17599</td>\n",
       "      <td>71.2833</td>\n",
       "      <td>C</td>\n",
       "      <td>2</td>\n",
       "    </tr>\n",
       "  </tbody>\n",
       "</table>\n",
       "</div>"
      ],
      "text/plain": [
       "   Survived  Pclass                                               Name  \\\n",
       "0         0       3                            Braund, Mr. Owen Harris   \n",
       "1         1       1  Cumings, Mrs. John Bradley (Florence Briggs Th...   \n",
       "\n",
       "      Sex  SibSp  Parch     Ticket     Fare Embarked  AgeBand  \n",
       "0    male      1      0  A/5 21171   7.2500        S        1  \n",
       "1  female      1      0   PC 17599  71.2833        C        2  "
      ]
     },
     "execution_count": 20,
     "metadata": {},
     "output_type": "execute_result"
    }
   ],
   "source": [
    "train['AgeBand'] = fill_age_df.iloc[:train_len, 0]\n",
    "test['AgeBand'] = fill_age_df.iloc[train_len:, 0]\n",
    "\n",
    "# Remove Age column\n",
    "train.drop(columns='Age', inplace=True)\n",
    "test.drop(columns='Age', inplace=True)\n",
    "\n",
    "train.head(2)"
   ]
  },
  {
   "cell_type": "markdown",
   "metadata": {
    "_uuid": "7831f38c2c7513566349f0cbba4a8fa6446042a1"
   },
   "source": [
    "## 3.3 Sex <a class=\"anchor\" id=\"sex\"></a>"
   ]
  },
  {
   "cell_type": "code",
   "execution_count": 21,
   "metadata": {
    "_uuid": "d5c03aa7cc892ab8c594c25694c5119ed2a0682d"
   },
   "outputs": [
    {
     "data": {
      "text/plain": [
       "Sex\n",
       "female    0.742038\n",
       "male      0.188908\n",
       "Name: Survived, dtype: float64"
      ]
     },
     "execution_count": 21,
     "metadata": {},
     "output_type": "execute_result"
    },
    {
     "data": {
      "image/png": "[encoded data removed]",
      "text/plain": [
       "<Figure size 432x288 with 1 Axes>"
      ]
     },
     "metadata": {},
     "output_type": "display_data"
    }
   ],
   "source": [
    "_ = sns.countplot(x='Sex', hue='Survived', data=train)\n",
    "train.groupby('Sex')['Survived'].mean()"
   ]
  },
  {
   "cell_type": "markdown",
   "metadata": {
    "_uuid": "6e8cbee0cc2a73023bdc14712d00596e5c3f2d0b"
   },
   "source": [
    "Females have much higher survival rates. One-hot encode `Sex` so all machine algorithms can handle it."
   ]
  },
  {
   "cell_type": "code",
   "execution_count": 22,
   "metadata": {
    "_uuid": "859f3b9f325448ca52b383f09320324c1ff31828"
   },
   "outputs": [],
   "source": [
    "# One-encode using dummies\n",
    "train['IsMale'] = pd.get_dummies(train['Sex'], drop_first=True)\n",
    "test['IsMale'] = pd.get_dummies(test['Sex'], drop_first=True)\n",
    "\n",
    "# Drop the Sex column\n",
    "train.drop(columns='Sex', inplace=True)\n",
    "test.drop(columns='Sex', inplace=True)"
   ]
  },
  {
   "cell_type": "markdown",
   "metadata": {
    "_uuid": "578331907e52e904794e39a7c7f6822a006e536f"
   },
   "source": [
    "## 3.4 Ticket class (Pclass) <a class=\"anchor\" id=\"pclass\"></a>"
   ]
  },
  {
   "cell_type": "code",
   "execution_count": 23,
   "metadata": {
    "_uuid": "c5f4607a1c554e490b0b1092c06f7e5a6d0f9eb5"
   },
   "outputs": [
    {
     "data": {
      "text/plain": [
       "Pclass\n",
       "1    0.629630\n",
       "2    0.472826\n",
       "3    0.242363\n",
       "Name: Survived, dtype: float64"
      ]
     },
     "execution_count": 23,
     "metadata": {},
     "output_type": "execute_result"
    },
    {
     "data": {
      "image/png": "[encoded data removed]",
      "text/plain": [
       "<Figure size 432x288 with 1 Axes>"
      ]
     },
     "metadata": {},
     "output_type": "display_data"
    }
   ],
   "source": [
    "_ = sns.countplot(x='Pclass', hue='Survived', data=train)\n",
    "train.groupby('Pclass')['Survived'].mean()"
   ]
  },
  {
   "cell_type": "markdown",
   "metadata": {
    "_uuid": "dbf9546834a1e017e4f65bd8afe614c8ed623122"
   },
   "source": [
    "Passengers with higher ticket class (lower `Pclass`) have higher chances of survival:\n",
    "- 1st class: 63%\n",
    "- 2nd class: 48%\n",
    "- 3rd class: 24%\n",
    "\n",
    "Keep the feature as-is, `Pclass` is already encoded in integers (one-hot encoding would leave out the natural order of ticket class which is an important part of the feature)."
   ]
  },
  {
   "cell_type": "markdown",
   "metadata": {
    "_uuid": "e1d7d9ee7f910ccb2751f4a1797a5ea3b996672f"
   },
   "source": [
    "## 3.5 Port of Embarkation (Embarked) <a class=\"anchor\" id=\"embarked\"></a>"
   ]
  },
  {
   "cell_type": "code",
   "execution_count": 24,
   "metadata": {
    "_uuid": "3997169db85d3a5f03e46bbf20349fc4c49ccf8e",
    "scrolled": true
   },
   "outputs": [
    {
     "data": {
      "image/png": "[encoded data removed]",
      "text/plain": [
       "<Figure size 432x288 with 1 Axes>"
      ]
     },
     "metadata": {},
     "output_type": "display_data"
    }
   ],
   "source": [
    "_ = sns.countplot(x='Embarked', hue='Survived', data=train)"
   ]
  },
  {
   "cell_type": "markdown",
   "metadata": {
    "_uuid": "38576463d8084d6bd21475cc493ed94d93be890c"
   },
   "source": [
    "After looking at this chart my first thought was that it was a useful feature, we can see that passengers from different ports have varying chances of survival. Great!\n",
    "\n",
    "Then, after thinking some more I was convinced that there shouldn't be a correlation between the port of embarkation and survival. I think that what this chart shows is just the combination of `IsMale` and `Pclass`."
   ]
  },
  {
   "cell_type": "code",
   "execution_count": 25,
   "metadata": {
    "_uuid": "afc1ad6a99122e6a212c481a42ada5a425548241"
   },
   "outputs": [
    {
     "name": "stderr",
     "output_type": "stream",
     "text": [
      "/home/davidtvs/datascience/kaggle/Titanic/titanic-env/lib/python3.5/site-packages/seaborn/categorical.py:3666: UserWarning: The `factorplot` function has been renamed to `catplot`. The original name will be removed in a future release. Please update your code. Note that the default `kind` in `factorplot` (`'point'`) has changed `'strip'` in `catplot`.\n",
      "  warnings.warn(msg)\n"
     ]
    },
    {
     "data": {
      "image/png": "[encoded data removed]",
      "text/plain": [
       "<Figure size 1080x720 with 6 Axes>"
      ]
     },
     "metadata": {},
     "output_type": "display_data"
    }
   ],
   "source": [
    "# Plot relationship between Embarked, Pclass, and IsMale\n",
    "_ = sns.factorplot(x='Embarked', col='Pclass', row='IsMale', data=train, kind='count')"
   ]
  },
  {
   "cell_type": "code",
   "execution_count": 26,
   "metadata": {
    "_uuid": "57df5dbe5f0f36e5c1c0cef2b61ff8a0080bda48"
   },
   "outputs": [
    {
     "data": {
      "text/html": [
       "<div>\n",
       "<style scoped>\n",
       "    .dataframe tbody tr th:only-of-type {\n",
       "        vertical-align: middle;\n",
       "    }\n",
       "\n",
       "    .dataframe tbody tr th {\n",
       "        vertical-align: top;\n",
       "    }\n",
       "\n",
       "    .dataframe thead th {\n",
       "        text-align: right;\n",
       "    }\n",
       "</style>\n",
       "<table border=\"1\" class=\"dataframe\">\n",
       "  <thead>\n",
       "    <tr style=\"text-align: right;\">\n",
       "      <th></th>\n",
       "      <th></th>\n",
       "      <th></th>\n",
       "      <th>Total</th>\n",
       "      <th>Survived</th>\n",
       "      <th>Rate</th>\n",
       "    </tr>\n",
       "    <tr>\n",
       "      <th>Embarked</th>\n",
       "      <th>Pclass</th>\n",
       "      <th>IsMale</th>\n",
       "      <th></th>\n",
       "      <th></th>\n",
       "      <th></th>\n",
       "    </tr>\n",
       "  </thead>\n",
       "  <tbody>\n",
       "    <tr>\n",
       "      <th rowspan=\"6\" valign=\"top\">C</th>\n",
       "      <th rowspan=\"2\" valign=\"top\">1</th>\n",
       "      <th>0</th>\n",
       "      <td>43</td>\n",
       "      <td>42</td>\n",
       "      <td>0.976744</td>\n",
       "    </tr>\n",
       "    <tr>\n",
       "      <th>1</th>\n",
       "      <td>42</td>\n",
       "      <td>17</td>\n",
       "      <td>0.404762</td>\n",
       "    </tr>\n",
       "    <tr>\n",
       "      <th rowspan=\"2\" valign=\"top\">2</th>\n",
       "      <th>0</th>\n",
       "      <td>7</td>\n",
       "      <td>7</td>\n",
       "      <td>1.000000</td>\n",
       "    </tr>\n",
       "    <tr>\n",
       "      <th>1</th>\n",
       "      <td>10</td>\n",
       "      <td>2</td>\n",
       "      <td>0.200000</td>\n",
       "    </tr>\n",
       "    <tr>\n",
       "      <th rowspan=\"2\" valign=\"top\">3</th>\n",
       "      <th>0</th>\n",
       "      <td>23</td>\n",
       "      <td>15</td>\n",
       "      <td>0.652174</td>\n",
       "    </tr>\n",
       "    <tr>\n",
       "      <th>1</th>\n",
       "      <td>43</td>\n",
       "      <td>10</td>\n",
       "      <td>0.232558</td>\n",
       "    </tr>\n",
       "    <tr>\n",
       "      <th rowspan=\"6\" valign=\"top\">Q</th>\n",
       "      <th rowspan=\"2\" valign=\"top\">1</th>\n",
       "      <th>0</th>\n",
       "      <td>1</td>\n",
       "      <td>1</td>\n",
       "      <td>1.000000</td>\n",
       "    </tr>\n",
       "    <tr>\n",
       "      <th>1</th>\n",
       "      <td>1</td>\n",
       "      <td>0</td>\n",
       "      <td>0.000000</td>\n",
       "    </tr>\n",
       "    <tr>\n",
       "      <th rowspan=\"2\" valign=\"top\">2</th>\n",
       "      <th>0</th>\n",
       "      <td>2</td>\n",
       "      <td>2</td>\n",
       "      <td>1.000000</td>\n",
       "    </tr>\n",
       "    <tr>\n",
       "      <th>1</th>\n",
       "      <td>1</td>\n",
       "      <td>0</td>\n",
       "      <td>0.000000</td>\n",
       "    </tr>\n",
       "    <tr>\n",
       "      <th rowspan=\"2\" valign=\"top\">3</th>\n",
       "      <th>0</th>\n",
       "      <td>33</td>\n",
       "      <td>24</td>\n",
       "      <td>0.727273</td>\n",
       "    </tr>\n",
       "    <tr>\n",
       "      <th>1</th>\n",
       "      <td>39</td>\n",
       "      <td>3</td>\n",
       "      <td>0.076923</td>\n",
       "    </tr>\n",
       "    <tr>\n",
       "      <th rowspan=\"6\" valign=\"top\">S</th>\n",
       "      <th rowspan=\"2\" valign=\"top\">1</th>\n",
       "      <th>0</th>\n",
       "      <td>48</td>\n",
       "      <td>46</td>\n",
       "      <td>0.958333</td>\n",
       "    </tr>\n",
       "    <tr>\n",
       "      <th>1</th>\n",
       "      <td>79</td>\n",
       "      <td>28</td>\n",
       "      <td>0.354430</td>\n",
       "    </tr>\n",
       "    <tr>\n",
       "      <th rowspan=\"2\" valign=\"top\">2</th>\n",
       "      <th>0</th>\n",
       "      <td>67</td>\n",
       "      <td>61</td>\n",
       "      <td>0.910448</td>\n",
       "    </tr>\n",
       "    <tr>\n",
       "      <th>1</th>\n",
       "      <td>97</td>\n",
       "      <td>15</td>\n",
       "      <td>0.154639</td>\n",
       "    </tr>\n",
       "    <tr>\n",
       "      <th rowspan=\"2\" valign=\"top\">3</th>\n",
       "      <th>0</th>\n",
       "      <td>88</td>\n",
       "      <td>33</td>\n",
       "      <td>0.375000</td>\n",
       "    </tr>\n",
       "    <tr>\n",
       "      <th>1</th>\n",
       "      <td>265</td>\n",
       "      <td>34</td>\n",
       "      <td>0.128302</td>\n",
       "    </tr>\n",
       "  </tbody>\n",
       "</table>\n",
       "</div>"
      ],
      "text/plain": [
       "                        Total  Survived      Rate\n",
       "Embarked Pclass IsMale                           \n",
       "C        1      0          43        42  0.976744\n",
       "                1          42        17  0.404762\n",
       "         2      0           7         7  1.000000\n",
       "                1          10         2  0.200000\n",
       "         3      0          23        15  0.652174\n",
       "                1          43        10  0.232558\n",
       "Q        1      0           1         1  1.000000\n",
       "                1           1         0  0.000000\n",
       "         2      0           2         2  1.000000\n",
       "                1           1         0  0.000000\n",
       "         3      0          33        24  0.727273\n",
       "                1          39         3  0.076923\n",
       "S        1      0          48        46  0.958333\n",
       "                1          79        28  0.354430\n",
       "         2      0          67        61  0.910448\n",
       "                1          97        15  0.154639\n",
       "         3      0          88        33  0.375000\n",
       "                1         265        34  0.128302"
      ]
     },
     "execution_count": 26,
     "metadata": {},
     "output_type": "execute_result"
    }
   ],
   "source": [
    "# Passengers grouped by Embarked, Pclass, and IsMale\n",
    "embarked_corr = (train[['Survived', 'Embarked', 'Pclass', 'IsMale']].groupby(['Embarked', 'Pclass', 'IsMale'])                                            \n",
    "                                                                    .agg(['count', 'sum', 'mean']))\n",
    "embarked_corr.columns = embarked_corr.columns.droplevel(0)\n",
    "embarked_corr.columns = ['Total', 'Survived', 'Rate']\n",
    "embarked_corr"
   ]
  },
  {
   "cell_type": "markdown",
   "metadata": {
    "_uuid": "1886120e86ed4f14cb764bf0df047d3dd4da315d"
   },
   "source": [
    "We see that in `Southampton (S)` a high number of 3rd class males embarked on the Titanic, so a low survival rate is to be expected. A high number of 1st class passengers embarked in `Cherbourg (C)`, so we see a high survival rate. In `Queenstown (Q)`, however, the chart shows something that I was not expecting given the following observations:\n",
    "- the vast majority of passengers are 3rd class passengers;\n",
    "- the number of males and females is comparable.\n",
    "\n",
    "Given these conditions, the survival rate should be correlated only to `IsMale`, and that is true for females; males however end-up with half the survival rate. Though this is a sample of 42 males in a population of 577, it's not enough to convince me that `Embarked` is independently correlated with survival."
   ]
  },
  {
   "cell_type": "code",
   "execution_count": 27,
   "metadata": {
    "_uuid": "fdd83674ddf38ffabd2d0b78ac543d7ea7690cdc"
   },
   "outputs": [],
   "source": [
    "train.drop(columns='Embarked', inplace=True)\n",
    "test.drop(columns='Embarked', inplace=True)"
   ]
  },
  {
   "cell_type": "markdown",
   "metadata": {
    "_uuid": "65a1d3f125f961e974d75636c0590dcb3406add3"
   },
   "source": [
    "## 3.6 Fare <a class=\"anchor\" id=\"fare\"></a>\n",
    "Despite the fact that the [Titanic: Machine Learning from Disaster data page](https://www.kaggle.com/c/titanic/data) states that `Fare` is the passenger fare, I'm convinced that it's actually the ticket fare. Therefore, we will devide `Fare` by the ticket frequency (`TicketFreq`) to compute the actual passenger fare (`PassengerFare`)."
   ]
  },
  {
   "cell_type": "code",
   "execution_count": 28,
   "metadata": {},
   "outputs": [
    {
     "data": {
      "text/html": [
       "<div>\n",
       "<style scoped>\n",
       "    .dataframe tbody tr th:only-of-type {\n",
       "        vertical-align: middle;\n",
       "    }\n",
       "\n",
       "    .dataframe tbody tr th {\n",
       "        vertical-align: top;\n",
       "    }\n",
       "\n",
       "    .dataframe thead th {\n",
       "        text-align: right;\n",
       "    }\n",
       "</style>\n",
       "<table border=\"1\" class=\"dataframe\">\n",
       "  <thead>\n",
       "    <tr style=\"text-align: right;\">\n",
       "      <th></th>\n",
       "      <th>Survived</th>\n",
       "      <th>Pclass</th>\n",
       "      <th>Name</th>\n",
       "      <th>SibSp</th>\n",
       "      <th>Parch</th>\n",
       "      <th>Ticket</th>\n",
       "      <th>Fare</th>\n",
       "      <th>AgeBand</th>\n",
       "      <th>IsMale</th>\n",
       "      <th>PassengerFare</th>\n",
       "    </tr>\n",
       "  </thead>\n",
       "  <tbody>\n",
       "    <tr>\n",
       "      <th>0</th>\n",
       "      <td>0</td>\n",
       "      <td>3</td>\n",
       "      <td>Braund, Mr. Owen Harris</td>\n",
       "      <td>1</td>\n",
       "      <td>0</td>\n",
       "      <td>A/5 21171</td>\n",
       "      <td>7.2500</td>\n",
       "      <td>1</td>\n",
       "      <td>1</td>\n",
       "      <td>7.25000</td>\n",
       "    </tr>\n",
       "    <tr>\n",
       "      <th>1</th>\n",
       "      <td>1</td>\n",
       "      <td>1</td>\n",
       "      <td>Cumings, Mrs. John Bradley (Florence Briggs Th...</td>\n",
       "      <td>1</td>\n",
       "      <td>0</td>\n",
       "      <td>PC 17599</td>\n",
       "      <td>71.2833</td>\n",
       "      <td>2</td>\n",
       "      <td>0</td>\n",
       "      <td>35.64165</td>\n",
       "    </tr>\n",
       "  </tbody>\n",
       "</table>\n",
       "</div>"
      ],
      "text/plain": [
       "   Survived  Pclass                                               Name  SibSp  \\\n",
       "0         0       3                            Braund, Mr. Owen Harris      1   \n",
       "1         1       1  Cumings, Mrs. John Bradley (Florence Briggs Th...      1   \n",
       "\n",
       "   Parch     Ticket     Fare  AgeBand  IsMale  PassengerFare  \n",
       "0      0  A/5 21171   7.2500        1       1        7.25000  \n",
       "1      0   PC 17599  71.2833        2       0       35.64165  "
      ]
     },
     "execution_count": 28,
     "metadata": {},
     "output_type": "execute_result"
    }
   ],
   "source": [
    "dataset = pd.concat([train, test], sort=True)\n",
    "dataset['TicketFreq'] = dataset.groupby('Ticket')['Ticket'].transform('count')\n",
    "dataset['PassengerFare'] = dataset['Fare'] / dataset['TicketFreq']\n",
    "\n",
    "# Add PassengerFare to the training and test sets\n",
    "train['PassengerFare'] = dataset['PassengerFare'].iloc[:train_len]\n",
    "test['PassengerFare'] = dataset['PassengerFare'].iloc[train_len:]\n",
    "train.head(2)"
   ]
  },
  {
   "cell_type": "code",
   "execution_count": 29,
   "metadata": {
    "_uuid": "28064e0ff4c1cc6d41eb280b243e352f150bb73d"
   },
   "outputs": [
    {
     "data": {
      "image/png": "[encoded data removed]",
      "text/plain": [
       "<Figure size 432x288 with 1 Axes>"
      ]
     },
     "metadata": {},
     "output_type": "display_data"
    }
   ],
   "source": [
    "num_fare_bins = 3\n",
    "train['FareBand'], fare_bins = pd.qcut(train['PassengerFare'], num_fare_bins, retbins=True)\n",
    "_ = sns.countplot(x='FareBand', hue='Survived', data=train)\n",
    "_ = plt.xticks(rotation=30, ha='right')"
   ]
  },
  {
   "cell_type": "markdown",
   "metadata": {
    "_uuid": "30c5486c33570bbffcd1399bb56096977b7138d1"
   },
   "source": [
    "We see that as `Fare` increases, the survival rate also increases, awesome...well, it's also likely that this feature is highly related to `Pclass`, lower `Pclass` should translate to higher `PassengerFare`. "
   ]
  },
  {
   "cell_type": "code",
   "execution_count": 30,
   "metadata": {
    "_uuid": "ca59eb1e6ffa49a5095dc7739ec24f65a5804722",
    "scrolled": false
   },
   "outputs": [
    {
     "name": "stderr",
     "output_type": "stream",
     "text": [
      "/home/davidtvs/datascience/kaggle/Titanic/titanic-env/lib/python3.5/site-packages/seaborn/categorical.py:3666: UserWarning: The `factorplot` function has been renamed to `catplot`. The original name will be removed in a future release. Please update your code. Note that the default `kind` in `factorplot` (`'point'`) has changed `'strip'` in `catplot`.\n",
      "  warnings.warn(msg)\n"
     ]
    },
    {
     "data": {
      "image/png": "[encoded data removed]",
      "text/plain": [
       "<Figure size 1080x360 with 3 Axes>"
      ]
     },
     "metadata": {},
     "output_type": "display_data"
    }
   ],
   "source": [
    "# Plot relationship between FareBand and Pclass\n",
    "g = sns.factorplot(x='FareBand', col='Pclass', data=train, kind='count')\n",
    "_ = g.set_xticklabels(rotation=30, ha='right')"
   ]
  },
  {
   "cell_type": "markdown",
   "metadata": {},
   "source": [
    "`FareBand` describes `Pclass` 1 and 2 almost perfectly. But why are there so many passengers with `Pclass = 3` tickets with fares expected for `Pclass = 2`? Let's compare the mean and standard deviation of passengers with `Pclass = 2 & FareBand = (7.775, 13.0]` and `Pclass = 3 & FareBand = (7.775, 13.0]`"
   ]
  },
  {
   "cell_type": "code",
   "execution_count": 31,
   "metadata": {
    "scrolled": true
   },
   "outputs": [
    {
     "data": {
      "text/html": [
       "<div>\n",
       "<style scoped>\n",
       "    .dataframe tbody tr th:only-of-type {\n",
       "        vertical-align: middle;\n",
       "    }\n",
       "\n",
       "    .dataframe tbody tr th {\n",
       "        vertical-align: top;\n",
       "    }\n",
       "\n",
       "    .dataframe thead tr th {\n",
       "        text-align: left;\n",
       "    }\n",
       "\n",
       "    .dataframe thead tr:last-of-type th {\n",
       "        text-align: right;\n",
       "    }\n",
       "</style>\n",
       "<table border=\"1\" class=\"dataframe\">\n",
       "  <thead>\n",
       "    <tr>\n",
       "      <th></th>\n",
       "      <th colspan=\"2\" halign=\"left\">PassengerFare</th>\n",
       "    </tr>\n",
       "    <tr>\n",
       "      <th></th>\n",
       "      <th>mean</th>\n",
       "      <th>std</th>\n",
       "    </tr>\n",
       "    <tr>\n",
       "      <th>Pclass</th>\n",
       "      <th></th>\n",
       "      <th></th>\n",
       "    </tr>\n",
       "  </thead>\n",
       "  <tbody>\n",
       "    <tr>\n",
       "      <th>2</th>\n",
       "      <td>11.663122</td>\n",
       "      <td>1.490713</td>\n",
       "    </tr>\n",
       "    <tr>\n",
       "      <th>3</th>\n",
       "      <td>8.253337</td>\n",
       "      <td>0.569403</td>\n",
       "    </tr>\n",
       "  </tbody>\n",
       "</table>\n",
       "</div>"
      ],
      "text/plain": [
       "       PassengerFare          \n",
       "                mean       std\n",
       "Pclass                        \n",
       "2          11.663122  1.490713\n",
       "3           8.253337  0.569403"
      ]
     },
     "execution_count": 31,
     "metadata": {},
     "output_type": "execute_result"
    }
   ],
   "source": [
    "interval = pd.Interval(left=7.775, right=13.0)\n",
    "mask = (train['FareBand'] == interval) & (train['Pclass'] != 1)\n",
    "train.loc[mask, ['Pclass', 'PassengerFare']].groupby('Pclass').agg(['mean', 'std'])"
   ]
  },
  {
   "cell_type": "markdown",
   "metadata": {},
   "source": [
    "The table shows that passengers with 3rd class tickets paid, on average, a fare of 8.25, close to the lower bound of thi fare range ((7.775, 13]). Passengers with 2nd class tickets paid on average 11.66, close to the upper bound. The standard deviation is also much lower for 3rd class passengers.\n",
    "\n",
    "From these observations, I think that many of the 3rd class passengers in this fare range belong to groups where one or more members (given the low standard deviation one is more likely) are not in the public dataset. Missing a passenger in a ticket group translates into a lower `TicketFreq` and a higher `PassengerFare`/`Fare`.\n",
    "\n",
    "In conclusion, if we had the complete dataset `PassengerFare`/`Fare` would describe `Pclass`. Therefore, we'll drop `FareBand` and keep `Pclass`."
   ]
  },
  {
   "cell_type": "code",
   "execution_count": 32,
   "metadata": {},
   "outputs": [
    {
     "data": {
      "text/html": [
       "<div>\n",
       "<style scoped>\n",
       "    .dataframe tbody tr th:only-of-type {\n",
       "        vertical-align: middle;\n",
       "    }\n",
       "\n",
       "    .dataframe tbody tr th {\n",
       "        vertical-align: top;\n",
       "    }\n",
       "\n",
       "    .dataframe thead th {\n",
       "        text-align: right;\n",
       "    }\n",
       "</style>\n",
       "<table border=\"1\" class=\"dataframe\">\n",
       "  <thead>\n",
       "    <tr style=\"text-align: right;\">\n",
       "      <th></th>\n",
       "      <th>Survived</th>\n",
       "      <th>Pclass</th>\n",
       "      <th>Name</th>\n",
       "      <th>SibSp</th>\n",
       "      <th>Parch</th>\n",
       "      <th>Ticket</th>\n",
       "      <th>AgeBand</th>\n",
       "      <th>IsMale</th>\n",
       "    </tr>\n",
       "  </thead>\n",
       "  <tbody>\n",
       "    <tr>\n",
       "      <th>0</th>\n",
       "      <td>0</td>\n",
       "      <td>3</td>\n",
       "      <td>Braund, Mr. Owen Harris</td>\n",
       "      <td>1</td>\n",
       "      <td>0</td>\n",
       "      <td>A/5 21171</td>\n",
       "      <td>1</td>\n",
       "      <td>1</td>\n",
       "    </tr>\n",
       "    <tr>\n",
       "      <th>1</th>\n",
       "      <td>1</td>\n",
       "      <td>1</td>\n",
       "      <td>Cumings, Mrs. John Bradley (Florence Briggs Th...</td>\n",
       "      <td>1</td>\n",
       "      <td>0</td>\n",
       "      <td>PC 17599</td>\n",
       "      <td>2</td>\n",
       "      <td>0</td>\n",
       "    </tr>\n",
       "  </tbody>\n",
       "</table>\n",
       "</div>"
      ],
      "text/plain": [
       "   Survived  Pclass                                               Name  SibSp  \\\n",
       "0         0       3                            Braund, Mr. Owen Harris      1   \n",
       "1         1       1  Cumings, Mrs. John Bradley (Florence Briggs Th...      1   \n",
       "\n",
       "   Parch     Ticket  AgeBand  IsMale  \n",
       "0      0  A/5 21171        1       1  \n",
       "1      0   PC 17599        2       0  "
      ]
     },
     "execution_count": 32,
     "metadata": {},
     "output_type": "execute_result"
    }
   ],
   "source": [
    "train.drop(columns=['Fare', 'PassengerFare', 'FareBand'], inplace=True)\n",
    "test.drop(columns=['Fare', 'PassengerFare'], inplace=True)\n",
    "\n",
    "train.head(2)"
   ]
  },
  {
   "cell_type": "markdown",
   "metadata": {
    "_uuid": "f849e17ea98fe4a8b2d78e960db6d7dfe5961689"
   },
   "source": [
    "# 4. Engineering Groups of Passengers <a class=\"anchor\" id=\"engineer\"></a>\n",
    "\n",
    "Many kernels have explored `SibSp` and `Parch` to engineer family related features. However, in recent months the top kernels have found that `SibSp` and `Parch` contain inconsistencies (see the excellent work by [Erik Bruin](https://www.kaggle.com/erikbruin/titanic-2nd-degree-families-and-majority-voting)) and that looking at groups of passengers travelling together instead of just families yields better results (see [Blood is thicker than water & friendship forever](https://www.kaggle.com/shunjiangxu/blood-is-thicker-than-water-friendship-forever), [Titanic \\[0.82\\] - \\[0.83\\]](https://www.kaggle.com/konstantinmasich/titanic-0-82-0-83), [Titanic using Name only \\[0.81818\\]](https://www.kaggle.com/cdeotte/titanic-using-name-only-0-81818/notebook), and [Titantic Mega Model - \\[0.84210\\]\n",
    "](https://www.kaggle.com/cdeotte/titantic-mega-model-0-84210) for some great work using groups of passengers).\n",
    "\n",
    "With this knowledge we are going to engineer four new features derived from groups of passengers:\n",
    "- `InGroup`: the passenger is traveling with other passengers or not;\n",
    "- `InWcg`: the passenger is a member of a woman-child group or not;\n",
    "- `WcgAllSurvived`: whether the members of the woman-child group all survived;\n",
    "- `WcgAllDied`: whether the members of the woman-child group all died.\n",
    "\n",
    "## 4.1 Identifying groups of passengers <a class=\"anchor\" id=\"identify-groups\"></a>\n",
    "\n",
    "To engineer these features we first have to define what's a group and identify which passengers belong to which group. Similarly to [Blood is thicker than water & friendship forever](https://www.kaggle.com/shunjiangxu/blood-is-thicker-than-water-friendship-forever) we are going to define a group as a set of passengers that all share at least one of the following conditions (inspired by [Titantic Mega Model - \\[0.84210\\]\n",
    "](https://www.kaggle.com/cdeotte/titantic-mega-model-0-84210)):\n",
    "1. Combination of: surname, PClass, ticket number (excluding the last digit), and embarked;\n",
    "2. Ticket number.\n",
    "\n",
    "The first condition will identify mostly families while the second will identify groups of friends that share the same ticket, or even passengers traveling with families (e.g. maidens)."
   ]
  },
  {
   "cell_type": "code",
   "execution_count": 33,
   "metadata": {
    "_uuid": "8201ec979fe2cdbf04805b4bbc5f3a5609dc3274"
   },
   "outputs": [],
   "source": [
    "# Create the new feature for the whole dataset \n",
    "# (I am using _train and _test because train and test no longer contain 'Embarked')\n",
    "dataset = pd.concat([_train, _test], sort=True, ignore_index=True)"
   ]
  },
  {
   "cell_type": "markdown",
   "metadata": {
    "_uuid": "3c298d8d32270cef88d9c0c6c5590406c6a70916"
   },
   "source": [
    "### 4.1.1 Identifying groups by surname, Pclass, ticket number (excluding last digit), and embarked (SPTE) <a class=\"anchor\" id=\"spte\"></a>"
   ]
  },
  {
   "cell_type": "code",
   "execution_count": 34,
   "metadata": {
    "_uuid": "d771af75aa2c56873ec7874473d68c32979479e3",
    "scrolled": true
   },
   "outputs": [
    {
     "data": {
      "text/html": [
       "<div>\n",
       "<style scoped>\n",
       "    .dataframe tbody tr th:only-of-type {\n",
       "        vertical-align: middle;\n",
       "    }\n",
       "\n",
       "    .dataframe tbody tr th {\n",
       "        vertical-align: top;\n",
       "    }\n",
       "\n",
       "    .dataframe thead th {\n",
       "        text-align: right;\n",
       "    }\n",
       "</style>\n",
       "<table border=\"1\" class=\"dataframe\">\n",
       "  <thead>\n",
       "    <tr style=\"text-align: right;\">\n",
       "      <th></th>\n",
       "      <th>Age</th>\n",
       "      <th>Cabin</th>\n",
       "      <th>Embarked</th>\n",
       "      <th>Fare</th>\n",
       "      <th>Name</th>\n",
       "      <th>Parch</th>\n",
       "      <th>PassengerId</th>\n",
       "      <th>Pclass</th>\n",
       "      <th>Sex</th>\n",
       "      <th>SibSp</th>\n",
       "      <th>Survived</th>\n",
       "      <th>Ticket</th>\n",
       "      <th>GroupId</th>\n",
       "    </tr>\n",
       "  </thead>\n",
       "  <tbody>\n",
       "    <tr>\n",
       "      <th>1304</th>\n",
       "      <td>NaN</td>\n",
       "      <td>NaN</td>\n",
       "      <td>S</td>\n",
       "      <td>8.0500</td>\n",
       "      <td>Spector, Mr. Woolf</td>\n",
       "      <td>0</td>\n",
       "      <td>1305</td>\n",
       "      <td>3</td>\n",
       "      <td>male</td>\n",
       "      <td>0</td>\n",
       "      <td>NaN</td>\n",
       "      <td>A.5. 3236</td>\n",
       "      <td>0</td>\n",
       "    </tr>\n",
       "    <tr>\n",
       "      <th>1305</th>\n",
       "      <td>39.0</td>\n",
       "      <td>C105</td>\n",
       "      <td>C</td>\n",
       "      <td>108.9000</td>\n",
       "      <td>Oliva y Ocana, Dona. Fermina</td>\n",
       "      <td>0</td>\n",
       "      <td>1306</td>\n",
       "      <td>1</td>\n",
       "      <td>female</td>\n",
       "      <td>0</td>\n",
       "      <td>NaN</td>\n",
       "      <td>PC 17758</td>\n",
       "      <td>0</td>\n",
       "    </tr>\n",
       "    <tr>\n",
       "      <th>1306</th>\n",
       "      <td>38.5</td>\n",
       "      <td>NaN</td>\n",
       "      <td>S</td>\n",
       "      <td>7.2500</td>\n",
       "      <td>Saether, Mr. Simon Sivertsen</td>\n",
       "      <td>0</td>\n",
       "      <td>1307</td>\n",
       "      <td>3</td>\n",
       "      <td>male</td>\n",
       "      <td>0</td>\n",
       "      <td>NaN</td>\n",
       "      <td>SOTON/O.Q. 3101262</td>\n",
       "      <td>0</td>\n",
       "    </tr>\n",
       "    <tr>\n",
       "      <th>1307</th>\n",
       "      <td>NaN</td>\n",
       "      <td>NaN</td>\n",
       "      <td>S</td>\n",
       "      <td>8.0500</td>\n",
       "      <td>Ware, Mr. Frederick</td>\n",
       "      <td>0</td>\n",
       "      <td>1308</td>\n",
       "      <td>3</td>\n",
       "      <td>male</td>\n",
       "      <td>0</td>\n",
       "      <td>NaN</td>\n",
       "      <td>359309</td>\n",
       "      <td>0</td>\n",
       "    </tr>\n",
       "    <tr>\n",
       "      <th>1308</th>\n",
       "      <td>NaN</td>\n",
       "      <td>NaN</td>\n",
       "      <td>C</td>\n",
       "      <td>22.3583</td>\n",
       "      <td>Peter, Master. Michael J</td>\n",
       "      <td>1</td>\n",
       "      <td>1309</td>\n",
       "      <td>3</td>\n",
       "      <td>male</td>\n",
       "      <td>1</td>\n",
       "      <td>NaN</td>\n",
       "      <td>2668</td>\n",
       "      <td>129</td>\n",
       "    </tr>\n",
       "  </tbody>\n",
       "</table>\n",
       "</div>"
      ],
      "text/plain": [
       "       Age Cabin Embarked      Fare                          Name  Parch  \\\n",
       "1304   NaN   NaN        S    8.0500            Spector, Mr. Woolf      0   \n",
       "1305  39.0  C105        C  108.9000  Oliva y Ocana, Dona. Fermina      0   \n",
       "1306  38.5   NaN        S    7.2500  Saether, Mr. Simon Sivertsen      0   \n",
       "1307   NaN   NaN        S    8.0500           Ware, Mr. Frederick      0   \n",
       "1308   NaN   NaN        C   22.3583      Peter, Master. Michael J      1   \n",
       "\n",
       "      PassengerId  Pclass     Sex  SibSp  Survived              Ticket  \\\n",
       "1304         1305       3    male      0       NaN           A.5. 3236   \n",
       "1305         1306       1  female      0       NaN            PC 17758   \n",
       "1306         1307       3    male      0       NaN  SOTON/O.Q. 3101262   \n",
       "1307         1308       3    male      0       NaN              359309   \n",
       "1308         1309       3    male      1       NaN                2668   \n",
       "\n",
       "      GroupId  \n",
       "1304        0  \n",
       "1305        0  \n",
       "1306        0  \n",
       "1307        0  \n",
       "1308      129  "
      ]
     },
     "execution_count": 34,
     "metadata": {},
     "output_type": "execute_result"
    }
   ],
   "source": [
    "surname = dataset['Name'].apply(lambda x: x[:x.find(',')])\n",
    "ticket = dataset['Ticket'].apply(lambda x: x[:-1])\n",
    "\n",
    "dataset['SPTE'] = (surname.astype(str) + '-' + dataset['Pclass'].astype(str) + '-'\n",
    "           + ticket.astype(str) + '-' + dataset['Embarked'].astype(str))\n",
    "\n",
    "spte_count = dataset['SPTE'].value_counts(sort=False)\n",
    "\n",
    "def spte_group_lebeler(group):\n",
    "    group_elements = dataset.loc[dataset['SPTE'] == group, 'PassengerId']\n",
    "    if len(group_elements) == 1:\n",
    "        return 0\n",
    "    else:\n",
    "        return group_elements.min()\n",
    "\n",
    "dataset['GroupId'] = dataset['SPTE'].apply(spte_group_lebeler)\n",
    "dataset.drop(columns='SPTE', inplace=True)\n",
    "dataset.tail()"
   ]
  },
  {
   "cell_type": "markdown",
   "metadata": {
    "_uuid": "ba07384c87bc4f9c34259ce8b269932f9ac56ffe"
   },
   "source": [
    "\n",
    "### 4.1.2 Identifying groups by ticket number <a class=\"anchor\" id=\"ticket\"></a>"
   ]
  },
  {
   "cell_type": "code",
   "execution_count": 35,
   "metadata": {
    "_uuid": "9deba808c6be0b7957de0272c0861e7c3af08a71",
    "scrolled": true
   },
   "outputs": [
    {
     "data": {
      "text/html": [
       "<div>\n",
       "<style scoped>\n",
       "    .dataframe tbody tr th:only-of-type {\n",
       "        vertical-align: middle;\n",
       "    }\n",
       "\n",
       "    .dataframe tbody tr th {\n",
       "        vertical-align: top;\n",
       "    }\n",
       "\n",
       "    .dataframe thead th {\n",
       "        text-align: right;\n",
       "    }\n",
       "</style>\n",
       "<table border=\"1\" class=\"dataframe\">\n",
       "  <thead>\n",
       "    <tr style=\"text-align: right;\">\n",
       "      <th></th>\n",
       "      <th>Age</th>\n",
       "      <th>Cabin</th>\n",
       "      <th>Embarked</th>\n",
       "      <th>Fare</th>\n",
       "      <th>Name</th>\n",
       "      <th>Parch</th>\n",
       "      <th>PassengerId</th>\n",
       "      <th>Pclass</th>\n",
       "      <th>Sex</th>\n",
       "      <th>SibSp</th>\n",
       "      <th>Survived</th>\n",
       "      <th>Ticket</th>\n",
       "      <th>GroupId</th>\n",
       "    </tr>\n",
       "  </thead>\n",
       "  <tbody>\n",
       "    <tr>\n",
       "      <th>1304</th>\n",
       "      <td>NaN</td>\n",
       "      <td>NaN</td>\n",
       "      <td>S</td>\n",
       "      <td>8.0500</td>\n",
       "      <td>Spector, Mr. Woolf</td>\n",
       "      <td>0</td>\n",
       "      <td>1305</td>\n",
       "      <td>3</td>\n",
       "      <td>male</td>\n",
       "      <td>0</td>\n",
       "      <td>NaN</td>\n",
       "      <td>A.5. 3236</td>\n",
       "      <td>0</td>\n",
       "    </tr>\n",
       "    <tr>\n",
       "      <th>1305</th>\n",
       "      <td>39.0</td>\n",
       "      <td>C105</td>\n",
       "      <td>C</td>\n",
       "      <td>108.9000</td>\n",
       "      <td>Oliva y Ocana, Dona. Fermina</td>\n",
       "      <td>0</td>\n",
       "      <td>1306</td>\n",
       "      <td>1</td>\n",
       "      <td>female</td>\n",
       "      <td>0</td>\n",
       "      <td>NaN</td>\n",
       "      <td>PC 17758</td>\n",
       "      <td>308</td>\n",
       "    </tr>\n",
       "    <tr>\n",
       "      <th>1306</th>\n",
       "      <td>38.5</td>\n",
       "      <td>NaN</td>\n",
       "      <td>S</td>\n",
       "      <td>7.2500</td>\n",
       "      <td>Saether, Mr. Simon Sivertsen</td>\n",
       "      <td>0</td>\n",
       "      <td>1307</td>\n",
       "      <td>3</td>\n",
       "      <td>male</td>\n",
       "      <td>0</td>\n",
       "      <td>NaN</td>\n",
       "      <td>SOTON/O.Q. 3101262</td>\n",
       "      <td>0</td>\n",
       "    </tr>\n",
       "    <tr>\n",
       "      <th>1307</th>\n",
       "      <td>NaN</td>\n",
       "      <td>NaN</td>\n",
       "      <td>S</td>\n",
       "      <td>8.0500</td>\n",
       "      <td>Ware, Mr. Frederick</td>\n",
       "      <td>0</td>\n",
       "      <td>1308</td>\n",
       "      <td>3</td>\n",
       "      <td>male</td>\n",
       "      <td>0</td>\n",
       "      <td>NaN</td>\n",
       "      <td>359309</td>\n",
       "      <td>0</td>\n",
       "    </tr>\n",
       "    <tr>\n",
       "      <th>1308</th>\n",
       "      <td>NaN</td>\n",
       "      <td>NaN</td>\n",
       "      <td>C</td>\n",
       "      <td>22.3583</td>\n",
       "      <td>Peter, Master. Michael J</td>\n",
       "      <td>1</td>\n",
       "      <td>1309</td>\n",
       "      <td>3</td>\n",
       "      <td>male</td>\n",
       "      <td>1</td>\n",
       "      <td>NaN</td>\n",
       "      <td>2668</td>\n",
       "      <td>129</td>\n",
       "    </tr>\n",
       "  </tbody>\n",
       "</table>\n",
       "</div>"
      ],
      "text/plain": [
       "       Age Cabin Embarked      Fare                          Name  Parch  \\\n",
       "1304   NaN   NaN        S    8.0500            Spector, Mr. Woolf      0   \n",
       "1305  39.0  C105        C  108.9000  Oliva y Ocana, Dona. Fermina      0   \n",
       "1306  38.5   NaN        S    7.2500  Saether, Mr. Simon Sivertsen      0   \n",
       "1307   NaN   NaN        S    8.0500           Ware, Mr. Frederick      0   \n",
       "1308   NaN   NaN        C   22.3583      Peter, Master. Michael J      1   \n",
       "\n",
       "      PassengerId  Pclass     Sex  SibSp  Survived              Ticket  \\\n",
       "1304         1305       3    male      0       NaN           A.5. 3236   \n",
       "1305         1306       1  female      0       NaN            PC 17758   \n",
       "1306         1307       3    male      0       NaN  SOTON/O.Q. 3101262   \n",
       "1307         1308       3    male      0       NaN              359309   \n",
       "1308         1309       3    male      1       NaN                2668   \n",
       "\n",
       "      GroupId  \n",
       "1304        0  \n",
       "1305      308  \n",
       "1306        0  \n",
       "1307        0  \n",
       "1308      129  "
      ]
     },
     "execution_count": 35,
     "metadata": {},
     "output_type": "execute_result"
    }
   ],
   "source": [
    "# Groups that share the same ticket number\n",
    "def ticket_group_labeler(group):\n",
    "    unique_groups = group.unique()\n",
    "    if len(unique_groups) == 1:\n",
    "        return unique_groups[0]\n",
    "    elif len(unique_groups) == 2 and min(unique_groups) == 0:\n",
    "        return dataset.loc[group.index, 'PassengerId'].min()\n",
    "    else:\n",
    "        raise ValueError(\"Found conflict between SPTE and ticket grouping:\\n\\n{}\".format(dataset.loc[group.index]))\n",
    "\n",
    "dataset['GroupId'] = dataset.groupby('Ticket')['GroupId'].transform(ticket_group_labeler)\n",
    "dataset.tail()"
   ]
  },
  {
   "cell_type": "markdown",
   "metadata": {},
   "source": [
    "## 4.2 Engineer InGroup <a class=\"anchor\" id=\"ingroup\"></a>\n",
    "\n",
    "`InGroup` is `1` if the passenger is in a group (`GroupId` is not unique); otherwise is `0`."
   ]
  },
  {
   "cell_type": "code",
   "execution_count": 36,
   "metadata": {
    "scrolled": false
   },
   "outputs": [
    {
     "data": {
      "text/plain": [
       "InGroup\n",
       "0    0.315175\n",
       "1    0.477454\n",
       "Name: Survived, dtype: float64"
      ]
     },
     "execution_count": 36,
     "metadata": {},
     "output_type": "execute_result"
    },
    {
     "data": {
      "image/png": "[encoded data removed]",
      "text/plain": [
       "<Figure size 432x288 with 1 Axes>"
      ]
     },
     "metadata": {},
     "output_type": "display_data"
    }
   ],
   "source": [
    "# Calculate the size of each group\n",
    "dataset['GroupSize'] = dataset.groupby('GroupId')['GroupId'].transform('count')\n",
    "dataset.loc[dataset['GroupId'] == 0, 'GroupSize'] = 1\n",
    "\n",
    "# InGroup is 1 for groups with more than one member\n",
    "dataset['InGroup'] = (dataset['GroupSize'] > 1).astype(int)\n",
    "\n",
    "# Add to the train and test datasets\n",
    "train['InGroup'] = dataset.iloc[:train_len, -1]\n",
    "test['InGroup'] = dataset.iloc[train_len:, -1].reset_index(drop=True)\n",
    "\n",
    "_ = sns.countplot(x='InGroup', hue='Survived', data=train)\n",
    "train.groupby('InGroup')['Survived'].mean()"
   ]
  },
  {
   "cell_type": "markdown",
   "metadata": {},
   "source": [
    "## 4.3 Engineer InWcg <a class=\"anchor\" id=\"inwcg\"></a>\n",
    "\n",
    "Woman-child-groups are groups of passengers traveling together whose members are either females or boys (males with a `Master` title). Chris Deotte found that members of woman-child-groups are more likely to share the same fate than other groups. He presented the idea in [Titanic using Name only \\[0.81818\\]](https://www.kaggle.com/cdeotte/titanic-using-name-only-0-81818/notebook) and perfected the definition of these groups in [Titantic Mega Model - \\[0.84210\\]\n",
    "](https://www.kaggle.com/cdeotte/titantic-mega-model-0-84210).\n",
    "\n",
    "`InWcg` is `1` if the passenger is in a woman-child-group; otherwise is `0`."
   ]
  },
  {
   "cell_type": "code",
   "execution_count": 37,
   "metadata": {},
   "outputs": [
    {
     "name": "stdout",
     "output_type": "stream",
     "text": [
      "Number of woman-child-groups found: 94\n",
      "Number of passengers in woman-child-groups: 257\n"
     ]
    }
   ],
   "source": [
    "# Get the titles of the passengers\n",
    "dataset['Title'] = dataset['Name'].apply(lambda x: x[x.find(', ') + 2:x.find('.')])\n",
    "\n",
    "# Create a mask to account only for females or boys in groups\n",
    "mask = (dataset['GroupId'] != 0) & ((dataset['Title'] == 'Master') | (dataset['Sex'] == 'female'))\n",
    "\n",
    "# Get the number of females and boys in each group, discard groups with only one member\n",
    "wcg_groups = dataset.loc[mask, 'GroupId'].value_counts()\n",
    "wcg_groups = wcg_groups[wcg_groups > 1]\n",
    "\n",
    "# Update the mask to discard groups with only one female or boy\n",
    "mask = mask & (dataset['GroupId'].isin(wcg_groups.index))\n",
    "\n",
    "# Create the new feature using the updated mask\n",
    "dataset['InWcg'] = 0\n",
    "dataset.loc[mask, 'InWcg'] = 1\n",
    "\n",
    "print(\"Number of woman-child-groups found:\", len(wcg_groups))\n",
    "print(\"Number of passengers in woman-child-groups:\", len(dataset.loc[dataset['InWcg'] == 1]))\n",
    "\n",
    "# Add to the train and test datasets\n",
    "train['InWcg'] = dataset.iloc[:train_len, -1]\n",
    "test['InWcg'] = dataset.iloc[train_len:, -1].reset_index(drop=True)"
   ]
  },
  {
   "cell_type": "markdown",
   "metadata": {},
   "source": [
    "## 4.4 Engineer WcgAllSurvived <a class=\"anchor\" id=\"wcgallsurvived\"></a>\n",
    "\n",
    "For a given passenger in a woman-child-group, `WcgAllSurvived` is equal to `1` if all members of that group survived; otherwise is `0`. \n",
    "\n",
    "Note that passengers from the test set are ignored. `AllSurvived` is based on the training set data only."
   ]
  },
  {
   "cell_type": "code",
   "execution_count": 38,
   "metadata": {
    "scrolled": true
   },
   "outputs": [
    {
     "name": "stderr",
     "output_type": "stream",
     "text": [
      "/home/davidtvs/datascience/kaggle/Titanic/titanic-env/lib/python3.5/site-packages/pandas/core/groupby/groupby.py:3652: RuntimeWarning: Mean of empty slice\n",
      "  wrapper = lambda x: func(x, *args, **kwargs)\n"
     ]
    }
   ],
   "source": [
    "dataset['WcgAllSurvived'] = dataset.loc[dataset['InWcg'] == 1].groupby('GroupId')['Survived'].transform(np.nanmean)\n",
    "\n",
    "# `np.nanmean` returns NaN for groups without survival information (test set only groups)\n",
    "# Replace the NaN with 0\n",
    "dataset.loc[dataset['WcgAllSurvived'].isna(), 'WcgAllSurvived'] = 0\n",
    "dataset['WcgAllSurvived'] = dataset['WcgAllSurvived'].astype(int)\n",
    "\n",
    "# Add to the train and test datasets\n",
    "train['WcgAllSurvived'] = dataset.iloc[:train_len, -1]\n",
    "test['WcgAllSurvived'] = dataset.iloc[train_len:, -1].reset_index(drop=True)"
   ]
  },
  {
   "cell_type": "markdown",
   "metadata": {},
   "source": [
    "## 4.5 Engineer WcgAllDied <a class=\"anchor\" id=\"wcgalldied\"></a>\n",
    "\n",
    "`WcgAllDied` is just the opposite of `WcgAllSurvived`. For a given passenger in a woman-child-group, `WcgAllDied` is equal to `1` if all members of that group died; otherwise is `0`. "
   ]
  },
  {
   "cell_type": "code",
   "execution_count": 39,
   "metadata": {},
   "outputs": [
    {
     "name": "stderr",
     "output_type": "stream",
     "text": [
      "/home/davidtvs/datascience/kaggle/Titanic/titanic-env/lib/python3.5/site-packages/pandas/core/groupby/groupby.py:3652: RuntimeWarning: Mean of empty slice\n",
      "  wrapper = lambda x: func(x, *args, **kwargs)\n"
     ]
    }
   ],
   "source": [
    "dataset['WcgAllDied'] = (1 - dataset.loc[dataset['InWcg'] == 1].groupby('GroupId')['Survived'].transform(np.nanmean))\n",
    "\n",
    "# `np.nanmean` returns NaN for groups without survival information (test set only groups)\n",
    "# Replace the NaN with 0\n",
    "dataset.loc[dataset['WcgAllDied'].isna(), 'WcgAllDied'] = 0\n",
    "dataset['WcgAllDied'] = dataset['WcgAllDied'].astype(int)\n",
    "\n",
    "# Add to the train and test datasets\n",
    "train['WcgAllDied'] = dataset.iloc[:train_len, -1]\n",
    "test['WcgAllDied'] = dataset.iloc[train_len:, -1].reset_index(drop=True)"
   ]
  },
  {
   "cell_type": "markdown",
   "metadata": {},
   "source": [
    "We can now drop `Name`, `SibSp`, `Parch`, and `Ticket` since we will no longer need them."
   ]
  },
  {
   "cell_type": "code",
   "execution_count": 40,
   "metadata": {
    "scrolled": true
   },
   "outputs": [],
   "source": [
    "train.drop(columns=['Name', 'SibSp', 'Parch', 'Ticket'], inplace=True)\n",
    "test.drop(columns=['Name', 'SibSp', 'Parch', 'Ticket'], inplace=True)"
   ]
  },
  {
   "cell_type": "markdown",
   "metadata": {
    "_uuid": "98fc76f497d037e5a8748d05f5cd11055016f097"
   },
   "source": [
    "# 5. Modeling <a class=\"anchor\" id=\"models\"></a>\n",
    "\n",
    "Let's do one last check on out features. The training set:"
   ]
  },
  {
   "cell_type": "code",
   "execution_count": 41,
   "metadata": {},
   "outputs": [
    {
     "data": {
      "text/html": [
       "<div>\n",
       "<style scoped>\n",
       "    .dataframe tbody tr th:only-of-type {\n",
       "        vertical-align: middle;\n",
       "    }\n",
       "\n",
       "    .dataframe tbody tr th {\n",
       "        vertical-align: top;\n",
       "    }\n",
       "\n",
       "    .dataframe thead th {\n",
       "        text-align: right;\n",
       "    }\n",
       "</style>\n",
       "<table border=\"1\" class=\"dataframe\">\n",
       "  <thead>\n",
       "    <tr style=\"text-align: right;\">\n",
       "      <th></th>\n",
       "      <th>Survived</th>\n",
       "      <th>Pclass</th>\n",
       "      <th>AgeBand</th>\n",
       "      <th>IsMale</th>\n",
       "      <th>InGroup</th>\n",
       "      <th>InWcg</th>\n",
       "      <th>WcgAllSurvived</th>\n",
       "      <th>WcgAllDied</th>\n",
       "    </tr>\n",
       "  </thead>\n",
       "  <tbody>\n",
       "    <tr>\n",
       "      <th>0</th>\n",
       "      <td>0</td>\n",
       "      <td>3</td>\n",
       "      <td>1</td>\n",
       "      <td>1</td>\n",
       "      <td>0</td>\n",
       "      <td>0</td>\n",
       "      <td>0</td>\n",
       "      <td>0</td>\n",
       "    </tr>\n",
       "    <tr>\n",
       "      <th>1</th>\n",
       "      <td>1</td>\n",
       "      <td>1</td>\n",
       "      <td>2</td>\n",
       "      <td>0</td>\n",
       "      <td>1</td>\n",
       "      <td>0</td>\n",
       "      <td>0</td>\n",
       "      <td>0</td>\n",
       "    </tr>\n",
       "    <tr>\n",
       "      <th>2</th>\n",
       "      <td>1</td>\n",
       "      <td>3</td>\n",
       "      <td>1</td>\n",
       "      <td>0</td>\n",
       "      <td>0</td>\n",
       "      <td>0</td>\n",
       "      <td>0</td>\n",
       "      <td>0</td>\n",
       "    </tr>\n",
       "    <tr>\n",
       "      <th>3</th>\n",
       "      <td>1</td>\n",
       "      <td>1</td>\n",
       "      <td>2</td>\n",
       "      <td>0</td>\n",
       "      <td>1</td>\n",
       "      <td>0</td>\n",
       "      <td>0</td>\n",
       "      <td>0</td>\n",
       "    </tr>\n",
       "    <tr>\n",
       "      <th>4</th>\n",
       "      <td>0</td>\n",
       "      <td>3</td>\n",
       "      <td>2</td>\n",
       "      <td>1</td>\n",
       "      <td>0</td>\n",
       "      <td>0</td>\n",
       "      <td>0</td>\n",
       "      <td>0</td>\n",
       "    </tr>\n",
       "  </tbody>\n",
       "</table>\n",
       "</div>"
      ],
      "text/plain": [
       "   Survived  Pclass  AgeBand  IsMale  InGroup  InWcg  WcgAllSurvived  \\\n",
       "0         0       3        1       1        0      0               0   \n",
       "1         1       1        2       0        1      0               0   \n",
       "2         1       3        1       0        0      0               0   \n",
       "3         1       1        2       0        1      0               0   \n",
       "4         0       3        2       1        0      0               0   \n",
       "\n",
       "   WcgAllDied  \n",
       "0           0  \n",
       "1           0  \n",
       "2           0  \n",
       "3           0  \n",
       "4           0  "
      ]
     },
     "execution_count": 41,
     "metadata": {},
     "output_type": "execute_result"
    }
   ],
   "source": [
    "train.head()"
   ]
  },
  {
   "cell_type": "markdown",
   "metadata": {},
   "source": [
    "The test set:"
   ]
  },
  {
   "cell_type": "code",
   "execution_count": 42,
   "metadata": {},
   "outputs": [
    {
     "data": {
      "text/html": [
       "<div>\n",
       "<style scoped>\n",
       "    .dataframe tbody tr th:only-of-type {\n",
       "        vertical-align: middle;\n",
       "    }\n",
       "\n",
       "    .dataframe tbody tr th {\n",
       "        vertical-align: top;\n",
       "    }\n",
       "\n",
       "    .dataframe thead th {\n",
       "        text-align: right;\n",
       "    }\n",
       "</style>\n",
       "<table border=\"1\" class=\"dataframe\">\n",
       "  <thead>\n",
       "    <tr style=\"text-align: right;\">\n",
       "      <th></th>\n",
       "      <th>Pclass</th>\n",
       "      <th>AgeBand</th>\n",
       "      <th>IsMale</th>\n",
       "      <th>InGroup</th>\n",
       "      <th>InWcg</th>\n",
       "      <th>WcgAllSurvived</th>\n",
       "      <th>WcgAllDied</th>\n",
       "    </tr>\n",
       "  </thead>\n",
       "  <tbody>\n",
       "    <tr>\n",
       "      <th>0</th>\n",
       "      <td>3</td>\n",
       "      <td>2</td>\n",
       "      <td>1</td>\n",
       "      <td>0</td>\n",
       "      <td>0</td>\n",
       "      <td>0</td>\n",
       "      <td>0</td>\n",
       "    </tr>\n",
       "    <tr>\n",
       "      <th>1</th>\n",
       "      <td>3</td>\n",
       "      <td>3</td>\n",
       "      <td>0</td>\n",
       "      <td>0</td>\n",
       "      <td>0</td>\n",
       "      <td>0</td>\n",
       "      <td>0</td>\n",
       "    </tr>\n",
       "    <tr>\n",
       "      <th>2</th>\n",
       "      <td>2</td>\n",
       "      <td>3</td>\n",
       "      <td>1</td>\n",
       "      <td>0</td>\n",
       "      <td>0</td>\n",
       "      <td>0</td>\n",
       "      <td>0</td>\n",
       "    </tr>\n",
       "    <tr>\n",
       "      <th>3</th>\n",
       "      <td>3</td>\n",
       "      <td>1</td>\n",
       "      <td>1</td>\n",
       "      <td>0</td>\n",
       "      <td>0</td>\n",
       "      <td>0</td>\n",
       "      <td>0</td>\n",
       "    </tr>\n",
       "    <tr>\n",
       "      <th>4</th>\n",
       "      <td>3</td>\n",
       "      <td>1</td>\n",
       "      <td>0</td>\n",
       "      <td>1</td>\n",
       "      <td>1</td>\n",
       "      <td>1</td>\n",
       "      <td>0</td>\n",
       "    </tr>\n",
       "  </tbody>\n",
       "</table>\n",
       "</div>"
      ],
      "text/plain": [
       "   Pclass  AgeBand  IsMale  InGroup  InWcg  WcgAllSurvived  WcgAllDied\n",
       "0       3        2       1        0      0               0           0\n",
       "1       3        3       0        0      0               0           0\n",
       "2       2        3       1        0      0               0           0\n",
       "3       3        1       1        0      0               0           0\n",
       "4       3        1       0        1      1               1           0"
      ]
     },
     "execution_count": 42,
     "metadata": {},
     "output_type": "execute_result"
    }
   ],
   "source": [
    "test.head()"
   ]
  },
  {
   "cell_type": "markdown",
   "metadata": {},
   "source": [
    "## 5.1 Cross-validation <a class=\"anchor\" id=\"cv\"></a>\n",
    "\n",
    "Evaluate, using cross-validation, which of the following classifiers performs best with our training data:\n",
    "- Decision Tree\n",
    "- Random Forest\n",
    "- Extra Trees\n",
    "- AdaBoost\n",
    "- Logistic Regression\n",
    "- K-nearest neighbors\n",
    "- SVC\n",
    "- Gradient Boosting\n",
    "- eXtreme Gradient Boosting"
   ]
  },
  {
   "cell_type": "code",
   "execution_count": 43,
   "metadata": {
    "_uuid": "c9d9134c1ee5ff7daff7e75de9be18ea8dc9419a",
    "scrolled": true
   },
   "outputs": [
    {
     "data": {
      "text/html": [
       "<div>\n",
       "<style scoped>\n",
       "    .dataframe tbody tr th:only-of-type {\n",
       "        vertical-align: middle;\n",
       "    }\n",
       "\n",
       "    .dataframe tbody tr th {\n",
       "        vertical-align: top;\n",
       "    }\n",
       "\n",
       "    .dataframe thead th {\n",
       "        text-align: right;\n",
       "    }\n",
       "</style>\n",
       "<table border=\"1\" class=\"dataframe\">\n",
       "  <thead>\n",
       "    <tr style=\"text-align: right;\">\n",
       "      <th></th>\n",
       "      <th>Accuracy</th>\n",
       "      <th>Std</th>\n",
       "    </tr>\n",
       "    <tr>\n",
       "      <th>Model Name</th>\n",
       "      <th></th>\n",
       "      <th></th>\n",
       "    </tr>\n",
       "  </thead>\n",
       "  <tbody>\n",
       "    <tr>\n",
       "      <th>LogReg</th>\n",
       "      <td>0.861907</td>\n",
       "      <td>0.035316</td>\n",
       "    </tr>\n",
       "    <tr>\n",
       "      <th>SVC</th>\n",
       "      <td>0.860783</td>\n",
       "      <td>0.034286</td>\n",
       "    </tr>\n",
       "    <tr>\n",
       "      <th>KNN</th>\n",
       "      <td>0.856377</td>\n",
       "      <td>0.033493</td>\n",
       "    </tr>\n",
       "    <tr>\n",
       "      <th>AdaBoost</th>\n",
       "      <td>0.850720</td>\n",
       "      <td>0.024547</td>\n",
       "    </tr>\n",
       "    <tr>\n",
       "      <th>DecisionTree</th>\n",
       "      <td>0.848511</td>\n",
       "      <td>0.028815</td>\n",
       "    </tr>\n",
       "    <tr>\n",
       "      <th>RandomForest</th>\n",
       "      <td>0.848511</td>\n",
       "      <td>0.028815</td>\n",
       "    </tr>\n",
       "    <tr>\n",
       "      <th>ExtraTrees</th>\n",
       "      <td>0.848511</td>\n",
       "      <td>0.028815</td>\n",
       "    </tr>\n",
       "    <tr>\n",
       "      <th>XGBoost</th>\n",
       "      <td>0.843991</td>\n",
       "      <td>0.031932</td>\n",
       "    </tr>\n",
       "    <tr>\n",
       "      <th>GradientBoost</th>\n",
       "      <td>0.842855</td>\n",
       "      <td>0.027965</td>\n",
       "    </tr>\n",
       "  </tbody>\n",
       "</table>\n",
       "</div>"
      ],
      "text/plain": [
       "               Accuracy       Std\n",
       "Model Name                       \n",
       "LogReg         0.861907  0.035316\n",
       "SVC            0.860783  0.034286\n",
       "KNN            0.856377  0.033493\n",
       "AdaBoost       0.850720  0.024547\n",
       "DecisionTree   0.848511  0.028815\n",
       "RandomForest   0.848511  0.028815\n",
       "ExtraTrees     0.848511  0.028815\n",
       "XGBoost        0.843991  0.031932\n",
       "GradientBoost  0.842855  0.027965"
      ]
     },
     "execution_count": 43,
     "metadata": {},
     "output_type": "execute_result"
    }
   ],
   "source": [
    "# Split the training set into samples and targets\n",
    "X_train = train.drop(columns='Survived')\n",
    "Y_train = train['Survived'].astype(int)\n",
    "\n",
    "# Test set samples to predict\n",
    "X_test = test\n",
    "\n",
    "# Scale features such that the mean is 0 and standard deviation is \n",
    "scaler = StandardScaler()\n",
    "X_train = scaler.fit_transform(X_train)\n",
    "X_test = scaler.transform(X_test)\n",
    "\n",
    "# Number of cross-validation folds\n",
    "k_folds = 10\n",
    "\n",
    "# Number of estimators for tree based ensembles\n",
    "n_estimators = 100\n",
    "\n",
    "# Create a dictionary containing the instance of the models, scores, mean accuracy and standard deviation\n",
    "classifiers = {\n",
    "    'name': ['DecisionTree', 'RandomForest', 'ExtraTrees', 'AdaBoost', 'LogReg', 'KNN', 'SVC',\n",
    "             'XGBoost', 'GradientBoost'],\n",
    "    'models': [DecisionTreeClassifier(random_state=random_state),\n",
    "               RandomForestClassifier(random_state=random_state, n_estimators=n_estimators),\n",
    "               ExtraTreesClassifier(random_state=random_state, n_estimators=n_estimators),\n",
    "               AdaBoostClassifier(random_state=random_state, n_estimators=n_estimators),\n",
    "               LogisticRegression(random_state=random_state),\n",
    "               KNeighborsClassifier(),\n",
    "               SVC(random_state=random_state),\n",
    "               XGBClassifier(random_state=random_state, n_estimators=n_estimators),\n",
    "               GradientBoostingClassifier(random_state=random_state, n_estimators=n_estimators)], \n",
    "    'scores': [],\n",
    "    'acc_mean': [],\n",
    "    'acc_std': []\n",
    "}\n",
    "\n",
    "# Run cross-validation and store the scores\n",
    "for model in classifiers['models']:\n",
    "    score = cross_val_score(model, X_train, Y_train, cv=k_folds, n_jobs=4)\n",
    "    classifiers['scores'].append(score)\n",
    "    classifiers['acc_mean'].append(score.mean())\n",
    "    classifiers['acc_std'].append(score.std())    \n",
    "\n",
    "# Create a nice table with the results\n",
    "classifiers_df = pd.DataFrame({\n",
    "    'Model Name': classifiers['name'],\n",
    "    'Accuracy': classifiers['acc_mean'],\n",
    "    'Std': classifiers['acc_std']\n",
    "}, columns=['Model Name', 'Accuracy', 'Std']).set_index('Model Name')\n",
    "\n",
    "classifiers_df.sort_values('Accuracy', ascending=False)"
   ]
  },
  {
   "cell_type": "markdown",
   "metadata": {
    "_uuid": "5863b06c3993d963ac33d5387b28641db088701e"
   },
   "source": [
    "From the tested models we'll keep the best five:\n",
    "- Logistic Regression\n",
    "- SVC\n",
    "- K-nearest neighbors\n",
    "- AdaBoost\n",
    "- Extra Trees (Decision Tree, Random Forest, and Extra Trees all share the same CV score. Random Forest and Extra Trees tend to perform better as they are ensembles of Decision Trees; between Random Forest and Extra Trees there isn't much of a difference, so I decided to go with Extra Trees)"
   ]
  },
  {
   "cell_type": "markdown",
   "metadata": {
    "_uuid": "e50cd8093724f8084605ac046349b0982653c956"
   },
   "source": [
    "## 5.2 Tunning hyper-parameters <a class=\"anchor\" id=\"tuning\"></a>\n",
    "\n",
    "To further improve the models we can tune their hyper-parameters using randomized parameter optimization or grid search. I chose randomized parameter optimization because it typically performs just as well as grid search but with much fewer iterations, furthermore, the number of iterations in a parameter that we control. Obviously, more iterations are always better but if we want to make quick tests we can easily reduce the tuning time by lowering this parameter instead of reducing all of the hyper-parameter search ranges."
   ]
  },
  {
   "cell_type": "code",
   "execution_count": 44,
   "metadata": {
    "_uuid": "13bea2e7658ef9eb4659a6fa03ae88c2f37b5d1d"
   },
   "outputs": [],
   "source": [
    "# Utility function to report best scores\n",
    "# Source: http://scikit-learn.org/stable/auto_examples/model_selection/plot_randomized_search.html#sphx-glr-auto-examples-model-selection-plot-randomized-search-py\n",
    "def report(results, n_top=3, limit=3):\n",
    "    for i in range(1, n_top + 1):\n",
    "        candidates = np.flatnonzero(results['rank_test_score'] == i)\n",
    "        if limit is not None:\n",
    "            candidates = candidates[:limit]\n",
    "        for candidate in candidates:\n",
    "            print(\"Model with rank: {0}\".format(i))\n",
    "            print(\"Mean validation score: {0:.4f} (std: {1:.4f})\".format(\n",
    "                  results['mean_test_score'][candidate],\n",
    "                  results['std_test_score'][candidate]))\n",
    "            print(\"Parameters: {0}\".format(results['params'][candidate]))\n",
    "            print()\n",
    "\n",
    "# Number of iterations\n",
    "n_iter_search = 200"
   ]
  },
  {
   "cell_type": "markdown",
   "metadata": {},
   "source": [
    "### 5.2.1 Logistic Regression <a class=\"anchor\" id=\"logreg\"></a>"
   ]
  },
  {
   "cell_type": "code",
   "execution_count": 45,
   "metadata": {},
   "outputs": [
    {
     "name": "stdout",
     "output_type": "stream",
     "text": [
      "Fitting 10 folds for each of 200 candidates, totalling 2000 fits\n",
      "Model with rank: 1\n",
      "Mean validation score: 0.8619 (std: 0.0353)\n",
      "Parameters: {'C': 1.0659500668345212, 'penalty': 'l2'}\n",
      "\n",
      "Model with rank: 1\n",
      "Mean validation score: 0.8619 (std: 0.0353)\n",
      "Parameters: {'C': 0.8331898963479889, 'penalty': 'l1'}\n",
      "\n",
      "Model with rank: 1\n",
      "Mean validation score: 0.8619 (std: 0.0353)\n",
      "Parameters: {'C': 2.0773593103008756, 'penalty': 'l1'}\n",
      "\n"
     ]
    },
    {
     "name": "stderr",
     "output_type": "stream",
     "text": [
      "[Parallel(n_jobs=4)]: Done 2000 out of 2000 | elapsed:    2.5s finished\n"
     ]
    }
   ],
   "source": [
    "logreg = LogisticRegression(random_state=random_state)\n",
    "rand_param = {\n",
    "    'penalty': ['l1', 'l2'],\n",
    "    'C': uniform(0.01, 10)\n",
    " }\n",
    "\n",
    "logreg_search = RandomizedSearchCV(logreg, param_distributions=rand_param, n_iter=n_iter_search, cv=k_folds,\n",
    "                                   n_jobs=4, verbose=1, iid=False)\n",
    "logreg_search.fit(X_train, Y_train)\n",
    "report(logreg_search.cv_results_)\n",
    "\n",
    "logreg_best = logreg_search.best_estimator_"
   ]
  },
  {
   "cell_type": "markdown",
   "metadata": {},
   "source": [
    "### 5.2.2 SVC <a class=\"anchor\" id=\"svc\"></a>"
   ]
  },
  {
   "cell_type": "code",
   "execution_count": 46,
   "metadata": {
    "scrolled": true
   },
   "outputs": [
    {
     "name": "stdout",
     "output_type": "stream",
     "text": [
      "Fitting 10 folds for each of 200 candidates, totalling 2000 fits\n"
     ]
    },
    {
     "name": "stderr",
     "output_type": "stream",
     "text": [
      "[Parallel(n_jobs=4)]: Done 144 tasks      | elapsed:    2.7s\n",
      "[Parallel(n_jobs=4)]: Done 744 tasks      | elapsed:   12.5s\n",
      "[Parallel(n_jobs=4)]: Done 1744 tasks      | elapsed:   29.0s\n"
     ]
    },
    {
     "name": "stdout",
     "output_type": "stream",
     "text": [
      "Model with rank: 1\n",
      "Mean validation score: 0.8597 (std: 0.0332)\n",
      "Parameters: {'gamma': 0.12856102324552032, 'C': 2.821375107856655}\n",
      "\n",
      "Model with rank: 1\n",
      "Mean validation score: 0.8597 (std: 0.0332)\n",
      "Parameters: {'gamma': 0.10810574702746266, 'C': 1.944242944475102}\n",
      "\n",
      "Model with rank: 3\n",
      "Mean validation score: 0.8586 (std: 0.0334)\n",
      "Parameters: {'gamma': 0.6653360724473045, 'C': 0.4196587788944117}\n",
      "\n"
     ]
    },
    {
     "name": "stderr",
     "output_type": "stream",
     "text": [
      "[Parallel(n_jobs=4)]: Done 2000 out of 2000 | elapsed:   33.1s finished\n"
     ]
    }
   ],
   "source": [
    "svc = SVC(random_state=random_state, probability=True)\n",
    "rand_param = {\n",
    "    'C': uniform(0.01, 10),\n",
    "    'gamma': uniform(0.01, 10)\n",
    " }\n",
    "\n",
    "svc_search = RandomizedSearchCV(svc, param_distributions=rand_param, n_iter=n_iter_search, cv=k_folds,\n",
    "                                n_jobs=4, verbose=1, iid=False)\n",
    "svc_search.fit(X_train, Y_train)\n",
    "report(svc_search.cv_results_)\n",
    "\n",
    "svc_best = svc_search.best_estimator_"
   ]
  },
  {
   "cell_type": "markdown",
   "metadata": {
    "_uuid": "a2ce1a9aa246c55ed83c063899300bbd3df16063"
   },
   "source": [
    "### 5.2.3 K-nearest neighbors <a class=\"anchor\" id=\"knn\"></a>"
   ]
  },
  {
   "cell_type": "code",
   "execution_count": 47,
   "metadata": {
    "_uuid": "98023e5f5e287977e26d8282216e018aa3f0361d",
    "scrolled": false
   },
   "outputs": [
    {
     "name": "stdout",
     "output_type": "stream",
     "text": [
      "Fitting 10 folds for each of 200 candidates, totalling 2000 fits\n"
     ]
    },
    {
     "name": "stderr",
     "output_type": "stream",
     "text": [
      "[Parallel(n_jobs=4)]: Done 824 tasks      | elapsed:    2.9s\n"
     ]
    },
    {
     "name": "stdout",
     "output_type": "stream",
     "text": [
      "Model with rank: 1\n",
      "Mean validation score: 0.8619 (std: 0.0349)\n",
      "Parameters: {'weights': 'uniform', 'leaf_size': 23, 'n_neighbors': 18}\n",
      "\n",
      "Model with rank: 1\n",
      "Mean validation score: 0.8619 (std: 0.0349)\n",
      "Parameters: {'weights': 'uniform', 'leaf_size': 8, 'n_neighbors': 18}\n",
      "\n",
      "Model with rank: 1\n",
      "Mean validation score: 0.8619 (std: 0.0349)\n",
      "Parameters: {'weights': 'uniform', 'leaf_size': 21, 'n_neighbors': 18}\n",
      "\n"
     ]
    },
    {
     "name": "stderr",
     "output_type": "stream",
     "text": [
      "[Parallel(n_jobs=4)]: Done 2000 out of 2000 | elapsed:    6.9s finished\n"
     ]
    }
   ],
   "source": [
    "knn = KNeighborsClassifier()\n",
    "rand_param = {\n",
    "    'n_neighbors': randint(1, 25),\n",
    "    'leaf_size': randint(1, 50),\n",
    "    'weights': ['uniform', 'distance']\n",
    "}\n",
    "\n",
    "knn_search = RandomizedSearchCV(knn, param_distributions=rand_param, n_iter=n_iter_search, cv=k_folds,\n",
    "                                n_jobs=4, verbose=1, iid=False)\n",
    "knn_search.fit(X_train, Y_train)\n",
    "report(knn_search.cv_results_)\n",
    "\n",
    "knn_best = knn_search.best_estimator_"
   ]
  },
  {
   "cell_type": "markdown",
   "metadata": {
    "_uuid": "ed5ff5715123e811f3633078f00cefcdcd7b85ae"
   },
   "source": [
    "### 5.2.4 AdaBoost <a class=\"anchor\" id=\"ada\"></a>"
   ]
  },
  {
   "cell_type": "code",
   "execution_count": 48,
   "metadata": {
    "_uuid": "b325b75389f982eda4d417267aec6e756fcd5415"
   },
   "outputs": [
    {
     "name": "stdout",
     "output_type": "stream",
     "text": [
      "Fitting 10 folds for each of 200 candidates, totalling 2000 fits\n"
     ]
    },
    {
     "name": "stderr",
     "output_type": "stream",
     "text": [
      "[Parallel(n_jobs=4)]: Done  76 tasks      | elapsed:    3.1s\n",
      "[Parallel(n_jobs=4)]: Done 376 tasks      | elapsed:   14.8s\n",
      "[Parallel(n_jobs=4)]: Done 876 tasks      | elapsed:   38.5s\n",
      "[Parallel(n_jobs=4)]: Done 1576 tasks      | elapsed:  1.1min\n"
     ]
    },
    {
     "name": "stdout",
     "output_type": "stream",
     "text": [
      "Model with rank: 1\n",
      "Mean validation score: 0.8608 (std: 0.0368)\n",
      "Parameters: {'learning_rate': 0.14078348577807534}\n",
      "\n",
      "Model with rank: 2\n",
      "Mean validation score: 0.8541 (std: 0.0232)\n",
      "Parameters: {'learning_rate': 0.4825545431498245}\n",
      "\n",
      "Model with rank: 2\n",
      "Mean validation score: 0.8541 (std: 0.0209)\n",
      "Parameters: {'learning_rate': 0.8480999037417446}\n",
      "\n",
      "Model with rank: 2\n",
      "Mean validation score: 0.8541 (std: 0.0232)\n",
      "Parameters: {'learning_rate': 0.5482536802075987}\n",
      "\n"
     ]
    },
    {
     "name": "stderr",
     "output_type": "stream",
     "text": [
      "[Parallel(n_jobs=4)]: Done 2000 out of 2000 | elapsed:  1.3min finished\n"
     ]
    }
   ],
   "source": [
    "ada = AdaBoostClassifier(random_state=random_state, n_estimators=n_estimators)\n",
    "rand_param = {\n",
    "    'learning_rate': uniform(0.1, 10),\n",
    "}\n",
    "\n",
    "ada_search = RandomizedSearchCV(ada, param_distributions=rand_param, n_iter=n_iter_search, cv=k_folds,\n",
    "                                n_jobs=4, verbose=1, iid=False)\n",
    "ada_search.fit(X_train, Y_train)\n",
    "report(ada_search.cv_results_)\n",
    "\n",
    "ada_best = ada_search.best_estimator_"
   ]
  },
  {
   "cell_type": "markdown",
   "metadata": {},
   "source": [
    "For tree-based classifiers, like this one, we can check how important each feature is to the model using the `feature_importances_` attribute,"
   ]
  },
  {
   "cell_type": "code",
   "execution_count": 49,
   "metadata": {
    "scrolled": true
   },
   "outputs": [
    {
     "data": {
      "image/png": "[encoded data removed]",
      "text/plain": [
       "<Figure size 432x288 with 1 Axes>"
      ]
     },
     "metadata": {},
     "output_type": "display_data"
    }
   ],
   "source": [
    "g = sns.barplot(x=ada_best.feature_importances_, y=test.columns, orient='h')\n",
    "_ = g.set_xlabel('Relative importance')\n",
    "_ = g.set_ylabel('Features')"
   ]
  },
  {
   "cell_type": "markdown",
   "metadata": {
    "_uuid": "413d0e75cea101b9799042e758694001b9260293"
   },
   "source": [
    "### 5.2.5 Extra Trees <a class=\"anchor\" id=\"extra-trees\"></a>"
   ]
  },
  {
   "cell_type": "code",
   "execution_count": 50,
   "metadata": {
    "_uuid": "b00916d3bc4ad9c0d86588ed36fba19e670625b9",
    "scrolled": false
   },
   "outputs": [
    {
     "name": "stdout",
     "output_type": "stream",
     "text": [
      "Fitting 10 folds for each of 200 candidates, totalling 2000 fits\n"
     ]
    },
    {
     "name": "stderr",
     "output_type": "stream",
     "text": [
      "[Parallel(n_jobs=4)]: Done  76 tasks      | elapsed:    2.3s\n",
      "[Parallel(n_jobs=4)]: Done 376 tasks      | elapsed:   11.0s\n",
      "[Parallel(n_jobs=4)]: Done 876 tasks      | elapsed:   25.5s\n",
      "[Parallel(n_jobs=4)]: Done 1576 tasks      | elapsed:   44.6s\n",
      "[Parallel(n_jobs=4)]: Done 2000 out of 2000 | elapsed:   57.6s finished\n"
     ]
    },
    {
     "name": "stdout",
     "output_type": "stream",
     "text": [
      "Model with rank: 1\n",
      "Mean validation score: 0.8619 (std: 0.0353)\n",
      "Parameters: {'max_depth': 5, 'max_features': 4, 'bootstrap': True, 'min_samples_split': 4}\n",
      "\n",
      "Model with rank: 1\n",
      "Mean validation score: 0.8619 (std: 0.0353)\n",
      "Parameters: {'max_depth': 4, 'max_features': 1, 'bootstrap': False, 'min_samples_split': 9}\n",
      "\n",
      "Model with rank: 1\n",
      "Mean validation score: 0.8619 (std: 0.0353)\n",
      "Parameters: {'max_depth': 4, 'max_features': 4, 'bootstrap': True, 'min_samples_split': 2}\n",
      "\n"
     ]
    }
   ],
   "source": [
    "etc = ExtraTreesClassifier(random_state=random_state, n_estimators=n_estimators)\n",
    "rand_param = {\n",
    "    'bootstrap': [True, False],\n",
    "    'max_depth': np.append(randint(1, 10).rvs(10), None),\n",
    "    'max_features': randint(1, X_train.shape[1]), # From 1 to number of features is a good range\n",
    "    'min_samples_split': randint(2, 10)\n",
    "}\n",
    "\n",
    "etc_search = RandomizedSearchCV(etc, param_distributions=rand_param, n_iter=n_iter_search, cv=k_folds,\n",
    "                                n_jobs=4, verbose=1, iid=False)\n",
    "etc_search.fit(X_train, Y_train)\n",
    "report(etc_search.cv_results_)\n",
    "\n",
    "etc_best = etc_search.best_estimator_"
   ]
  },
  {
   "cell_type": "markdown",
   "metadata": {},
   "source": [
    "Feature importance:"
   ]
  },
  {
   "cell_type": "code",
   "execution_count": 51,
   "metadata": {
    "scrolled": true
   },
   "outputs": [
    {
     "data": {
      "image/png": "[encoded data removed]",
      "text/plain": [
       "<Figure size 432x288 with 1 Axes>"
      ]
     },
     "metadata": {},
     "output_type": "display_data"
    }
   ],
   "source": [
    "g = sns.barplot(x=etc_best.feature_importances_, y=test.columns, orient='h')\n",
    "_ = g.set_xlabel('Relative importance')\n",
    "_ = g.set_ylabel('Features')"
   ]
  },
  {
   "cell_type": "markdown",
   "metadata": {
    "_uuid": "76589ed7345ace86e81f930a264df2b291e65268"
   },
   "source": [
    "## 5.3 Ensemble modeling <a class=\"anchor\" id=\"ensemble\"></a>\n",
    "\n",
    "We can combine the best estimators into a single model using a Soft Voting/Majority Rule classifier (`VotingClassifier`). Ensembles can only improve over individual models if they are not highly correlated. So, let's start by evaluating the Jaccard similarity between the predictions of each individual model."
   ]
  },
  {
   "cell_type": "code",
   "execution_count": 52,
   "metadata": {
    "_uuid": "8eac8c525ba3ad2410e5ad74792fd8e35d802fc9",
    "scrolled": true
   },
   "outputs": [
    {
     "data": {
      "image/png": "[encoded data removed]",
      "text/plain": [
       "<Figure size 432x288 with 2 Axes>"
      ]
     },
     "metadata": {},
     "output_type": "display_data"
    }
   ],
   "source": [
    "logreg_pred = logreg_best.predict(X_test)\n",
    "svc_pred = svc_best.predict(X_test)\n",
    "knn_pred = knn_best.predict(X_test)\n",
    "ada_pred = ada_best.predict(X_test)\n",
    "etc_pred = etc_best.predict(X_test)\n",
    "\n",
    "# Make a dataframe with the predictions from all models\n",
    "pred_df = pd.DataFrame({\n",
    "    'Logistic Regression': logreg_pred,\n",
    "    'SVC': svc_pred,\n",
    "    'KNN': knn_pred,\n",
    "    'AdaBoost': ada_pred,\n",
    "    'Extra Tress': etc_pred\n",
    "})\n",
    "\n",
    "jsim_df = pd.DataFrame(np.nan, columns=pred_df.columns, index=pred_df.columns)\n",
    "for i in pred_df.columns:\n",
    "    for j in pred_df.loc[:, i:].columns:\n",
    "        jsim_df.loc[i, j] = jaccard_similarity_score(pred_df[i], pred_df[j])\n",
    "        jsim_df.loc[j, i] = jsim_df.loc[i, j]\n",
    "\n",
    "_ = sns.heatmap(jsim_df, linewidths=0.1, vmax=1.0, vmin=0, square=True, linecolor='white', annot=True, cmap='coolwarm')"
   ]
  },
  {
   "cell_type": "markdown",
   "metadata": {
    "_uuid": "6f0dd8dc091bf77b2695b527ff8cacc6bd980011"
   },
   "source": [
    "Doesn't look good for ensembling, the predictions are very similar between the models; therefore, the ensemble will output essentially the same predictions.\n",
    "\n",
    "As a learning experience, let's create the ensemble anyway and check how it performs."
   ]
  },
  {
   "cell_type": "code",
   "execution_count": 53,
   "metadata": {
    "_uuid": "80135e5da5760de3cbdd2f3ffb7717515ce2a455"
   },
   "outputs": [
    {
     "name": "stdout",
     "output_type": "stream",
     "text": [
      "Fitting 10 folds for each of 2 candidates, totalling 20 fits\n"
     ]
    },
    {
     "name": "stderr",
     "output_type": "stream",
     "text": [
      "[Parallel(n_jobs=4)]: Done  20 out of  20 | elapsed:    1.8s finished\n"
     ]
    },
    {
     "name": "stdout",
     "output_type": "stream",
     "text": [
      "Model with rank: 1\n",
      "Mean validation score: 0.8620 (std: 0.0353)\n",
      "Parameters: {'voting': 'hard'}\n",
      "\n",
      "Model with rank: 1\n",
      "Mean validation score: 0.8620 (std: 0.0353)\n",
      "Parameters: {'voting': 'soft'}\n",
      "\n"
     ]
    }
   ],
   "source": [
    "estimators = [\n",
    "    ('Logistic Regression', logreg_best),\n",
    "    ('SVC', svc_best),\n",
    "    ('KNN', knn_best),\n",
    "    ('AdaBoost', ada_best),\n",
    "    ('Extra Trees', etc_best)\n",
    "]\n",
    "\n",
    "eclf = VotingClassifier(estimators=estimators)\n",
    "ensemble_param = {'voting': ['hard', 'soft']}\n",
    "\n",
    "eclf_search = GridSearchCV(eclf, param_grid=ensemble_param, cv=k_folds, n_jobs=4, verbose=1)\n",
    "eclf_search.fit(X_train, Y_train)\n",
    "report(eclf_search.cv_results_)\n",
    "\n",
    "eclf_best = eclf_search.best_estimator_"
   ]
  },
  {
   "cell_type": "markdown",
   "metadata": {
    "_uuid": "4488ca3e1838f826d79ba593bc6e7c34eb9aec05"
   },
   "source": [
    "Just as expected, it performs about the same as our individual models."
   ]
  },
  {
   "cell_type": "markdown",
   "metadata": {
    "_uuid": "4e86688d4a9a1815ff77f8f0c59ffcdbdc134b2c"
   },
   "source": [
    "# 6. Predictions and submission <a class=\"anchor\" id=\"submission\"></a>\n",
    "\n",
    "We can now generate predictions and the submission file using our best model. Since we are using `RandomizedSearchCV` we don't always get the same optimal hyperparameters. The best cross-validation score I have seen is a `KNeighborsClassifier` with the following hyper-parameters:\n",
    "- `leaf_size = 3`\n",
    "- `weights = 'uniform'`\n",
    "- `n_neighbors = 19`"
   ]
  },
  {
   "cell_type": "code",
   "execution_count": 54,
   "metadata": {
    "_uuid": "8eb15d58e9857d456a3c50f495e0dda3427fded9"
   },
   "outputs": [
    {
     "name": "stdout",
     "output_type": "stream",
     "text": [
      "Cross-validation accuracy: 0.8630\n"
     ]
    }
   ],
   "source": [
    "best_model = KNeighborsClassifier(leaf_size=3, weights='uniform', n_neighbors=19)\n",
    "score = cross_val_score(best_model, X_train, Y_train, cv=k_folds, n_jobs=4)\n",
    "best_model.fit(X_train, Y_train)\n",
    "print(\"Cross-validation accuracy: {0:.4f}\".format(score.mean()))\n",
    "\n",
    "# Prediction\n",
    "best_pred = best_model.predict(X_test)"
   ]
  },
  {
   "cell_type": "markdown",
   "metadata": {},
   "source": [
    "Now we submit the predictions,"
   ]
  },
  {
   "cell_type": "code",
   "execution_count": 55,
   "metadata": {},
   "outputs": [],
   "source": [
    "submission_df = pd.DataFrame({'PassengerId': _test['PassengerId'], 'Survived': best_pred})\n",
    "submission_df.to_csv(\"submission.csv\", index=False)"
   ]
  },
  {
   "cell_type": "markdown",
   "metadata": {},
   "source": [
    "Also store the training and test datasets"
   ]
  },
  {
   "cell_type": "code",
   "execution_count": 56,
   "metadata": {},
   "outputs": [],
   "source": [
    "train.to_csv(\"submission_train.csv\", index=False)\n",
    "test.to_csv(\"submission_test.csv\", index=False)"
   ]
  }
 ],
 "metadata": {
  "kernelspec": {
   "display_name": "Titanic-p3",
   "language": "python",
   "name": "titanic-env"
  },
  "language_info": {
   "codemirror_mode": {
    "name": "ipython",
    "version": 3
   },
   "file_extension": ".py",
   "mimetype": "text/x-python",
   "name": "python",
   "nbconvert_exporter": "python",
   "pygments_lexer": "ipython3",
   "version": "3.5.2"
  }
 },
 "nbformat": 4,
 "nbformat_minor": 1
}
