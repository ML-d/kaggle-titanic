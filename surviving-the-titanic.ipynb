{
 "cells": [
  {
   "cell_type": "code",
   "execution_count": 1,
   "metadata": {
    "_cell_guid": "b1076dfc-b9ad-4769-8c92-a6c4dae69d19",
    "_uuid": "8f2839f25d086af736a60e9eeb907d3b93b6e0e5"
   },
   "outputs": [],
   "source": [
    "import numpy as np\n",
    "import pandas as pd\n",
    "import matplotlib.pyplot as plt\n",
    "import seaborn as sns"
   ]
  },
  {
   "cell_type": "markdown",
   "metadata": {
    "_uuid": "0d519ea8dbbbdbbca502c07371a953198b8f4d5d"
   },
   "source": [
    "# Loading the data"
   ]
  },
  {
   "cell_type": "code",
   "execution_count": 2,
   "metadata": {
    "_cell_guid": "79c7e3d0-c299-4dcb-8224-4455121ee9b0",
    "_uuid": "d629ff2d2480ee46fbb7e2d37f6b5fab8052498a"
   },
   "outputs": [],
   "source": [
    "_train = pd.read_csv(\"train.csv\")\n",
    "_test = pd.read_csv(\"test.csv\")\n",
    "\n",
    "# Make a copy to be modified\n",
    "train = _train.copy()\n",
    "test = _test.copy()"
   ]
  },
  {
   "cell_type": "code",
   "execution_count": 3,
   "metadata": {
    "_uuid": "b370456d488b17888ee938ae8d4a843d2ba4fd96"
   },
   "outputs": [
    {
     "name": "stdout",
     "output_type": "stream",
     "text": [
      "Training dataset size = 891\n"
     ]
    },
    {
     "data": {
      "text/html": [
       "<div>\n",
       "<style scoped>\n",
       "    .dataframe tbody tr th:only-of-type {\n",
       "        vertical-align: middle;\n",
       "    }\n",
       "\n",
       "    .dataframe tbody tr th {\n",
       "        vertical-align: top;\n",
       "    }\n",
       "\n",
       "    .dataframe thead th {\n",
       "        text-align: right;\n",
       "    }\n",
       "</style>\n",
       "<table border=\"1\" class=\"dataframe\">\n",
       "  <thead>\n",
       "    <tr style=\"text-align: right;\">\n",
       "      <th></th>\n",
       "      <th>PassengerId</th>\n",
       "      <th>Survived</th>\n",
       "      <th>Pclass</th>\n",
       "      <th>Name</th>\n",
       "      <th>Sex</th>\n",
       "      <th>Age</th>\n",
       "      <th>SibSp</th>\n",
       "      <th>Parch</th>\n",
       "      <th>Ticket</th>\n",
       "      <th>Fare</th>\n",
       "      <th>Cabin</th>\n",
       "      <th>Embarked</th>\n",
       "    </tr>\n",
       "  </thead>\n",
       "  <tbody>\n",
       "    <tr>\n",
       "      <th>0</th>\n",
       "      <td>1</td>\n",
       "      <td>0</td>\n",
       "      <td>3</td>\n",
       "      <td>Braund, Mr. Owen Harris</td>\n",
       "      <td>male</td>\n",
       "      <td>22.0</td>\n",
       "      <td>1</td>\n",
       "      <td>0</td>\n",
       "      <td>A/5 21171</td>\n",
       "      <td>7.2500</td>\n",
       "      <td>NaN</td>\n",
       "      <td>S</td>\n",
       "    </tr>\n",
       "    <tr>\n",
       "      <th>1</th>\n",
       "      <td>2</td>\n",
       "      <td>1</td>\n",
       "      <td>1</td>\n",
       "      <td>Cumings, Mrs. John Bradley (Florence Briggs Th...</td>\n",
       "      <td>female</td>\n",
       "      <td>38.0</td>\n",
       "      <td>1</td>\n",
       "      <td>0</td>\n",
       "      <td>PC 17599</td>\n",
       "      <td>71.2833</td>\n",
       "      <td>C85</td>\n",
       "      <td>C</td>\n",
       "    </tr>\n",
       "    <tr>\n",
       "      <th>2</th>\n",
       "      <td>3</td>\n",
       "      <td>1</td>\n",
       "      <td>3</td>\n",
       "      <td>Heikkinen, Miss. Laina</td>\n",
       "      <td>female</td>\n",
       "      <td>26.0</td>\n",
       "      <td>0</td>\n",
       "      <td>0</td>\n",
       "      <td>STON/O2. 3101282</td>\n",
       "      <td>7.9250</td>\n",
       "      <td>NaN</td>\n",
       "      <td>S</td>\n",
       "    </tr>\n",
       "    <tr>\n",
       "      <th>3</th>\n",
       "      <td>4</td>\n",
       "      <td>1</td>\n",
       "      <td>1</td>\n",
       "      <td>Futrelle, Mrs. Jacques Heath (Lily May Peel)</td>\n",
       "      <td>female</td>\n",
       "      <td>35.0</td>\n",
       "      <td>1</td>\n",
       "      <td>0</td>\n",
       "      <td>113803</td>\n",
       "      <td>53.1000</td>\n",
       "      <td>C123</td>\n",
       "      <td>S</td>\n",
       "    </tr>\n",
       "    <tr>\n",
       "      <th>4</th>\n",
       "      <td>5</td>\n",
       "      <td>0</td>\n",
       "      <td>3</td>\n",
       "      <td>Allen, Mr. William Henry</td>\n",
       "      <td>male</td>\n",
       "      <td>35.0</td>\n",
       "      <td>0</td>\n",
       "      <td>0</td>\n",
       "      <td>373450</td>\n",
       "      <td>8.0500</td>\n",
       "      <td>NaN</td>\n",
       "      <td>S</td>\n",
       "    </tr>\n",
       "  </tbody>\n",
       "</table>\n",
       "</div>"
      ],
      "text/plain": [
       "   PassengerId  Survived  Pclass  \\\n",
       "0            1         0       3   \n",
       "1            2         1       1   \n",
       "2            3         1       3   \n",
       "3            4         1       1   \n",
       "4            5         0       3   \n",
       "\n",
       "                                                Name     Sex   Age  SibSp  \\\n",
       "0                            Braund, Mr. Owen Harris    male  22.0      1   \n",
       "1  Cumings, Mrs. John Bradley (Florence Briggs Th...  female  38.0      1   \n",
       "2                             Heikkinen, Miss. Laina  female  26.0      0   \n",
       "3       Futrelle, Mrs. Jacques Heath (Lily May Peel)  female  35.0      1   \n",
       "4                           Allen, Mr. William Henry    male  35.0      0   \n",
       "\n",
       "   Parch            Ticket     Fare Cabin Embarked  \n",
       "0      0         A/5 21171   7.2500   NaN        S  \n",
       "1      0          PC 17599  71.2833   C85        C  \n",
       "2      0  STON/O2. 3101282   7.9250   NaN        S  \n",
       "3      0            113803  53.1000  C123        S  \n",
       "4      0            373450   8.0500   NaN        S  "
      ]
     },
     "execution_count": 3,
     "metadata": {},
     "output_type": "execute_result"
    }
   ],
   "source": [
    "train_len = len(train)\n",
    "print(\"Training dataset size = {}\".format(train_len))\n",
    "train.head()"
   ]
  },
  {
   "cell_type": "code",
   "execution_count": 4,
   "metadata": {
    "_uuid": "cfb60dc59f2c65336ffbfb144db56f2e146835cd",
    "scrolled": true
   },
   "outputs": [
    {
     "name": "stdout",
     "output_type": "stream",
     "text": [
      "Test dataset size = 418\n"
     ]
    },
    {
     "data": {
      "text/html": [
       "<div>\n",
       "<style scoped>\n",
       "    .dataframe tbody tr th:only-of-type {\n",
       "        vertical-align: middle;\n",
       "    }\n",
       "\n",
       "    .dataframe tbody tr th {\n",
       "        vertical-align: top;\n",
       "    }\n",
       "\n",
       "    .dataframe thead th {\n",
       "        text-align: right;\n",
       "    }\n",
       "</style>\n",
       "<table border=\"1\" class=\"dataframe\">\n",
       "  <thead>\n",
       "    <tr style=\"text-align: right;\">\n",
       "      <th></th>\n",
       "      <th>PassengerId</th>\n",
       "      <th>Pclass</th>\n",
       "      <th>Name</th>\n",
       "      <th>Sex</th>\n",
       "      <th>Age</th>\n",
       "      <th>SibSp</th>\n",
       "      <th>Parch</th>\n",
       "      <th>Ticket</th>\n",
       "      <th>Fare</th>\n",
       "      <th>Cabin</th>\n",
       "      <th>Embarked</th>\n",
       "    </tr>\n",
       "  </thead>\n",
       "  <tbody>\n",
       "    <tr>\n",
       "      <th>0</th>\n",
       "      <td>892</td>\n",
       "      <td>3</td>\n",
       "      <td>Kelly, Mr. James</td>\n",
       "      <td>male</td>\n",
       "      <td>34.5</td>\n",
       "      <td>0</td>\n",
       "      <td>0</td>\n",
       "      <td>330911</td>\n",
       "      <td>7.8292</td>\n",
       "      <td>NaN</td>\n",
       "      <td>Q</td>\n",
       "    </tr>\n",
       "    <tr>\n",
       "      <th>1</th>\n",
       "      <td>893</td>\n",
       "      <td>3</td>\n",
       "      <td>Wilkes, Mrs. James (Ellen Needs)</td>\n",
       "      <td>female</td>\n",
       "      <td>47.0</td>\n",
       "      <td>1</td>\n",
       "      <td>0</td>\n",
       "      <td>363272</td>\n",
       "      <td>7.0000</td>\n",
       "      <td>NaN</td>\n",
       "      <td>S</td>\n",
       "    </tr>\n",
       "    <tr>\n",
       "      <th>2</th>\n",
       "      <td>894</td>\n",
       "      <td>2</td>\n",
       "      <td>Myles, Mr. Thomas Francis</td>\n",
       "      <td>male</td>\n",
       "      <td>62.0</td>\n",
       "      <td>0</td>\n",
       "      <td>0</td>\n",
       "      <td>240276</td>\n",
       "      <td>9.6875</td>\n",
       "      <td>NaN</td>\n",
       "      <td>Q</td>\n",
       "    </tr>\n",
       "    <tr>\n",
       "      <th>3</th>\n",
       "      <td>895</td>\n",
       "      <td>3</td>\n",
       "      <td>Wirz, Mr. Albert</td>\n",
       "      <td>male</td>\n",
       "      <td>27.0</td>\n",
       "      <td>0</td>\n",
       "      <td>0</td>\n",
       "      <td>315154</td>\n",
       "      <td>8.6625</td>\n",
       "      <td>NaN</td>\n",
       "      <td>S</td>\n",
       "    </tr>\n",
       "    <tr>\n",
       "      <th>4</th>\n",
       "      <td>896</td>\n",
       "      <td>3</td>\n",
       "      <td>Hirvonen, Mrs. Alexander (Helga E Lindqvist)</td>\n",
       "      <td>female</td>\n",
       "      <td>22.0</td>\n",
       "      <td>1</td>\n",
       "      <td>1</td>\n",
       "      <td>3101298</td>\n",
       "      <td>12.2875</td>\n",
       "      <td>NaN</td>\n",
       "      <td>S</td>\n",
       "    </tr>\n",
       "  </tbody>\n",
       "</table>\n",
       "</div>"
      ],
      "text/plain": [
       "   PassengerId  Pclass                                          Name     Sex  \\\n",
       "0          892       3                              Kelly, Mr. James    male   \n",
       "1          893       3              Wilkes, Mrs. James (Ellen Needs)  female   \n",
       "2          894       2                     Myles, Mr. Thomas Francis    male   \n",
       "3          895       3                              Wirz, Mr. Albert    male   \n",
       "4          896       3  Hirvonen, Mrs. Alexander (Helga E Lindqvist)  female   \n",
       "\n",
       "    Age  SibSp  Parch   Ticket     Fare Cabin Embarked  \n",
       "0  34.5      0      0   330911   7.8292   NaN        Q  \n",
       "1  47.0      1      0   363272   7.0000   NaN        S  \n",
       "2  62.0      0      0   240276   9.6875   NaN        Q  \n",
       "3  27.0      0      0   315154   8.6625   NaN        S  \n",
       "4  22.0      1      1  3101298  12.2875   NaN        S  "
      ]
     },
     "execution_count": 4,
     "metadata": {},
     "output_type": "execute_result"
    }
   ],
   "source": [
    "test_len = len(test)\n",
    "print(\"Test dataset size = {}\".format(test_len))\n",
    "test.head()"
   ]
  },
  {
   "cell_type": "markdown",
   "metadata": {
    "_uuid": "ae86bf8b74c2d2d4461c354768f2f6e78603a230"
   },
   "source": [
    "# Data Analysis\n",
    "\n",
    "Like most kernels, we will start by analysing the features from the dataset, one-by-one, focusing on:\n",
    "- Finding correlations, not only between the feature and survival but also between the features themselves to understand if the information the feature provides is not redundant.\n",
    "- Creating visualizations that help us understand the data.\n",
    "- Cleaning the dataset by removing redundant features.\n",
    "- Filling missing data when needed.\n",
    "- Converting data types when advantageous (e.g. converting categorical data to numerical)."
   ]
  },
  {
   "cell_type": "code",
   "execution_count": 5,
   "metadata": {
    "_uuid": "2c207537e93a0887649f9699c4e0a6ba65f0f39e"
   },
   "outputs": [],
   "source": [
    "# Remove PassengerId since it's not a feature\n",
    "train.drop(columns='PassengerId', inplace=True)\n",
    "test.drop(columns='PassengerId', inplace=True)"
   ]
  },
  {
   "cell_type": "markdown",
   "metadata": {
    "_uuid": "3e486cc8b2b7d2390e10e517018bc3d68fe48548"
   },
   "source": [
    "## Missing data"
   ]
  },
  {
   "cell_type": "code",
   "execution_count": 6,
   "metadata": {
    "_uuid": "1e8f032736a0d9c77e67910ce480bd4d4b050ac9",
    "scrolled": true
   },
   "outputs": [
    {
     "data": {
      "text/html": [
       "<div>\n",
       "<style scoped>\n",
       "    .dataframe tbody tr th:only-of-type {\n",
       "        vertical-align: middle;\n",
       "    }\n",
       "\n",
       "    .dataframe tbody tr th {\n",
       "        vertical-align: top;\n",
       "    }\n",
       "\n",
       "    .dataframe thead th {\n",
       "        text-align: right;\n",
       "    }\n",
       "</style>\n",
       "<table border=\"1\" class=\"dataframe\">\n",
       "  <thead>\n",
       "    <tr style=\"text-align: right;\">\n",
       "      <th></th>\n",
       "      <th>%</th>\n",
       "      <th>No. NaN</th>\n",
       "    </tr>\n",
       "  </thead>\n",
       "  <tbody>\n",
       "    <tr>\n",
       "      <th>Pclass</th>\n",
       "      <td>0.000000</td>\n",
       "      <td>0</td>\n",
       "    </tr>\n",
       "    <tr>\n",
       "      <th>Name</th>\n",
       "      <td>0.000000</td>\n",
       "      <td>0</td>\n",
       "    </tr>\n",
       "    <tr>\n",
       "      <th>Sex</th>\n",
       "      <td>0.000000</td>\n",
       "      <td>0</td>\n",
       "    </tr>\n",
       "    <tr>\n",
       "      <th>Age</th>\n",
       "      <td>0.200917</td>\n",
       "      <td>263</td>\n",
       "    </tr>\n",
       "    <tr>\n",
       "      <th>SibSp</th>\n",
       "      <td>0.000000</td>\n",
       "      <td>0</td>\n",
       "    </tr>\n",
       "    <tr>\n",
       "      <th>Parch</th>\n",
       "      <td>0.000000</td>\n",
       "      <td>0</td>\n",
       "    </tr>\n",
       "    <tr>\n",
       "      <th>Ticket</th>\n",
       "      <td>0.000000</td>\n",
       "      <td>0</td>\n",
       "    </tr>\n",
       "    <tr>\n",
       "      <th>Fare</th>\n",
       "      <td>0.000764</td>\n",
       "      <td>1</td>\n",
       "    </tr>\n",
       "    <tr>\n",
       "      <th>Cabin</th>\n",
       "      <td>0.774637</td>\n",
       "      <td>1014</td>\n",
       "    </tr>\n",
       "    <tr>\n",
       "      <th>Embarked</th>\n",
       "      <td>0.001528</td>\n",
       "      <td>2</td>\n",
       "    </tr>\n",
       "  </tbody>\n",
       "</table>\n",
       "</div>"
      ],
      "text/plain": [
       "                 %  No. NaN\n",
       "Pclass    0.000000        0\n",
       "Name      0.000000        0\n",
       "Sex       0.000000        0\n",
       "Age       0.200917      263\n",
       "SibSp     0.000000        0\n",
       "Parch     0.000000        0\n",
       "Ticket    0.000000        0\n",
       "Fare      0.000764        1\n",
       "Cabin     0.774637     1014\n",
       "Embarked  0.001528        2"
      ]
     },
     "execution_count": 6,
     "metadata": {},
     "output_type": "execute_result"
    }
   ],
   "source": [
    "# Concatenate the train and test datasets. Survived is not a feature so we drop it\n",
    "dataset = pd.concat([train, test], sort=False).drop(columns='Survived')\n",
    "pd.DataFrame({'No. NaN': dataset.isna().sum(), '%': dataset.isna().sum() / len(dataset)})"
   ]
  },
  {
   "cell_type": "markdown",
   "metadata": {
    "_uuid": "8c6ea5f1feec209254ed2301857560b3cbaeb7a3"
   },
   "source": [
    "Features with missing data:\n",
    "- **Cabin (~77%)**: Drop. Too much data is missing to fill without introducing a significant amount of noise.\n",
    "- **Age (~20%)**: Significant amount of data missing, but if it's useful we can try to fill it.\n",
    "- **Fare (1 data point)**: Keep. Since only one value is missing we can fill it with something simple like a median.\n",
    "- **Embarked (2 data points)**: Keep. Since only two values are missing we can fill them with something simple like a median."
   ]
  },
  {
   "cell_type": "code",
   "execution_count": 7,
   "metadata": {
    "_uuid": "427b44403ce9c192722578d6bdd266ea6d075632",
    "scrolled": false
   },
   "outputs": [],
   "source": [
    "train.drop(columns='Cabin', inplace=True)\n",
    "test.drop(columns='Cabin', inplace=True)"
   ]
  },
  {
   "cell_type": "markdown",
   "metadata": {
    "_uuid": "c449f90e35e14ca9de6d8be04af3624167abb6e1"
   },
   "source": [
    "## Age"
   ]
  },
  {
   "cell_type": "code",
   "execution_count": 8,
   "metadata": {
    "_uuid": "5eb18d4cd22d8ea25e28c8099c62e36d112b734e",
    "scrolled": false
   },
   "outputs": [
    {
     "data": {
      "image/png": "[encoded data removed]",
      "text/plain": [
       "<Figure size 432x216 with 2 Axes>"
      ]
     },
     "metadata": {},
     "output_type": "display_data"
    }
   ],
   "source": [
    "g = sns.FacetGrid(train, col='Survived')\n",
    "_ = g.map(sns.distplot, 'Age', kde=False)"
   ]
  },
  {
   "cell_type": "markdown",
   "metadata": {
    "_uuid": "53dbbb4b5b53f48c5ce3830893ca6850c72e5360"
   },
   "source": [
    "From the histogram we can already see that children have much better chances of survival. The next table offers more information."
   ]
  },
  {
   "cell_type": "code",
   "execution_count": 9,
   "metadata": {
    "_uuid": "2aa72041728dc9e760f9917bcaba01c7fefcfc03",
    "scrolled": false
   },
   "outputs": [
    {
     "data": {
      "text/html": [
       "<div>\n",
       "<style scoped>\n",
       "    .dataframe tbody tr th:only-of-type {\n",
       "        vertical-align: middle;\n",
       "    }\n",
       "\n",
       "    .dataframe tbody tr th {\n",
       "        vertical-align: top;\n",
       "    }\n",
       "\n",
       "    .dataframe thead th {\n",
       "        text-align: right;\n",
       "    }\n",
       "</style>\n",
       "<table border=\"1\" class=\"dataframe\">\n",
       "  <thead>\n",
       "    <tr style=\"text-align: right;\">\n",
       "      <th></th>\n",
       "      <th>Total</th>\n",
       "      <th>Survived</th>\n",
       "      <th>Survival Rate</th>\n",
       "    </tr>\n",
       "    <tr>\n",
       "      <th>Age</th>\n",
       "      <th></th>\n",
       "      <th></th>\n",
       "      <th></th>\n",
       "    </tr>\n",
       "  </thead>\n",
       "  <tbody>\n",
       "    <tr>\n",
       "      <th>(0.34, 8.378]</th>\n",
       "      <td>54</td>\n",
       "      <td>36</td>\n",
       "      <td>0.666667</td>\n",
       "    </tr>\n",
       "    <tr>\n",
       "      <th>(8.378, 16.336]</th>\n",
       "      <td>46</td>\n",
       "      <td>19</td>\n",
       "      <td>0.413043</td>\n",
       "    </tr>\n",
       "    <tr>\n",
       "      <th>(16.336, 24.294]</th>\n",
       "      <td>177</td>\n",
       "      <td>63</td>\n",
       "      <td>0.355932</td>\n",
       "    </tr>\n",
       "    <tr>\n",
       "      <th>(24.294, 32.252]</th>\n",
       "      <td>169</td>\n",
       "      <td>65</td>\n",
       "      <td>0.384615</td>\n",
       "    </tr>\n",
       "    <tr>\n",
       "      <th>(32.252, 40.21]</th>\n",
       "      <td>118</td>\n",
       "      <td>52</td>\n",
       "      <td>0.440678</td>\n",
       "    </tr>\n",
       "    <tr>\n",
       "      <th>(40.21, 48.168]</th>\n",
       "      <td>70</td>\n",
       "      <td>24</td>\n",
       "      <td>0.342857</td>\n",
       "    </tr>\n",
       "    <tr>\n",
       "      <th>(48.168, 56.126]</th>\n",
       "      <td>45</td>\n",
       "      <td>21</td>\n",
       "      <td>0.466667</td>\n",
       "    </tr>\n",
       "    <tr>\n",
       "      <th>(56.126, 64.084]</th>\n",
       "      <td>24</td>\n",
       "      <td>9</td>\n",
       "      <td>0.375000</td>\n",
       "    </tr>\n",
       "    <tr>\n",
       "      <th>(64.084, 72.042]</th>\n",
       "      <td>9</td>\n",
       "      <td>0</td>\n",
       "      <td>0.000000</td>\n",
       "    </tr>\n",
       "    <tr>\n",
       "      <th>(72.042, 80.0]</th>\n",
       "      <td>2</td>\n",
       "      <td>1</td>\n",
       "      <td>0.500000</td>\n",
       "    </tr>\n",
       "  </tbody>\n",
       "</table>\n",
       "</div>"
      ],
      "text/plain": [
       "                  Total  Survived  Survival Rate\n",
       "Age                                             \n",
       "(0.34, 8.378]        54        36       0.666667\n",
       "(8.378, 16.336]      46        19       0.413043\n",
       "(16.336, 24.294]    177        63       0.355932\n",
       "(24.294, 32.252]    169        65       0.384615\n",
       "(32.252, 40.21]     118        52       0.440678\n",
       "(40.21, 48.168]      70        24       0.342857\n",
       "(48.168, 56.126]     45        21       0.466667\n",
       "(56.126, 64.084]     24         9       0.375000\n",
       "(64.084, 72.042]      9         0       0.000000\n",
       "(72.042, 80.0]        2         1       0.500000"
      ]
     },
     "execution_count": 9,
     "metadata": {},
     "output_type": "execute_result"
    }
   ],
   "source": [
    "no_age_bins = 10\n",
    "age_band_series, age_bins = pd.cut(train['Age'], no_age_bins, retbins=True)\n",
    "\n",
    "survival = (train['Survived'].groupby(age_band_series)\n",
    "                           .agg(['count', 'sum', 'mean'])\n",
    "                           .rename(columns={'count': 'Total',\n",
    "                                            'sum': 'Survived',\n",
    "                                            'mean': 'Survival Rate'}))\n",
    "survival"
   ]
  },
  {
   "cell_type": "markdown",
   "metadata": {
    "_uuid": "828f5d193fbb70232d6cd0ac86316edc25998c70"
   },
   "source": [
    "Observation:\n",
    "- Children (age < 8) indeed have much higher chances of survival (66.7%).\n",
    "- There are also small spikes in survival for passengers in the following age bands:\n",
    "    - (32.252, 40.21] - 44.1%;\n",
    "    - (48.168, 56.126] - 46.7%.\n",
    "- Apart from children, there is no obvious correlation between age and survival."
   ]
  },
  {
   "cell_type": "markdown",
   "metadata": {
    "_uuid": "b0e199b3bd6e0dcf9f86115cffd8e9202fe8aa5e"
   },
   "source": [
    "### Filing missing Age values\n",
    "\n",
    "We are going to estimate the age band of passengers whose age is missing using the following features:  Age, Pclass, SibSp, Parch, Sex, and\tTitle (engineered from Name). Then, we will build three simple models to predict the missing age bands."
   ]
  },
  {
   "cell_type": "code",
   "execution_count": 10,
   "metadata": {
    "_uuid": "bbb483352388a2d1a93a3aeb59eea8f7697f718a",
    "scrolled": true
   },
   "outputs": [
    {
     "data": {
      "text/html": [
       "<div>\n",
       "<style scoped>\n",
       "    .dataframe tbody tr th:only-of-type {\n",
       "        vertical-align: middle;\n",
       "    }\n",
       "\n",
       "    .dataframe tbody tr th {\n",
       "        vertical-align: top;\n",
       "    }\n",
       "\n",
       "    .dataframe thead th {\n",
       "        text-align: right;\n",
       "    }\n",
       "</style>\n",
       "<table border=\"1\" class=\"dataframe\">\n",
       "  <thead>\n",
       "    <tr style=\"text-align: right;\">\n",
       "      <th></th>\n",
       "      <th>Age</th>\n",
       "      <th>Pclass</th>\n",
       "      <th>SibSp</th>\n",
       "      <th>Parch</th>\n",
       "      <th>Sex</th>\n",
       "      <th>Title</th>\n",
       "    </tr>\n",
       "  </thead>\n",
       "  <tbody>\n",
       "    <tr>\n",
       "      <th>0</th>\n",
       "      <td>2</td>\n",
       "      <td>3</td>\n",
       "      <td>1</td>\n",
       "      <td>0</td>\n",
       "      <td>1</td>\n",
       "      <td>12</td>\n",
       "    </tr>\n",
       "    <tr>\n",
       "      <th>1</th>\n",
       "      <td>4</td>\n",
       "      <td>1</td>\n",
       "      <td>1</td>\n",
       "      <td>0</td>\n",
       "      <td>0</td>\n",
       "      <td>13</td>\n",
       "    </tr>\n",
       "    <tr>\n",
       "      <th>2</th>\n",
       "      <td>3</td>\n",
       "      <td>3</td>\n",
       "      <td>0</td>\n",
       "      <td>0</td>\n",
       "      <td>0</td>\n",
       "      <td>9</td>\n",
       "    </tr>\n",
       "    <tr>\n",
       "      <th>3</th>\n",
       "      <td>4</td>\n",
       "      <td>1</td>\n",
       "      <td>1</td>\n",
       "      <td>0</td>\n",
       "      <td>0</td>\n",
       "      <td>13</td>\n",
       "    </tr>\n",
       "    <tr>\n",
       "      <th>4</th>\n",
       "      <td>4</td>\n",
       "      <td>3</td>\n",
       "      <td>0</td>\n",
       "      <td>0</td>\n",
       "      <td>1</td>\n",
       "      <td>12</td>\n",
       "    </tr>\n",
       "  </tbody>\n",
       "</table>\n",
       "</div>"
      ],
      "text/plain": [
       "   Age  Pclass  SibSp  Parch  Sex  Title\n",
       "0    2       3      1      0    1     12\n",
       "1    4       1      1      0    0     13\n",
       "2    3       3      0      0    0      9\n",
       "3    4       1      1      0    0     13\n",
       "4    4       3      0      0    1     12"
      ]
     },
     "execution_count": 10,
     "metadata": {},
     "output_type": "execute_result"
    }
   ],
   "source": [
    "# Use both the training and test dataset to fill the missing Age values\n",
    "fill_age_df = pd.concat([train, test], sort=True)[['Name', 'Age', 'Pclass', 'SibSp', 'Parch', 'Sex']]\n",
    "\n",
    "# Use the age bins from above\n",
    "fill_age_df['Age'] = pd.cut(fill_age_df['Age'], age_bins)\n",
    "\n",
    "# Get the titles of the passengers\n",
    "fill_age_df['Title'] = fill_age_df['Name'].apply(lambda x: x[x.find(', ') + 1:x.find('.') + 1])\n",
    "\n",
    "# Now that we have the titles we can drop the names\n",
    "fill_age_df.drop(columns='Name', inplace=True)\n",
    "\n",
    "# Encode ages bins and titles in integers \n",
    "fill_age_df['Age'] = fill_age_df['Age'].cat.codes\n",
    "fill_age_df['Title'] = fill_age_df['Title'].astype('category').cat.codes\n",
    "fill_age_df['Sex'] = fill_age_df['Sex'].astype('category').cat.codes\n",
    "\n",
    "fill_age_df.head()"
   ]
  },
  {
   "cell_type": "markdown",
   "metadata": {
    "_uuid": "9ab85f6947874d164c7e717f13bd615548194ac0"
   },
   "source": [
    "Three simple classification models to predict the age bands for missing data:\n",
    "- Logistic regression\n",
    "- K-nearest neighbors\n",
    "- Decision tree"
   ]
  },
  {
   "cell_type": "code",
   "execution_count": 11,
   "metadata": {
    "_uuid": "482fa3b68bf01868cd25449cf81281d3e8e01be5"
   },
   "outputs": [
    {
     "name": "stdout",
     "output_type": "stream",
     "text": [
      "Training samples shape: (1044, 5)\n",
      "Ground-truth shape: (1044,)\n",
      "Samples to predict: (265, 5)\n"
     ]
    }
   ],
   "source": [
    "X_train = fill_age_df.loc[fill_age_df['Age'] != -1].drop(columns='Age')\n",
    "Y_train = fill_age_df['Age'].loc[fill_age_df['Age'] != -1]\n",
    "X = fill_age_df.loc[fill_age_df['Age'] == -1].drop(columns='Age')\n",
    "print(\"Training samples shape: {}\".format(X_train.shape))\n",
    "print(\"Ground-truth shape: {}\".format(Y_train.shape))\n",
    "print(\"Samples to predict: {}\".format(X.shape))"
   ]
  },
  {
   "cell_type": "code",
   "execution_count": 12,
   "metadata": {
    "_uuid": "0fdce4d88f2d5900a2b24c5210f1336b59b643ac"
   },
   "outputs": [
    {
     "name": "stdout",
     "output_type": "stream",
     "text": [
      "Logistic Regression cross-validation scores: 0.301\n",
      "KNeighbors cross-validation scores: 0.300\n",
      "Tree Classifier cross-validation scores: 0.351\n"
     ]
    }
   ],
   "source": [
    "from sklearn.linear_model import LogisticRegression\n",
    "from sklearn.neighbors import KNeighborsClassifier\n",
    "from sklearn.tree import DecisionTreeClassifier\n",
    "from sklearn.model_selection import cross_val_score\n",
    "\n",
    "logreg = LogisticRegression()\n",
    "logreg_scores = cross_val_score(logreg, X_train, Y_train, cv=3)\n",
    "print(\"Logistic Regression cross-validation scores: {:.3f}\".format(logreg_scores.mean()))\n",
    "\n",
    "knn = KNeighborsClassifier()\n",
    "knn_scores = cross_val_score(knn, X_train, Y_train, cv=3)\n",
    "print(\"KNeighbors cross-validation scores: {:.3f}\".format(knn_scores.mean()))\n",
    "\n",
    "tree = DecisionTreeClassifier()\n",
    "tree_scores = cross_val_score(tree, X_train, Y_train, cv=3)\n",
    "print(\"Tree Classifier cross-validation scores: {:.3f}\".format(tree_scores.mean()))"
   ]
  },
  {
   "cell_type": "code",
   "execution_count": 13,
   "metadata": {
    "_uuid": "4c4d44db865875311267e35ec6299d64c7af9fdd"
   },
   "outputs": [
    {
     "data": {
      "text/html": [
       "<div>\n",
       "<style scoped>\n",
       "    .dataframe tbody tr th:only-of-type {\n",
       "        vertical-align: middle;\n",
       "    }\n",
       "\n",
       "    .dataframe tbody tr th {\n",
       "        vertical-align: top;\n",
       "    }\n",
       "\n",
       "    .dataframe thead th {\n",
       "        text-align: right;\n",
       "    }\n",
       "</style>\n",
       "<table border=\"1\" class=\"dataframe\">\n",
       "  <thead>\n",
       "    <tr style=\"text-align: right;\">\n",
       "      <th></th>\n",
       "      <th>Age band</th>\n",
       "      <th>Per class acc.</th>\n",
       "    </tr>\n",
       "  </thead>\n",
       "  <tbody>\n",
       "    <tr>\n",
       "      <th>0</th>\n",
       "      <td>(0.34, 8.378]</td>\n",
       "      <td>0.957143</td>\n",
       "    </tr>\n",
       "    <tr>\n",
       "      <th>1</th>\n",
       "      <td>(8.378, 16.336]</td>\n",
       "      <td>0.274194</td>\n",
       "    </tr>\n",
       "    <tr>\n",
       "      <th>2</th>\n",
       "      <td>(16.336, 24.294]</td>\n",
       "      <td>0.697080</td>\n",
       "    </tr>\n",
       "    <tr>\n",
       "      <th>3</th>\n",
       "      <td>(24.294, 32.252]</td>\n",
       "      <td>0.396000</td>\n",
       "    </tr>\n",
       "    <tr>\n",
       "      <th>4</th>\n",
       "      <td>(32.252, 40.21]</td>\n",
       "      <td>0.254658</td>\n",
       "    </tr>\n",
       "    <tr>\n",
       "      <th>5</th>\n",
       "      <td>(40.21, 48.168]</td>\n",
       "      <td>0.361111</td>\n",
       "    </tr>\n",
       "    <tr>\n",
       "      <th>6</th>\n",
       "      <td>(48.168, 56.126]</td>\n",
       "      <td>0.246154</td>\n",
       "    </tr>\n",
       "    <tr>\n",
       "      <th>7</th>\n",
       "      <td>(56.126, 64.084]</td>\n",
       "      <td>0.097561</td>\n",
       "    </tr>\n",
       "    <tr>\n",
       "      <th>8</th>\n",
       "      <td>(64.084, 72.042]</td>\n",
       "      <td>0.100000</td>\n",
       "    </tr>\n",
       "    <tr>\n",
       "      <th>9</th>\n",
       "      <td>(72.042, 80.0]</td>\n",
       "      <td>0.000000</td>\n",
       "    </tr>\n",
       "  </tbody>\n",
       "</table>\n",
       "</div>"
      ],
      "text/plain": [
       "           Age band  Per class acc.\n",
       "0     (0.34, 8.378]        0.957143\n",
       "1   (8.378, 16.336]        0.274194\n",
       "2  (16.336, 24.294]        0.697080\n",
       "3  (24.294, 32.252]        0.396000\n",
       "4   (32.252, 40.21]        0.254658\n",
       "5   (40.21, 48.168]        0.361111\n",
       "6  (48.168, 56.126]        0.246154\n",
       "7  (56.126, 64.084]        0.097561\n",
       "8  (64.084, 72.042]        0.100000\n",
       "9    (72.042, 80.0]        0.000000"
      ]
     },
     "execution_count": 13,
     "metadata": {},
     "output_type": "execute_result"
    }
   ],
   "source": [
    "# Make predictions using our best model (Decision Tree)\n",
    "tree.fit(X_train, Y_train)\n",
    "Y_pred = tree.predict(X_train)\n",
    "\n",
    "# Compute the per-class/per-age band accuracy\n",
    "total = np.bincount(Y_train.values, minlength=no_age_bins)\n",
    "correct = np.bincount(Y_pred[Y_pred == Y_train.values], minlength=no_age_bins)\n",
    "class_acc = correct / total\n",
    "pd.DataFrame({'Age band': age_band_series.cat.categories, 'Per class acc.': class_acc})"
   ]
  },
  {
   "cell_type": "markdown",
   "metadata": {
    "_uuid": "5355be46f3b5450ec93675e615303cbebc3a6092"
   },
   "source": [
    "None of the models achieves high-accuracy overall; however, if we check the per-class/per-age band accuracy, we see that our best model (Decision Tree) is really good at predicting children - 95.7% accuracy for passengers in the 0 to 8 age band. As discussed previously, this is the most relevant age band; therefore, a low overall accuracy shouldn't be a big issue as long as we have a high accuracy for this age band.\n",
    "\n",
    "It also shows that the model can make good predictions for passengers within the ages of 16 and 24. A possible explanation is that passengers within this age band are more likely to be traveling with friends or alone, therefore SibSp and Parch are 0."
   ]
  },
  {
   "cell_type": "markdown",
   "metadata": {
    "_uuid": "305493e0af095dd045f92965999044407367386d"
   },
   "source": [
    "We can now predict the age band for passengers with missing data:"
   ]
  },
  {
   "cell_type": "code",
   "execution_count": 14,
   "metadata": {
    "_uuid": "35bfe3e78ade4e2f1cfe7f1dad1a47f281f8575c"
   },
   "outputs": [],
   "source": [
    "Y = tree.predict(X)\n",
    "fill_age_df.loc[fill_age_df['Age'] == -1, 'Age'] = Y"
   ]
  },
  {
   "cell_type": "markdown",
   "metadata": {
    "_uuid": "bac180be54d461d10698f6e17b6f0ff00978a00c"
   },
   "source": [
    "Apply the integer encoded age bands to the train and test datasets."
   ]
  },
  {
   "cell_type": "code",
   "execution_count": 15,
   "metadata": {
    "_uuid": "c3304ecd1907af950adaf1e87674ffe1f09656cd"
   },
   "outputs": [
    {
     "data": {
      "text/html": [
       "<div>\n",
       "<style scoped>\n",
       "    .dataframe tbody tr th:only-of-type {\n",
       "        vertical-align: middle;\n",
       "    }\n",
       "\n",
       "    .dataframe tbody tr th {\n",
       "        vertical-align: top;\n",
       "    }\n",
       "\n",
       "    .dataframe thead th {\n",
       "        text-align: right;\n",
       "    }\n",
       "</style>\n",
       "<table border=\"1\" class=\"dataframe\">\n",
       "  <thead>\n",
       "    <tr style=\"text-align: right;\">\n",
       "      <th></th>\n",
       "      <th>Survived</th>\n",
       "      <th>Pclass</th>\n",
       "      <th>Name</th>\n",
       "      <th>Sex</th>\n",
       "      <th>Age</th>\n",
       "      <th>SibSp</th>\n",
       "      <th>Parch</th>\n",
       "      <th>Ticket</th>\n",
       "      <th>Fare</th>\n",
       "      <th>Embarked</th>\n",
       "    </tr>\n",
       "  </thead>\n",
       "  <tbody>\n",
       "    <tr>\n",
       "      <th>0</th>\n",
       "      <td>0</td>\n",
       "      <td>3</td>\n",
       "      <td>Braund, Mr. Owen Harris</td>\n",
       "      <td>male</td>\n",
       "      <td>2</td>\n",
       "      <td>1</td>\n",
       "      <td>0</td>\n",
       "      <td>A/5 21171</td>\n",
       "      <td>7.2500</td>\n",
       "      <td>S</td>\n",
       "    </tr>\n",
       "    <tr>\n",
       "      <th>1</th>\n",
       "      <td>1</td>\n",
       "      <td>1</td>\n",
       "      <td>Cumings, Mrs. John Bradley (Florence Briggs Th...</td>\n",
       "      <td>female</td>\n",
       "      <td>4</td>\n",
       "      <td>1</td>\n",
       "      <td>0</td>\n",
       "      <td>PC 17599</td>\n",
       "      <td>71.2833</td>\n",
       "      <td>C</td>\n",
       "    </tr>\n",
       "    <tr>\n",
       "      <th>2</th>\n",
       "      <td>1</td>\n",
       "      <td>3</td>\n",
       "      <td>Heikkinen, Miss. Laina</td>\n",
       "      <td>female</td>\n",
       "      <td>3</td>\n",
       "      <td>0</td>\n",
       "      <td>0</td>\n",
       "      <td>STON/O2. 3101282</td>\n",
       "      <td>7.9250</td>\n",
       "      <td>S</td>\n",
       "    </tr>\n",
       "    <tr>\n",
       "      <th>3</th>\n",
       "      <td>1</td>\n",
       "      <td>1</td>\n",
       "      <td>Futrelle, Mrs. Jacques Heath (Lily May Peel)</td>\n",
       "      <td>female</td>\n",
       "      <td>4</td>\n",
       "      <td>1</td>\n",
       "      <td>0</td>\n",
       "      <td>113803</td>\n",
       "      <td>53.1000</td>\n",
       "      <td>S</td>\n",
       "    </tr>\n",
       "    <tr>\n",
       "      <th>4</th>\n",
       "      <td>0</td>\n",
       "      <td>3</td>\n",
       "      <td>Allen, Mr. William Henry</td>\n",
       "      <td>male</td>\n",
       "      <td>4</td>\n",
       "      <td>0</td>\n",
       "      <td>0</td>\n",
       "      <td>373450</td>\n",
       "      <td>8.0500</td>\n",
       "      <td>S</td>\n",
       "    </tr>\n",
       "  </tbody>\n",
       "</table>\n",
       "</div>"
      ],
      "text/plain": [
       "   Survived  Pclass                                               Name  \\\n",
       "0         0       3                            Braund, Mr. Owen Harris   \n",
       "1         1       1  Cumings, Mrs. John Bradley (Florence Briggs Th...   \n",
       "2         1       3                             Heikkinen, Miss. Laina   \n",
       "3         1       1       Futrelle, Mrs. Jacques Heath (Lily May Peel)   \n",
       "4         0       3                           Allen, Mr. William Henry   \n",
       "\n",
       "      Sex  Age  SibSp  Parch            Ticket     Fare Embarked  \n",
       "0    male    2      1      0         A/5 21171   7.2500        S  \n",
       "1  female    4      1      0          PC 17599  71.2833        C  \n",
       "2  female    3      0      0  STON/O2. 3101282   7.9250        S  \n",
       "3  female    4      1      0            113803  53.1000        S  \n",
       "4    male    4      0      0            373450   8.0500        S  "
      ]
     },
     "execution_count": 15,
     "metadata": {},
     "output_type": "execute_result"
    }
   ],
   "source": [
    "train['Age'] = fill_age_df.iloc[:train_len, 0]\n",
    "test['Age'] = fill_age_df.iloc[train_len:, 0]\n",
    "\n",
    "train.head()"
   ]
  },
  {
   "cell_type": "markdown",
   "metadata": {
    "_uuid": "7831f38c2c7513566349f0cbba4a8fa6446042a1"
   },
   "source": [
    "## Sex"
   ]
  },
  {
   "cell_type": "code",
   "execution_count": 16,
   "metadata": {
    "_uuid": "d5c03aa7cc892ab8c594c25694c5119ed2a0682d"
   },
   "outputs": [
    {
     "data": {
      "text/plain": [
       "Sex\n",
       "female    0.742038\n",
       "male      0.188908\n",
       "Name: Survived, dtype: float64"
      ]
     },
     "execution_count": 16,
     "metadata": {},
     "output_type": "execute_result"
    },
    {
     "data": {
      "image/png": "[encoded data removed]",
      "text/plain": [
       "<Figure size 432x288 with 1 Axes>"
      ]
     },
     "metadata": {},
     "output_type": "display_data"
    }
   ],
   "source": [
    "_ = sns.countplot(x='Sex', hue='Survived', data=train)\n",
    "train.groupby('Sex')['Survived'].mean()"
   ]
  },
  {
   "cell_type": "markdown",
   "metadata": {
    "_uuid": "6e8cbee0cc2a73023bdc14712d00596e5c3f2d0b"
   },
   "source": [
    "Females have much higher survival rates. One-hot encode `Sex` so the algorithms can handle it."
   ]
  },
  {
   "cell_type": "code",
   "execution_count": 17,
   "metadata": {
    "_uuid": "859f3b9f325448ca52b383f09320324c1ff31828"
   },
   "outputs": [],
   "source": [
    "# One-encode using dummies\n",
    "train['IsMale'] = pd.get_dummies(train['Sex'], drop_first=True)\n",
    "test['IsMale'] = pd.get_dummies(test['Sex'], drop_first=True)\n",
    "\n",
    "# Drop the Sex column\n",
    "train.drop(columns='Sex', inplace=True)\n",
    "test.drop(columns='Sex', inplace=True)"
   ]
  },
  {
   "cell_type": "markdown",
   "metadata": {
    "_uuid": "578331907e52e904794e39a7c7f6822a006e536f"
   },
   "source": [
    "## Ticket class (Pclass)"
   ]
  },
  {
   "cell_type": "code",
   "execution_count": 18,
   "metadata": {
    "_uuid": "c5f4607a1c554e490b0b1092c06f7e5a6d0f9eb5"
   },
   "outputs": [
    {
     "data": {
      "text/plain": [
       "Pclass\n",
       "1    0.629630\n",
       "2    0.472826\n",
       "3    0.242363\n",
       "Name: Survived, dtype: float64"
      ]
     },
     "execution_count": 18,
     "metadata": {},
     "output_type": "execute_result"
    },
    {
     "data": {
      "image/png": "[encoded data removed]",
      "text/plain": [
       "<Figure size 432x288 with 1 Axes>"
      ]
     },
     "metadata": {},
     "output_type": "display_data"
    }
   ],
   "source": [
    "_ = sns.countplot(x='Pclass', hue='Survived', data=train)\n",
    "train.groupby('Pclass')['Survived'].mean()"
   ]
  },
  {
   "cell_type": "markdown",
   "metadata": {
    "_uuid": "dbf9546834a1e017e4f65bd8afe614c8ed623122"
   },
   "source": [
    "Passengers with higher ticket class (lower `Pclass`) have higher chances of survival:\n",
    "- 1st class: 63%\n",
    "- 2nd class: 48%\n",
    "- 3rd class: 24%\n",
    "\n",
    "Keep the feature as-is, Pclass is already encoded in integers (one-hot encoding would leave out the natural order of ticket class which is an important part of the feature)."
   ]
  },
  {
   "cell_type": "markdown",
   "metadata": {
    "_uuid": "e1d7d9ee7f910ccb2751f4a1797a5ea3b996672f"
   },
   "source": [
    "## Port of Embarkation (Embarked)"
   ]
  },
  {
   "cell_type": "code",
   "execution_count": 19,
   "metadata": {
    "_uuid": "3997169db85d3a5f03e46bbf20349fc4c49ccf8e",
    "scrolled": true
   },
   "outputs": [
    {
     "data": {
      "image/png": "[encoded data removed]",
      "text/plain": [
       "<Figure size 432x288 with 1 Axes>"
      ]
     },
     "metadata": {},
     "output_type": "display_data"
    }
   ],
   "source": [
    "_ = sns.countplot(x='Embarked', hue='Survived', data=train)"
   ]
  },
  {
   "cell_type": "markdown",
   "metadata": {
    "_uuid": "38576463d8084d6bd21475cc493ed94d93be890c"
   },
   "source": [
    "After looking at this graph my first thought was that it was a useful feature, we can see that passengers from different ports have varying chances of survival. Great!\n",
    "\n",
    "Then, after thinking some more I was convinced that there shouldn't be a correlation between port of embarkation and survival. I thought that what this graph shows is just the combination of `IsMale` and `Pclass`..."
   ]
  },
  {
   "cell_type": "code",
   "execution_count": 20,
   "metadata": {
    "_uuid": "afc1ad6a99122e6a212c481a42ada5a425548241"
   },
   "outputs": [
    {
     "name": "stderr",
     "output_type": "stream",
     "text": [
      "/home/davidtvs/datascience/kaggle/Titanic/titanic-env/lib/python3.5/site-packages/seaborn/categorical.py:3666: UserWarning: The `factorplot` function has been renamed to `catplot`. The original name will be removed in a future release. Please update your code. Note that the default `kind` in `factorplot` (`'point'`) has changed `'strip'` in `catplot`.\n",
      "  warnings.warn(msg)\n"
     ]
    },
    {
     "data": {
      "image/png": "[encoded data removed]",
      "text/plain": [
       "<Figure size 1080x720 with 6 Axes>"
      ]
     },
     "metadata": {},
     "output_type": "display_data"
    }
   ],
   "source": [
    "# Plot relationship between Embarked, Pclass, and IsMale\n",
    "_ = sns.factorplot(x='Embarked', col='Pclass', row='IsMale', data=train, kind='count')"
   ]
  },
  {
   "cell_type": "code",
   "execution_count": 21,
   "metadata": {
    "_uuid": "57df5dbe5f0f36e5c1c0cef2b61ff8a0080bda48"
   },
   "outputs": [
    {
     "data": {
      "text/html": [
       "<div>\n",
       "<style scoped>\n",
       "    .dataframe tbody tr th:only-of-type {\n",
       "        vertical-align: middle;\n",
       "    }\n",
       "\n",
       "    .dataframe tbody tr th {\n",
       "        vertical-align: top;\n",
       "    }\n",
       "\n",
       "    .dataframe thead th {\n",
       "        text-align: right;\n",
       "    }\n",
       "</style>\n",
       "<table border=\"1\" class=\"dataframe\">\n",
       "  <thead>\n",
       "    <tr style=\"text-align: right;\">\n",
       "      <th></th>\n",
       "      <th></th>\n",
       "      <th></th>\n",
       "      <th>Total</th>\n",
       "      <th>Survived</th>\n",
       "      <th>Rate</th>\n",
       "    </tr>\n",
       "    <tr>\n",
       "      <th>Embarked</th>\n",
       "      <th>Pclass</th>\n",
       "      <th>IsMale</th>\n",
       "      <th></th>\n",
       "      <th></th>\n",
       "      <th></th>\n",
       "    </tr>\n",
       "  </thead>\n",
       "  <tbody>\n",
       "    <tr>\n",
       "      <th rowspan=\"6\" valign=\"top\">C</th>\n",
       "      <th rowspan=\"2\" valign=\"top\">1</th>\n",
       "      <th>0</th>\n",
       "      <td>43</td>\n",
       "      <td>42</td>\n",
       "      <td>0.976744</td>\n",
       "    </tr>\n",
       "    <tr>\n",
       "      <th>1</th>\n",
       "      <td>42</td>\n",
       "      <td>17</td>\n",
       "      <td>0.404762</td>\n",
       "    </tr>\n",
       "    <tr>\n",
       "      <th rowspan=\"2\" valign=\"top\">2</th>\n",
       "      <th>0</th>\n",
       "      <td>7</td>\n",
       "      <td>7</td>\n",
       "      <td>1.000000</td>\n",
       "    </tr>\n",
       "    <tr>\n",
       "      <th>1</th>\n",
       "      <td>10</td>\n",
       "      <td>2</td>\n",
       "      <td>0.200000</td>\n",
       "    </tr>\n",
       "    <tr>\n",
       "      <th rowspan=\"2\" valign=\"top\">3</th>\n",
       "      <th>0</th>\n",
       "      <td>23</td>\n",
       "      <td>15</td>\n",
       "      <td>0.652174</td>\n",
       "    </tr>\n",
       "    <tr>\n",
       "      <th>1</th>\n",
       "      <td>43</td>\n",
       "      <td>10</td>\n",
       "      <td>0.232558</td>\n",
       "    </tr>\n",
       "    <tr>\n",
       "      <th rowspan=\"6\" valign=\"top\">Q</th>\n",
       "      <th rowspan=\"2\" valign=\"top\">1</th>\n",
       "      <th>0</th>\n",
       "      <td>1</td>\n",
       "      <td>1</td>\n",
       "      <td>1.000000</td>\n",
       "    </tr>\n",
       "    <tr>\n",
       "      <th>1</th>\n",
       "      <td>1</td>\n",
       "      <td>0</td>\n",
       "      <td>0.000000</td>\n",
       "    </tr>\n",
       "    <tr>\n",
       "      <th rowspan=\"2\" valign=\"top\">2</th>\n",
       "      <th>0</th>\n",
       "      <td>2</td>\n",
       "      <td>2</td>\n",
       "      <td>1.000000</td>\n",
       "    </tr>\n",
       "    <tr>\n",
       "      <th>1</th>\n",
       "      <td>1</td>\n",
       "      <td>0</td>\n",
       "      <td>0.000000</td>\n",
       "    </tr>\n",
       "    <tr>\n",
       "      <th rowspan=\"2\" valign=\"top\">3</th>\n",
       "      <th>0</th>\n",
       "      <td>33</td>\n",
       "      <td>24</td>\n",
       "      <td>0.727273</td>\n",
       "    </tr>\n",
       "    <tr>\n",
       "      <th>1</th>\n",
       "      <td>39</td>\n",
       "      <td>3</td>\n",
       "      <td>0.076923</td>\n",
       "    </tr>\n",
       "    <tr>\n",
       "      <th rowspan=\"6\" valign=\"top\">S</th>\n",
       "      <th rowspan=\"2\" valign=\"top\">1</th>\n",
       "      <th>0</th>\n",
       "      <td>48</td>\n",
       "      <td>46</td>\n",
       "      <td>0.958333</td>\n",
       "    </tr>\n",
       "    <tr>\n",
       "      <th>1</th>\n",
       "      <td>79</td>\n",
       "      <td>28</td>\n",
       "      <td>0.354430</td>\n",
       "    </tr>\n",
       "    <tr>\n",
       "      <th rowspan=\"2\" valign=\"top\">2</th>\n",
       "      <th>0</th>\n",
       "      <td>67</td>\n",
       "      <td>61</td>\n",
       "      <td>0.910448</td>\n",
       "    </tr>\n",
       "    <tr>\n",
       "      <th>1</th>\n",
       "      <td>97</td>\n",
       "      <td>15</td>\n",
       "      <td>0.154639</td>\n",
       "    </tr>\n",
       "    <tr>\n",
       "      <th rowspan=\"2\" valign=\"top\">3</th>\n",
       "      <th>0</th>\n",
       "      <td>88</td>\n",
       "      <td>33</td>\n",
       "      <td>0.375000</td>\n",
       "    </tr>\n",
       "    <tr>\n",
       "      <th>1</th>\n",
       "      <td>265</td>\n",
       "      <td>34</td>\n",
       "      <td>0.128302</td>\n",
       "    </tr>\n",
       "  </tbody>\n",
       "</table>\n",
       "</div>"
      ],
      "text/plain": [
       "                        Total  Survived      Rate\n",
       "Embarked Pclass IsMale                           \n",
       "C        1      0          43        42  0.976744\n",
       "                1          42        17  0.404762\n",
       "         2      0           7         7  1.000000\n",
       "                1          10         2  0.200000\n",
       "         3      0          23        15  0.652174\n",
       "                1          43        10  0.232558\n",
       "Q        1      0           1         1  1.000000\n",
       "                1           1         0  0.000000\n",
       "         2      0           2         2  1.000000\n",
       "                1           1         0  0.000000\n",
       "         3      0          33        24  0.727273\n",
       "                1          39         3  0.076923\n",
       "S        1      0          48        46  0.958333\n",
       "                1          79        28  0.354430\n",
       "         2      0          67        61  0.910448\n",
       "                1          97        15  0.154639\n",
       "         3      0          88        33  0.375000\n",
       "                1         265        34  0.128302"
      ]
     },
     "execution_count": 21,
     "metadata": {},
     "output_type": "execute_result"
    }
   ],
   "source": [
    "# Passengers grouped by Embarked, Pclass, and IsMale\n",
    "embarked_corr = (train[['Survived', 'Embarked', 'Pclass', 'IsMale']].groupby(['Embarked', 'Pclass', 'IsMale'])                                            \n",
    "                                                                    .agg(['count', 'sum', 'mean']))\n",
    "embarked_corr.columns = embarked_corr.columns.droplevel(0)\n",
    "embarked_corr.columns = ['Total', 'Survived', 'Rate']\n",
    "embarked_corr"
   ]
  },
  {
   "cell_type": "markdown",
   "metadata": {
    "_uuid": "1886120e86ed4f14cb764bf0df047d3dd4da315d"
   },
   "source": [
    "We see that in `Southampton (S)` a high number of 3rd class males embarked the Titanic so a low survival rate is to be expected. A high number of 1st class passengers embarked in `Cherbourg (C)` so we see a high survival rate. In `Queenstown (Q)`, however, the chart shows something that I was not expecting given the following observations:\n",
    "- the vast majority of passengers are 3rd class passengers;\n",
    "- the number of males and females is comparable.\n",
    "\n",
    "Given these conditions, survival rate should be correlated only to `IsMale`, and that is true for females; males however end-up with half the survival rate. Though, this is a sample of 42 males in a population of 577, so it's not enough to convince me that `Embarked` is independently correlated to survival. `Embarked` is dropped."
   ]
  },
  {
   "cell_type": "code",
   "execution_count": 22,
   "metadata": {
    "_uuid": "fdd83674ddf38ffabd2d0b78ac543d7ea7690cdc"
   },
   "outputs": [],
   "source": [
    "train.drop(columns='Embarked', inplace=True)\n",
    "test.drop(columns='Embarked', inplace=True)"
   ]
  },
  {
   "cell_type": "markdown",
   "metadata": {
    "_uuid": "65a1d3f125f961e974d75636c0590dcb3406add3"
   },
   "source": [
    "## Fare"
   ]
  },
  {
   "cell_type": "code",
   "execution_count": 23,
   "metadata": {
    "_uuid": "28064e0ff4c1cc6d41eb280b243e352f150bb73d"
   },
   "outputs": [
    {
     "data": {
      "image/png": "[encoded data removed]",
      "text/plain": [
       "<Figure size 432x288 with 1 Axes>"
      ]
     },
     "metadata": {},
     "output_type": "display_data"
    }
   ],
   "source": [
    "no_fare_bins = 4\n",
    "train['FareBand'], fare_bins = pd.qcut(train['Fare'], no_fare_bins, retbins=True)\n",
    "_ = sns.countplot(x='FareBand', hue='Survived', data=train)\n",
    "_ = plt.xticks(rotation=30, ha='right')"
   ]
  },
  {
   "cell_type": "markdown",
   "metadata": {
    "_uuid": "30c5486c33570bbffcd1399bb56096977b7138d1"
   },
   "source": [
    "One might think that `Fare` and `Pclass` are highly correlated, let's see if that is true... "
   ]
  },
  {
   "cell_type": "code",
   "execution_count": 24,
   "metadata": {
    "_uuid": "ca59eb1e6ffa49a5095dc7739ec24f65a5804722",
    "scrolled": true
   },
   "outputs": [
    {
     "name": "stderr",
     "output_type": "stream",
     "text": [
      "/home/davidtvs/datascience/kaggle/Titanic/titanic-env/lib/python3.5/site-packages/seaborn/categorical.py:3666: UserWarning: The `factorplot` function has been renamed to `catplot`. The original name will be removed in a future release. Please update your code. Note that the default `kind` in `factorplot` (`'point'`) has changed `'strip'` in `catplot`.\n",
      "  warnings.warn(msg)\n"
     ]
    },
    {
     "data": {
      "image/png": "[encoded data removed]",
      "text/plain": [
       "<Figure size 1080x360 with 3 Axes>"
      ]
     },
     "metadata": {},
     "output_type": "display_data"
    }
   ],
   "source": [
    "# Plot relationship between FareBand and Pclass\n",
    "g = sns.factorplot(x='FareBand', col='Pclass', data=train, kind='count')\n",
    "_ = g.set_xticklabels(rotation=30, ha='right')"
   ]
  },
  {
   "cell_type": "code",
   "execution_count": 25,
   "metadata": {
    "_uuid": "a8c1594ef8966e8323a1a77a8584efd9143d29fc"
   },
   "outputs": [
    {
     "data": {
      "text/html": [
       "<div>\n",
       "<style scoped>\n",
       "    .dataframe tbody tr th:only-of-type {\n",
       "        vertical-align: middle;\n",
       "    }\n",
       "\n",
       "    .dataframe tbody tr th {\n",
       "        vertical-align: top;\n",
       "    }\n",
       "\n",
       "    .dataframe thead th {\n",
       "        text-align: right;\n",
       "    }\n",
       "</style>\n",
       "<table border=\"1\" class=\"dataframe\">\n",
       "  <thead>\n",
       "    <tr style=\"text-align: right;\">\n",
       "      <th></th>\n",
       "      <th></th>\n",
       "      <th>Total</th>\n",
       "      <th>Survived</th>\n",
       "      <th>Rate</th>\n",
       "    </tr>\n",
       "    <tr>\n",
       "      <th>Pclass</th>\n",
       "      <th>FareBand</th>\n",
       "      <th></th>\n",
       "      <th></th>\n",
       "      <th></th>\n",
       "    </tr>\n",
       "  </thead>\n",
       "  <tbody>\n",
       "    <tr>\n",
       "      <th rowspan=\"3\" valign=\"top\">1</th>\n",
       "      <th>(-0.001, 7.91]</th>\n",
       "      <td>6</td>\n",
       "      <td>0</td>\n",
       "      <td>0.000000</td>\n",
       "    </tr>\n",
       "    <tr>\n",
       "      <th>(14.454, 31.0]</th>\n",
       "      <td>51</td>\n",
       "      <td>27</td>\n",
       "      <td>0.529412</td>\n",
       "    </tr>\n",
       "    <tr>\n",
       "      <th>(31.0, 512.329]</th>\n",
       "      <td>159</td>\n",
       "      <td>109</td>\n",
       "      <td>0.685535</td>\n",
       "    </tr>\n",
       "    <tr>\n",
       "      <th rowspan=\"4\" valign=\"top\">2</th>\n",
       "      <th>(-0.001, 7.91]</th>\n",
       "      <td>6</td>\n",
       "      <td>0</td>\n",
       "      <td>0.000000</td>\n",
       "    </tr>\n",
       "    <tr>\n",
       "      <th>(7.91, 14.454]</th>\n",
       "      <td>86</td>\n",
       "      <td>33</td>\n",
       "      <td>0.383721</td>\n",
       "    </tr>\n",
       "    <tr>\n",
       "      <th>(14.454, 31.0]</th>\n",
       "      <td>70</td>\n",
       "      <td>42</td>\n",
       "      <td>0.600000</td>\n",
       "    </tr>\n",
       "    <tr>\n",
       "      <th>(31.0, 512.329]</th>\n",
       "      <td>22</td>\n",
       "      <td>12</td>\n",
       "      <td>0.545455</td>\n",
       "    </tr>\n",
       "    <tr>\n",
       "      <th rowspan=\"4\" valign=\"top\">3</th>\n",
       "      <th>(-0.001, 7.91]</th>\n",
       "      <td>211</td>\n",
       "      <td>44</td>\n",
       "      <td>0.208531</td>\n",
       "    </tr>\n",
       "    <tr>\n",
       "      <th>(7.91, 14.454]</th>\n",
       "      <td>138</td>\n",
       "      <td>35</td>\n",
       "      <td>0.253623</td>\n",
       "    </tr>\n",
       "    <tr>\n",
       "      <th>(14.454, 31.0]</th>\n",
       "      <td>101</td>\n",
       "      <td>32</td>\n",
       "      <td>0.316832</td>\n",
       "    </tr>\n",
       "    <tr>\n",
       "      <th>(31.0, 512.329]</th>\n",
       "      <td>41</td>\n",
       "      <td>8</td>\n",
       "      <td>0.195122</td>\n",
       "    </tr>\n",
       "  </tbody>\n",
       "</table>\n",
       "</div>"
      ],
      "text/plain": [
       "                        Total  Survived      Rate\n",
       "Pclass FareBand                                  \n",
       "1      (-0.001, 7.91]       6         0  0.000000\n",
       "       (14.454, 31.0]      51        27  0.529412\n",
       "       (31.0, 512.329]    159       109  0.685535\n",
       "2      (-0.001, 7.91]       6         0  0.000000\n",
       "       (7.91, 14.454]      86        33  0.383721\n",
       "       (14.454, 31.0]      70        42  0.600000\n",
       "       (31.0, 512.329]     22        12  0.545455\n",
       "3      (-0.001, 7.91]     211        44  0.208531\n",
       "       (7.91, 14.454]     138        35  0.253623\n",
       "       (14.454, 31.0]     101        32  0.316832\n",
       "       (31.0, 512.329]     41         8  0.195122"
      ]
     },
     "execution_count": 25,
     "metadata": {},
     "output_type": "execute_result"
    }
   ],
   "source": [
    "# Group passengers by FareBand and Pclass\n",
    "fare_corr = (train[['Survived', 'FareBand', 'Pclass']].groupby(['Pclass', 'FareBand'])\n",
    "                                                      .agg(['count', 'sum', 'mean']))\n",
    "fare_corr.columns = fare_corr.columns.droplevel(0)\n",
    "fare_corr.columns = ['Total', 'Survived', 'Rate']\n",
    "fare_corr"
   ]
  },
  {
   "cell_type": "markdown",
   "metadata": {
    "_uuid": "f79006bfe4a73035395665a2192f623a277bed99"
   },
   "source": [
    "There is correlation, but there is also some unique information that we can observe in `Fare`, particularly for 3rd class passengers:\n",
    "1. many bought expensive tickets\n",
    "2. survival is not related to fare, though there is a spike in the 10.5 to 21.7 fare band\n",
    "\n",
    "Since the majority of passengers are 3rd class I think this information might help to predict who survives and who doesn't.\n",
    "\n",
    "Fare bands should be encoded as integers since there is a natural order to the feature. Before including it we also need to fill the missing entry in Fare. **Note:** I am only filling after the analysis because the ammount of missing data is not significant."
   ]
  },
  {
   "cell_type": "code",
   "execution_count": 26,
   "metadata": {
    "_uuid": "9b2c64ff2236739b6df6623d04388465ad642c78"
   },
   "outputs": [
    {
     "name": "stdout",
     "output_type": "stream",
     "text": [
      "No. of NaN values in Fare: 0.0\n"
     ]
    }
   ],
   "source": [
    "# Fill missing fares\n",
    "dataset = pd.concat([train, test], sort=True)\n",
    "dataset['Fare'].fillna(dataset['Fare'].median(), inplace=True)\n",
    "print(\"No. of NaN values in Fare: {}\".format(dataset['Fare'].isna().sum() / len(train)))\n",
    "\n",
    "train = dataset.iloc[:train_len].copy()\n",
    "test = dataset.iloc[train_len:].copy()"
   ]
  },
  {
   "cell_type": "code",
   "execution_count": 27,
   "metadata": {
    "_uuid": "95ceeb3db4e7733d0d9233a308a7014f3bb09920"
   },
   "outputs": [],
   "source": [
    "# Convert fare bands to integers and drop the 'Fare' column\n",
    "train['FareBand'] = train['FareBand'].astype('category').cat.codes\n",
    "train.drop(columns='Fare', inplace=True)\n",
    "\n",
    "# Apply the fare bands computed from the training set, convert to integers and drop the 'Fare' column\n",
    "test['FareBand'] = pd.cut(test['Fare'], fare_bins)\n",
    "test['FareBand'] = test['FareBand'].astype('category').cat.codes\n",
    "test.drop(columns=['Fare'], inplace=True)"
   ]
  },
  {
   "cell_type": "markdown",
   "metadata": {
    "_uuid": "f849e17ea98fe4a8b2d78e960db6d7dfe5961689"
   },
   "source": [
    "## Enginnering Groups of Passengers (InGroups)\n",
    "\n",
    "A passenger belongs to a group if he shares one of the following features with at least one other passenger:\n",
    "1. ticket number;\n",
    "2. combination of: surname + PClass + ticket number (excluding last digit) + embarked.\n",
    "\n",
    "Note: Could also take advantage of Parch and SibSp but since errors have been found with those features I won't use them."
   ]
  },
  {
   "cell_type": "code",
   "execution_count": 28,
   "metadata": {
    "_uuid": "8201ec979fe2cdbf04805b4bbc5f3a5609dc3274"
   },
   "outputs": [],
   "source": [
    "# Create the new feature for the whole dataset \n",
    "# (I am using _train and _test because train and test no longer contain 'Embarked')\n",
    "dataset = pd.concat([_train, _test], sort=True)"
   ]
  },
  {
   "cell_type": "markdown",
   "metadata": {
    "_uuid": "ba07384c87bc4f9c34259ce8b269932f9ac56ffe"
   },
   "source": [
    "\n",
    "### Groups by ticket number"
   ]
  },
  {
   "cell_type": "code",
   "execution_count": 29,
   "metadata": {
    "_uuid": "9deba808c6be0b7957de0272c0861e7c3af08a71"
   },
   "outputs": [],
   "source": [
    "# Groups that shares the same ticket number\n",
    "ticket_count = dataset['Ticket'].value_counts()\n",
    "shared_tickets = ticket_count[ticket_count > 1].index\n",
    "group_tickets = dataset['Ticket'].apply(lambda x: x in shared_tickets)"
   ]
  },
  {
   "cell_type": "markdown",
   "metadata": {
    "_uuid": "3c298d8d32270cef88d9c0c6c5590406c6a70916"
   },
   "source": [
    "### Groups by surname + PClass + ticket number (excluding last digit) + embarked (SPTE)"
   ]
  },
  {
   "cell_type": "code",
   "execution_count": 30,
   "metadata": {
    "_uuid": "d771af75aa2c56873ec7874473d68c32979479e3",
    "scrolled": true
   },
   "outputs": [],
   "source": [
    "surname = dataset['Name'].apply(lambda x: x[:x.find(',')])\n",
    "ticket = dataset['Ticket'].apply(lambda x: x[:-1])\n",
    "\n",
    "spte_id = (surname.astype(str) + '-' + dataset['Pclass'].astype(str) + '-'\n",
    "           + ticket.astype(str) + '-' + dataset['Embarked'].astype(str) + '-' + dataset['Fare'].astype(str))\n",
    "\n",
    "spte_count = spte_id.value_counts()\n",
    "shared_spte = spte_count[spte_count > 1].index\n",
    "group_spte = spte_id.apply(lambda x: x in shared_spte)"
   ]
  },
  {
   "cell_type": "markdown",
   "metadata": {
    "_uuid": "b562217e398ba1cb2cc8394435da6ff42e0f75c9"
   },
   "source": [
    "### Merging the groups"
   ]
  },
  {
   "cell_type": "markdown",
   "metadata": {
    "_uuid": "53d085203b6aa215b9fc6df54d1c3be5ca71d707"
   },
   "source": [
    "Add the `InGroup` feature to the `train` and `test` datasets. Also drop the features: `Name`, `SibSp`, `Parch`, and `Ticket`. "
   ]
  },
  {
   "cell_type": "code",
   "execution_count": 31,
   "metadata": {
    "_uuid": "a1fb17f9c92373bc58b0272d89249e3977d17004"
   },
   "outputs": [
    {
     "data": {
      "text/html": [
       "<div>\n",
       "<style scoped>\n",
       "    .dataframe tbody tr th:only-of-type {\n",
       "        vertical-align: middle;\n",
       "    }\n",
       "\n",
       "    .dataframe tbody tr th {\n",
       "        vertical-align: top;\n",
       "    }\n",
       "\n",
       "    .dataframe thead th {\n",
       "        text-align: right;\n",
       "    }\n",
       "</style>\n",
       "<table border=\"1\" class=\"dataframe\">\n",
       "  <thead>\n",
       "    <tr style=\"text-align: right;\">\n",
       "      <th></th>\n",
       "      <th>Age</th>\n",
       "      <th>FareBand</th>\n",
       "      <th>IsMale</th>\n",
       "      <th>Pclass</th>\n",
       "      <th>Survived</th>\n",
       "      <th>InGroup</th>\n",
       "    </tr>\n",
       "  </thead>\n",
       "  <tbody>\n",
       "    <tr>\n",
       "      <th>0</th>\n",
       "      <td>2</td>\n",
       "      <td>0</td>\n",
       "      <td>1</td>\n",
       "      <td>3</td>\n",
       "      <td>0.0</td>\n",
       "      <td>0</td>\n",
       "    </tr>\n",
       "    <tr>\n",
       "      <th>1</th>\n",
       "      <td>4</td>\n",
       "      <td>3</td>\n",
       "      <td>0</td>\n",
       "      <td>1</td>\n",
       "      <td>1.0</td>\n",
       "      <td>1</td>\n",
       "    </tr>\n",
       "    <tr>\n",
       "      <th>2</th>\n",
       "      <td>3</td>\n",
       "      <td>1</td>\n",
       "      <td>0</td>\n",
       "      <td>3</td>\n",
       "      <td>1.0</td>\n",
       "      <td>0</td>\n",
       "    </tr>\n",
       "    <tr>\n",
       "      <th>3</th>\n",
       "      <td>4</td>\n",
       "      <td>3</td>\n",
       "      <td>0</td>\n",
       "      <td>1</td>\n",
       "      <td>1.0</td>\n",
       "      <td>1</td>\n",
       "    </tr>\n",
       "    <tr>\n",
       "      <th>4</th>\n",
       "      <td>4</td>\n",
       "      <td>1</td>\n",
       "      <td>1</td>\n",
       "      <td>3</td>\n",
       "      <td>0.0</td>\n",
       "      <td>0</td>\n",
       "    </tr>\n",
       "  </tbody>\n",
       "</table>\n",
       "</div>"
      ],
      "text/plain": [
       "   Age  FareBand  IsMale  Pclass  Survived  InGroup\n",
       "0    2         0       1       3       0.0        0\n",
       "1    4         3       0       1       1.0        1\n",
       "2    3         1       0       3       1.0        0\n",
       "3    4         3       0       1       1.0        1\n",
       "4    4         1       1       3       0.0        0"
      ]
     },
     "execution_count": 31,
     "metadata": {},
     "output_type": "execute_result"
    }
   ],
   "source": [
    "# Merge groups\n",
    "dataset['InGroup'] = group_tickets | group_spte\n",
    "\n",
    "# Convert the bool values to ints\n",
    "train['InGroup'] = dataset.iloc[:train_len, -1].astype(int)\n",
    "test['InGroup'] = dataset.iloc[train_len:, -1].astype(int)\n",
    "\n",
    "train.drop(columns=['Name', 'SibSp', 'Parch', 'Ticket'], inplace=True)\n",
    "test.drop(columns=['Name', 'SibSp', 'Parch', 'Ticket', 'Survived'], inplace=True)\n",
    "\n",
    "train.head()"
   ]
  },
  {
   "cell_type": "code",
   "execution_count": 32,
   "metadata": {
    "_uuid": "242495cf3789eff8ed5acec464106a062bb5040a"
   },
   "outputs": [
    {
     "data": {
      "text/plain": [
       "InGroup\n",
       "0    0.283516\n",
       "1    0.488532\n",
       "Name: Survived, dtype: float64"
      ]
     },
     "execution_count": 32,
     "metadata": {},
     "output_type": "execute_result"
    },
    {
     "data": {
      "image/png": "[encoded data removed]",
      "text/plain": [
       "<Figure size 432x288 with 1 Axes>"
      ]
     },
     "metadata": {},
     "output_type": "display_data"
    }
   ],
   "source": [
    "_ = sns.countplot(x='InGroup', hue='Survived', data=train)\n",
    "train.groupby('InGroup')['Survived'].mean()"
   ]
  },
  {
   "cell_type": "markdown",
   "metadata": {
    "_uuid": "c347863a361d1aa294c37544f5addd901018ba40"
   },
   "source": [
    "Looks like there really is strength in numbers: 49% of the passengers travelling in groups survived while only 28% of the ones travelling alone managed to survive."
   ]
  },
  {
   "cell_type": "markdown",
   "metadata": {
    "_uuid": "98fc76f497d037e5a8748d05f5cd11055016f097"
   },
   "source": [
    "# Modeling\n",
    "\n",
    "## Cross-validation\n",
    "\n",
    "Evaluate, using cross-validation, which of the following classifiers performs best in our treaining data:\n",
    "- Decision Tree\n",
    "- Random Forest\n",
    "- Extra Trees\n",
    "- AdaBoost\n",
    "- Logistic Regression\n",
    "- K-nearest neighbors\n",
    "- Linear SVC\n",
    "- SVC"
   ]
  },
  {
   "cell_type": "code",
   "execution_count": 33,
   "metadata": {
    "_uuid": "c9d9134c1ee5ff7daff7e75de9be18ea8dc9419a",
    "scrolled": true
   },
   "outputs": [
    {
     "data": {
      "text/html": [
       "<div>\n",
       "<style scoped>\n",
       "    .dataframe tbody tr th:only-of-type {\n",
       "        vertical-align: middle;\n",
       "    }\n",
       "\n",
       "    .dataframe tbody tr th {\n",
       "        vertical-align: top;\n",
       "    }\n",
       "\n",
       "    .dataframe thead th {\n",
       "        text-align: right;\n",
       "    }\n",
       "</style>\n",
       "<table border=\"1\" class=\"dataframe\">\n",
       "  <thead>\n",
       "    <tr style=\"text-align: right;\">\n",
       "      <th></th>\n",
       "      <th>Accuracy</th>\n",
       "      <th>Std</th>\n",
       "    </tr>\n",
       "    <tr>\n",
       "      <th>Model Name</th>\n",
       "      <th></th>\n",
       "      <th></th>\n",
       "    </tr>\n",
       "  </thead>\n",
       "  <tbody>\n",
       "    <tr>\n",
       "      <th>KNN</th>\n",
       "      <td>0.836213</td>\n",
       "      <td>0.035798</td>\n",
       "    </tr>\n",
       "    <tr>\n",
       "      <th>DecisionTree</th>\n",
       "      <td>0.833979</td>\n",
       "      <td>0.038887</td>\n",
       "    </tr>\n",
       "    <tr>\n",
       "      <th>ExtraTrees</th>\n",
       "      <td>0.833966</td>\n",
       "      <td>0.039263</td>\n",
       "    </tr>\n",
       "    <tr>\n",
       "      <th>RandomForest</th>\n",
       "      <td>0.824952</td>\n",
       "      <td>0.028542</td>\n",
       "    </tr>\n",
       "    <tr>\n",
       "      <th>SVC</th>\n",
       "      <td>0.809158</td>\n",
       "      <td>0.035034</td>\n",
       "    </tr>\n",
       "    <tr>\n",
       "      <th>LinearSVC</th>\n",
       "      <td>0.790081</td>\n",
       "      <td>0.034721</td>\n",
       "    </tr>\n",
       "    <tr>\n",
       "      <th>LogReg</th>\n",
       "      <td>0.789008</td>\n",
       "      <td>0.019848</td>\n",
       "    </tr>\n",
       "    <tr>\n",
       "      <th>AdaBoost</th>\n",
       "      <td>0.786748</td>\n",
       "      <td>0.021985</td>\n",
       "    </tr>\n",
       "  </tbody>\n",
       "</table>\n",
       "</div>"
      ],
      "text/plain": [
       "              Accuracy       Std\n",
       "Model Name                      \n",
       "KNN           0.836213  0.035798\n",
       "DecisionTree  0.833979  0.038887\n",
       "ExtraTrees    0.833966  0.039263\n",
       "RandomForest  0.824952  0.028542\n",
       "SVC           0.809158  0.035034\n",
       "LinearSVC     0.790081  0.034721\n",
       "LogReg        0.789008  0.019848\n",
       "AdaBoost      0.786748  0.021985"
      ]
     },
     "execution_count": 33,
     "metadata": {},
     "output_type": "execute_result"
    }
   ],
   "source": [
    "from sklearn.preprocessing import StandardScaler\n",
    "from sklearn.tree import DecisionTreeClassifier\n",
    "from sklearn.ensemble import RandomForestClassifier\n",
    "from sklearn.ensemble import ExtraTreesClassifier\n",
    "from sklearn.ensemble import AdaBoostClassifier\n",
    "from sklearn.linear_model import LogisticRegression\n",
    "from sklearn.neighbors import KNeighborsClassifier\n",
    "from sklearn.svm import LinearSVC\n",
    "from sklearn.svm import SVC\n",
    "\n",
    "\n",
    "# Split the training set into samples and targets\n",
    "X_train = train.drop(columns='Survived')\n",
    "Y_train = train['Survived'].astype(int)\n",
    "\n",
    "# Test set samples to predict\n",
    "X_test = test\n",
    "\n",
    "# Scale features such that the mean is 0 and standard deviation is \n",
    "scaler = StandardScaler()\n",
    "X_train = scaler.fit_transform(X_train)\n",
    "X_test = scaler.transform(X_test)\n",
    "\n",
    "# Number of cross-validation folds\n",
    "k_folds = 10\n",
    "\n",
    "# Create a dictionary containing the instance of the models, scores, mean accuracy and standard deviation\n",
    "classifiers = {\n",
    "    'name': ['DecisionTree', 'RandomForest', 'ExtraTrees', 'AdaBoost', 'LogReg', 'KNN', 'LinearSVC', 'SVC'],\n",
    "    'models': [DecisionTreeClassifier(), RandomForestClassifier(), ExtraTreesClassifier(), AdaBoostClassifier(),\n",
    "               LogisticRegression(), KNeighborsClassifier(), LinearSVC(), SVC(gamma='auto')], \n",
    "    'scores': [],\n",
    "    'acc_mean': [],\n",
    "    'acc_std': []\n",
    "}\n",
    "\n",
    "# Run cross-validation and store the scores\n",
    "for model in classifiers['models']:\n",
    "    score = cross_val_score(model, X_train, Y_train, cv=k_folds, n_jobs=4)\n",
    "    classifiers['scores'].append(score)\n",
    "    classifiers['acc_mean'].append(score.mean())\n",
    "    classifiers['acc_std'].append(score.std())    \n",
    "\n",
    "# Create a nice table with the results\n",
    "classifiers_df = pd.DataFrame({\n",
    "    'Model Name': classifiers['name'],\n",
    "    'Accuracy': classifiers['acc_mean'],\n",
    "    'Std': classifiers['acc_std']\n",
    "}, columns=['Model Name', 'Accuracy', 'Std']).set_index('Model Name')\n",
    "\n",
    "classifiers_df.sort_values('Accuracy', ascending=False)"
   ]
  },
  {
   "cell_type": "markdown",
   "metadata": {
    "_uuid": "5863b06c3993d963ac33d5387b28641db088701e"
   },
   "source": [
    "From the tested models I decided to drop those that have an accuracy below 0.8. So that leaves us with:\n",
    "- Decision Tree\n",
    "- Extra Trees\n",
    "- Random Forest\n",
    "- K-nearest neighbors\n",
    "- SVC"
   ]
  },
  {
   "cell_type": "markdown",
   "metadata": {
    "_uuid": "e50cd8093724f8084605ac046349b0982653c956"
   },
   "source": [
    "## Tunning hyper-parameters\n",
    "\n",
    "To further improve the models we can tune their hyper-parameters using randomized parameter optimization or grid search. I chose randomized parameter optimization since it typically performs just as well as grid search but with much fewer iterations."
   ]
  },
  {
   "cell_type": "code",
   "execution_count": 34,
   "metadata": {
    "_uuid": "13bea2e7658ef9eb4659a6fa03ae88c2f37b5d1d"
   },
   "outputs": [],
   "source": [
    "from scipy.stats import randint, uniform\n",
    "from sklearn.model_selection import RandomizedSearchCV\n",
    "\n",
    "\n",
    "# Utility function to report best scores\n",
    "def report(results, n_top=3):\n",
    "    for i in range(1, n_top + 1):\n",
    "        candidates = np.flatnonzero(results['rank_test_score'] == i)\n",
    "        for candidate in candidates:\n",
    "            print(\"Model with rank: {0}\".format(i))\n",
    "            print(\"Mean validation score: {0:.4f} (std: {1:.4f})\".format(\n",
    "                  results['mean_test_score'][candidate],\n",
    "                  results['std_test_score'][candidate]))\n",
    "            print(\"Parameters: {0}\".format(results['params'][candidate]))\n",
    "            print()\n",
    "\n",
    "# Number of iterations\n",
    "n_iter_search = 60"
   ]
  },
  {
   "cell_type": "markdown",
   "metadata": {
    "_uuid": "ed5ff5715123e811f3633078f00cefcdcd7b85ae"
   },
   "source": [
    "### Decision Tree"
   ]
  },
  {
   "cell_type": "code",
   "execution_count": 35,
   "metadata": {
    "_uuid": "b325b75389f982eda4d417267aec6e756fcd5415"
   },
   "outputs": [
    {
     "name": "stdout",
     "output_type": "stream",
     "text": [
      "Fitting 10 folds for each of 60 candidates, totalling 600 fits\n",
      "Model with rank: 1\n",
      "Mean validation score: 0.8384 (std: 0.0392)\n",
      "Parameters: {'max_depth': None, 'max_features': 2, 'min_samples_split': 7}\n",
      "\n",
      "Model with rank: 2\n",
      "Mean validation score: 0.8362 (std: 0.0433)\n",
      "Parameters: {'max_depth': None, 'max_features': 3, 'min_samples_split': 9}\n",
      "\n",
      "Model with rank: 3\n",
      "Mean validation score: 0.8351 (std: 0.0403)\n",
      "Parameters: {'max_depth': None, 'max_features': 2, 'min_samples_split': 5}\n",
      "\n"
     ]
    },
    {
     "name": "stderr",
     "output_type": "stream",
     "text": [
      "[Parallel(n_jobs=4)]: Done 600 out of 600 | elapsed:    0.4s finished\n"
     ]
    }
   ],
   "source": [
    "tc = DecisionTreeClassifier()\n",
    "rand_param = {\n",
    "    'max_depth': np.append(randint(1, 10).rvs(10), None),\n",
    "    'max_features': randint(1, X_train.shape[1]), # From 1 to number of features is a good range\n",
    "    'min_samples_split': randint(2, 10)\n",
    "}\n",
    "\n",
    "tc_search = RandomizedSearchCV(tc, param_distributions=rand_param, n_iter=n_iter_search, cv=k_folds,\n",
    "                                n_jobs=4, verbose=1, iid=False)\n",
    "tc_search.fit(X_train, Y_train)\n",
    "report(tc_search.cv_results_)\n",
    "\n",
    "tc_best = tc_search.best_estimator_"
   ]
  },
  {
   "cell_type": "markdown",
   "metadata": {
    "_uuid": "100d696d8d3e3360ebe1f67210c2cc8acd1c9792"
   },
   "source": [
    "### Random Forest"
   ]
  },
  {
   "cell_type": "code",
   "execution_count": 36,
   "metadata": {
    "_uuid": "bfb132c7ea551bb427b458756d400844efaa6799"
   },
   "outputs": [
    {
     "name": "stdout",
     "output_type": "stream",
     "text": [
      "Fitting 10 folds for each of 60 candidates, totalling 600 fits\n"
     ]
    },
    {
     "name": "stderr",
     "output_type": "stream",
     "text": [
      "[Parallel(n_jobs=4)]: Done  76 tasks      | elapsed:    2.3s\n",
      "[Parallel(n_jobs=4)]: Done 376 tasks      | elapsed:   12.0s\n"
     ]
    },
    {
     "name": "stdout",
     "output_type": "stream",
     "text": [
      "Model with rank: 1\n",
      "Mean validation score: 0.8441 (std: 0.0375)\n",
      "Parameters: {'max_depth': None, 'max_features': 3, 'bootstrap': True, 'min_samples_split': 5}\n",
      "\n",
      "Model with rank: 2\n",
      "Mean validation score: 0.8407 (std: 0.0370)\n",
      "Parameters: {'max_depth': None, 'max_features': 2, 'bootstrap': True, 'min_samples_split': 6}\n",
      "\n",
      "Model with rank: 3\n",
      "Mean validation score: 0.8396 (std: 0.0403)\n",
      "Parameters: {'max_depth': 9, 'max_features': 3, 'bootstrap': False, 'min_samples_split': 8}\n",
      "\n"
     ]
    },
    {
     "name": "stderr",
     "output_type": "stream",
     "text": [
      "[Parallel(n_jobs=4)]: Done 600 out of 600 | elapsed:   18.8s finished\n"
     ]
    }
   ],
   "source": [
    "rfc = RandomForestClassifier(n_estimators=100)\n",
    "rand_param = {\n",
    "    'bootstrap': [True, False],\n",
    "    'max_depth': np.append(randint(1, 10).rvs(10), None),\n",
    "    'max_features': randint(1, X_train.shape[1]), # From 1 to number of features is a good range\n",
    "    'min_samples_split': randint(2, 10)\n",
    "}\n",
    "\n",
    "rfc_search = RandomizedSearchCV(rfc, param_distributions=rand_param, n_iter=n_iter_search, cv=k_folds,\n",
    "                                n_jobs=4, verbose=1, iid=False)\n",
    "rfc_search.fit(X_train, Y_train)\n",
    "report(rfc_search.cv_results_)\n",
    "\n",
    "rfc_best = rfc_search.best_estimator_"
   ]
  },
  {
   "cell_type": "markdown",
   "metadata": {
    "_uuid": "413d0e75cea101b9799042e758694001b9260293"
   },
   "source": [
    "### Extra Trees"
   ]
  },
  {
   "cell_type": "code",
   "execution_count": 37,
   "metadata": {
    "_uuid": "b00916d3bc4ad9c0d86588ed36fba19e670625b9"
   },
   "outputs": [
    {
     "name": "stdout",
     "output_type": "stream",
     "text": [
      "Fitting 10 folds for each of 60 candidates, totalling 600 fits\n"
     ]
    },
    {
     "name": "stderr",
     "output_type": "stream",
     "text": [
      "[Parallel(n_jobs=4)]: Done  76 tasks      | elapsed:    2.3s\n",
      "[Parallel(n_jobs=4)]: Done 376 tasks      | elapsed:   11.6s\n"
     ]
    },
    {
     "name": "stdout",
     "output_type": "stream",
     "text": [
      "Model with rank: 1\n",
      "Mean validation score: 0.8396 (std: 0.0401)\n",
      "Parameters: {'max_depth': 9, 'max_features': 3, 'bootstrap': True, 'min_samples_split': 4}\n",
      "\n",
      "Model with rank: 2\n",
      "Mean validation score: 0.8395 (std: 0.0390)\n",
      "Parameters: {'max_depth': 7, 'max_features': 3, 'bootstrap': False, 'min_samples_split': 3}\n",
      "\n",
      "Model with rank: 3\n",
      "Mean validation score: 0.8395 (std: 0.0386)\n",
      "Parameters: {'max_depth': None, 'max_features': 4, 'bootstrap': False, 'min_samples_split': 9}\n",
      "\n"
     ]
    },
    {
     "name": "stderr",
     "output_type": "stream",
     "text": [
      "[Parallel(n_jobs=4)]: Done 600 out of 600 | elapsed:   18.8s finished\n"
     ]
    }
   ],
   "source": [
    "etc = ExtraTreesClassifier(n_estimators=100)\n",
    "rand_param = {\n",
    "    'bootstrap': [True, False],\n",
    "    'max_depth': np.append(randint(1, 10).rvs(10), None),\n",
    "    'max_features': randint(1, X_train.shape[1]), # From 1 to number of features is a good range\n",
    "    'min_samples_split': randint(2, 10)\n",
    "}\n",
    "\n",
    "etc_search = RandomizedSearchCV(etc, param_distributions=rand_param, n_iter=n_iter_search, cv=k_folds,\n",
    "                                n_jobs=4, verbose=1, iid=False)\n",
    "etc_search.fit(X_train, Y_train)\n",
    "report(etc_search.cv_results_)\n",
    "\n",
    "etc_best = etc_search.best_estimator_"
   ]
  },
  {
   "cell_type": "markdown",
   "metadata": {
    "_uuid": "a2ce1a9aa246c55ed83c063899300bbd3df16063"
   },
   "source": [
    "### K-nearest neighbors"
   ]
  },
  {
   "cell_type": "code",
   "execution_count": 38,
   "metadata": {
    "_uuid": "98023e5f5e287977e26d8282216e018aa3f0361d"
   },
   "outputs": [
    {
     "name": "stdout",
     "output_type": "stream",
     "text": [
      "Fitting 10 folds for each of 60 candidates, totalling 600 fits\n",
      "Model with rank: 1\n",
      "Mean validation score: 0.8418 (std: 0.0348)\n",
      "Parameters: {'weights': 'distance', 'algorithm': 'auto', 'leaf_size': 13, 'n_neighbors': 8}\n",
      "\n",
      "Model with rank: 1\n",
      "Mean validation score: 0.8418 (std: 0.0348)\n",
      "Parameters: {'weights': 'distance', 'algorithm': 'auto', 'leaf_size': 33, 'n_neighbors': 8}\n",
      "\n",
      "Model with rank: 3\n",
      "Mean validation score: 0.8373 (std: 0.0351)\n",
      "Parameters: {'weights': 'distance', 'algorithm': 'auto', 'leaf_size': 35, 'n_neighbors': 10}\n",
      "\n",
      "Model with rank: 3\n",
      "Mean validation score: 0.8373 (std: 0.0351)\n",
      "Parameters: {'weights': 'distance', 'algorithm': 'auto', 'leaf_size': 20, 'n_neighbors': 10}\n",
      "\n",
      "Model with rank: 3\n",
      "Mean validation score: 0.8373 (std: 0.0382)\n",
      "Parameters: {'weights': 'distance', 'algorithm': 'auto', 'leaf_size': 21, 'n_neighbors': 7}\n",
      "\n",
      "Model with rank: 3\n",
      "Mean validation score: 0.8373 (std: 0.0337)\n",
      "Parameters: {'weights': 'distance', 'algorithm': 'auto', 'leaf_size': 38, 'n_neighbors': 9}\n",
      "\n"
     ]
    },
    {
     "name": "stderr",
     "output_type": "stream",
     "text": [
      "[Parallel(n_jobs=4)]: Done 600 out of 600 | elapsed:    1.2s finished\n"
     ]
    }
   ],
   "source": [
    "knn = KNeighborsClassifier()\n",
    "rand_param = {\n",
    "    'algorithm': ['auto'],\n",
    "    'n_neighbors': randint(1, 25),\n",
    "    'leaf_size': randint(1, 50),\n",
    "    'weights': ['uniform', 'distance']\n",
    "}\n",
    "\n",
    "knn_search = RandomizedSearchCV(knn, param_distributions=rand_param, n_iter=n_iter_search, cv=k_folds,\n",
    "                                n_jobs=4, verbose=1, iid=False)\n",
    "knn_search.fit(X_train, Y_train)\n",
    "report(knn_search.cv_results_)\n",
    "\n",
    "knn_best = knn_search.best_estimator_"
   ]
  },
  {
   "cell_type": "markdown",
   "metadata": {
    "_uuid": "51eac2a9ff8c495dbe79ac5bddd2e0aa572d769b"
   },
   "source": [
    "### SVC"
   ]
  },
  {
   "cell_type": "code",
   "execution_count": 39,
   "metadata": {
    "_uuid": "b203f781680507bbf1a3735b7b70c44dc61c7016"
   },
   "outputs": [
    {
     "name": "stdout",
     "output_type": "stream",
     "text": [
      "Fitting 10 folds for each of 60 candidates, totalling 600 fits\n"
     ]
    },
    {
     "name": "stderr",
     "output_type": "stream",
     "text": [
      "[Parallel(n_jobs=4)]: Done  98 tasks      | elapsed:    7.3s\n",
      "[Parallel(n_jobs=4)]: Done 273 tasks      | elapsed:   21.5s\n",
      "[Parallel(n_jobs=4)]: Done 564 tasks      | elapsed:   45.0s\n"
     ]
    },
    {
     "name": "stdout",
     "output_type": "stream",
     "text": [
      "Model with rank: 1\n",
      "Mean validation score: 0.8351 (std: 0.0340)\n",
      "Parameters: {'kernel': 'rbf', 'gamma': 0.9556419037907851, 'C': 320}\n",
      "\n",
      "Model with rank: 1\n",
      "Mean validation score: 0.8351 (std: 0.0340)\n",
      "Parameters: {'kernel': 'rbf', 'gamma': 0.9308976056994236, 'C': 52}\n",
      "\n",
      "Model with rank: 1\n",
      "Mean validation score: 0.8351 (std: 0.0340)\n",
      "Parameters: {'kernel': 'rbf', 'gamma': 0.974399475948769, 'C': 255}\n",
      "\n",
      "Model with rank: 1\n",
      "Mean validation score: 0.8351 (std: 0.0340)\n",
      "Parameters: {'kernel': 'rbf', 'gamma': 0.8918644220551998, 'C': 444}\n",
      "\n",
      "Model with rank: 1\n",
      "Mean validation score: 0.8351 (std: 0.0340)\n",
      "Parameters: {'kernel': 'rbf', 'gamma': 0.8984243216297588, 'C': 849}\n",
      "\n",
      "Model with rank: 1\n",
      "Mean validation score: 0.8351 (std: 0.0340)\n",
      "Parameters: {'kernel': 'rbf', 'gamma': 0.9225947312275625, 'C': 890}\n",
      "\n",
      "Model with rank: 1\n",
      "Mean validation score: 0.8351 (std: 0.0340)\n",
      "Parameters: {'kernel': 'rbf', 'gamma': 0.959903880750093, 'C': 554}\n",
      "\n",
      "Model with rank: 1\n",
      "Mean validation score: 0.8351 (std: 0.0340)\n",
      "Parameters: {'kernel': 'rbf', 'gamma': 0.9468507386172572, 'C': 664}\n",
      "\n"
     ]
    },
    {
     "name": "stderr",
     "output_type": "stream",
     "text": [
      "[Parallel(n_jobs=4)]: Done 600 out of 600 | elapsed:   47.8s finished\n"
     ]
    }
   ],
   "source": [
    "svc = SVC(probability=True)\n",
    "rand_param = {\n",
    "    'kernel': ['rbf'],\n",
    "    'C': randint(1, 1000),\n",
    "    'gamma': uniform(1e-3, 1)\n",
    "}\n",
    "\n",
    "svc_search = RandomizedSearchCV(svc, param_distributions=rand_param, n_iter=n_iter_search, cv=k_folds,\n",
    "                                n_jobs=4, verbose=1, iid=False)\n",
    "svc_search.fit(X_train, Y_train)\n",
    "report(svc_search.cv_results_)\n",
    "\n",
    "svc_best = svc_search.best_estimator_"
   ]
  },
  {
   "cell_type": "markdown",
   "metadata": {
    "_uuid": "76589ed7345ace86e81f930a264df2b291e65268"
   },
   "source": [
    "# Ensemble modeling\n",
    "\n",
    "We can combine the best estimators into a single model using a Soft Voting/Majority Rule classifier (`VotingClassifier`). Ensembles can only improve over individual models if they are not highly correlated. So, let's start by evaluating the Jaccard similarity between the predictions of each individual model."
   ]
  },
  {
   "cell_type": "code",
   "execution_count": 40,
   "metadata": {
    "_uuid": "8eac8c525ba3ad2410e5ad74792fd8e35d802fc9",
    "scrolled": true
   },
   "outputs": [
    {
     "data": {
      "image/png": "[encoded data removed]",
      "text/plain": [
       "<Figure size 432x288 with 2 Axes>"
      ]
     },
     "metadata": {},
     "output_type": "display_data"
    }
   ],
   "source": [
    "from sklearn.metrics import jaccard_similarity_score\n",
    "\n",
    "\n",
    "tc_pred = tc_best.predict(X_test)\n",
    "rfc_pred = rfc_best.predict(X_test)\n",
    "etc_pred = etc_best.predict(X_test)\n",
    "knn_pred = knn_best.predict(X_test)\n",
    "svc_pred = svc_best.predict(X_test)\n",
    "\n",
    "# Make a dataframe with the predictions from all models\n",
    "pred_df = pd.DataFrame({'Decision Tree': tc_pred,\n",
    "                       'Random Forest': rfc_pred,\n",
    "                       'Extra Tress': etc_pred,\n",
    "                       'KNN': knn_pred,\n",
    "                       'SVC': svc_pred})\n",
    "\n",
    "jsim_df = pd.DataFrame(np.nan, columns=pred_df.columns, index=pred_df.columns)\n",
    "for i in pred_df.columns:\n",
    "    for j in pred_df.loc[:, i:].columns:\n",
    "        jsim_df.loc[i, j] = jaccard_similarity_score(pred_df[i], pred_df[j])\n",
    "        jsim_df.loc[j, i] = jsim_df.loc[i, j]\n",
    "\n",
    "_ = sns.heatmap(jsim_df, linewidths=0.1, vmax=1.0, vmin=0, square=True, linecolor='white', annot=True)"
   ]
  },
  {
   "cell_type": "markdown",
   "metadata": {
    "_uuid": "6f0dd8dc091bf77b2695b527ff8cacc6bd980011"
   },
   "source": [
    "Doesn't look good for ensembling, the predictions are very similar to one another, therefore it will not be able to balance out weaknesses of the individual models.\n",
    "\n",
    "Just to be sure, and as learning experience, let's create the ensemble and check how it performs."
   ]
  },
  {
   "cell_type": "code",
   "execution_count": 41,
   "metadata": {
    "_uuid": "80135e5da5760de3cbdd2f3ffb7717515ce2a455"
   },
   "outputs": [
    {
     "name": "stdout",
     "output_type": "stream",
     "text": [
      "Fitting 10 folds for each of 2 candidates, totalling 20 fits\n"
     ]
    },
    {
     "name": "stderr",
     "output_type": "stream",
     "text": [
      "[Parallel(n_jobs=4)]: Done  20 out of  20 | elapsed:    2.0s finished\n"
     ]
    },
    {
     "name": "stdout",
     "output_type": "stream",
     "text": [
      "Model with rank: 1\n",
      "Mean validation score: 0.8406 (std: 0.0384)\n",
      "Parameters: {'voting': 'hard'}\n",
      "\n",
      "Model with rank: 2\n",
      "Mean validation score: 0.8384 (std: 0.0376)\n",
      "Parameters: {'voting': 'soft'}\n",
      "\n"
     ]
    }
   ],
   "source": [
    "from sklearn.ensemble import VotingClassifier\n",
    "from sklearn.model_selection import GridSearchCV\n",
    "import warnings\n",
    "\n",
    "\n",
    "warnings.filterwarnings(module='sklearn*', action='ignore', category=DeprecationWarning)\n",
    "\n",
    "estimators = [('Decision Tree', tc_best), ('Random Forest', rfc_best), ('Extra Trees', etc_best),\n",
    "              ('KNN', knn_best), ('SVC', svc_best)]\n",
    "\n",
    "eclf = VotingClassifier(estimators=estimators)\n",
    "ensemble_param = {'voting': ['hard', 'soft']}\n",
    "\n",
    "eclf_search = GridSearchCV(eclf, param_grid=ensemble_param, cv=k_folds, n_jobs=4, verbose=1)\n",
    "eclf_search.fit(X_train, Y_train)\n",
    "report(eclf_search.cv_results_)\n",
    "\n",
    "eclf_best = eclf_search.best_estimator_"
   ]
  },
  {
   "cell_type": "markdown",
   "metadata": {
    "_uuid": "4488ca3e1838f826d79ba593bc6e7c34eb9aec05"
   },
   "source": [
    "It performs slightly worse than our best individual model (KNN) and just as well as the remaining models."
   ]
  },
  {
   "cell_type": "markdown",
   "metadata": {
    "_uuid": "4e86688d4a9a1815ff77f8f0c59ffcdbdc134b2c"
   },
   "source": [
    "# Predictions and submission\n",
    "\n",
    "We can now generate predictions and the submission file using our best model: K-Nearest Neighbors."
   ]
  },
  {
   "cell_type": "code",
   "execution_count": 42,
   "metadata": {
    "_uuid": "8eb15d58e9857d456a3c50f495e0dda3427fded9"
   },
   "outputs": [],
   "source": [
    "submission_df = pd.DataFrame({'PassengerId': _test['PassengerId'], 'Survived': knn_pred})\n",
    "submission_df.to_csv(\"submission.csv\", index=False)"
   ]
  }
 ],
 "metadata": {
  "kernelspec": {
   "display_name": "Titanic-p3",
   "language": "python",
   "name": "titanic-env"
  },
  "language_info": {
   "codemirror_mode": {
    "name": "ipython",
    "version": 3
   },
   "file_extension": ".py",
   "mimetype": "text/x-python",
   "name": "python",
   "nbconvert_exporter": "python",
   "pygments_lexer": "ipython3",
   "version": "3.5.2"
  }
 },
 "nbformat": 4,
 "nbformat_minor": 1
}
